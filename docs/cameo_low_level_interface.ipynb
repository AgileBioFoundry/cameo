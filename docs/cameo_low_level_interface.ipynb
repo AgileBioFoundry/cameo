{
 "metadata": {
  "name": "",
  "signature": "sha256:5eb5bbd730767cc6d1611c1588b0a95c5d50022a76d4858cde195cabf550c9df"
 },
 "nbformat": 3,
 "nbformat_minor": 0,
 "worksheets": [
  {
   "cells": [
    {
     "cell_type": "heading",
     "level": 1,
     "metadata": {},
     "source": [
      "Low-level interface for developers"
     ]
    },
    {
     "cell_type": "code",
     "collapsed": false,
     "input": [
      "from cameo import load_model\n",
      "model = load_model('iJO1366')"
     ],
     "language": "python",
     "metadata": {},
     "outputs": [],
     "prompt_number": 13
    },
    {
     "cell_type": "heading",
     "level": 2,
     "metadata": {},
     "source": [
      "Structure and design"
     ]
    },
    {
     "cell_type": "heading",
     "level": 3,
     "metadata": {},
     "source": [
      "Relation to cobrapy"
     ]
    },
    {
     "cell_type": "heading",
     "level": 3,
     "metadata": {},
     "source": [
      "Formulating and solving optimization problems"
     ]
    },
    {
     "cell_type": "markdown",
     "metadata": {},
     "source": [
      "http://optlang.readthedocs.org/en/latest/"
     ]
    },
    {
     "cell_type": "heading",
     "level": 2,
     "metadata": {},
     "source": [
      "Best practices"
     ]
    },
    {
     "cell_type": "heading",
     "level": 3,
     "metadata": {},
     "source": [
      "Avoid copies at all costs"
     ]
    },
    {
     "cell_type": "markdown",
     "metadata": {},
     "source": [
      "Copying models is expensive!"
     ]
    },
    {
     "cell_type": "code",
     "collapsed": false,
     "input": [
      "%time model_copy = model.copy()"
     ],
     "language": "python",
     "metadata": {},
     "outputs": [
      {
       "output_type": "stream",
       "stream": "stdout",
       "text": [
        "CPU times: user 3.17 s, sys: 84.7 ms, total: 3.26 s\n",
        "Wall time: 3.25 s\n"
       ]
      }
     ],
     "prompt_number": 16
    },
    {
     "cell_type": "markdown",
     "metadata": {},
     "source": [
      "To avoid excessive copying of models, we suggest the following utility included in cameo. For example, temporary reaction deletion, solve the model and magically returns to it original state."
     ]
    },
    {
     "cell_type": "code",
     "collapsed": false,
     "input": [
      "from functools import partial\n",
      "from cameo.util import TimeMachine\n",
      "with TimeMachine() as tm:\n",
      "    tm"
     ],
     "language": "python",
     "metadata": {},
     "outputs": [],
     "prompt_number": 2
    },
    {
     "cell_type": "markdown",
     "metadata": {},
     "source": [
      "TimeMachine performs `do` steps immediately and stores all corresponding `undo` actions in order. Running all `undo` steps can be achieved with `TimeMachine.reset()` (wich is run)\n",
      "We recommend using `TimeMachine` in conjunction with `with`, as in case of an unforseen exception all `undo` steps will be run and manipulated models will return to their original states. This is more elegant than using explicit `try-except-else-finally` statements."
     ]
    },
    {
     "cell_type": "heading",
     "level": 3,
     "metadata": {},
     "source": [
      "IPython notebook"
     ]
    },
    {
     "cell_type": "markdown",
     "metadata": {},
     "source": [
      "Click [here](http://nbviewer.ipython.org/github/biosustain/cameo/blob/devel/docs/cameo_low_level_interface.ipynb) to download this page as an IPython notebook."
     ]
    }
   ],
   "metadata": {}
  }
 ]
}