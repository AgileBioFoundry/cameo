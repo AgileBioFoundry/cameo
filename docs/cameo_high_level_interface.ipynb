{
 "metadata": {
  "name": "",
  "signature": "sha256:57d538268625e56b122836dcc7733d3737f9c3e3449c244e601c9f43df1b439f"
 },
 "nbformat": 3,
 "nbformat_minor": 0,
 "worksheets": [
  {
   "cells": [
    {
     "cell_type": "heading",
     "level": 1,
     "metadata": {},
     "source": [
      "High-level interface for users"
     ]
    },
    {
     "cell_type": "markdown",
     "metadata": {},
     "source": [
      "Users primarily interested in using cameo as a tool\n",
      "for enumerating metabolic engineering strategies have access to cameo's advanced programming interface via :mod:`cameo.api`\n",
      "that provides access to potential products (:mod:`cameo.api.products`), host organisms (:mod:`cameo.api.hosts`) and\n",
      "a configurable design function (:attr:`cameo.api.design`). Running :func:`cameo.api.design` requires only minimal input."
     ]
    },
    {
     "cell_type": "code",
     "collapsed": false,
     "input": [
      "from cameo import api\n",
      "report = api.design(product='L-serine')"
     ],
     "language": "python",
     "metadata": {},
     "outputs": [
      {
       "output_type": "stream",
       "stream": "stdout",
       "text": [
        "Found 5 compounds that match query 'L-serine'\n",
        "                     name     formula charge     mass  \\\n",
        "MNXM53           L-serine     C3H7NO3      0  105.093   \n",
        "MNXM114         L-proline     C5H9NO2      0   115.13   \n",
        "MNXM3635       L-mimosine   C8H10N2O4      0  198.176   \n",
        "MNXM89905      L-allysine    C6H11NO3      0  145.156   \n",
        "MNXM384    L-saccharopine  C11H19N2O6     -1  275.278   \n",
        "\n",
        "                                                       InChI  \\\n",
        "MNXM53     InChI=1S/C3H7NO3/c4-2(1-5)3(6)7/h2,5H,1,4H2,(H...   \n",
        "MNXM114    InChI=1S/C5H9NO2/c7-5(8)4-2-1-3-6-4/h4,6H,1-3H...   \n",
        "MNXM3635   InChI=1S/C8H10N2O4/c9-5(8(13)14)3-10-2-1-6(11)...   \n",
        "MNXM89905  InChI=1S/C6H11NO3/c7-5(6(9)10)3-1-2-4-8/h4-5H,...   \n",
        "MNXM384    InChI=1S/C11H20N2O6/c12-7(10(16)17)3-1-2-6-13-...   \n",
        "\n",
        "                                                      SMILES       source  \\\n",
        "MNXM53                             [NH3+][C@@H](CO)C([O-])=O  chebi:33384   \n",
        "MNXM114                           [O-]C(=O)[C@@H]1CCC[NH2+]1  chebi:60039   \n",
        "MNXM3635           [NH3+][C@@H](CN1C=CC(=O)C(O)=C1)C([O-])=O  chebi:29063   \n",
        "MNXM89905                  [H]C(=O)CCC[C@H]([NH3+])C([O-])=O  chebi:58321   \n",
        "MNXM384    [NH3+][C@@H](CCCC[NH2+][C@@H](CCC([O-])=O)C([O...  chebi:57951   \n",
        "\n",
        "           search_rank  \n",
        "MNXM53               0  \n",
        "MNXM114              1  \n",
        "MNXM3635             2  \n",
        "MNXM89905            3  \n",
        "MNXM384              4  \n",
        "Choosing best match (L-serine) ... please interrupt if this is not the desired compound.\n"
       ]
      },
      {
       "output_type": "stream",
       "stream": "stderr",
       "text": [
        "/Users/niko/Arbejder/Dev/cameo/cameo/api/products.py:75 \u001b[1;31mSettingWithCopyWarning\u001b[0m: \n",
        "A value is trying to be set on a copy of a slice from a DataFrame.\n",
        "Try using .loc[row_indexer,col_indexer] = value instead\n",
        "\n",
        "See the the caveats in the documentation: http://pandas.pydata.org/pandas-docs/stable/indexing.html#indexing-view-versus-copy\n"
       ]
      },
      {
       "javascript": [
        "//1acca05b-d708-447a-94e3-9eaa83e2e0ed\n",
        "$(\"head\").append(\"<style> td.pb_widget {     width: auto; } td.pb_widget_fill {     width: 100%; } table.pb {     font-family: monospace;     border: 0;     margin: 0; } table.pb tr { border: 0; } table.pb td {     white-space: nowrap;     border: 0; } div.pb {     border: 1px solid #ddd;     border-radius: 3px; } div.pb_bar {     height: 1.5em; } </style>\")"
       ],
       "metadata": {},
       "output_type": "display_data",
       "text": [
        "<IPython.core.display.Javascript at 0x114c52910>"
       ]
      },
      {
       "javascript": [
        "\n",
        "                  // 1acca05b-d708-447a-94e3-9eaa83e2e0ed -- used to remove this code blob in the end\n",
        "                  IPython.OutputArea.prototype.cleanProgressBar = function(uuids) {\n",
        "                      // filter by uuid-strings \n",
        "                      var myfilter = function(output) { \n",
        "                          var nuids = uuids.length;\n",
        "                          for (var i=0; i<nuids; i++) {\n",
        "                              if (output.hasOwnProperty('html')) {\n",
        "                                  if (output.html.indexOf(uuids[i]) != -1) {\n",
        "                                      return false;\n",
        "                                  }\n",
        "                              }\n",
        "                              if (output.hasOwnProperty('javascript')) {\n",
        "                                  if (output.javascript.indexOf(uuids[i]) != -1) {\n",
        "                                      return false;\n",
        "                                  }\n",
        "                              }\n",
        "                          }\n",
        "                          // keep all others\n",
        "                          return true;\n",
        "                      };\n",
        "\n",
        "                      // Filter the ouputs\n",
        "                      this.outputs = this.outputs.filter(myfilter);\n",
        "                };\n",
        "                "
       ],
       "metadata": {},
       "output_type": "display_data",
       "text": [
        "<IPython.core.display.Javascript at 0x114c52950>"
       ]
      },
      {
       "html": [
        "<div class=\"pb\" id=\"1acca05b-d708-447a-94e3-9eaa83e2e0ed\"><table class=\"pb ui-widget\"><tr>\n",
        "<td class=\"pb_widget\">Processing</td>\n",
        "<td class=\"pb_widget\"><div id=\"2a06b7ac-2238-478b-9760-047eaeeeae44\">Escherichia coli</div></td>\n",
        "<td class=\"pb_widget_fill\">\n",
        "        <div class=\"pb_bar\" id=\"449fe787-96dd-4956-8dce-2e41aa6993f7\"></div>\n",
        "        <script type=\"text/javascript\">\n",
        "            $(\"div#449fe787-96dd-4956-8dce-2e41aa6993f7\").progressbar({value: 0, max: 2});\n",
        "        </script>\n",
        "        </td>\n",
        "<td class=\"pb_widget\"><div id=\"3377f440-b83b-46a4-a8e4-86060a64f33a\">ETA:  --:--:--</div></td>\n",
        "<td class=\"pb_widget\"><div id=\"5e845f92-cc4a-4eb0-9bcd-40baaad86a94\">  0%</div></td>\n",
        "</tr></table><div>"
       ],
       "metadata": {},
       "output_type": "display_data",
       "text": [
        "<IPython.core.display.HTML at 0x114c52cd0>"
       ]
      },
      {
       "javascript": [
        "//3f37040f-cb32-40ed-83d2-bef6286147e3\n",
        "$(\"head\").append(\"<style> td.pb_widget {     width: auto; } td.pb_widget_fill {     width: 100%; } table.pb {     font-family: monospace;     border: 0;     margin: 0; } table.pb tr { border: 0; } table.pb td {     white-space: nowrap;     border: 0; } div.pb {     border: 1px solid #ddd;     border-radius: 3px; } div.pb_bar {     height: 1.5em; } </style>\")"
       ],
       "metadata": {},
       "output_type": "display_data",
       "text": [
        "<IPython.core.display.Javascript at 0x114c52d10>"
       ]
      },
      {
       "javascript": [
        "\n",
        "                  // 3f37040f-cb32-40ed-83d2-bef6286147e3 -- used to remove this code blob in the end\n",
        "                  IPython.OutputArea.prototype.cleanProgressBar = function(uuids) {\n",
        "                      // filter by uuid-strings \n",
        "                      var myfilter = function(output) { \n",
        "                          var nuids = uuids.length;\n",
        "                          for (var i=0; i<nuids; i++) {\n",
        "                              if (output.hasOwnProperty('html')) {\n",
        "                                  if (output.html.indexOf(uuids[i]) != -1) {\n",
        "                                      return false;\n",
        "                                  }\n",
        "                              }\n",
        "                              if (output.hasOwnProperty('javascript')) {\n",
        "                                  if (output.javascript.indexOf(uuids[i]) != -1) {\n",
        "                                      return false;\n",
        "                                  }\n",
        "                              }\n",
        "                          }\n",
        "                          // keep all others\n",
        "                          return true;\n",
        "                      };\n",
        "\n",
        "                      // Filter the ouputs\n",
        "                      this.outputs = this.outputs.filter(myfilter);\n",
        "                };\n",
        "                "
       ],
       "metadata": {},
       "output_type": "display_data",
       "text": [
        "<IPython.core.display.Javascript at 0x114c52e10>"
       ]
      },
      {
       "html": [
        "<div class=\"pb\" id=\"3f37040f-cb32-40ed-83d2-bef6286147e3\"><table class=\"pb ui-widget\"><tr>\n",
        "<td class=\"pb_widget\">Processing</td>\n",
        "<td class=\"pb_widget\"><div id=\"a788981e-381e-4f45-874b-42973f136864\">iJO1366</div></td>\n",
        "<td class=\"pb_widget_fill\">\n",
        "        <div class=\"pb_bar\" id=\"d61130ff-1f04-465f-a783-276b043f3cc1\"></div>\n",
        "        <script type=\"text/javascript\">\n",
        "            $(\"div#d61130ff-1f04-465f-a783-276b043f3cc1\").progressbar({value: 0, max: 1});\n",
        "        </script>\n",
        "        </td>\n",
        "<td class=\"pb_widget\"><div id=\"668a1c24-71c8-4533-afda-0dd7d7b5f15c\">ETA:  --:--:--</div></td>\n",
        "<td class=\"pb_widget\"><div id=\"030427bf-502f-4b09-8782-4aa484eee32e\">  0%</div></td>\n",
        "</tr></table><div>"
       ],
       "metadata": {},
       "output_type": "display_data",
       "text": [
        "<IPython.core.display.HTML at 0x114c52f50>"
       ]
      },
      {
       "javascript": [
        "$('div#a788981e-381e-4f45-874b-42973f136864').text('');"
       ],
       "metadata": {},
       "output_type": "display_data",
       "text": [
        "<IPython.core.display.Javascript at 0x11bbcaa90>"
       ]
      },
      {
       "javascript": [
        "\n",
        "        var $myPB = $(\"div#d61130ff-1f04-465f-a783-276b043f3cc1\")\n",
        "        if ($myPB.hasClass('ui-progressbar')) {\n",
        "            $myPB.progressbar('value', 1);\n",
        "        } else {\n",
        "            $myPB.progressbar({value: 0, max: 1});\n",
        "        }\n",
        "        "
       ],
       "metadata": {},
       "output_type": "display_data",
       "text": [
        "<IPython.core.display.Javascript at 0x11bbcaa50>"
       ]
      },
      {
       "javascript": [
        "$('div#668a1c24-71c8-4533-afda-0dd7d7b5f15c').text('Time: 0:01:50');"
       ],
       "metadata": {},
       "output_type": "display_data",
       "text": [
        "<IPython.core.display.Javascript at 0x1048f3e50>"
       ]
      },
      {
       "javascript": [
        "$('div#030427bf-502f-4b09-8782-4aa484eee32e').text('100%');"
       ],
       "metadata": {},
       "output_type": "display_data",
       "text": [
        "<IPython.core.display.Javascript at 0x11aa711d0>"
       ]
      },
      {
       "javascript": [
        "var element = document.getElementById('3f37040f-cb32-40ed-83d2-bef6286147e3');\n",
        "                    var parent = element.parentNode\n",
        "                    parent.removeChild(element);\n",
        "                    parent.parentElement.remove();"
       ],
       "metadata": {},
       "output_type": "display_data",
       "text": [
        "<IPython.core.display.Javascript at 0x11c280cd0>"
       ]
      },
      {
       "javascript": [
        "this.cleanProgressBar(['3f37040f-cb32-40ed-83d2-bef6286147e3', 'a788981e-381e-4f45-874b-42973f136864', 'd61130ff-1f04-465f-a783-276b043f3cc1', '668a1c24-71c8-4533-afda-0dd7d7b5f15c', '030427bf-502f-4b09-8782-4aa484eee32e'])"
       ],
       "metadata": {},
       "output_type": "display_data",
       "text": [
        "<IPython.core.display.Javascript at 0x11aa71150>"
       ]
      },
      {
       "javascript": [
        "$('div#2a06b7ac-2238-478b-9760-047eaeeeae44').text('Saccharomyces cerevisiae');"
       ],
       "metadata": {},
       "output_type": "display_data",
       "text": [
        "<IPython.core.display.Javascript at 0x11aa71090>"
       ]
      },
      {
       "javascript": [
        "\n",
        "        var $myPB = $(\"div#449fe787-96dd-4956-8dce-2e41aa6993f7\")\n",
        "        if ($myPB.hasClass('ui-progressbar')) {\n",
        "            $myPB.progressbar('value', 1);\n",
        "        } else {\n",
        "            $myPB.progressbar({value: 0, max: 2});\n",
        "        }\n",
        "        "
       ],
       "metadata": {},
       "output_type": "display_data",
       "text": [
        "<IPython.core.display.Javascript at 0x11aa71110>"
       ]
      },
      {
       "javascript": [
        "$('div#3377f440-b83b-46a4-a8e4-86060a64f33a').text('ETA:  0:01:50');"
       ],
       "metadata": {},
       "output_type": "display_data",
       "text": [
        "<IPython.core.display.Javascript at 0x11aa5eed0>"
       ]
      },
      {
       "javascript": [
        "$('div#5e845f92-cc4a-4eb0-9bcd-40baaad86a94').text(' 50%');"
       ],
       "metadata": {},
       "output_type": "display_data",
       "text": [
        "<IPython.core.display.Javascript at 0x11aa5ee90>"
       ]
      },
      {
       "javascript": [
        "//047f9345-b4d4-4a35-92dd-176b6e9ecf2a\n",
        "$(\"head\").append(\"<style> td.pb_widget {     width: auto; } td.pb_widget_fill {     width: 100%; } table.pb {     font-family: monospace;     border: 0;     margin: 0; } table.pb tr { border: 0; } table.pb td {     white-space: nowrap;     border: 0; } div.pb {     border: 1px solid #ddd;     border-radius: 3px; } div.pb_bar {     height: 1.5em; } </style>\")"
       ],
       "metadata": {},
       "output_type": "display_data",
       "text": [
        "<IPython.core.display.Javascript at 0x11aa5ef10>"
       ]
      },
      {
       "javascript": [
        "\n",
        "                  // 047f9345-b4d4-4a35-92dd-176b6e9ecf2a -- used to remove this code blob in the end\n",
        "                  IPython.OutputArea.prototype.cleanProgressBar = function(uuids) {\n",
        "                      // filter by uuid-strings \n",
        "                      var myfilter = function(output) { \n",
        "                          var nuids = uuids.length;\n",
        "                          for (var i=0; i<nuids; i++) {\n",
        "                              if (output.hasOwnProperty('html')) {\n",
        "                                  if (output.html.indexOf(uuids[i]) != -1) {\n",
        "                                      return false;\n",
        "                                  }\n",
        "                              }\n",
        "                              if (output.hasOwnProperty('javascript')) {\n",
        "                                  if (output.javascript.indexOf(uuids[i]) != -1) {\n",
        "                                      return false;\n",
        "                                  }\n",
        "                              }\n",
        "                          }\n",
        "                          // keep all others\n",
        "                          return true;\n",
        "                      };\n",
        "\n",
        "                      // Filter the ouputs\n",
        "                      this.outputs = this.outputs.filter(myfilter);\n",
        "                };\n",
        "                "
       ],
       "metadata": {},
       "output_type": "display_data",
       "text": [
        "<IPython.core.display.Javascript at 0x11aa5ef50>"
       ]
      },
      {
       "html": [
        "<div class=\"pb\" id=\"047f9345-b4d4-4a35-92dd-176b6e9ecf2a\"><table class=\"pb ui-widget\"><tr>\n",
        "<td class=\"pb_widget\">Processing</td>\n",
        "<td class=\"pb_widget\"><div id=\"a78483e6-40a3-4970-9b1a-2a4343ad97cf\">iMM904</div></td>\n",
        "<td class=\"pb_widget_fill\">\n",
        "        <div class=\"pb_bar\" id=\"611cf549-2d62-4c76-9b78-3b9064116faa\"></div>\n",
        "        <script type=\"text/javascript\">\n",
        "            $(\"div#611cf549-2d62-4c76-9b78-3b9064116faa\").progressbar({value: 0, max: 1});\n",
        "        </script>\n",
        "        </td>\n",
        "<td class=\"pb_widget\"><div id=\"eed5af8c-c2aa-477f-a95f-0222357104a0\">ETA:  --:--:--</div></td>\n",
        "<td class=\"pb_widget\"><div id=\"95a2b3c2-9f75-4897-986d-6e20b9545061\">  0%</div></td>\n",
        "</tr></table><div>"
       ],
       "metadata": {},
       "output_type": "display_data",
       "text": [
        "<IPython.core.display.HTML at 0x114c52d90>"
       ]
      },
      {
       "javascript": [
        "$('div#a78483e6-40a3-4970-9b1a-2a4343ad97cf').text('');"
       ],
       "metadata": {},
       "output_type": "display_data",
       "text": [
        "<IPython.core.display.Javascript at 0x114c52e90>"
       ]
      },
      {
       "javascript": [
        "\n",
        "        var $myPB = $(\"div#611cf549-2d62-4c76-9b78-3b9064116faa\")\n",
        "        if ($myPB.hasClass('ui-progressbar')) {\n",
        "            $myPB.progressbar('value', 1);\n",
        "        } else {\n",
        "            $myPB.progressbar({value: 0, max: 1});\n",
        "        }\n",
        "        "
       ],
       "metadata": {},
       "output_type": "display_data",
       "text": [
        "<IPython.core.display.Javascript at 0x11934d650>"
       ]
      },
      {
       "javascript": [
        "$('div#eed5af8c-c2aa-477f-a95f-0222357104a0').text('Time: 0:01:20');"
       ],
       "metadata": {},
       "output_type": "display_data",
       "text": [
        "<IPython.core.display.Javascript at 0x125185510>"
       ]
      },
      {
       "javascript": [
        "$('div#95a2b3c2-9f75-4897-986d-6e20b9545061').text('100%');"
       ],
       "metadata": {},
       "output_type": "display_data",
       "text": [
        "<IPython.core.display.Javascript at 0x1251852d0>"
       ]
      },
      {
       "javascript": [
        "var element = document.getElementById('047f9345-b4d4-4a35-92dd-176b6e9ecf2a');\n",
        "                    var parent = element.parentNode\n",
        "                    parent.removeChild(element);\n",
        "                    parent.parentElement.remove();"
       ],
       "metadata": {},
       "output_type": "display_data",
       "text": [
        "<IPython.core.display.Javascript at 0x126889f10>"
       ]
      },
      {
       "javascript": [
        "this.cleanProgressBar(['047f9345-b4d4-4a35-92dd-176b6e9ecf2a', 'a78483e6-40a3-4970-9b1a-2a4343ad97cf', '611cf549-2d62-4c76-9b78-3b9064116faa', 'eed5af8c-c2aa-477f-a95f-0222357104a0', '95a2b3c2-9f75-4897-986d-6e20b9545061'])"
       ],
       "metadata": {},
       "output_type": "display_data",
       "text": [
        "<IPython.core.display.Javascript at 0x1251851d0>"
       ]
      },
      {
       "javascript": [
        "$('div#2a06b7ac-2238-478b-9760-047eaeeeae44').text('');"
       ],
       "metadata": {},
       "output_type": "display_data",
       "text": [
        "<IPython.core.display.Javascript at 0x125185250>"
       ]
      },
      {
       "javascript": [
        "\n",
        "        var $myPB = $(\"div#449fe787-96dd-4956-8dce-2e41aa6993f7\")\n",
        "        if ($myPB.hasClass('ui-progressbar')) {\n",
        "            $myPB.progressbar('value', 2);\n",
        "        } else {\n",
        "            $myPB.progressbar({value: 0, max: 2});\n",
        "        }\n",
        "        "
       ],
       "metadata": {},
       "output_type": "display_data",
       "text": [
        "<IPython.core.display.Javascript at 0x125185190>"
       ]
      },
      {
       "javascript": [
        "$('div#3377f440-b83b-46a4-a8e4-86060a64f33a').text('Time: 0:03:11');"
       ],
       "metadata": {},
       "output_type": "display_data",
       "text": [
        "<IPython.core.display.Javascript at 0x125172e10>"
       ]
      },
      {
       "javascript": [
        "$('div#5e845f92-cc4a-4eb0-9bcd-40baaad86a94').text('100%');"
       ],
       "metadata": {},
       "output_type": "display_data",
       "text": [
        "<IPython.core.display.Javascript at 0x125172050>"
       ]
      },
      {
       "javascript": [
        "var element = document.getElementById('1acca05b-d708-447a-94e3-9eaa83e2e0ed');\n",
        "                    var parent = element.parentNode\n",
        "                    parent.removeChild(element);\n",
        "                    parent.parentElement.remove();"
       ],
       "metadata": {},
       "output_type": "display_data",
       "text": [
        "<IPython.core.display.Javascript at 0x125185210>"
       ]
      },
      {
       "javascript": [
        "this.cleanProgressBar(['1acca05b-d708-447a-94e3-9eaa83e2e0ed', '2a06b7ac-2238-478b-9760-047eaeeeae44', '449fe787-96dd-4956-8dce-2e41aa6993f7', '3377f440-b83b-46a4-a8e4-86060a64f33a', '5e845f92-cc4a-4eb0-9bcd-40baaad86a94'])"
       ],
       "metadata": {},
       "output_type": "display_data",
       "text": [
        "<IPython.core.display.Javascript at 0x125172d90>"
       ]
      }
     ],
     "prompt_number": 1
    },
    {
     "cell_type": "heading",
     "level": 3,
     "metadata": {},
     "source": [
      "IPython notebook"
     ]
    },
    {
     "cell_type": "markdown",
     "metadata": {},
     "source": [
      "Click [here](http://nbviewer.ipython.org/github/biosustain/cameo/blob/devel/docs/cameo_high_level_interface.ipynb) to download this page as an IPython notebook."
     ]
    }
   ],
   "metadata": {}
  }
 ]
}