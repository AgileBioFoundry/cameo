{
 "metadata": {
  "name": "",
  "signature": "sha256:7ecfa3b14b2df3c6d0e55d24848c080757cfe6a1db7d200cfd414381d379b631"
 },
 "nbformat": 3,
 "nbformat_minor": 0,
 "worksheets": [
  {
   "cells": [
    {
     "cell_type": "code",
     "collapsed": false,
     "input": [
      "from cobra import api\n",
      "    api.design(product='L-serine')"
     ],
     "language": "python",
     "metadata": {},
     "outputs": []
    }
   ],
   "metadata": {}
  }
 ]
}