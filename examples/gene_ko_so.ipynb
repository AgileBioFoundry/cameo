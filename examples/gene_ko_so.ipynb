{
 "metadata": {
  "name": "",
  "signature": "sha256:46d2e22b2cb1333c8f85b3142b9732171b86da713e6e67cbcc6c8c0861fcddd7"
 },
 "nbformat": 3,
 "nbformat_minor": 0,
 "worksheets": [
  {
   "cells": [
    {
     "cell_type": "code",
     "collapsed": false,
     "input": [
      "%load_ext autoreload\n",
      "%autoreload 2"
     ],
     "language": "python",
     "metadata": {},
     "outputs": [
      {
       "output_type": "stream",
       "stream": "stdout",
       "text": [
        "The autoreload extension is already loaded. To reload it, use:\n",
        "  %reload_ext autoreload\n"
       ]
      }
     ],
     "prompt_number": 13
    },
    {
     "cell_type": "code",
     "collapsed": false,
     "input": [
      "from time import time\n",
      "from random import Random\n",
      "from cameo.strain_design.heuristics import GeneKnockoutOptimization\n",
      "from cameo import load_model\n",
      "from cameo.strain_design.heuristics.objective_functions import bpcy\n",
      "from cameo.flux_analysis.simulation import fba\n",
      "import inspyred"
     ],
     "language": "python",
     "metadata": {},
     "outputs": [],
     "prompt_number": 14
    },
    {
     "cell_type": "code",
     "collapsed": false,
     "input": [
      "model = load_model(\"/Users/joao/Downloads/iJO1366.xml\")\n",
      "of = bpcy(\"Ec_biomass_iJO1366_core_53p95M\", \"EX_succ_LPAREN_e_RPAREN_\", \"EX_glc_LPAREN_e_RPAREN_\")"
     ],
     "language": "python",
     "metadata": {},
     "outputs": [],
     "prompt_number": 15
    },
    {
     "cell_type": "code",
     "collapsed": false,
     "input": [
      "ko = GeneKnockoutOptimization(model=model, objective_function=of, \n",
      "                              simulation_method=fba, heuristic_method=inspyred.ec.GA)"
     ],
     "language": "python",
     "metadata": {},
     "outputs": [],
     "prompt_number": 16
    },
    {
     "cell_type": "code",
     "collapsed": false,
     "input": [
      "ko.run(max_evaluations=30000, n=5, mutation_rate=0.3)"
     ],
     "language": "python",
     "metadata": {},
     "outputs": [
      {
       "output_type": "stream",
       "stream": "stdout",
       "text": [
        "found config for http://localhost:5006/\n",
        "{}\n",
        "loading it!\n",
        "if you don't wish to load this config, please pass load_from_config=False\n"
       ]
      },
      {
       "html": [
        "<p>Connecting notebook to document \"1f5d74d4-fd34-11e3-af67-d0e1408cfa06\" at server http://localhost:5006/</p>"
       ],
       "metadata": {},
       "output_type": "display_data"
      },
      {
       "html": [
        "<script src=\"http://localhost:5006//bokeh/embed.js\" bokeh_plottype=\"serverconn\"\n",
        "        bokeh_docid=\"d59f7145-fdc7-4b9a-848f-e662adbbecb0\" bokeh_ws_conn_string=\"ws://localhost:5006/bokeh/sub\"\n",
        "        bokeh_docapikey=\"85acb014-6dfa-451e-8bbb-4ea786bf96ff\" bokeh_root_url=\"http://localhost:5006/\"\n",
        "        bokeh_modelid=\"6470a7bb-2c11-4e75-9c17-ce1201ab4fb4\" bokeh_modeltype=\"Plot\" async=\"true\"></script>\n",
        "        "
       ],
       "metadata": {},
       "output_type": "display_data"
      },
      {
       "html": [
        "<h4>Result:</h4><ul>    <li>model: iJO1366</li>    <li>heuristic: GA</li>    <li>objective function: bpcy = (Ec_biomass_iJO1366_core_53p95M * EX_succ_LPAREN_e_RPAREN_) / EX_glc_LPAREN_e_RPAREN_</li>    <li>simulation method: fba</li>    <li>type:gene</li></ul><h4>Solutions:</h4><table>   <thead>       <tr>           <th>Knockouts</th>           <th>Fitness</th>           <th>Biomass</th>       </tr>   </thead>   <tbody>       <tr>    <td>b0945, b2587, b2037, b0724, b3454, b2366, b0126</td>    <td>0.029159</td>    <td>0.938879561382</td></tr>\n",
        "<tr>    <td>b0635, b3605, b0729, b0049, b2422, b2663, b3632, b0724, b1613, b0945, b2242, b0684, b4119</td>    <td>0.029159</td>    <td>0.938879561382</td></tr>\n",
        "<tr>    <td>b0936, b0273, b4198, b0945, b0810, b2663, b0517, b0724, b2705, b1102, b4323, b4209, b2223</td>    <td>0.029159</td>    <td>0.938866931178</td></tr>\n",
        "<tr>    <td>b0936, b0273, b1276, b0945, b2663, b0758, b1767, b0724, b0728, b2802, b1102, b3125, b2223</td>    <td>0.029159</td>    <td>0.938879561382</td></tr>\n",
        "<tr>    <td>b1440, b0936, b0945, b2663, b0517, b0724, b2705, b2223, b1102, b4323, b4209, b0727</td>    <td>0.029159</td>    <td>0.938866931178</td></tr>\n",
        "<tr>    <td>b2541, b0273, b0945, b2912, b2663, b1008, b0724, b2418, b0337, b0810, b1599, b2223</td>    <td>0.029159</td>    <td>0.938879561382</td></tr>\n",
        "<tr>    <td>b2502, b0512, b1224, b2242, b0724, b0945, b4111, b1528, b0615, b1124, b0896</td>    <td>0.029159</td>    <td>0.938879561382</td></tr>\n",
        "<tr>    <td>b3605, b1719, b2542, b0404, b2578, b3632, b0724, b0945, b4070, b3806, b2996, b2242, b1613, b2483</td>    <td>0.029159</td>    <td>0.938879561382</td></tr>\n",
        "<tr>    <td>b3605, b1270, b2542, b0404, b2578, b1611, b0724, b0945, b4070, b3806, b2708, b2483, b2242, b2996</td>    <td>0.029159</td>    <td>0.938879561382</td></tr>\n",
        "<tr>    <td>b3528, b2441, b3132, b0945, b4192, b1014, b0724, b1855, b2297, b0615, b2242, b1124</td>    <td>0.029159</td>    <td>0.938879561382</td></tr>\n",
        "<tr>    <td>b3605, b0945, b3182, b3806, b1611, b2721, b0724, b2996, b0350, b1363, b2242, b3006, b4033</td>    <td>0.029159</td>    <td>0.938879561382</td></tr>\n",
        "<tr>    <td>b3605, b2542, b0404, b0049, b1611, b1912, b0724, b0945, b4070, b2708, b2996, b2242, b3006</td>    <td>0.029159</td>    <td>0.938879561382</td></tr>\n",
        "<tr>    <td>b0996, b3875, b2502, b2464, b2170, b0724, b2558, b0945, b4209, b0615, b2242, b1124</td>    <td>0.029159</td>    <td>0.938866931178</td></tr>\n",
        "<tr>    <td>b1453, b1296, b0724, b4071, b2994, b0945, b0968, b0933, b1613, b0612</td>    <td>0.029159</td>    <td>0.938879561382</td></tr>\n",
        "<tr>    <td>b0996, b0945, b1378, b2521, b4240, b0724, b0968, b2997, b1855, b0810, b2297</td>    <td>0.029159</td>    <td>0.938879561382</td></tr>\n",
        "<tr>    <td>b1702, b2720, b3478, b4386, b2912, b0574, b3028, b0724, b3628, b1492, b0945, b4209</td>    <td>0.029159</td>    <td>0.938866931177</td></tr>\n",
        "<tr>    <td>b0937, b3640, b3725, b3449, b2234, b1245, b0945, b0651, b2874, b0638, b0722, b4161, b0070, b3012</td>    <td>0.029159</td>    <td>0.938879561382</td></tr>\n",
        "<tr>    <td>b3431, b1223, b0945, b1319, b2373, b4266, b2051, b0724, b3785, b0343</td>    <td>0.029159</td>    <td>0.938879561382</td></tr>\n",
        "<tr>    <td>b0724, b3925, b2502, b1224, b3803, b3236, b0945, b4111, b0615, b2242, b1124, b0896</td>    <td>0.029017</td>    <td>0.936584631999</td></tr>\n",
        "<tr>    <td>b0724, b3925, b2502, b1224, b4209, b3236, b0945, b4111, b0615, b2242, b1124, b0896</td>    <td>0.029015</td>    <td>0.936559495267</td></tr>\n",
        "<tr>    <td>b0936, b0273, b4198, b0945, b2167, b0341, b2836, b0724, b0810, b4323, b1059, b2223</td>    <td>0.028636</td>    <td>0.930417086635</td></tr>\n",
        "<tr>    <td>b0212, b3625, b1378, b2501, b2502, b1224, b2905, b0724, b0945, b0968, b0896</td>    <td>0.028243</td>    <td>0.924005727178</td></tr>\n",
        "<tr>    <td>b0935, b0766, b1488, b2501, b0945, b2799, b1015, b0765, b3035, b0724, b3806, b0222, b2197, b1723</td>    <td>0.028243</td>    <td>0.924005727178</td></tr>\n",
        "<tr>    <td>b0635, b2441, b0945, b2422, b2663, b2662, b0724, b1008, b0349, b0698, b0767, b2242, b3519</td>    <td>0.026936</td>    <td>0.902375776321</td></tr>\n",
        "<tr>    <td>b0724, b0945, b1008, b2542, b4153, b2662, b0349, b0698, b3952, b0767, b2242, b3519</td>    <td>0.026936</td>    <td>0.902375776321</td></tr>\n",
        "<tr>    <td>b0635, b0945, b2422, b0614, b3417, b0509, b0724, b0613, b2155, b0698, b0767, b3012, b3519</td>    <td>0.026936</td>    <td>0.902375776321</td></tr>\n",
        "<tr>    <td>b3437, b0945, b2662, b2242, b0724, b4153, b0349, b3952, b0767, b0615, b3519</td>    <td>0.026936</td>    <td>0.902375776321</td></tr>\n",
        "<tr>    <td>b0635, b0767, b2146, b0945, b3417, b0724, b2784, b0613, b0698, b1064, b0368, b3519</td>    <td>0.026936</td>    <td>0.902375776321</td></tr>\n",
        "<tr>    <td>b1192, b0349, b0724, b0945, b2458, b4086, b2542, b4153, b2309, b0698, b3952, b0767, b3519</td>    <td>0.026936</td>    <td>0.902375776321</td></tr>\n",
        "<tr>    <td>b3437, b0945, b2662, b2242, b0724, b4153, b0349, b3600, b0722, b0767, b0894, b3519</td>    <td>0.026936</td>    <td>0.902375776321</td></tr>\n",
        "<tr>    <td>b0996, b0945, b0512, b1224, b2242, b0724, b4111, b1528, b0767, b0615, b1124</td>    <td>0.026936</td>    <td>0.902375776321</td></tr>\n",
        "<tr>    <td>b0767, b4485, b3063, b0945, b4383, b3417, b0724, b2146, b1391, b1064, b2243, b3519</td>    <td>0.026936</td>    <td>0.902375776321</td></tr>\n",
        "<tr>    <td>b0996, b3625, b1378, b0945, b4383, b1224, b2905, b0724, b0968, b4111, b0767</td>    <td>0.026923</td>    <td>0.902149940728</td></tr>\n",
        "<tr>    <td>b0635, b2254, b0431, b3605, b0945, b3632, b0724, b2587, b2256, b1613, b2242, b0684, b1719</td>    <td>0.022948</td>    <td>0.832908260776</td></tr>\n",
        "<tr>    <td>b0381, b1378, b0724, b0945, b2579, b3073, b3236, b3956, b0968, b0980, b3626, b2492, b0896</td>    <td>0.022496</td>    <td>0.824664483038</td></tr>\n",
        "<tr>    <td>b3605, b2935, b0404, b2926, b2954, b3632, b3416, b3691, b0724, b2169, b0068, b0945, b2242, b1613</td>    <td>0.022286</td>    <td>0.820802219284</td></tr>\n",
        "<tr>    <td>b3605, b1779, b2889, b0945, b1611, b2721, b0765, b0724, b2799, b2996, b3806, b2197, b3006, b4033</td>    <td>0.022286</td>    <td>0.820802219284</td></tr>\n",
        "<tr>    <td>b3908, b0404, b3425, b1613, b0678, b0724, b0945, b4071, b2926, b2265, b2309, b0933, b0825, b4467</td>    <td>0.022285</td>    <td>0.820787145441</td></tr>\n",
        "<tr>    <td>b0635, b2279, b1102, b0729, b0945, b2422, b2663, b3632, b0724, b2156, b0349, b4209, b2242</td>    <td>0.022182</td>    <td>0.818877690358</td></tr>\n",
        "<tr>    <td>b0635, b3708, b2441, b0767, b1193, b0945, b2422, b0724, b0349, b0698, b0429, b2242, b3519</td>    <td>0.020456</td>    <td>0.78636789029</td></tr>\n",
        "<tr>    <td>b3605, b3737, b0404, b2954, b2578, b3632, b1767, b0724, b2169, b0945, b3806, b2242, b1613, b2483</td>    <td>0.005282</td>    <td>0.399589898953</td></tr>\n",
        "<tr>    <td>b2148, b0973, b2784, b2053</td>    <td>0.0</td>    <td>0.982371812727</td></tr>\n",
        "<tr>    <td>b2787, b2895</td>    <td>0.0</td>    <td>0.982371812727</td></tr>\n",
        "<tr>    <td>b0462</td>    <td>0.0</td>    <td>0.982371812727</td></tr>\n",
        "<tr>    <td>b0614, b4481</td>    <td>0.0</td>    <td>0.982371812727</td></tr>\n",
        "<tr>    <td>b0124, b3870</td>    <td>0.0</td>    <td>0.982371812727</td></tr>\n",
        "<tr>    <td>b2133</td>    <td>0.0</td>    <td>0.982371812727</td></tr>\n",
        "<tr>    <td>b1623, b2497</td>    <td>0.0</td>    <td>0.982371812727</td></tr>\n",
        "<tr>    <td>b0171</td>    <td>0.0</td>    <td>0.982371812727</td></tr>\n",
        "<tr>    <td>b2893</td>    <td>0.0</td>    <td>0.982371812727</td></tr>\n",
        "<tr>    <td>b1398</td>    <td>0.0</td>    <td>0.982371812727</td></tr>\n",
        "<tr>    <td>b2240</td>    <td>0.0</td>    <td>0.982371812727</td></tr>\n",
        "<tr>    <td>b3565</td>    <td>0.0</td>    <td>0.982371812727</td></tr>\n",
        "<tr>    <td>b3384</td>    <td>0.0</td>    <td>0.982371812727</td></tr>\n",
        "<tr>    <td>b0118</td>    <td>0.0</td>    <td>0.982371812727</td></tr>\n",
        "<tr>    <td>b0593</td>    <td>0.0</td>    <td>0.982371812727</td></tr>\n",
        "<tr>    <td>b3572</td>    <td>0.0</td>    <td>0.982371812727</td></tr>\n",
        "<tr>    <td>b2243</td>    <td>0.0</td>    <td>0.982371812727</td></tr>\n",
        "<tr>    <td>b2167</td>    <td>0.0</td>    <td>0.982371812727</td></tr>\n",
        "<tr>    <td>b1590</td>    <td>0.0</td>    <td>0.982371812727</td></tr>\n",
        "<tr>    <td>b4209</td>    <td>0.0</td>    <td>0.982359882624</td></tr>\n",
        "<tr>    <td>b2366</td>    <td>0.0</td>    <td>0.982371812727</td></tr>\n",
        "<tr>    <td>b0068</td>    <td>0.0</td>    <td>0.982371812727</td></tr>\n",
        "<tr>    <td>b0404</td>    <td>0.0</td>    <td>0.982371812727</td></tr>\n",
        "<tr>    <td>b3571</td>    <td>0.0</td>    <td>0.982371812727</td></tr>\n",
        "<tr>    <td>b2234</td>    <td>0.0</td>    <td>0.982371812727</td></tr>\n",
        "<tr>    <td>b2489</td>    <td>0.0</td>    <td>0.982371812727</td></tr>\n",
        "<tr>    <td>b2719</td>    <td>0.0</td>    <td>0.982371812727</td></tr>\n",
        "<tr>    <td>b2344</td>    <td>0.0</td>    <td>0.982371812727</td></tr>\n",
        "<tr>    <td>b0323</td>    <td>0.0</td>    <td>0.982371812727</td></tr>\n",
        "<tr>    <td>b1709</td>    <td>0.0</td>    <td>0.982371812727</td></tr>\n",
        "<tr>    <td>b3825</td>    <td>0.0</td>    <td>0.982371812727</td></tr>\n",
        "<tr>    <td>b2265</td>    <td>0.0</td>    <td>0.982371812727</td></tr>\n",
        "<tr>    <td>b1326</td>    <td>0.0</td>    <td>0.982371812727</td></tr>\n",
        "<tr>    <td>b3731</td>    <td>0.0</td>    <td>0.402477301491</td></tr>\n",
        "<tr>    <td>b3496</td>    <td>0.0</td>    <td>0.982371812727</td></tr>\n",
        "<tr>    <td>b2912</td>    <td>0.0</td>    <td>0.982371812727</td></tr>\n",
        "<tr>    <td>b4233</td>    <td>0.0</td>    <td>0.982371812727</td></tr>\n",
        "<tr>    <td>b4384</td>    <td>0.0</td>    <td>0.982371812727</td></tr>\n",
        "<tr>    <td>b0839</td>    <td>0.0</td>    <td>0.982371812727</td></tr>\n",
        "<tr>    <td>b0931</td>    <td>0.0</td>    <td>0.982371812727</td></tr>\n",
        "<tr>    <td>b2789</td>    <td>0.0</td>    <td>0.982371812727</td></tr>\n",
        "<tr>    <td>b0463</td>    <td>0.0</td>    <td>0.982371812727</td></tr>\n",
        "<tr>    <td>b3631</td>    <td>0.0</td>    <td>0.982371812727</td></tr>\n",
        "<tr>    <td>b3526</td>    <td>0.0</td>    <td>0.982371812727</td></tr>\n",
        "<tr>    <td>b2676</td>    <td>0.0</td>    <td>0.982371812727</td></tr>\n",
        "<tr>    <td>b1206</td>    <td>0.0</td>    <td>0.981601687472</td></tr>\n",
        "<tr>    <td>b0033, b2976</td>    <td>0.0</td>    <td>0.982371812727</td></tr>\n",
        "<tr>    <td>b4388</td>    <td>0.0</td>    <td>0.960665997674</td></tr>\n",
        "<tr>    <td>b0037</td>    <td>0.0</td>    <td>0.982371812727</td></tr>\n",
        "<tr>    <td>b0830</td>    <td>0.0</td>    <td>0.982371812727</td></tr>\n",
        "<tr>    <td>b0933</td>    <td>0.0</td>    <td>0.982371812727</td></tr>\n",
        "<tr>    <td>b1524</td>    <td>0.0</td>    <td>0.982371812727</td></tr>\n",
        "<tr>    <td>b1656</td>    <td>0.0</td>    <td>0.982371812727</td></tr>\n",
        "<tr>    <td>b0857</td>    <td>0.0</td>    <td>0.982371812727</td></tr>\n",
        "<tr>    <td>b1801</td>    <td>0.0</td>    <td>0.982371812727</td></tr>\n",
        "<tr>    <td>b2683</td>    <td>0.0</td>    <td>0.982371812727</td></tr>\n",
        "<tr>    <td>b0092</td>    <td>0.0</td>    <td>0.982371812727</td></tr>\n",
        "<tr>    <td>b3417</td>    <td>0.0</td>    <td>0.982371812727</td></tr>\n",
        "<tr>    <td>b1682</td>    <td>0.0</td>    <td>0.982371812727</td></tr>   </tbody><table>"
       ],
       "metadata": {},
       "output_type": "pyout",
       "prompt_number": 17,
       "text": [
        "<cameo.strain_design.heuristics.KnockoutOptimizationResult at 0x10ca4b450>"
       ]
      }
     ],
     "prompt_number": 17
    },
    {
     "cell_type": "code",
     "collapsed": false,
     "input": [],
     "language": "python",
     "metadata": {},
     "outputs": []
    }
   ],
   "metadata": {}
  }
 ]
}