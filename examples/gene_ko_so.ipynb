{
 "metadata": {
  "name": "",
  "signature": "sha256:e3b24f7711504345f96838a4fdaadff16d66c798c790a6725c9578923ad080e8"
 },
 "nbformat": 3,
 "nbformat_minor": 0,
 "worksheets": [
  {
   "cells": [
    {
     "cell_type": "code",
     "collapsed": false,
     "input": [
      "from cameo.strain_design.heuristic import GeneKnockoutOptimization\n",
      "from cameo import load_model\n",
      "from cameo.strain_design.heuristic.objective_functions import biomass_product_coupled_yield\n",
      "from cameo.flux_analysis.simulation import fba\n",
      "import inspyred\n",
      "import cameo.parallel"
     ],
     "language": "python",
     "metadata": {},
     "outputs": []
    },
    {
     "cell_type": "code",
     "collapsed": false,
     "input": [
      "model = load_model(\"../tests/data/iJO1366.xml\")\n",
      "of = biomass_product_coupled_yield(\"Ec_biomass_iJO1366_core_53p95M\", \"EX_succ_LPAREN_e_RPAREN_\", \"EX_glc_LPAREN_e_RPAREN_\")"
     ],
     "language": "python",
     "metadata": {},
     "outputs": []
    },
    {
     "cell_type": "code",
     "collapsed": false,
     "input": [
      "ko = GeneKnockoutOptimization(model=model, objective_function=of, \n",
      "                              simulation_method=fba, heuristic_method=inspyred.ec.GA)"
     ],
     "language": "python",
     "metadata": {},
     "outputs": []
    },
    {
     "cell_type": "code",
     "collapsed": false,
     "input": [
      "ko.run(max_evaluations=2000, n=1, \n",
      "       mutation_rate=0.3, view=cameo.parallel.SequentialView(), \n",
      "       product=\"EX_succ_LPAREN_e_RPAREN_\", num_elites=1)"
     ],
     "language": "python",
     "metadata": {},
     "outputs": [
      {
       "html": [
        "<progress id='progress-bar-ee6685c7-c46b-4d2e-9ba6-8bf82eaea0cb' value='0' max='100' style='width:50%;'></progress>"
       ],
       "metadata": {},
       "output_type": "display_data",
       "text": [
        "<IPython.core.display.HTML at 0x10d6871d0>"
       ]
      },
      {
       "output_type": "stream",
       "stream": "stdout",
       "text": [
        "found config for http://localhost:5006/\n",
        "{}\n",
        "loading it!\n",
        "if you don't wish to load this config, please pass load_from_config=False\n"
       ]
      },
      {
       "html": [
        "<p>Connecting notebook to document \"ff147e66-037d-11e4-96f4-d0e1408cfa06\" at server http://localhost:5006/</p>"
       ],
       "metadata": {},
       "output_type": "display_data"
      },
      {
       "html": [
        "<script src=\"http://localhost:5006//bokeh/embed.js\" bokeh_plottype=\"serverconn\"\n",
        "        bokeh_docid=\"077972d1-981d-426c-872e-b7e7d9900d00\" bokeh_ws_conn_string=\"ws://localhost:5006/bokeh/sub\"\n",
        "        bokeh_docapikey=\"22db7fb1-037d-4160-aed5-29e99c2441b2\" bokeh_root_url=\"http://localhost:5006/\"\n",
        "        bokeh_modelid=\"0b3df6ab-3c74-478f-9f5f-cd0c5fceebf5\" bokeh_modeltype=\"Plot\" async=\"true\"></script>\n",
        "        "
       ],
       "metadata": {},
       "output_type": "display_data"
      },
      {
       "javascript": [
        "jQuery('#progress-bar-ee6685c7-c46b-4d2e-9ba6-8bf82eaea0cb').val('5')"
       ],
       "metadata": {},
       "output_type": "display_data",
       "text": [
        "<IPython.core.display.Javascript at 0x10d4cd390>"
       ]
      },
      {
       "javascript": [
        "jQuery('#progress-bar-ee6685c7-c46b-4d2e-9ba6-8bf82eaea0cb').val('10')"
       ],
       "metadata": {},
       "output_type": "display_data",
       "text": [
        "<IPython.core.display.Javascript at 0x10d6a0090>"
       ]
      },
      {
       "javascript": [
        "jQuery('#progress-bar-ee6685c7-c46b-4d2e-9ba6-8bf82eaea0cb').val('15')"
       ],
       "metadata": {},
       "output_type": "display_data",
       "text": [
        "<IPython.core.display.Javascript at 0x10d4cd110>"
       ]
      },
      {
       "javascript": [
        "jQuery('#progress-bar-ee6685c7-c46b-4d2e-9ba6-8bf82eaea0cb').val('20')"
       ],
       "metadata": {},
       "output_type": "display_data",
       "text": [
        "<IPython.core.display.Javascript at 0x10d4c6710>"
       ]
      },
      {
       "javascript": [
        "jQuery('#progress-bar-ee6685c7-c46b-4d2e-9ba6-8bf82eaea0cb').val('25')"
       ],
       "metadata": {},
       "output_type": "display_data",
       "text": [
        "<IPython.core.display.Javascript at 0x10d687b10>"
       ]
      },
      {
       "javascript": [
        "jQuery('#progress-bar-ee6685c7-c46b-4d2e-9ba6-8bf82eaea0cb').val('30')"
       ],
       "metadata": {},
       "output_type": "display_data",
       "text": [
        "<IPython.core.display.Javascript at 0x10d4c6090>"
       ]
      },
      {
       "javascript": [
        "jQuery('#progress-bar-ee6685c7-c46b-4d2e-9ba6-8bf82eaea0cb').val('35')"
       ],
       "metadata": {},
       "output_type": "display_data",
       "text": [
        "<IPython.core.display.Javascript at 0x10d4cd090>"
       ]
      },
      {
       "javascript": [
        "jQuery('#progress-bar-ee6685c7-c46b-4d2e-9ba6-8bf82eaea0cb').val('40')"
       ],
       "metadata": {},
       "output_type": "display_data",
       "text": [
        "<IPython.core.display.Javascript at 0x10d6a0ed0>"
       ]
      },
      {
       "javascript": [
        "jQuery('#progress-bar-ee6685c7-c46b-4d2e-9ba6-8bf82eaea0cb').val('45')"
       ],
       "metadata": {},
       "output_type": "display_data",
       "text": [
        "<IPython.core.display.Javascript at 0x10d69c610>"
       ]
      },
      {
       "javascript": [
        "jQuery('#progress-bar-ee6685c7-c46b-4d2e-9ba6-8bf82eaea0cb').val('50')"
       ],
       "metadata": {},
       "output_type": "display_data",
       "text": [
        "<IPython.core.display.Javascript at 0x10d4c2290>"
       ]
      },
      {
       "javascript": [
        "jQuery('#progress-bar-ee6685c7-c46b-4d2e-9ba6-8bf82eaea0cb').val('55')"
       ],
       "metadata": {},
       "output_type": "display_data",
       "text": [
        "<IPython.core.display.Javascript at 0x10d6a0fd0>"
       ]
      },
      {
       "javascript": [
        "jQuery('#progress-bar-ee6685c7-c46b-4d2e-9ba6-8bf82eaea0cb').val('60')"
       ],
       "metadata": {},
       "output_type": "display_data",
       "text": [
        "<IPython.core.display.Javascript at 0x10d69c950>"
       ]
      },
      {
       "javascript": [
        "jQuery('#progress-bar-ee6685c7-c46b-4d2e-9ba6-8bf82eaea0cb').val('65')"
       ],
       "metadata": {},
       "output_type": "display_data",
       "text": [
        "<IPython.core.display.Javascript at 0x10d4c6590>"
       ]
      },
      {
       "javascript": [
        "jQuery('#progress-bar-ee6685c7-c46b-4d2e-9ba6-8bf82eaea0cb').val('70')"
       ],
       "metadata": {},
       "output_type": "display_data",
       "text": [
        "<IPython.core.display.Javascript at 0x10d4c64d0>"
       ]
      },
      {
       "javascript": [
        "jQuery('#progress-bar-ee6685c7-c46b-4d2e-9ba6-8bf82eaea0cb').val('75')"
       ],
       "metadata": {},
       "output_type": "display_data",
       "text": [
        "<IPython.core.display.Javascript at 0x10d4cd390>"
       ]
      },
      {
       "javascript": [
        "jQuery('#progress-bar-ee6685c7-c46b-4d2e-9ba6-8bf82eaea0cb').val('80')"
       ],
       "metadata": {},
       "output_type": "display_data",
       "text": [
        "<IPython.core.display.Javascript at 0x10d4c22d0>"
       ]
      },
      {
       "javascript": [
        "jQuery('#progress-bar-ee6685c7-c46b-4d2e-9ba6-8bf82eaea0cb').val('85')"
       ],
       "metadata": {},
       "output_type": "display_data",
       "text": [
        "<IPython.core.display.Javascript at 0x10d6a0450>"
       ]
      },
      {
       "javascript": [
        "jQuery('#progress-bar-ee6685c7-c46b-4d2e-9ba6-8bf82eaea0cb').val('90')"
       ],
       "metadata": {},
       "output_type": "display_data",
       "text": [
        "<IPython.core.display.Javascript at 0x10d661c50>"
       ]
      },
      {
       "javascript": [
        "jQuery('#progress-bar-ee6685c7-c46b-4d2e-9ba6-8bf82eaea0cb').val('95')"
       ],
       "metadata": {},
       "output_type": "display_data",
       "text": [
        "<IPython.core.display.Javascript at 0x10d69ca10>"
       ]
      },
      {
       "javascript": [
        "jQuery('#progress-bar-ee6685c7-c46b-4d2e-9ba6-8bf82eaea0cb').val('100')"
       ],
       "metadata": {},
       "output_type": "display_data",
       "text": [
        "<IPython.core.display.Javascript at 0x10d4d0510>"
       ]
      },
      {
       "html": [
        "<h4>Result:</h4><ul>    <li>model: iJO1366</li>    <li>heuristic: GA</li>    <li>objective function: bpcy = (Ec_biomass_iJO1366_core_53p95M * EX_succ_LPAREN_e_RPAREN_) / EX_glc_LPAREN_e_RPAREN_</li>    <li>simulation method: fba</li>    <li>type: gene</li></ul>"
       ],
       "metadata": {},
       "output_type": "pyout",
       "prompt_number": 5,
       "text": [
        "<cameo.strain_design.heuristics.KnockoutOptimizationResult at 0x10d4c9c10>"
       ]
      }
     ],
     "prompt_number": 5
    },
    {
     "cell_type": "code",
     "collapsed": false,
     "input": [],
     "language": "python",
     "metadata": {},
     "outputs": []
    }
   ],
   "metadata": {}
  }
 ]
}