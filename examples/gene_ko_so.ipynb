{
 "metadata": {
  "name": "",
  "signature": "sha256:3a5f9ec6a65990aee05d3f959ab5c89dae0bb0f1aa51b74b79fced1d7edd0426"
 },
 "nbformat": 3,
 "nbformat_minor": 0,
 "worksheets": [
  {
   "cells": [
    {
     "cell_type": "code",
     "collapsed": false,
     "input": [
      "%load_ext autoreload\n",
      "%autoreload 2"
     ],
     "language": "python",
     "metadata": {},
     "outputs": [],
     "prompt_number": 1
    },
    {
     "cell_type": "code",
     "collapsed": false,
     "input": [
      "from time import time\n",
      "from random import Random\n",
      "from cameo.strain_design.heuristic import GeneKnockoutOptimization\n",
      "from cameo import load_model\n",
      "from cameo.strain_design.heuristic.objective_functions import biomass_product_coupled_yield\n",
      "from cameo.flux_analysis.simulation import fba\n",
      "import inspyred\n",
      "import cameo.parallel"
     ],
     "language": "python",
     "metadata": {},
     "outputs": [
      {
       "output_type": "stream",
       "stream": "stderr",
       "text": [
        "/Users/joao/.virtualenvs/cameo-env/lib/python2.7/site-packages/pandas/io/excel.py:626 \u001b[1;31mUserWarning\u001b[0m: Installed openpyxl is not supported at this time. Use >=1.6.1 and <2.0.0.\n"
       ]
      }
     ],
     "prompt_number": 2
    },
    {
     "cell_type": "code",
     "collapsed": false,
     "input": [
      "model = load_model(\"../tests/data/iJO1366.xml\")\n",
      "of = biomass_product_coupled_yield(\"Ec_biomass_iJO1366_core_53p95M\", \"EX_succ_LPAREN_e_RPAREN_\", \"EX_glc_LPAREN_e_RPAREN_\")"
     ],
     "language": "python",
     "metadata": {},
     "outputs": [],
     "prompt_number": 3
    },
    {
     "cell_type": "code",
     "collapsed": false,
     "input": [
      "ko = GeneKnockoutOptimization(model=model, objective_function=of, \n",
      "                              simulation_method=fba, heuristic_method=inspyred.ec.GA)"
     ],
     "language": "python",
     "metadata": {},
     "outputs": [],
     "prompt_number": 4
    },
    {
     "cell_type": "code",
     "collapsed": false,
     "input": [
      "ko.run(max_evaluations=2000, n=1, \n",
      "       mutation_rate=0.3, view=cameo.parallel.SequentialView(), \n",
      "       product=\"EX_succ_LPAREN_e_RPAREN_\", num_elites=1)"
     ],
     "language": "python",
     "metadata": {},
     "outputs": [
      {
       "html": [
        "<progress id='progress-bar-ee6685c7-c46b-4d2e-9ba6-8bf82eaea0cb' value='0' max='100' style='width:50%;'></progress>"
       ],
       "metadata": {},
       "output_type": "display_data",
       "text": [
        "<IPython.core.display.HTML at 0x10d6871d0>"
       ]
      },
      {
       "output_type": "stream",
       "stream": "stdout",
       "text": [
        "found config for http://localhost:5006/\n",
        "{}\n",
        "loading it!\n",
        "if you don't wish to load this config, please pass load_from_config=False\n"
       ]
      },
      {
       "html": [
        "<p>Connecting notebook to document \"ff147e66-037d-11e4-96f4-d0e1408cfa06\" at server http://localhost:5006/</p>"
       ],
       "metadata": {},
       "output_type": "display_data"
      },
      {
       "html": [
        "<script src=\"http://localhost:5006//bokeh/embed.js\" bokeh_plottype=\"serverconn\"\n",
        "        bokeh_docid=\"077972d1-981d-426c-872e-b7e7d9900d00\" bokeh_ws_conn_string=\"ws://localhost:5006/bokeh/sub\"\n",
        "        bokeh_docapikey=\"22db7fb1-037d-4160-aed5-29e99c2441b2\" bokeh_root_url=\"http://localhost:5006/\"\n",
        "        bokeh_modelid=\"0b3df6ab-3c74-478f-9f5f-cd0c5fceebf5\" bokeh_modeltype=\"Plot\" async=\"true\"></script>\n",
        "        "
       ],
       "metadata": {},
       "output_type": "display_data"
      },
      {
       "javascript": [
        "jQuery('#progress-bar-ee6685c7-c46b-4d2e-9ba6-8bf82eaea0cb').val('5')"
       ],
       "metadata": {},
       "output_type": "display_data",
       "text": [
        "<IPython.core.display.Javascript at 0x10d4cd390>"
       ]
      },
      {
       "javascript": [
        "jQuery('#progress-bar-ee6685c7-c46b-4d2e-9ba6-8bf82eaea0cb').val('10')"
       ],
       "metadata": {},
       "output_type": "display_data",
       "text": [
        "<IPython.core.display.Javascript at 0x10d6a0090>"
       ]
      },
      {
       "javascript": [
        "jQuery('#progress-bar-ee6685c7-c46b-4d2e-9ba6-8bf82eaea0cb').val('15')"
       ],
       "metadata": {},
       "output_type": "display_data",
       "text": [
        "<IPython.core.display.Javascript at 0x10d4cd110>"
       ]
      },
      {
       "javascript": [
        "jQuery('#progress-bar-ee6685c7-c46b-4d2e-9ba6-8bf82eaea0cb').val('20')"
       ],
       "metadata": {},
       "output_type": "display_data",
       "text": [
        "<IPython.core.display.Javascript at 0x10d4c6710>"
       ]
      },
      {
       "javascript": [
        "jQuery('#progress-bar-ee6685c7-c46b-4d2e-9ba6-8bf82eaea0cb').val('25')"
       ],
       "metadata": {},
       "output_type": "display_data",
       "text": [
        "<IPython.core.display.Javascript at 0x10d687b10>"
       ]
      },
      {
       "javascript": [
        "jQuery('#progress-bar-ee6685c7-c46b-4d2e-9ba6-8bf82eaea0cb').val('30')"
       ],
       "metadata": {},
       "output_type": "display_data",
       "text": [
        "<IPython.core.display.Javascript at 0x10d4c6090>"
       ]
      },
      {
       "javascript": [
        "jQuery('#progress-bar-ee6685c7-c46b-4d2e-9ba6-8bf82eaea0cb').val('35')"
       ],
       "metadata": {},
       "output_type": "display_data",
       "text": [
        "<IPython.core.display.Javascript at 0x10d4cd090>"
       ]
      },
      {
       "javascript": [
        "jQuery('#progress-bar-ee6685c7-c46b-4d2e-9ba6-8bf82eaea0cb').val('40')"
       ],
       "metadata": {},
       "output_type": "display_data",
       "text": [
        "<IPython.core.display.Javascript at 0x10d6a0ed0>"
       ]
      },
      {
       "javascript": [
        "jQuery('#progress-bar-ee6685c7-c46b-4d2e-9ba6-8bf82eaea0cb').val('45')"
       ],
       "metadata": {},
       "output_type": "display_data",
       "text": [
        "<IPython.core.display.Javascript at 0x10d69c610>"
       ]
      },
      {
       "javascript": [
        "jQuery('#progress-bar-ee6685c7-c46b-4d2e-9ba6-8bf82eaea0cb').val('50')"
       ],
       "metadata": {},
       "output_type": "display_data",
       "text": [
        "<IPython.core.display.Javascript at 0x10d4c2290>"
       ]
      },
      {
       "javascript": [
        "jQuery('#progress-bar-ee6685c7-c46b-4d2e-9ba6-8bf82eaea0cb').val('55')"
       ],
       "metadata": {},
       "output_type": "display_data",
       "text": [
        "<IPython.core.display.Javascript at 0x10d6a0fd0>"
       ]
      },
      {
       "javascript": [
        "jQuery('#progress-bar-ee6685c7-c46b-4d2e-9ba6-8bf82eaea0cb').val('60')"
       ],
       "metadata": {},
       "output_type": "display_data",
       "text": [
        "<IPython.core.display.Javascript at 0x10d69c950>"
       ]
      },
      {
       "javascript": [
        "jQuery('#progress-bar-ee6685c7-c46b-4d2e-9ba6-8bf82eaea0cb').val('65')"
       ],
       "metadata": {},
       "output_type": "display_data",
       "text": [
        "<IPython.core.display.Javascript at 0x10d4c6590>"
       ]
      },
      {
       "javascript": [
        "jQuery('#progress-bar-ee6685c7-c46b-4d2e-9ba6-8bf82eaea0cb').val('70')"
       ],
       "metadata": {},
       "output_type": "display_data",
       "text": [
        "<IPython.core.display.Javascript at 0x10d4c64d0>"
       ]
      },
      {
       "javascript": [
        "jQuery('#progress-bar-ee6685c7-c46b-4d2e-9ba6-8bf82eaea0cb').val('75')"
       ],
       "metadata": {},
       "output_type": "display_data",
       "text": [
        "<IPython.core.display.Javascript at 0x10d4cd390>"
       ]
      },
      {
       "javascript": [
        "jQuery('#progress-bar-ee6685c7-c46b-4d2e-9ba6-8bf82eaea0cb').val('80')"
       ],
       "metadata": {},
       "output_type": "display_data",
       "text": [
        "<IPython.core.display.Javascript at 0x10d4c22d0>"
       ]
      },
      {
       "javascript": [
        "jQuery('#progress-bar-ee6685c7-c46b-4d2e-9ba6-8bf82eaea0cb').val('85')"
       ],
       "metadata": {},
       "output_type": "display_data",
       "text": [
        "<IPython.core.display.Javascript at 0x10d6a0450>"
       ]
      },
      {
       "javascript": [
        "jQuery('#progress-bar-ee6685c7-c46b-4d2e-9ba6-8bf82eaea0cb').val('90')"
       ],
       "metadata": {},
       "output_type": "display_data",
       "text": [
        "<IPython.core.display.Javascript at 0x10d661c50>"
       ]
      },
      {
       "javascript": [
        "jQuery('#progress-bar-ee6685c7-c46b-4d2e-9ba6-8bf82eaea0cb').val('95')"
       ],
       "metadata": {},
       "output_type": "display_data",
       "text": [
        "<IPython.core.display.Javascript at 0x10d69ca10>"
       ]
      },
      {
       "javascript": [
        "jQuery('#progress-bar-ee6685c7-c46b-4d2e-9ba6-8bf82eaea0cb').val('100')"
       ],
       "metadata": {},
       "output_type": "display_data",
       "text": [
        "<IPython.core.display.Javascript at 0x10d4d0510>"
       ]
      },
      {
       "html": [
        "<h4>Result:</h4><ul>    <li>model: iJO1366</li>    <li>heuristic: GA</li>    <li>objective function: bpcy = (Ec_biomass_iJO1366_core_53p95M * EX_succ_LPAREN_e_RPAREN_) / EX_glc_LPAREN_e_RPAREN_</li>    <li>simulation method: fba</li>    <li>type: gene</li></ul>"
       ],
       "metadata": {},
       "output_type": "pyout",
       "prompt_number": 5,
       "text": [
        "<cameo.strain_design.heuristics.KnockoutOptimizationResult at 0x10d4c9c10>"
       ]
      }
     ],
     "prompt_number": 5
    },
    {
     "cell_type": "code",
     "collapsed": false,
     "input": [
      "r = _"
     ],
     "language": "python",
     "metadata": {},
     "outputs": [],
     "prompt_number": 6
    },
    {
     "cell_type": "code",
     "collapsed": true,
     "input": [
      "r.solutions"
     ],
     "language": "python",
     "metadata": {},
     "outputs": [
      {
       "html": [
        "<div style=\"max-height:1000px;max-width:1500px;overflow:auto;\">\n",
        "<table border=\"1\" class=\"dataframe\">\n",
        "  <thead>\n",
        "    <tr style=\"text-align: right;\">\n",
        "      <th></th>\n",
        "      <th>Biomass</th>\n",
        "      <th>EX_succ_LPAREN_e_RPAREN_</th>\n",
        "      <th>Fitness</th>\n",
        "      <th>Knockouts</th>\n",
        "    </tr>\n",
        "  </thead>\n",
        "  <tbody>\n",
        "    <tr>\n",
        "      <th>0 </th>\n",
        "      <td> 0.938880</td>\n",
        "      <td> 0.310577</td>\n",
        "      <td> 0.029159</td>\n",
        "      <td>                             [b2722, b0724, b0945]</td>\n",
        "    </tr>\n",
        "    <tr>\n",
        "      <th>1 </th>\n",
        "      <td> 0.938880</td>\n",
        "      <td> 0.310577</td>\n",
        "      <td> 0.029159</td>\n",
        "      <td>                             [b0724, b1386, b0945]</td>\n",
        "    </tr>\n",
        "    <tr>\n",
        "      <th>2 </th>\n",
        "      <td> 0.402477</td>\n",
        "      <td> 0.000000</td>\n",
        "      <td> 0.000000</td>\n",
        "      <td>               [b3734, b1200, b4036, b1250, b3621]</td>\n",
        "    </tr>\n",
        "    <tr>\n",
        "      <th>3 </th>\n",
        "      <td> 0.982372</td>\n",
        "      <td> 0.000000</td>\n",
        "      <td> 0.000000</td>\n",
        "      <td> [b3951, b3892, b3622, b0895, b3726, b0008, b31...</td>\n",
        "    </tr>\n",
        "    <tr>\n",
        "      <th>4 </th>\n",
        "      <td> 0.982372</td>\n",
        "      <td> 0.000000</td>\n",
        "      <td> 0.000000</td>\n",
        "      <td> [b0411, b1747, b1640, b1319, b1683, b3612, b07...</td>\n",
        "    </tr>\n",
        "    <tr>\n",
        "      <th>5 </th>\n",
        "      <td> 0.982372</td>\n",
        "      <td> 0.000000</td>\n",
        "      <td> 0.000000</td>\n",
        "      <td>                                           [b0805]</td>\n",
        "    </tr>\n",
        "    <tr>\n",
        "      <th>6 </th>\n",
        "      <td> 0.982372</td>\n",
        "      <td> 0.000000</td>\n",
        "      <td> 0.000000</td>\n",
        "      <td> [b2234, b1692, b0825, b1781, b2148, b1651, b0002]</td>\n",
        "    </tr>\n",
        "    <tr>\n",
        "      <th>7 </th>\n",
        "      <td> 0.873595</td>\n",
        "      <td> 0.000000</td>\n",
        "      <td> 0.000000</td>\n",
        "      <td> [b1227, b3790, b2201, b2536, b3429, b2277, b2677]</td>\n",
        "    </tr>\n",
        "    <tr>\n",
        "      <th>8 </th>\n",
        "      <td> 0.982372</td>\n",
        "      <td> 0.000000</td>\n",
        "      <td> 0.000000</td>\n",
        "      <td>               [b0832, b0123, b3380, b3739, b3117]</td>\n",
        "    </tr>\n",
        "    <tr>\n",
        "      <th>9 </th>\n",
        "      <td> 0.982372</td>\n",
        "      <td> 0.000000</td>\n",
        "      <td> 0.000000</td>\n",
        "      <td>        [b3057, b3726, b0336, b0459, b0030, b1125]</td>\n",
        "    </tr>\n",
        "    <tr>\n",
        "      <th>10</th>\n",
        "      <td> 0.982372</td>\n",
        "      <td> 0.000000</td>\n",
        "      <td> 0.000000</td>\n",
        "      <td>               [b0614, b1857, b0261, b2480, b2133]</td>\n",
        "    </tr>\n",
        "    <tr>\n",
        "      <th>11</th>\n",
        "      <td> 0.982372</td>\n",
        "      <td> 0.000000</td>\n",
        "      <td> 0.000000</td>\n",
        "      <td>                                           [b1302]</td>\n",
        "    </tr>\n",
        "    <tr>\n",
        "      <th>12</th>\n",
        "      <td> 0.982372</td>\n",
        "      <td> 0.000000</td>\n",
        "      <td> 0.000000</td>\n",
        "      <td>                                           [b1855]</td>\n",
        "    </tr>\n",
        "    <tr>\n",
        "      <th>13</th>\n",
        "      <td> 0.982372</td>\n",
        "      <td> 0.000000</td>\n",
        "      <td> 0.000000</td>\n",
        "      <td>                                    [b1640, b0930]</td>\n",
        "    </tr>\n",
        "    <tr>\n",
        "      <th>14</th>\n",
        "      <td> 0.982372</td>\n",
        "      <td> 0.000000</td>\n",
        "      <td> 0.000000</td>\n",
        "      <td>        [b1298, b0273, b3458, b0516, b3035, b1907]</td>\n",
        "    </tr>\n",
        "    <tr>\n",
        "      <th>15</th>\n",
        "      <td> 0.982372</td>\n",
        "      <td> 0.000000</td>\n",
        "      <td> 0.000000</td>\n",
        "      <td> [b0311, b1243, b3475, b2927, b1857, b0595, b07...</td>\n",
        "    </tr>\n",
        "    <tr>\n",
        "      <th>16</th>\n",
        "      <td> 0.982372</td>\n",
        "      <td> 0.000000</td>\n",
        "      <td> 0.000000</td>\n",
        "      <td>                                    [b3578, b1390]</td>\n",
        "    </tr>\n",
        "    <tr>\n",
        "      <th>17</th>\n",
        "      <td> 0.982372</td>\n",
        "      <td> 0.000000</td>\n",
        "      <td> 0.000000</td>\n",
        "      <td>                                    [b1198, b3567]</td>\n",
        "    </tr>\n",
        "    <tr>\n",
        "      <th>18</th>\n",
        "      <td> 0.977113</td>\n",
        "      <td> 0.000000</td>\n",
        "      <td> 0.000000</td>\n",
        "      <td>        [b1227, b0123, b3844, b2154, b2487, b0727]</td>\n",
        "    </tr>\n",
        "    <tr>\n",
        "      <th>19</th>\n",
        "      <td> 0.982372</td>\n",
        "      <td> 0.000000</td>\n",
        "      <td> 0.000000</td>\n",
        "      <td>               [b1443, b1014, b1701, b2498, b3366]</td>\n",
        "    </tr>\n",
        "    <tr>\n",
        "      <th>20</th>\n",
        "      <td> 0.982372</td>\n",
        "      <td> 0.000000</td>\n",
        "      <td> 0.000000</td>\n",
        "      <td> [b0477, b0505, b3288, b4072, b3940, b1397, b3409]</td>\n",
        "    </tr>\n",
        "    <tr>\n",
        "      <th>21</th>\n",
        "      <td> 0.982372</td>\n",
        "      <td> 0.000000</td>\n",
        "      <td> 0.000000</td>\n",
        "      <td>                                    [b3028, b0828]</td>\n",
        "    </tr>\n",
        "    <tr>\n",
        "      <th>22</th>\n",
        "      <td> 0.873595</td>\n",
        "      <td> 0.000000</td>\n",
        "      <td> 0.000000</td>\n",
        "      <td>                                    [b2286, b0653]</td>\n",
        "    </tr>\n",
        "    <tr>\n",
        "      <th>23</th>\n",
        "      <td> 0.982372</td>\n",
        "      <td> 0.000000</td>\n",
        "      <td> 0.000000</td>\n",
        "      <td>                             [b1927, b3453, b0809]</td>\n",
        "    </tr>\n",
        "    <tr>\n",
        "      <th>24</th>\n",
        "      <td> 0.982372</td>\n",
        "      <td> 0.000000</td>\n",
        "      <td> 0.000000</td>\n",
        "      <td>        [b2917, b1386, b2677, b3823, b2923, b3385]</td>\n",
        "    </tr>\n",
        "    <tr>\n",
        "      <th>25</th>\n",
        "      <td> 0.982372</td>\n",
        "      <td> 0.000000</td>\n",
        "      <td> 0.000000</td>\n",
        "      <td>                                           [b1363]</td>\n",
        "    </tr>\n",
        "    <tr>\n",
        "      <th>26</th>\n",
        "      <td> 0.956691</td>\n",
        "      <td> 0.000000</td>\n",
        "      <td> 0.000000</td>\n",
        "      <td>                      [b1746, b2540, b0721, b0810]</td>\n",
        "    </tr>\n",
        "    <tr>\n",
        "      <th>27</th>\n",
        "      <td> 0.982372</td>\n",
        "      <td> 0.000000</td>\n",
        "      <td> 0.000000</td>\n",
        "      <td> [b2488, b2291, b0480, b1646, b3940, b1388, b1612]</td>\n",
        "    </tr>\n",
        "    <tr>\n",
        "      <th>28</th>\n",
        "      <td> 0.982372</td>\n",
        "      <td> 0.000000</td>\n",
        "      <td> 0.000000</td>\n",
        "      <td>                             [b3432, b4383, b0158]</td>\n",
        "    </tr>\n",
        "    <tr>\n",
        "      <th>29</th>\n",
        "      <td> 0.982372</td>\n",
        "      <td> 0.000000</td>\n",
        "      <td> 0.000000</td>\n",
        "      <td>                                           [b4233]</td>\n",
        "    </tr>\n",
        "    <tr>\n",
        "      <th>...</th>\n",
        "      <td>...</td>\n",
        "      <td>...</td>\n",
        "      <td>...</td>\n",
        "      <td>...</td>\n",
        "    </tr>\n",
        "    <tr>\n",
        "      <th>70</th>\n",
        "      <td> 0.982372</td>\n",
        "      <td> 0.000000</td>\n",
        "      <td> 0.000000</td>\n",
        "      <td>                                           [b2810]</td>\n",
        "    </tr>\n",
        "    <tr>\n",
        "      <th>71</th>\n",
        "      <td> 0.982372</td>\n",
        "      <td> 0.000000</td>\n",
        "      <td> 0.000000</td>\n",
        "      <td>                                    [b3385, b0418]</td>\n",
        "    </tr>\n",
        "    <tr>\n",
        "      <th>72</th>\n",
        "      <td> 0.982372</td>\n",
        "      <td> 0.000000</td>\n",
        "      <td> 0.000000</td>\n",
        "      <td> [b3951, b2947, b3892, b2463, b2393, b3726, b00...</td>\n",
        "    </tr>\n",
        "    <tr>\n",
        "      <th>73</th>\n",
        "      <td> 0.982372</td>\n",
        "      <td> 0.000000</td>\n",
        "      <td> 0.000000</td>\n",
        "      <td> [b4471, b1388, b0480, b0198, b1646, b0207, b0698]</td>\n",
        "    </tr>\n",
        "    <tr>\n",
        "      <th>74</th>\n",
        "      <td> 0.982372</td>\n",
        "      <td> 0.000000</td>\n",
        "      <td> 0.000000</td>\n",
        "      <td>               [b3583, b1612, b3940, b4054, b2147]</td>\n",
        "    </tr>\n",
        "    <tr>\n",
        "      <th>75</th>\n",
        "      <td> 0.982372</td>\n",
        "      <td> 0.000000</td>\n",
        "      <td> 0.000000</td>\n",
        "      <td>                             [b0509, b2256, b1270]</td>\n",
        "    </tr>\n",
        "    <tr>\n",
        "      <th>76</th>\n",
        "      <td> 0.982372</td>\n",
        "      <td> 0.000000</td>\n",
        "      <td> 0.000000</td>\n",
        "      <td>                                           [b2464]</td>\n",
        "    </tr>\n",
        "    <tr>\n",
        "      <th>77</th>\n",
        "      <td> 0.982372</td>\n",
        "      <td> 0.000000</td>\n",
        "      <td> 0.000000</td>\n",
        "      <td>                      [b3583, b0207, b4054, b0698]</td>\n",
        "    </tr>\n",
        "    <tr>\n",
        "      <th>78</th>\n",
        "      <td> 0.982372</td>\n",
        "      <td> 0.000000</td>\n",
        "      <td> 0.000000</td>\n",
        "      <td>                                           [b0425]</td>\n",
        "    </tr>\n",
        "    <tr>\n",
        "      <th>79</th>\n",
        "      <td> 0.982372</td>\n",
        "      <td> 0.000000</td>\n",
        "      <td> 0.000000</td>\n",
        "      <td>                                           [b1465]</td>\n",
        "    </tr>\n",
        "    <tr>\n",
        "      <th>80</th>\n",
        "      <td> 0.982372</td>\n",
        "      <td> 0.000000</td>\n",
        "      <td> 0.000000</td>\n",
        "      <td>                                           [b0092]</td>\n",
        "    </tr>\n",
        "    <tr>\n",
        "      <th>81</th>\n",
        "      <td> 0.982372</td>\n",
        "      <td> 0.000000</td>\n",
        "      <td> 0.000000</td>\n",
        "      <td>                                           [b0063]</td>\n",
        "    </tr>\n",
        "    <tr>\n",
        "      <th>82</th>\n",
        "      <td> 0.982372</td>\n",
        "      <td> 0.000000</td>\n",
        "      <td> 0.000000</td>\n",
        "      <td>                                           [b2552]</td>\n",
        "    </tr>\n",
        "    <tr>\n",
        "      <th>83</th>\n",
        "      <td> 0.982372</td>\n",
        "      <td> 0.000000</td>\n",
        "      <td> 0.000000</td>\n",
        "      <td>                                           [b3417]</td>\n",
        "    </tr>\n",
        "    <tr>\n",
        "      <th>84</th>\n",
        "      <td> 0.982372</td>\n",
        "      <td> 0.000000</td>\n",
        "      <td> 0.000000</td>\n",
        "      <td>                                           [b2134]</td>\n",
        "    </tr>\n",
        "    <tr>\n",
        "      <th>85</th>\n",
        "      <td> 0.982372</td>\n",
        "      <td> 0.000000</td>\n",
        "      <td> 0.000000</td>\n",
        "      <td>                                           [b2048]</td>\n",
        "    </tr>\n",
        "    <tr>\n",
        "      <th>86</th>\n",
        "      <td> 0.982372</td>\n",
        "      <td> 0.000000</td>\n",
        "      <td> 0.000000</td>\n",
        "      <td>                                           [b1010]</td>\n",
        "    </tr>\n",
        "    <tr>\n",
        "      <th>87</th>\n",
        "      <td> 0.982372</td>\n",
        "      <td> 0.000000</td>\n",
        "      <td> 0.000000</td>\n",
        "      <td>                                           [b0388]</td>\n",
        "    </tr>\n",
        "    <tr>\n",
        "      <th>88</th>\n",
        "      <td> 0.982372</td>\n",
        "      <td> 0.000000</td>\n",
        "      <td> 0.000000</td>\n",
        "      <td>                                           [b1441]</td>\n",
        "    </tr>\n",
        "    <tr>\n",
        "      <th>89</th>\n",
        "      <td> 0.982372</td>\n",
        "      <td> 0.000000</td>\n",
        "      <td> 0.000000</td>\n",
        "      <td>                                           [b0099]</td>\n",
        "    </tr>\n",
        "    <tr>\n",
        "      <th>90</th>\n",
        "      <td> 0.982357</td>\n",
        "      <td> 0.000000</td>\n",
        "      <td> 0.000000</td>\n",
        "      <td>                                           [b2979]</td>\n",
        "    </tr>\n",
        "    <tr>\n",
        "      <th>91</th>\n",
        "      <td> 0.982372</td>\n",
        "      <td> 0.000000</td>\n",
        "      <td> 0.000000</td>\n",
        "      <td>                                           [b3428]</td>\n",
        "    </tr>\n",
        "    <tr>\n",
        "      <th>92</th>\n",
        "      <td> 0.982372</td>\n",
        "      <td> 0.000000</td>\n",
        "      <td> 0.000000</td>\n",
        "      <td>                                           [b1759]</td>\n",
        "    </tr>\n",
        "    <tr>\n",
        "      <th>93</th>\n",
        "      <td> 0.982372</td>\n",
        "      <td> 0.000000</td>\n",
        "      <td> 0.000000</td>\n",
        "      <td>                                           [b3793]</td>\n",
        "    </tr>\n",
        "    <tr>\n",
        "      <th>94</th>\n",
        "      <td> 0.982372</td>\n",
        "      <td> 0.000000</td>\n",
        "      <td> 0.000000</td>\n",
        "      <td>                                           [b3478]</td>\n",
        "    </tr>\n",
        "    <tr>\n",
        "      <th>95</th>\n",
        "      <td> 0.982372</td>\n",
        "      <td> 0.000000</td>\n",
        "      <td> 0.000000</td>\n",
        "      <td>                                           [b1714]</td>\n",
        "    </tr>\n",
        "    <tr>\n",
        "      <th>96</th>\n",
        "      <td> 0.982372</td>\n",
        "      <td> 0.000000</td>\n",
        "      <td> 0.000000</td>\n",
        "      <td>                                           [b1991]</td>\n",
        "    </tr>\n",
        "    <tr>\n",
        "      <th>97</th>\n",
        "      <td> 0.982372</td>\n",
        "      <td> 0.000000</td>\n",
        "      <td> 0.000000</td>\n",
        "      <td>               [b1227, b2149, b3541, b3115, b0238]</td>\n",
        "    </tr>\n",
        "    <tr>\n",
        "      <th>98</th>\n",
        "      <td> 0.982372</td>\n",
        "      <td> 0.000000</td>\n",
        "      <td> 0.000000</td>\n",
        "      <td>                                           [b3794]</td>\n",
        "    </tr>\n",
        "    <tr>\n",
        "      <th>99</th>\n",
        "      <td> 0.982372</td>\n",
        "      <td> 0.000000</td>\n",
        "      <td> 0.000000</td>\n",
        "      <td>                                           [b3631]</td>\n",
        "    </tr>\n",
        "  </tbody>\n",
        "</table>\n",
        "<p>100 rows \u00d7 4 columns</p>\n",
        "</div>"
       ],
       "metadata": {},
       "output_type": "pyout",
       "prompt_number": 7,
       "text": [
        "     Biomass  EX_succ_LPAREN_e_RPAREN_   Fitness  \\\n",
        "0   0.938880                  0.310577  0.029159   \n",
        "1   0.938880                  0.310577  0.029159   \n",
        "2   0.402477                  0.000000  0.000000   \n",
        "3   0.982372                  0.000000  0.000000   \n",
        "4   0.982372                  0.000000  0.000000   \n",
        "5   0.982372                  0.000000  0.000000   \n",
        "6   0.982372                  0.000000  0.000000   \n",
        "7   0.873595                  0.000000  0.000000   \n",
        "8   0.982372                  0.000000  0.000000   \n",
        "9   0.982372                  0.000000  0.000000   \n",
        "10  0.982372                  0.000000  0.000000   \n",
        "11  0.982372                  0.000000  0.000000   \n",
        "12  0.982372                  0.000000  0.000000   \n",
        "13  0.982372                  0.000000  0.000000   \n",
        "14  0.982372                  0.000000  0.000000   \n",
        "15  0.982372                  0.000000  0.000000   \n",
        "16  0.982372                  0.000000  0.000000   \n",
        "17  0.982372                  0.000000  0.000000   \n",
        "18  0.977113                  0.000000  0.000000   \n",
        "19  0.982372                  0.000000  0.000000   \n",
        "20  0.982372                  0.000000  0.000000   \n",
        "21  0.982372                  0.000000  0.000000   \n",
        "22  0.873595                  0.000000  0.000000   \n",
        "23  0.982372                  0.000000  0.000000   \n",
        "24  0.982372                  0.000000  0.000000   \n",
        "25  0.982372                  0.000000  0.000000   \n",
        "26  0.956691                  0.000000  0.000000   \n",
        "27  0.982372                  0.000000  0.000000   \n",
        "28  0.982372                  0.000000  0.000000   \n",
        "29  0.982372                  0.000000  0.000000   \n",
        "..       ...                       ...       ...   \n",
        "70  0.982372                  0.000000  0.000000   \n",
        "71  0.982372                  0.000000  0.000000   \n",
        "72  0.982372                  0.000000  0.000000   \n",
        "73  0.982372                  0.000000  0.000000   \n",
        "74  0.982372                  0.000000  0.000000   \n",
        "75  0.982372                  0.000000  0.000000   \n",
        "76  0.982372                  0.000000  0.000000   \n",
        "77  0.982372                  0.000000  0.000000   \n",
        "78  0.982372                  0.000000  0.000000   \n",
        "79  0.982372                  0.000000  0.000000   \n",
        "80  0.982372                  0.000000  0.000000   \n",
        "81  0.982372                  0.000000  0.000000   \n",
        "82  0.982372                  0.000000  0.000000   \n",
        "83  0.982372                  0.000000  0.000000   \n",
        "84  0.982372                  0.000000  0.000000   \n",
        "85  0.982372                  0.000000  0.000000   \n",
        "86  0.982372                  0.000000  0.000000   \n",
        "87  0.982372                  0.000000  0.000000   \n",
        "88  0.982372                  0.000000  0.000000   \n",
        "89  0.982372                  0.000000  0.000000   \n",
        "90  0.982357                  0.000000  0.000000   \n",
        "91  0.982372                  0.000000  0.000000   \n",
        "92  0.982372                  0.000000  0.000000   \n",
        "93  0.982372                  0.000000  0.000000   \n",
        "94  0.982372                  0.000000  0.000000   \n",
        "95  0.982372                  0.000000  0.000000   \n",
        "96  0.982372                  0.000000  0.000000   \n",
        "97  0.982372                  0.000000  0.000000   \n",
        "98  0.982372                  0.000000  0.000000   \n",
        "99  0.982372                  0.000000  0.000000   \n",
        "\n",
        "                                            Knockouts  \n",
        "0                               [b2722, b0724, b0945]  \n",
        "1                               [b0724, b1386, b0945]  \n",
        "2                 [b3734, b1200, b4036, b1250, b3621]  \n",
        "3   [b3951, b3892, b3622, b0895, b3726, b0008, b31...  \n",
        "4   [b0411, b1747, b1640, b1319, b1683, b3612, b07...  \n",
        "5                                             [b0805]  \n",
        "6   [b2234, b1692, b0825, b1781, b2148, b1651, b0002]  \n",
        "7   [b1227, b3790, b2201, b2536, b3429, b2277, b2677]  \n",
        "8                 [b0832, b0123, b3380, b3739, b3117]  \n",
        "9          [b3057, b3726, b0336, b0459, b0030, b1125]  \n",
        "10                [b0614, b1857, b0261, b2480, b2133]  \n",
        "11                                            [b1302]  \n",
        "12                                            [b1855]  \n",
        "13                                     [b1640, b0930]  \n",
        "14         [b1298, b0273, b3458, b0516, b3035, b1907]  \n",
        "15  [b0311, b1243, b3475, b2927, b1857, b0595, b07...  \n",
        "16                                     [b3578, b1390]  \n",
        "17                                     [b1198, b3567]  \n",
        "18         [b1227, b0123, b3844, b2154, b2487, b0727]  \n",
        "19                [b1443, b1014, b1701, b2498, b3366]  \n",
        "20  [b0477, b0505, b3288, b4072, b3940, b1397, b3409]  \n",
        "21                                     [b3028, b0828]  \n",
        "22                                     [b2286, b0653]  \n",
        "23                              [b1927, b3453, b0809]  \n",
        "24         [b2917, b1386, b2677, b3823, b2923, b3385]  \n",
        "25                                            [b1363]  \n",
        "26                       [b1746, b2540, b0721, b0810]  \n",
        "27  [b2488, b2291, b0480, b1646, b3940, b1388, b1612]  \n",
        "28                              [b3432, b4383, b0158]  \n",
        "29                                            [b4233]  \n",
        "..                                                ...  \n",
        "70                                            [b2810]  \n",
        "71                                     [b3385, b0418]  \n",
        "72  [b3951, b2947, b3892, b2463, b2393, b3726, b00...  \n",
        "73  [b4471, b1388, b0480, b0198, b1646, b0207, b0698]  \n",
        "74                [b3583, b1612, b3940, b4054, b2147]  \n",
        "75                              [b0509, b2256, b1270]  \n",
        "76                                            [b2464]  \n",
        "77                       [b3583, b0207, b4054, b0698]  \n",
        "78                                            [b0425]  \n",
        "79                                            [b1465]  \n",
        "80                                            [b0092]  \n",
        "81                                            [b0063]  \n",
        "82                                            [b2552]  \n",
        "83                                            [b3417]  \n",
        "84                                            [b2134]  \n",
        "85                                            [b2048]  \n",
        "86                                            [b1010]  \n",
        "87                                            [b0388]  \n",
        "88                                            [b1441]  \n",
        "89                                            [b0099]  \n",
        "90                                            [b2979]  \n",
        "91                                            [b3428]  \n",
        "92                                            [b1759]  \n",
        "93                                            [b3793]  \n",
        "94                                            [b3478]  \n",
        "95                                            [b1714]  \n",
        "96                                            [b1991]  \n",
        "97                [b1227, b2149, b3541, b3115, b0238]  \n",
        "98                                            [b3794]  \n",
        "99                                            [b3631]  \n",
        "\n",
        "[100 rows x 4 columns]"
       ]
      }
     ],
     "prompt_number": 7
    },
    {
     "cell_type": "code",
     "collapsed": false,
     "input": [
      "r._repr_html_()"
     ],
     "language": "python",
     "metadata": {},
     "outputs": [
      {
       "ename": "AttributeError",
       "evalue": "'function' object has no attribute 'name'",
       "output_type": "pyerr",
       "traceback": [
        "\u001b[0;31m---------------------------------------------------------------------------\u001b[0m\n\u001b[0;31mAttributeError\u001b[0m                            Traceback (most recent call last)",
        "\u001b[0;32m<ipython-input-14-df7a1993803e>\u001b[0m in \u001b[0;36m<module>\u001b[0;34m()\u001b[0m\n\u001b[0;32m----> 1\u001b[0;31m \u001b[0mr\u001b[0m\u001b[0;34m.\u001b[0m\u001b[0m_repr_html_\u001b[0m\u001b[0;34m(\u001b[0m\u001b[0;34m)\u001b[0m\u001b[0;34m\u001b[0m\u001b[0m\n\u001b[0m",
        "\u001b[0;32m/Users/joao/Documents/repos/cameo/cameo/strain_design/heuristics/__init__.py\u001b[0m in \u001b[0;36m_repr_html_\u001b[0;34m(self)\u001b[0m\n\u001b[1;32m    369\u001b[0m                   \u001b[0;34m\"    <li>objective function: \"\u001b[0m \u001b[0;34m+\u001b[0m \u001b[0;34m\"|\"\u001b[0m\u001b[0;34m.\u001b[0m\u001b[0mjoin\u001b[0m\u001b[0;34m(\u001b[0m\u001b[0;34m[\u001b[0m\u001b[0mo\u001b[0m\u001b[0;34m.\u001b[0m\u001b[0mname\u001b[0m \u001b[0;32mfor\u001b[0m \u001b[0mo\u001b[0m \u001b[0;32min\u001b[0m \u001b[0mself\u001b[0m\u001b[0;34m.\u001b[0m\u001b[0mobjective_functions\u001b[0m\u001b[0;34m]\u001b[0m\u001b[0;34m)\u001b[0m \u001b[0;34m+\u001b[0m \u001b[0;34m\"</li>\"\u001b[0m\u001b[0;31m \u001b[0m\u001b[0;31m\\\u001b[0m\u001b[0;34m\u001b[0m\u001b[0m\n\u001b[1;32m    370\u001b[0m                   \u001b[0;34m\"    <li>simulation method: \"\u001b[0m \u001b[0;34m+\u001b[0m \u001b[0mself\u001b[0m\u001b[0;34m.\u001b[0m\u001b[0msimulation_method\u001b[0m\u001b[0;34m.\u001b[0m\u001b[0m__name__\u001b[0m \u001b[0;34m+\u001b[0m \u001b[0;34m\"</li>\"\u001b[0m\u001b[0;31m \u001b[0m\u001b[0;31m\\\u001b[0m\u001b[0;34m\u001b[0m\u001b[0m\n\u001b[0;32m--> 371\u001b[0;31m                   \u001b[0;34m\"    <li>type: \"\u001b[0m \u001b[0;34m+\u001b[0m \u001b[0mself\u001b[0m\u001b[0;34m.\u001b[0m\u001b[0mko_type\u001b[0m \u001b[0;34m+\u001b[0m \u001b[0;34m\"</li>\"\u001b[0m\u001b[0;31m \u001b[0m\u001b[0;31m\\\u001b[0m\u001b[0;34m\u001b[0m\u001b[0m\n\u001b[0m\u001b[1;32m    372\u001b[0m                   \u001b[0;34m\"</ul>\"\u001b[0m\u001b[0;31m \u001b[0m\u001b[0;31m\\\u001b[0m\u001b[0;34m\u001b[0m\u001b[0m\n\u001b[1;32m    373\u001b[0m \u001b[0;34m\u001b[0m\u001b[0m\n",
        "\u001b[0;31mAttributeError\u001b[0m: 'function' object has no attribute 'name'"
       ]
      }
     ],
     "prompt_number": 14
    },
    {
     "cell_type": "code",
     "collapsed": false,
     "input": [],
     "language": "python",
     "metadata": {},
     "outputs": []
    }
   ],
   "metadata": {}
  }
 ]
}