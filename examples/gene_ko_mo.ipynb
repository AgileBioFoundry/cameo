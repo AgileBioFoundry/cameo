{
 "metadata": {
  "name": "",
  "signature": "sha256:2e814a61cff7b01e457628a2e2eec74466a39d915a05216c52538d22588018f7"
 },
 "nbformat": 3,
 "nbformat_minor": 0,
 "worksheets": [
  {
   "cells": [
    {
     "cell_type": "code",
     "collapsed": false,
     "input": [
      "%load_ext autoreload\n",
      "%autoreload 2"
     ],
     "language": "python",
     "metadata": {},
     "outputs": [],
     "prompt_number": 1
    },
    {
     "cell_type": "code",
     "collapsed": false,
     "input": [
      "%matplotlib inline"
     ],
     "language": "python",
     "metadata": {},
     "outputs": [],
     "prompt_number": 2
    },
    {
     "cell_type": "code",
     "collapsed": false,
     "input": [
      "from cameo.strain_design.heuristics import GeneKnockoutOptimization\n",
      "from cameo import load_model\n",
      "from cameo.strain_design.heuristics.objective_functions import bpcy, product_yield, number_of_knockouts\n",
      "from cameo.flux_analysis.simulation import fba\n",
      "from cameo.solver_based_model import to_solver_based_model\n",
      "from cobra.io import read_sbml_model\n",
      "from optlang import cplex_interface, glpk_interface\n",
      "import cameo\n",
      "import inspyred\n",
      "from random import Random"
     ],
     "language": "python",
     "metadata": {},
     "outputs": [
      {
       "output_type": "stream",
       "stream": "stderr",
       "text": [
        "/Users/joao/.virtualenvs/cameo-env/lib/python2.7/site-packages/pandas/io/excel.py:626 \u001b[1;31mUserWarning\u001b[0m: Installed openpyxl is not supported at this time. Use >=1.6.1 and <2.0.0.\n",
        "/Users/joao/Documents/repos/optlang/optlang/cplex_interface.py:24 \u001b[1;31mUserWarning\u001b[0m: Be careful! The CPLEX interface is still under construction ...\n"
       ]
      }
     ],
     "prompt_number": 3
    },
    {
     "cell_type": "code",
     "collapsed": false,
     "input": [
      "model = read_sbml_model(\"../tests/data/iJO1366.xml\")\n",
      "model = to_solver_based_model(model, solver_interface=glpk_interface)"
     ],
     "language": "python",
     "metadata": {},
     "outputs": [],
     "prompt_number": 4
    },
    {
     "cell_type": "code",
     "collapsed": false,
     "input": [
      "of1 = product_yield(\"EX_ac_LPAREN_e_RPAREN_\", \"EX_glc_LPAREN_e_RPAREN_\")\n",
      "of2 = number_of_knockouts()\n",
      "of3 = bpcy(\"Ec_biomass_iJO1366_core_53p95M\", \"EX_ac_LPAREN_e_RPAREN_\", \"EX_glc_LPAREN_e_RPAREN_\")"
     ],
     "language": "python",
     "metadata": {},
     "outputs": [],
     "prompt_number": 5
    },
    {
     "cell_type": "code",
     "collapsed": false,
     "input": [
      "ko = GeneKnockoutOptimization(model=model, objective_function=[of1, of2, of3],\n",
      "                                  simulation_method=fba, heuristic_method=inspyred.ec.emo.NSGA2)"
     ],
     "language": "python",
     "metadata": {},
     "outputs": [
      {
       "output_type": "stream",
       "stream": "stderr",
       "text": [
        "[autoreload of cameo.strain_design.heuristics failed: Traceback (most recent call last):\n",
        "  File \"/Users/joao/.virtualenvs/cameo-env/lib/python2.7/site-packages/IPython/extensions/autoreload.py\", line 247, in check\n",
        "    superreload(m, reload, self.old_objects)\n",
        "ImportError: cannot import name archivers\n",
        "]\n"
       ]
      }
     ],
     "prompt_number": 11
    },
    {
     "cell_type": "code",
     "collapsed": false,
     "input": [
      "ko.run(max_evaluations=50000, n=10, mutation_rate=0.3, popultation_size=100)"
     ],
     "language": "python",
     "metadata": {},
     "outputs": [
      {
       "output_type": "stream",
       "stream": "stdout",
       "text": [
        "found config for http://localhost:5006/\n",
        "{}\n",
        "loading it!\n",
        "if you don't wish to load this config, please pass load_from_config=False\n"
       ]
      },
      {
       "html": [
        "<p>Connecting notebook to document \"a1c55751-fd34-11e3-aeb4-d0e1408cfa06\" at server http://localhost:5006/</p>"
       ],
       "metadata": {},
       "output_type": "display_data"
      },
      {
       "html": [
        "<script src=\"http://localhost:5006//bokeh/embed.js\" bokeh_plottype=\"serverconn\"\n",
        "        bokeh_docid=\"ddae68ca-99b9-4e86-b96d-69e5442fc078\" bokeh_ws_conn_string=\"ws://localhost:5006/bokeh/sub\"\n",
        "        bokeh_docapikey=\"2512cb7d-3b02-4a96-b1bc-082ef5d21a49\" bokeh_root_url=\"http://localhost:5006/\"\n",
        "        bokeh_modelid=\"729ac316-38e1-4b61-af47-2c6c095f41e3\" bokeh_modeltype=\"Plot\" async=\"true\"></script>\n",
        "        "
       ],
       "metadata": {},
       "output_type": "display_data"
      },
      {
       "output_type": "stream",
       "stream": "stderr",
       "text": [
        "ERROR:cameo.strain_design.heuristics:infeasible\n",
        "Traceback (most recent call last):\n",
        "  File \"/Users/joao/Documents/repos/cameo/cameo/strain_design/heuristics/__init__.py\", line 213, in evaluate_individual\n",
        "    solution = self.simulation_method(self.model)\n",
        "  File \"/Users/joao/Documents/repos/cameo/cameo/flux_analysis/simulation.py\", line 25, in fba\n",
        "    solution = model.solve()\n",
        "  File \"/Users/joao/Documents/repos/cameo/cameo/solver_based_model.py\", line 394, in solve\n",
        "    raise Exception(solution.status)\n",
        "Exception: infeasible\n"
       ]
      },
      {
       "output_type": "stream",
       "stream": "stderr",
       "text": [
        "ERROR:cameo.strain_design.heuristics:infeasible\n",
        "Traceback (most recent call last):\n",
        "  File \"/Users/joao/Documents/repos/cameo/cameo/strain_design/heuristics/__init__.py\", line 213, in evaluate_individual\n",
        "    solution = self.simulation_method(self.model)\n",
        "  File \"/Users/joao/Documents/repos/cameo/cameo/flux_analysis/simulation.py\", line 25, in fba\n",
        "    solution = model.solve()\n",
        "  File \"/Users/joao/Documents/repos/cameo/cameo/solver_based_model.py\", line 394, in solve\n",
        "    raise Exception(solution.status)\n",
        "Exception: infeasible\n"
       ]
      },
      {
       "output_type": "stream",
       "stream": "stderr",
       "text": [
        "ERROR:cameo.strain_design.heuristics:infeasible\n",
        "Traceback (most recent call last):\n",
        "  File \"/Users/joao/Documents/repos/cameo/cameo/strain_design/heuristics/__init__.py\", line 213, in evaluate_individual\n",
        "    solution = self.simulation_method(self.model)\n",
        "  File \"/Users/joao/Documents/repos/cameo/cameo/flux_analysis/simulation.py\", line 25, in fba\n",
        "    solution = model.solve()\n",
        "  File \"/Users/joao/Documents/repos/cameo/cameo/solver_based_model.py\", line 394, in solve\n",
        "    raise Exception(solution.status)\n",
        "Exception: infeasible\n"
       ]
      },
      {
       "output_type": "stream",
       "stream": "stderr",
       "text": [
        "ERROR:cameo.strain_design.heuristics:infeasible\n",
        "Traceback (most recent call last):\n",
        "  File \"/Users/joao/Documents/repos/cameo/cameo/strain_design/heuristics/__init__.py\", line 213, in evaluate_individual\n",
        "    solution = self.simulation_method(self.model)\n",
        "  File \"/Users/joao/Documents/repos/cameo/cameo/flux_analysis/simulation.py\", line 25, in fba\n",
        "    solution = model.solve()\n",
        "  File \"/Users/joao/Documents/repos/cameo/cameo/solver_based_model.py\", line 394, in solve\n",
        "    raise Exception(solution.status)\n",
        "Exception: infeasible\n"
       ]
      },
      {
       "output_type": "stream",
       "stream": "stderr",
       "text": [
        "ERROR:cameo.strain_design.heuristics:infeasible\n",
        "Traceback (most recent call last):\n",
        "  File \"/Users/joao/Documents/repos/cameo/cameo/strain_design/heuristics/__init__.py\", line 213, in evaluate_individual\n",
        "    solution = self.simulation_method(self.model)\n",
        "  File \"/Users/joao/Documents/repos/cameo/cameo/flux_analysis/simulation.py\", line 25, in fba\n",
        "    solution = model.solve()\n",
        "  File \"/Users/joao/Documents/repos/cameo/cameo/solver_based_model.py\", line 394, in solve\n",
        "    raise Exception(solution.status)\n",
        "Exception: infeasible\n"
       ]
      },
      {
       "html": [
        "<h4>Result:</h4><ul>    <li>model: iJO1366</li>    <li>heuristic: NSGA2</li>    <li>objective function: yield = (EX_ac_LPAREN_e_RPAREN_ / EX_glc_LPAREN_e_RPAREN_)|min #knockouts</li>    <li>simulation method: fba</li>    <li>type:gene</li></ul><h4>Solutions:</h4><table>   <thead>       <tr>           <th>Knockouts</th>           <th>Fitness</th>           <th>Biomass</th>       </tr>   </thead>   <tbody>       <tr>    <td>b3738</td>    <td>[1.394293, 1.0]</td>    <td>0.402477301491</td></tr>\n",
        "<tr>    <td>b3733</td>    <td>[1.394293, 1.0]</td>    <td>0.402477301491</td></tr>\n",
        "<tr>    <td>b3734</td>    <td>[1.394293, 1.0]</td>    <td>0.402477301491</td></tr>\n",
        "<tr>    <td>b3737</td>    <td>[1.394293, 1.0]</td>    <td>0.402477301491</td></tr>\n",
        "<tr>    <td>b3736</td>    <td>[1.394293, 1.0]</td>    <td>0.402477301491</td></tr>\n",
        "<tr>    <td>b3735</td>    <td>[1.394293, 1.0]</td>    <td>0.402477301491</td></tr>\n",
        "<tr>    <td>b3731</td>    <td>[1.394293, 1.0]</td>    <td>0.402477301491</td></tr>\n",
        "<tr>    <td>b3732</td>    <td>[1.394293, 1.0]</td>    <td>0.402477301491</td></tr>\n",
        "<tr>    <td>b0954, b2836</td>    <td>[2.0, 0.5]</td>    <td>-1.22810751806e-28</td></tr>\n",
        "<tr>    <td>b1702, b1779, b0722</td>    <td>[2.733478, 0.333333]</td>    <td>-1.60383359646e-14</td></tr>\n",
        "<tr>    <td>b3737</td>    <td>[1.392095, 1.0]</td>    <td>0.402477301491</td></tr>\n",
        "<tr>    <td>b3734</td>    <td>[1.392095, 1.0]</td>    <td>0.402477301491</td></tr>\n",
        "<tr>    <td>b3738</td>    <td>[1.392095, 1.0]</td>    <td>0.402477301491</td></tr>\n",
        "<tr>    <td>b3733</td>    <td>[1.392095, 1.0]</td>    <td>0.402477301491</td></tr>\n",
        "<tr>    <td>b3736</td>    <td>[1.392095, 1.0]</td>    <td>0.402477301491</td></tr>\n",
        "<tr>    <td>b3731</td>    <td>[1.392095, 1.0]</td>    <td>0.402477301491</td></tr>\n",
        "<tr>    <td>b3735</td>    <td>[1.392095, 1.0]</td>    <td>0.402477301491</td></tr>\n",
        "<tr>    <td>b3732</td>    <td>[1.392095, 1.0]</td>    <td>0.402477301491</td></tr>\n",
        "<tr>    <td>b0954, b2836</td>    <td>[1.938427, 0.5]</td>    <td>-4.74578720581e-27</td></tr>\n",
        "<tr>    <td>b0954, b2836, b3475</td>    <td>[2.704615, 0.333333]</td>    <td>-4.74578720581e-27</td></tr>\n",
        "<tr>    <td>b3738</td>    <td>[1.392046, 1.0]</td>    <td>0.402477301491</td></tr>\n",
        "<tr>    <td>b3737</td>    <td>[1.392046, 1.0]</td>    <td>0.402477301491</td></tr>\n",
        "<tr>    <td>b3736</td>    <td>[1.392046, 1.0]</td>    <td>0.402477301491</td></tr>\n",
        "<tr>    <td>b3733</td>    <td>[1.392046, 1.0]</td>    <td>0.402477301491</td></tr>\n",
        "<tr>    <td>b3732</td>    <td>[1.392046, 1.0]</td>    <td>0.402477301491</td></tr>\n",
        "<tr>    <td>b3735</td>    <td>[1.392046, 1.0]</td>    <td>0.402477301491</td></tr>\n",
        "<tr>    <td>b3731</td>    <td>[1.392046, 1.0]</td>    <td>0.402477301491</td></tr>\n",
        "<tr>    <td>b3734</td>    <td>[1.392046, 1.0]</td>    <td>0.402477301491</td></tr>\n",
        "<tr>    <td>b0954, b2836</td>    <td>[1.898519, 0.5]</td>    <td>-2.82727748431e-27</td></tr>\n",
        "<tr>    <td>b1702, b1779, b0722</td>    <td>[2.69, 0.333333]</td>    <td>2.07116504649e-14</td></tr>\n",
        "<tr>    <td>b1779, b0954, b2836</td>    <td>[2.624737, 0.333333]</td>    <td>0.0</td></tr>\n",
        "<tr>    <td>b2926, b3736</td>    <td>[1.863096, 0.5]</td>    <td>0.0760207683118</td></tr>\n",
        "<tr>    <td>b2926, b3738</td>    <td>[1.863096, 0.5]</td>    <td>0.0760207683118</td></tr>\n",
        "<tr>    <td>b3734, b1779</td>    <td>[1.863096, 0.5]</td>    <td>0.0760207683117</td></tr>\n",
        "<tr>    <td>b3736, b1779</td>    <td>[1.863096, 0.5]</td>    <td>0.0760207683117</td></tr>\n",
        "<tr>    <td>b2926, b3732</td>    <td>[1.863096, 0.5]</td>    <td>0.0760207683116</td></tr>\n",
        "<tr>    <td>b3738, b1779</td>    <td>[1.863096, 0.5]</td>    <td>0.0760207683116</td></tr>\n",
        "<tr>    <td>b3731, b1779</td>    <td>[1.863096, 0.5]</td>    <td>0.0760207683116</td></tr>\n",
        "<tr>    <td>b3733, b1779</td>    <td>[1.863096, 0.5]</td>    <td>0.0760207683116</td></tr>\n",
        "<tr>    <td>b3732, b1779</td>    <td>[1.863096, 0.5]</td>    <td>0.0760207683116</td></tr>\n",
        "<tr>    <td>b3737, b1779</td>    <td>[1.863096, 0.5]</td>    <td>0.0760207683116</td></tr>\n",
        "<tr>    <td>b1779, b3732</td>    <td>[1.863096, 0.5]</td>    <td>0.0760207683116</td></tr>\n",
        "<tr>    <td>b1779, b3738</td>    <td>[1.863096, 0.5]</td>    <td>0.0760207683116</td></tr>\n",
        "<tr>    <td>b1779, b3736</td>    <td>[1.863096, 0.5]</td>    <td>0.0760207683116</td></tr>\n",
        "<tr>    <td>b3735, b1779</td>    <td>[1.863096, 0.5]</td>    <td>0.0760207683116</td></tr>\n",
        "<tr>    <td>b2926, b3733</td>    <td>[1.863096, 0.5]</td>    <td>0.0760207683116</td></tr>\n",
        "<tr>    <td>b1779, b3733</td>    <td>[1.863096, 0.5]</td>    <td>0.0760207683115</td></tr>\n",
        "<tr>    <td>b1779, b3731</td>    <td>[1.863096, 0.5]</td>    <td>0.0760207683116</td></tr>\n",
        "<tr>    <td>b2926, b3731</td>    <td>[1.863096, 0.5]</td>    <td>0.0760207683116</td></tr>\n",
        "<tr>    <td>b3734, b2926</td>    <td>[1.863096, 0.5]</td>    <td>0.0760207683116</td></tr>\n",
        "<tr>    <td>b3733, b2926</td>    <td>[1.863096, 0.5]</td>    <td>0.0760207683116</td></tr>\n",
        "<tr>    <td>b2926, b3735</td>    <td>[1.863096, 0.5]</td>    <td>0.0760207683116</td></tr>\n",
        "<tr>    <td>b3737, b2926</td>    <td>[1.863096, 0.5]</td>    <td>0.0760207683116</td></tr>\n",
        "<tr>    <td>b3732</td>    <td>[1.374293, 1.0]</td>    <td>0.402477301491</td></tr>\n",
        "<tr>    <td>b3735, b2926</td>    <td>[1.863096, 0.5]</td>    <td>0.0760207683116</td></tr>\n",
        "<tr>    <td>b3731, b2926</td>    <td>[1.863096, 0.5]</td>    <td>0.0760207683117</td></tr>\n",
        "<tr>    <td>b3738, b2926</td>    <td>[1.863096, 0.5]</td>    <td>0.0760207683117</td></tr>\n",
        "<tr>    <td>b3732, b2926</td>    <td>[1.863096, 0.5]</td>    <td>0.0760207683117</td></tr>\n",
        "<tr>    <td>b3736, b2926</td>    <td>[1.863096, 0.5]</td>    <td>0.0760207683117</td></tr>\n",
        "<tr>    <td>b1779, b3735</td>    <td>[1.863096, 0.5]</td>    <td>0.0760207683115</td></tr>\n",
        "<tr>    <td>b1702, b1779, b0722, b2222</td>    <td>[2.69, 0.25]</td>    <td>1.31096171892e-14</td></tr>\n",
        "<tr>    <td>b4374, b0954, b2836</td>    <td>[2.624737, 0.333333]</td>    <td>0.0</td></tr>\n",
        "<tr>    <td>b0261, b2037, b0954, b2836</td>    <td>[2.666667, 0.25]</td>    <td>0.0</td></tr>\n",
        "<tr>    <td>b1702, b1779, b0722</td>    <td>[2.528461, 0.333333]</td>    <td>3.4426201276e-14</td></tr>\n",
        "<tr>    <td>b2926, b3736</td>    <td>[1.859106, 0.5]</td>    <td>0.0760207683117</td></tr>\n",
        "<tr>    <td>b3734, b1779</td>    <td>[1.859106, 0.5]</td>    <td>0.0760207683115</td></tr>\n",
        "<tr>    <td>b2926, b3738</td>    <td>[1.859106, 0.5]</td>    <td>0.0760207683115</td></tr>\n",
        "<tr>    <td>b3736, b1779</td>    <td>[1.859106, 0.5]</td>    <td>0.0760207683116</td></tr>\n",
        "<tr>    <td>b3732, b1779</td>    <td>[1.859106, 0.5]</td>    <td>0.0760207683116</td></tr>\n",
        "<tr>    <td>b3738, b1779</td>    <td>[1.859106, 0.5]</td>    <td>0.0760207683116</td></tr>\n",
        "<tr>    <td>b2926, b3732</td>    <td>[1.859106, 0.5]</td>    <td>0.0760207683116</td></tr>\n",
        "<tr>    <td>b1779, b3738</td>    <td>[1.859106, 0.5]</td>    <td>0.0760207683116</td></tr>\n",
        "<tr>    <td>b1779, b3736</td>    <td>[1.859106, 0.5]</td>    <td>0.0760207683116</td></tr>\n",
        "<tr>    <td>b3737, b1779</td>    <td>[1.859106, 0.5]</td>    <td>0.0760207683116</td></tr>\n",
        "<tr>    <td>b3735, b1779</td>    <td>[1.859106, 0.5]</td>    <td>0.0760207683116</td></tr>\n",
        "<tr>    <td>b3731, b1779</td>    <td>[1.859106, 0.5]</td>    <td>0.0760207683116</td></tr>\n",
        "<tr>    <td>b1779, b3732</td>    <td>[1.859106, 0.5]</td>    <td>0.0760207683116</td></tr>\n",
        "<tr>    <td>b3733, b1779</td>    <td>[1.859106, 0.5]</td>    <td>0.0760207683116</td></tr>\n",
        "<tr>    <td>b2926, b3731</td>    <td>[1.859106, 0.5]</td>    <td>0.0760207683116</td></tr>\n",
        "<tr>    <td>b1779, b3733</td>    <td>[1.859106, 0.5]</td>    <td>0.0760207683116</td></tr>\n",
        "<tr>    <td>b2926, b3733</td>    <td>[1.859106, 0.5]</td>    <td>0.0760207683116</td></tr>\n",
        "<tr>    <td>b3738</td>    <td>[1.37429, 1.0]</td>    <td>0.402477301491</td></tr>\n",
        "<tr>    <td>b1779, b3731</td>    <td>[1.859106, 0.5]</td>    <td>0.0760207683116</td></tr>\n",
        "<tr>    <td>b2926, b3735</td>    <td>[1.859106, 0.5]</td>    <td>0.0760207683115</td></tr>\n",
        "<tr>    <td>b3732, b2926</td>    <td>[1.859106, 0.5]</td>    <td>0.0760207683115</td></tr>\n",
        "<tr>    <td>b3734, b2926</td>    <td>[1.859106, 0.5]</td>    <td>0.0760207683115</td></tr>\n",
        "<tr>    <td>b3737, b2926</td>    <td>[1.859106, 0.5]</td>    <td>0.0760207683115</td></tr>\n",
        "<tr>    <td>b3736, b2926</td>    <td>[1.859106, 0.5]</td>    <td>0.0760207683115</td></tr>\n",
        "<tr>    <td>b3731, b2926</td>    <td>[1.859106, 0.5]</td>    <td>0.0760207683115</td></tr>\n",
        "<tr>    <td>b3735, b2926</td>    <td>[1.859106, 0.5]</td>    <td>0.0760207683115</td></tr>\n",
        "<tr>    <td>b1779, b3735</td>    <td>[1.859106, 0.5]</td>    <td>0.0760207683117</td></tr>\n",
        "<tr>    <td>b3738, b2926</td>    <td>[1.859106, 0.5]</td>    <td>0.0760207683117</td></tr>\n",
        "<tr>    <td>b1702, b1779, b0722, b0242</td>    <td>[2.624737, 0.25]</td>    <td>1.33180409572e-13</td></tr>\n",
        "<tr>    <td>b1702, b1779, b0722</td>    <td>[2.5, 0.333333]</td>    <td>8.81156645207e-14</td></tr>\n",
        "<tr>    <td>b1779, b0954, b2836</td>    <td>[2.5, 0.333333]</td>    <td>-1.86210544029e-27</td></tr>\n",
        "<tr>    <td>b1817, b0954, b2836</td>    <td>[2.5, 0.333333]</td>    <td>9.59254860749e-28</td></tr>\n",
        "<tr>    <td>b0954, b2836, b3475</td>    <td>[2.5, 0.333333]</td>    <td>9.59254860749e-28</td></tr>\n",
        "<tr>    <td>b0954, b0954, b2836</td>    <td>[2.5, 0.333333]</td>    <td>9.59254860749e-28</td></tr>\n",
        "<tr>    <td>b3738</td>    <td>[1.374226, 1.0]</td>    <td>0.402477301491</td></tr>\n",
        "<tr>    <td>b2926, b3731</td>    <td>[1.85844, 0.5]</td>    <td>0.0760207683117</td></tr>   </tbody><table>"
       ],
       "metadata": {},
       "output_type": "pyout",
       "prompt_number": 10,
       "text": [
        "<cameo.strain_design.heuristics.KnockoutOptimizationResult at 0x1107e3f90>"
       ]
      }
     ],
     "prompt_number": 10
    },
    {
     "cell_type": "code",
     "collapsed": false,
     "input": [
      "_"
     ],
     "language": "python",
     "metadata": {},
     "outputs": [
      {
       "metadata": {},
       "output_type": "pyout",
       "prompt_number": 9,
       "text": [
        "''"
       ]
      }
     ],
     "prompt_number": 9
    },
    {
     "cell_type": "code",
     "collapsed": false,
     "input": [],
     "language": "python",
     "metadata": {},
     "outputs": []
    }
   ],
   "metadata": {}
  }
 ]
}