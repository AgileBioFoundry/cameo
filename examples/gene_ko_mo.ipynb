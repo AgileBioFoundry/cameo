{
 "cells": [
  {
   "cell_type": "code",
   "execution_count": null,
   "metadata": {
    "collapsed": false
   },
   "outputs": [],
   "source": [
    "%load_ext autoreload\n",
    "%autoreload 2"
   ]
  },
  {
   "cell_type": "code",
   "execution_count": null,
   "metadata": {
    "collapsed": false
   },
   "outputs": [],
   "source": [
    "%matplotlib inline"
   ]
  },
  {
   "cell_type": "markdown",
   "metadata": {},
   "source": [
    "### E. coli core model"
   ]
  },
  {
   "cell_type": "code",
   "execution_count": null,
   "metadata": {
    "collapsed": false
   },
   "outputs": [],
   "source": [
    "import cameo\n",
    "from cameo import load_model\n",
    "from cameo.strain_design.heuristic import GeneKnockoutOptimization, ReactionKnockoutOptimization\n",
    "from cameo.strain_design.heuristic.objective_functions import biomass_product_coupled_yield, product_yield, number_of_knockouts\n",
    "from cameo.flux_analysis.simulation import fba\n",
    "from cameo.parallel import SequentialView\n",
    "import inspyred"
   ]
  },
  {
   "cell_type": "code",
   "execution_count": null,
   "metadata": {
    "collapsed": false
   },
   "outputs": [],
   "source": [
    "model = load_model(\"../tests/data/EcoliCore.xml\")"
   ]
  },
  {
   "cell_type": "code",
   "execution_count": null,
   "metadata": {
    "collapsed": false
   },
   "outputs": [],
   "source": [
    "objective1 = biomass_product_coupled_yield(\n",
    "    \"Biomass_Ecoli_core_N_LPAREN_w_FSLASH_GAM_RPAREN__Nmet2\",\n",
    "    \"EX_ac_LPAREN_e_RPAREN_\",\n",
    "    \"EX_glc_LPAREN_e_RPAREN_\")\n",
    "\n",
    "objective2 = number_of_knockouts()\n",
    "objective = [objective1, objective2]"
   ]
  },
  {
   "cell_type": "code",
   "execution_count": null,
   "metadata": {
    "collapsed": false
   },
   "outputs": [],
   "source": [
    "rko = ReactionKnockoutOptimization(model=model,\n",
    "                                   simulation_method=fba,\n",
    "                                   objective_function=objective,\n",
    "                                   heuristic_method=inspyred.ec.emo.NSGA2,\n",
    "                                   seed=1234)"
   ]
  },
  {
   "cell_type": "code",
   "execution_count": null,
   "metadata": {
    "collapsed": false
   },
   "outputs": [],
   "source": [
    "results = rko.run(max_evaluations=3000, pop_size=10, view=SequentialView())"
   ]
  },
  {
   "cell_type": "code",
   "execution_count": null,
   "metadata": {
    "collapsed": false
   },
   "outputs": [],
   "source": [
    "results"
   ]
  },
  {
   "cell_type": "code",
   "execution_count": null,
   "metadata": {
    "collapsed": false
   },
   "outputs": [],
   "source": [
    "mutant = model.copy()"
   ]
  },
  {
   "cell_type": "code",
   "execution_count": null,
   "metadata": {
    "collapsed": false
   },
   "outputs": [],
   "source": [
    "mutant.reactions.PGL.knock_out()\n",
    "mutant.reactions.SUCDi.knock_out()"
   ]
  },
  {
   "cell_type": "code",
   "execution_count": null,
   "metadata": {
    "collapsed": false
   },
   "outputs": [],
   "source": [
    "mutant_fluxes = mutant.solve().x_dict"
   ]
  },
  {
   "cell_type": "code",
   "execution_count": null,
   "metadata": {
    "collapsed": false
   },
   "outputs": [],
   "source": [
    "print mutant_fluxes['Biomass_Ecoli_core_N_LPAREN_w_FSLASH_GAM_RPAREN__Nmet2']\n",
    "print mutant_fluxes['EX_ac_LPAREN_e_RPAREN_']"
   ]
  },
  {
   "cell_type": "markdown",
   "metadata": {},
   "source": [
    "### iJO1366 model"
   ]
  },
  {
   "cell_type": "code",
   "execution_count": null,
   "metadata": {
    "collapsed": false
   },
   "outputs": [],
   "source": [
    "model = load_model(\"../tests/data/iJO1366.xml\")"
   ]
  },
  {
   "cell_type": "code",
   "execution_count": null,
   "metadata": {
    "collapsed": false
   },
   "outputs": [],
   "source": [
    "of1 = product_yield(\"EX_ac_LPAREN_e_RPAREN_\", \"EX_glc_LPAREN_e_RPAREN_\")\n",
    "of2 = number_of_knockouts()\n",
    "of3 = biomass_product_coupled_yield(\"Ec_biomass_iJO1366_core_53p95M\", \"EX_ac_LPAREN_e_RPAREN_\", \"EX_glc_LPAREN_e_RPAREN_\")"
   ]
  },
  {
   "cell_type": "code",
   "execution_count": null,
   "metadata": {
    "collapsed": false
   },
   "outputs": [],
   "source": [
    "ko = GeneKnockoutOptimization(model=model, objective_function=[of1, of2, of3],\n",
    "                                  simulation_method=fba, heuristic_method=inspyred.ec.emo.NSGA2)"
   ]
  },
  {
   "cell_type": "code",
   "execution_count": null,
   "metadata": {
    "collapsed": false
   },
   "outputs": [],
   "source": [
    "ko.run(max_evaluations=5000, n=10, mutation_rate=0.3, popultation_size=100)"
   ]
  },
  {
   "cell_type": "code",
   "execution_count": null,
   "metadata": {
    "collapsed": false
   },
   "outputs": [],
   "source": []
  }
 ],
 "metadata": {
  "kernelspec": {
   "display_name": "Python 2",
   "language": "python",
   "name": "python2"
  }
 },
 "nbformat": 4,
 "nbformat_minor": 0
}
