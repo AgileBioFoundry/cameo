{
 "metadata": {
  "name": "",
  "signature": "sha256:49705b09b902933186c2a27ca43e97da8ef4eb8ce54b45c3840f0b72f7af881c"
 },
 "nbformat": 3,
 "nbformat_minor": 0,
 "worksheets": [
  {
   "cells": [
    {
     "cell_type": "code",
     "collapsed": false,
     "input": [
      "%load_ext autoreload\n",
      "%autoreload 2"
     ],
     "language": "python",
     "metadata": {},
     "outputs": [
      {
       "output_type": "stream",
       "stream": "stdout",
       "text": [
        "The autoreload extension is already loaded. To reload it, use:\n",
        "  %reload_ext autoreload\n"
       ]
      }
     ],
     "prompt_number": 1
    },
    {
     "cell_type": "code",
     "collapsed": false,
     "input": [
      "%matplotlib inline"
     ],
     "language": "python",
     "metadata": {},
     "outputs": [],
     "prompt_number": 2
    },
    {
     "cell_type": "markdown",
     "metadata": {},
     "source": [
      "### E. coli core model"
     ]
    },
    {
     "cell_type": "code",
     "collapsed": false,
     "input": [
      "import cameo\n",
      "from cameo import load_model\n",
      "from cameo.strain_design.heuristic import GeneKnockoutOptimization, ReactionKnockoutOptimization\n",
      "from cameo.strain_design.heuristic.objective_functions import biomass_product_coupled_yield, product_yield, number_of_knockouts\n",
      "from cameo.flux_analysis.simulation import fba\n",
      "from cameo.parallel import SequentialView\n",
      "import inspyred"
     ],
     "language": "python",
     "metadata": {},
     "outputs": [],
     "prompt_number": 3
    },
    {
     "cell_type": "code",
     "collapsed": false,
     "input": [
      "model = load_model(\"../tests/data/EcoliCore.xml\")"
     ],
     "language": "python",
     "metadata": {},
     "outputs": [],
     "prompt_number": 4
    },
    {
     "cell_type": "code",
     "collapsed": false,
     "input": [
      "objective1 = biomass_product_coupled_yield(\n",
      "    \"Biomass_Ecoli_core_N_LPAREN_w_FSLASH_GAM_RPAREN__Nmet2\",\n",
      "    \"EX_ac_LPAREN_e_RPAREN_\",\n",
      "    \"EX_glc_LPAREN_e_RPAREN_\")\n",
      "\n",
      "objective2 = number_of_knockouts()\n",
      "objective = [objective1, objective2]"
     ],
     "language": "python",
     "metadata": {},
     "outputs": [],
     "prompt_number": 5
    },
    {
     "cell_type": "code",
     "collapsed": false,
     "input": [
      "rko = ReactionKnockoutOptimization(model=model,\n",
      "                                   simulation_method=fba,\n",
      "                                   objective_function=objective,\n",
      "                                   heuristic_method=inspyred.ec.emo.NSGA2,\n",
      "                                   seed=1234)"
     ],
     "language": "python",
     "metadata": {},
     "outputs": [],
     "prompt_number": 6
    },
    {
     "cell_type": "code",
     "collapsed": false,
     "input": [
      "results = rko.run(max_evaluations=3000, pop_size=10, view=SequentialView())"
     ],
     "language": "python",
     "metadata": {},
     "outputs": [
      {
       "html": [
        "<progress id='progress-bar-4cd84a83-09b5-44ab-8e14-f481225a946c' value='0' max='100' style='width:50%;'></progress>"
       ],
       "metadata": {},
       "output_type": "display_data",
       "text": [
        "<IPython.core.display.HTML at 0x111846e90>"
       ]
      },
      {
       "output_type": "stream",
       "stream": "stdout",
       "text": [
        "Starting optimization at Mon, 25 Aug 2014 11:05:19\n",
        "found config for http://localhost:5006/"
       ]
      },
      {
       "output_type": "stream",
       "stream": "stdout",
       "text": [
        "\n",
        "{}\n",
        "loading it!\n",
        "if you don't wish to load this config, please pass load_from_config=False\n"
       ]
      },
      {
       "html": [
        "<p>Connecting notebook to document \"efea7635-2c36-11e4-a1e6-b8e856101da4\" at server http://localhost:5006/</p>"
       ],
       "metadata": {},
       "output_type": "display_data"
      },
      {
       "html": [
        "<script src=\"http://localhost:5006//bokeh/embed.js\" bokeh_plottype=\"serverconn\"\n",
        "        bokeh_docid=\"30a3ccfe-e16c-41c9-8e62-d6c9a5cbcca5\" bokeh_ws_conn_string=\"ws://localhost:5006/bokeh/sub\"\n",
        "        bokeh_docapikey=\"31cd00d9-6774-4e7a-89d4-14ed2bf72f49\" bokeh_root_url=\"http://localhost:5006/\"\n",
        "        bokeh_modelid=\"707cea94-5134-4a68-9114-6ae933a19bad\" bokeh_modeltype=\"Plot\" async=\"true\"></script>\n",
        "        "
       ],
       "metadata": {},
       "output_type": "display_data"
      },
      {
       "javascript": [
        "jQuery('#progress-bar-4cd84a83-09b5-44ab-8e14-f481225a946c').val('0')"
       ],
       "metadata": {},
       "output_type": "display_data",
       "text": [
        "<IPython.core.display.Javascript at 0x1119c7dd0>"
       ]
      },
      {
       "javascript": [
        "jQuery('#progress-bar-4cd84a83-09b5-44ab-8e14-f481225a946c').val('0')"
       ],
       "metadata": {},
       "output_type": "display_data",
       "text": [
        "<IPython.core.display.Javascript at 0x1090c8310>"
       ]
      },
      {
       "javascript": [
        "jQuery('#progress-bar-4cd84a83-09b5-44ab-8e14-f481225a946c').val('1')"
       ],
       "metadata": {},
       "output_type": "display_data",
       "text": [
        "<IPython.core.display.Javascript at 0x1119d6410>"
       ]
      },
      {
       "javascript": [
        "jQuery('#progress-bar-4cd84a83-09b5-44ab-8e14-f481225a946c').val('1')"
       ],
       "metadata": {},
       "output_type": "display_data",
       "text": [
        "<IPython.core.display.Javascript at 0x1119d6890>"
       ]
      },
      {
       "javascript": [
        "jQuery('#progress-bar-4cd84a83-09b5-44ab-8e14-f481225a946c').val('1')"
       ],
       "metadata": {},
       "output_type": "display_data",
       "text": [
        "<IPython.core.display.Javascript at 0x1119c7dd0>"
       ]
      },
      {
       "javascript": [
        "jQuery('#progress-bar-4cd84a83-09b5-44ab-8e14-f481225a946c').val('2')"
       ],
       "metadata": {},
       "output_type": "display_data",
       "text": [
        "<IPython.core.display.Javascript at 0x1119d6a90>"
       ]
      },
      {
       "javascript": [
        "jQuery('#progress-bar-4cd84a83-09b5-44ab-8e14-f481225a946c').val('2')"
       ],
       "metadata": {},
       "output_type": "display_data",
       "text": [
        "<IPython.core.display.Javascript at 0x1090c8310>"
       ]
      },
      {
       "javascript": [
        "jQuery('#progress-bar-4cd84a83-09b5-44ab-8e14-f481225a946c').val('2')"
       ],
       "metadata": {},
       "output_type": "display_data",
       "text": [
        "<IPython.core.display.Javascript at 0x1119d65d0>"
       ]
      },
      {
       "javascript": [
        "jQuery('#progress-bar-4cd84a83-09b5-44ab-8e14-f481225a946c').val('3')"
       ],
       "metadata": {},
       "output_type": "display_data",
       "text": [
        "<IPython.core.display.Javascript at 0x1119d6250>"
       ]
      },
      {
       "javascript": [
        "jQuery('#progress-bar-4cd84a83-09b5-44ab-8e14-f481225a946c').val('3')"
       ],
       "metadata": {},
       "output_type": "display_data",
       "text": [
        "<IPython.core.display.Javascript at 0x1119d6690>"
       ]
      },
      {
       "javascript": [
        "jQuery('#progress-bar-4cd84a83-09b5-44ab-8e14-f481225a946c').val('3')"
       ],
       "metadata": {},
       "output_type": "display_data",
       "text": [
        "<IPython.core.display.Javascript at 0x1119d68d0>"
       ]
      },
      {
       "javascript": [
        "jQuery('#progress-bar-4cd84a83-09b5-44ab-8e14-f481225a946c').val('4')"
       ],
       "metadata": {},
       "output_type": "display_data",
       "text": [
        "<IPython.core.display.Javascript at 0x1119d6bd0>"
       ]
      },
      {
       "javascript": [
        "jQuery('#progress-bar-4cd84a83-09b5-44ab-8e14-f481225a946c').val('4')"
       ],
       "metadata": {},
       "output_type": "display_data",
       "text": [
        "<IPython.core.display.Javascript at 0x1119d6850>"
       ]
      },
      {
       "javascript": [
        "jQuery('#progress-bar-4cd84a83-09b5-44ab-8e14-f481225a946c').val('4')"
       ],
       "metadata": {},
       "output_type": "display_data",
       "text": [
        "<IPython.core.display.Javascript at 0x1119d6a10>"
       ]
      },
      {
       "javascript": [
        "jQuery('#progress-bar-4cd84a83-09b5-44ab-8e14-f481225a946c').val('5')"
       ],
       "metadata": {},
       "output_type": "display_data",
       "text": [
        "<IPython.core.display.Javascript at 0x1119d69d0>"
       ]
      },
      {
       "javascript": [
        "jQuery('#progress-bar-4cd84a83-09b5-44ab-8e14-f481225a946c').val('5')"
       ],
       "metadata": {},
       "output_type": "display_data",
       "text": [
        "<IPython.core.display.Javascript at 0x1119d6c90>"
       ]
      },
      {
       "javascript": [
        "jQuery('#progress-bar-4cd84a83-09b5-44ab-8e14-f481225a946c').val('5')"
       ],
       "metadata": {},
       "output_type": "display_data",
       "text": [
        "<IPython.core.display.Javascript at 0x1119d6150>"
       ]
      },
      {
       "javascript": [
        "jQuery('#progress-bar-4cd84a83-09b5-44ab-8e14-f481225a946c').val('6')"
       ],
       "metadata": {},
       "output_type": "display_data",
       "text": [
        "<IPython.core.display.Javascript at 0x1119d6d10>"
       ]
      },
      {
       "javascript": [
        "jQuery('#progress-bar-4cd84a83-09b5-44ab-8e14-f481225a946c').val('6')"
       ],
       "metadata": {},
       "output_type": "display_data",
       "text": [
        "<IPython.core.display.Javascript at 0x1119d6710>"
       ]
      },
      {
       "javascript": [
        "jQuery('#progress-bar-4cd84a83-09b5-44ab-8e14-f481225a946c').val('6')"
       ],
       "metadata": {},
       "output_type": "display_data",
       "text": [
        "<IPython.core.display.Javascript at 0x1119d6a50>"
       ]
      },
      {
       "javascript": [
        "jQuery('#progress-bar-4cd84a83-09b5-44ab-8e14-f481225a946c').val('7')"
       ],
       "metadata": {},
       "output_type": "display_data",
       "text": [
        "<IPython.core.display.Javascript at 0x1119d66d0>"
       ]
      },
      {
       "javascript": [
        "jQuery('#progress-bar-4cd84a83-09b5-44ab-8e14-f481225a946c').val('7')"
       ],
       "metadata": {},
       "output_type": "display_data",
       "text": [
        "<IPython.core.display.Javascript at 0x1119d65d0>"
       ]
      },
      {
       "javascript": [
        "jQuery('#progress-bar-4cd84a83-09b5-44ab-8e14-f481225a946c').val('7')"
       ],
       "metadata": {},
       "output_type": "display_data",
       "text": [
        "<IPython.core.display.Javascript at 0x1119d6750>"
       ]
      },
      {
       "javascript": [
        "jQuery('#progress-bar-4cd84a83-09b5-44ab-8e14-f481225a946c').val('8')"
       ],
       "metadata": {},
       "output_type": "display_data",
       "text": [
        "<IPython.core.display.Javascript at 0x1119d6d10>"
       ]
      },
      {
       "javascript": [
        "jQuery('#progress-bar-4cd84a83-09b5-44ab-8e14-f481225a946c').val('8')"
       ],
       "metadata": {},
       "output_type": "display_data",
       "text": [
        "<IPython.core.display.Javascript at 0x1119d6510>"
       ]
      },
      {
       "javascript": [
        "jQuery('#progress-bar-4cd84a83-09b5-44ab-8e14-f481225a946c').val('8')"
       ],
       "metadata": {},
       "output_type": "display_data",
       "text": [
        "<IPython.core.display.Javascript at 0x10b502710>"
       ]
      },
      {
       "javascript": [
        "jQuery('#progress-bar-4cd84a83-09b5-44ab-8e14-f481225a946c').val('9')"
       ],
       "metadata": {},
       "output_type": "display_data",
       "text": [
        "<IPython.core.display.Javascript at 0x1119d65d0>"
       ]
      },
      {
       "javascript": [
        "jQuery('#progress-bar-4cd84a83-09b5-44ab-8e14-f481225a946c').val('9')"
       ],
       "metadata": {},
       "output_type": "display_data",
       "text": [
        "<IPython.core.display.Javascript at 0x1119d6e90>"
       ]
      },
      {
       "javascript": [
        "jQuery('#progress-bar-4cd84a83-09b5-44ab-8e14-f481225a946c').val('9')"
       ],
       "metadata": {},
       "output_type": "display_data",
       "text": [
        "<IPython.core.display.Javascript at 0x1119d6990>"
       ]
      },
      {
       "javascript": [
        "jQuery('#progress-bar-4cd84a83-09b5-44ab-8e14-f481225a946c').val('10')"
       ],
       "metadata": {},
       "output_type": "display_data",
       "text": [
        "<IPython.core.display.Javascript at 0x1119d6450>"
       ]
      },
      {
       "javascript": [
        "jQuery('#progress-bar-4cd84a83-09b5-44ab-8e14-f481225a946c').val('10')"
       ],
       "metadata": {},
       "output_type": "display_data",
       "text": [
        "<IPython.core.display.Javascript at 0x1119d6b10>"
       ]
      },
      {
       "javascript": [
        "jQuery('#progress-bar-4cd84a83-09b5-44ab-8e14-f481225a946c').val('10')"
       ],
       "metadata": {},
       "output_type": "display_data",
       "text": [
        "<IPython.core.display.Javascript at 0x1119d6e50>"
       ]
      },
      {
       "javascript": [
        "jQuery('#progress-bar-4cd84a83-09b5-44ab-8e14-f481225a946c').val('11')"
       ],
       "metadata": {},
       "output_type": "display_data",
       "text": [
        "<IPython.core.display.Javascript at 0x1119d69d0>"
       ]
      },
      {
       "javascript": [
        "jQuery('#progress-bar-4cd84a83-09b5-44ab-8e14-f481225a946c').val('11')"
       ],
       "metadata": {},
       "output_type": "display_data",
       "text": [
        "<IPython.core.display.Javascript at 0x1119d6450>"
       ]
      },
      {
       "javascript": [
        "jQuery('#progress-bar-4cd84a83-09b5-44ab-8e14-f481225a946c').val('11')"
       ],
       "metadata": {},
       "output_type": "display_data",
       "text": [
        "<IPython.core.display.Javascript at 0x1119d6b10>"
       ]
      },
      {
       "javascript": [
        "jQuery('#progress-bar-4cd84a83-09b5-44ab-8e14-f481225a946c').val('12')"
       ],
       "metadata": {},
       "output_type": "display_data",
       "text": [
        "<IPython.core.display.Javascript at 0x1119d6e50>"
       ]
      },
      {
       "javascript": [
        "jQuery('#progress-bar-4cd84a83-09b5-44ab-8e14-f481225a946c').val('12')"
       ],
       "metadata": {},
       "output_type": "display_data",
       "text": [
        "<IPython.core.display.Javascript at 0x1119d6510>"
       ]
      },
      {
       "javascript": [
        "jQuery('#progress-bar-4cd84a83-09b5-44ab-8e14-f481225a946c').val('12')"
       ],
       "metadata": {},
       "output_type": "display_data",
       "text": [
        "<IPython.core.display.Javascript at 0x1119d67d0>"
       ]
      },
      {
       "javascript": [
        "jQuery('#progress-bar-4cd84a83-09b5-44ab-8e14-f481225a946c').val('13')"
       ],
       "metadata": {},
       "output_type": "display_data",
       "text": [
        "<IPython.core.display.Javascript at 0x1119d69d0>"
       ]
      },
      {
       "javascript": [
        "jQuery('#progress-bar-4cd84a83-09b5-44ab-8e14-f481225a946c').val('13')"
       ],
       "metadata": {},
       "output_type": "display_data",
       "text": [
        "<IPython.core.display.Javascript at 0x1119d6ed0>"
       ]
      },
      {
       "javascript": [
        "jQuery('#progress-bar-4cd84a83-09b5-44ab-8e14-f481225a946c').val('13')"
       ],
       "metadata": {},
       "output_type": "display_data",
       "text": [
        "<IPython.core.display.Javascript at 0x1119d6e90>"
       ]
      },
      {
       "javascript": [
        "jQuery('#progress-bar-4cd84a83-09b5-44ab-8e14-f481225a946c').val('14')"
       ],
       "metadata": {},
       "output_type": "display_data",
       "text": [
        "<IPython.core.display.Javascript at 0x1119d6990>"
       ]
      },
      {
       "javascript": [
        "jQuery('#progress-bar-4cd84a83-09b5-44ab-8e14-f481225a946c').val('14')"
       ],
       "metadata": {},
       "output_type": "display_data",
       "text": [
        "<IPython.core.display.Javascript at 0x1119d6950>"
       ]
      },
      {
       "javascript": [
        "jQuery('#progress-bar-4cd84a83-09b5-44ab-8e14-f481225a946c').val('14')"
       ],
       "metadata": {},
       "output_type": "display_data",
       "text": [
        "<IPython.core.display.Javascript at 0x1119d6790>"
       ]
      },
      {
       "javascript": [
        "jQuery('#progress-bar-4cd84a83-09b5-44ab-8e14-f481225a946c').val('15')"
       ],
       "metadata": {},
       "output_type": "display_data",
       "text": [
        "<IPython.core.display.Javascript at 0x1119d6e90>"
       ]
      },
      {
       "javascript": [
        "jQuery('#progress-bar-4cd84a83-09b5-44ab-8e14-f481225a946c').val('15')"
       ],
       "metadata": {},
       "output_type": "display_data",
       "text": [
        "<IPython.core.display.Javascript at 0x1119d6790>"
       ]
      },
      {
       "javascript": [
        "jQuery('#progress-bar-4cd84a83-09b5-44ab-8e14-f481225a946c').val('15')"
       ],
       "metadata": {},
       "output_type": "display_data",
       "text": [
        "<IPython.core.display.Javascript at 0x1119d6d90>"
       ]
      },
      {
       "javascript": [
        "jQuery('#progress-bar-4cd84a83-09b5-44ab-8e14-f481225a946c').val('16')"
       ],
       "metadata": {},
       "output_type": "display_data",
       "text": [
        "<IPython.core.display.Javascript at 0x1119d6ad0>"
       ]
      },
      {
       "javascript": [
        "jQuery('#progress-bar-4cd84a83-09b5-44ab-8e14-f481225a946c').val('16')"
       ],
       "metadata": {},
       "output_type": "display_data",
       "text": [
        "<IPython.core.display.Javascript at 0x1119d6890>"
       ]
      },
      {
       "javascript": [
        "jQuery('#progress-bar-4cd84a83-09b5-44ab-8e14-f481225a946c').val('16')"
       ],
       "metadata": {},
       "output_type": "display_data",
       "text": [
        "<IPython.core.display.Javascript at 0x1119d6cd0>"
       ]
      },
      {
       "javascript": [
        "jQuery('#progress-bar-4cd84a83-09b5-44ab-8e14-f481225a946c').val('17')"
       ],
       "metadata": {},
       "output_type": "display_data",
       "text": [
        "<IPython.core.display.Javascript at 0x1119d6a90>"
       ]
      },
      {
       "javascript": [
        "jQuery('#progress-bar-4cd84a83-09b5-44ab-8e14-f481225a946c').val('17')"
       ],
       "metadata": {},
       "output_type": "display_data",
       "text": [
        "<IPython.core.display.Javascript at 0x1119c7dd0>"
       ]
      },
      {
       "javascript": [
        "jQuery('#progress-bar-4cd84a83-09b5-44ab-8e14-f481225a946c').val('17')"
       ],
       "metadata": {},
       "output_type": "display_data",
       "text": [
        "<IPython.core.display.Javascript at 0x1119d6150>"
       ]
      },
      {
       "javascript": [
        "jQuery('#progress-bar-4cd84a83-09b5-44ab-8e14-f481225a946c').val('18')"
       ],
       "metadata": {},
       "output_type": "display_data",
       "text": [
        "<IPython.core.display.Javascript at 0x1119d6dd0>"
       ]
      },
      {
       "javascript": [
        "jQuery('#progress-bar-4cd84a83-09b5-44ab-8e14-f481225a946c').val('18')"
       ],
       "metadata": {},
       "output_type": "display_data",
       "text": [
        "<IPython.core.display.Javascript at 0x1119d6690>"
       ]
      },
      {
       "javascript": [
        "jQuery('#progress-bar-4cd84a83-09b5-44ab-8e14-f481225a946c').val('18')"
       ],
       "metadata": {},
       "output_type": "display_data",
       "text": [
        "<IPython.core.display.Javascript at 0x1119d69d0>"
       ]
      },
      {
       "javascript": [
        "jQuery('#progress-bar-4cd84a83-09b5-44ab-8e14-f481225a946c').val('19')"
       ],
       "metadata": {},
       "output_type": "display_data",
       "text": [
        "<IPython.core.display.Javascript at 0x1119d6b10>"
       ]
      },
      {
       "javascript": [
        "jQuery('#progress-bar-4cd84a83-09b5-44ab-8e14-f481225a946c').val('19')"
       ],
       "metadata": {},
       "output_type": "display_data",
       "text": [
        "<IPython.core.display.Javascript at 0x1119d6e90>"
       ]
      },
      {
       "javascript": [
        "jQuery('#progress-bar-4cd84a83-09b5-44ab-8e14-f481225a946c').val('19')"
       ],
       "metadata": {},
       "output_type": "display_data",
       "text": [
        "<IPython.core.display.Javascript at 0x1119d6a90>"
       ]
      },
      {
       "javascript": [
        "jQuery('#progress-bar-4cd84a83-09b5-44ab-8e14-f481225a946c').val('20')"
       ],
       "metadata": {},
       "output_type": "display_data",
       "text": [
        "<IPython.core.display.Javascript at 0x1119d6490>"
       ]
      },
      {
       "javascript": [
        "jQuery('#progress-bar-4cd84a83-09b5-44ab-8e14-f481225a946c').val('20')"
       ],
       "metadata": {},
       "output_type": "display_data",
       "text": [
        "<IPython.core.display.Javascript at 0x1119d6590>"
       ]
      },
      {
       "javascript": [
        "jQuery('#progress-bar-4cd84a83-09b5-44ab-8e14-f481225a946c').val('20')"
       ],
       "metadata": {},
       "output_type": "display_data",
       "text": [
        "<IPython.core.display.Javascript at 0x1119d65d0>"
       ]
      },
      {
       "javascript": [
        "jQuery('#progress-bar-4cd84a83-09b5-44ab-8e14-f481225a946c').val('21')"
       ],
       "metadata": {},
       "output_type": "display_data",
       "text": [
        "<IPython.core.display.Javascript at 0x1119d6250>"
       ]
      },
      {
       "javascript": [
        "jQuery('#progress-bar-4cd84a83-09b5-44ab-8e14-f481225a946c').val('21')"
       ],
       "metadata": {},
       "output_type": "display_data",
       "text": [
        "<IPython.core.display.Javascript at 0x1119d69d0>"
       ]
      },
      {
       "javascript": [
        "jQuery('#progress-bar-4cd84a83-09b5-44ab-8e14-f481225a946c').val('21')"
       ],
       "metadata": {},
       "output_type": "display_data",
       "text": [
        "<IPython.core.display.Javascript at 0x1119d67d0>"
       ]
      },
      {
       "javascript": [
        "jQuery('#progress-bar-4cd84a83-09b5-44ab-8e14-f481225a946c').val('22')"
       ],
       "metadata": {},
       "output_type": "display_data",
       "text": [
        "<IPython.core.display.Javascript at 0x1119d6ed0>"
       ]
      },
      {
       "javascript": [
        "jQuery('#progress-bar-4cd84a83-09b5-44ab-8e14-f481225a946c').val('22')"
       ],
       "metadata": {},
       "output_type": "display_data",
       "text": [
        "<IPython.core.display.Javascript at 0x1119d6c90>"
       ]
      },
      {
       "javascript": [
        "jQuery('#progress-bar-4cd84a83-09b5-44ab-8e14-f481225a946c').val('22')"
       ],
       "metadata": {},
       "output_type": "display_data",
       "text": [
        "<IPython.core.display.Javascript at 0x1119d6f10>"
       ]
      },
      {
       "javascript": [
        "jQuery('#progress-bar-4cd84a83-09b5-44ab-8e14-f481225a946c').val('23')"
       ],
       "metadata": {},
       "output_type": "display_data",
       "text": [
        "<IPython.core.display.Javascript at 0x1119d69d0>"
       ]
      },
      {
       "javascript": [
        "jQuery('#progress-bar-4cd84a83-09b5-44ab-8e14-f481225a946c').val('23')"
       ],
       "metadata": {},
       "output_type": "display_data",
       "text": [
        "<IPython.core.display.Javascript at 0x10b502710>"
       ]
      },
      {
       "javascript": [
        "jQuery('#progress-bar-4cd84a83-09b5-44ab-8e14-f481225a946c').val('23')"
       ],
       "metadata": {},
       "output_type": "display_data",
       "text": [
        "<IPython.core.display.Javascript at 0x10b502690>"
       ]
      },
      {
       "javascript": [
        "jQuery('#progress-bar-4cd84a83-09b5-44ab-8e14-f481225a946c').val('24')"
       ],
       "metadata": {},
       "output_type": "display_data",
       "text": [
        "<IPython.core.display.Javascript at 0x1119d6b10>"
       ]
      },
      {
       "javascript": [
        "jQuery('#progress-bar-4cd84a83-09b5-44ab-8e14-f481225a946c').val('24')"
       ],
       "metadata": {},
       "output_type": "display_data",
       "text": [
        "<IPython.core.display.Javascript at 0x1119d6dd0>"
       ]
      },
      {
       "javascript": [
        "jQuery('#progress-bar-4cd84a83-09b5-44ab-8e14-f481225a946c').val('24')"
       ],
       "metadata": {},
       "output_type": "display_data",
       "text": [
        "<IPython.core.display.Javascript at 0x1119d6510>"
       ]
      },
      {
       "javascript": [
        "jQuery('#progress-bar-4cd84a83-09b5-44ab-8e14-f481225a946c').val('25')"
       ],
       "metadata": {},
       "output_type": "display_data",
       "text": [
        "<IPython.core.display.Javascript at 0x1119d6410>"
       ]
      },
      {
       "javascript": [
        "jQuery('#progress-bar-4cd84a83-09b5-44ab-8e14-f481225a946c').val('25')"
       ],
       "metadata": {},
       "output_type": "display_data",
       "text": [
        "<IPython.core.display.Javascript at 0x1119d6c90>"
       ]
      },
      {
       "javascript": [
        "jQuery('#progress-bar-4cd84a83-09b5-44ab-8e14-f481225a946c').val('25')"
       ],
       "metadata": {},
       "output_type": "display_data",
       "text": [
        "<IPython.core.display.Javascript at 0x1119d63d0>"
       ]
      },
      {
       "javascript": [
        "jQuery('#progress-bar-4cd84a83-09b5-44ab-8e14-f481225a946c').val('26')"
       ],
       "metadata": {},
       "output_type": "display_data",
       "text": [
        "<IPython.core.display.Javascript at 0x1119d6ad0>"
       ]
      },
      {
       "javascript": [
        "jQuery('#progress-bar-4cd84a83-09b5-44ab-8e14-f481225a946c').val('26')"
       ],
       "metadata": {},
       "output_type": "display_data",
       "text": [
        "<IPython.core.display.Javascript at 0x1119d6a90>"
       ]
      },
      {
       "javascript": [
        "jQuery('#progress-bar-4cd84a83-09b5-44ab-8e14-f481225a946c').val('26')"
       ],
       "metadata": {},
       "output_type": "display_data",
       "text": [
        "<IPython.core.display.Javascript at 0x1119d6790>"
       ]
      },
      {
       "javascript": [
        "jQuery('#progress-bar-4cd84a83-09b5-44ab-8e14-f481225a946c').val('27')"
       ],
       "metadata": {},
       "output_type": "display_data",
       "text": [
        "<IPython.core.display.Javascript at 0x1119d6810>"
       ]
      },
      {
       "javascript": [
        "jQuery('#progress-bar-4cd84a83-09b5-44ab-8e14-f481225a946c').val('27')"
       ],
       "metadata": {},
       "output_type": "display_data",
       "text": [
        "<IPython.core.display.Javascript at 0x1119d6e90>"
       ]
      },
      {
       "javascript": [
        "jQuery('#progress-bar-4cd84a83-09b5-44ab-8e14-f481225a946c').val('27')"
       ],
       "metadata": {},
       "output_type": "display_data",
       "text": [
        "<IPython.core.display.Javascript at 0x1119d6610>"
       ]
      },
      {
       "javascript": [
        "jQuery('#progress-bar-4cd84a83-09b5-44ab-8e14-f481225a946c').val('28')"
       ],
       "metadata": {},
       "output_type": "display_data",
       "text": [
        "<IPython.core.display.Javascript at 0x1119d66d0>"
       ]
      },
      {
       "javascript": [
        "jQuery('#progress-bar-4cd84a83-09b5-44ab-8e14-f481225a946c').val('28')"
       ],
       "metadata": {},
       "output_type": "display_data",
       "text": [
        "<IPython.core.display.Javascript at 0x1119d6410>"
       ]
      },
      {
       "javascript": [
        "jQuery('#progress-bar-4cd84a83-09b5-44ab-8e14-f481225a946c').val('28')"
       ],
       "metadata": {},
       "output_type": "display_data",
       "text": [
        "<IPython.core.display.Javascript at 0x1119d6c90>"
       ]
      },
      {
       "javascript": [
        "jQuery('#progress-bar-4cd84a83-09b5-44ab-8e14-f481225a946c').val('28')"
       ],
       "metadata": {},
       "output_type": "display_data",
       "text": [
        "<IPython.core.display.Javascript at 0x1119d6a50>"
       ]
      },
      {
       "javascript": [
        "jQuery('#progress-bar-4cd84a83-09b5-44ab-8e14-f481225a946c').val('29')"
       ],
       "metadata": {},
       "output_type": "display_data",
       "text": [
        "<IPython.core.display.Javascript at 0x1119d6f90>"
       ]
      },
      {
       "javascript": [
        "jQuery('#progress-bar-4cd84a83-09b5-44ab-8e14-f481225a946c').val('29')"
       ],
       "metadata": {},
       "output_type": "display_data",
       "text": [
        "<IPython.core.display.Javascript at 0x1119d6990>"
       ]
      },
      {
       "javascript": [
        "jQuery('#progress-bar-4cd84a83-09b5-44ab-8e14-f481225a946c').val('30')"
       ],
       "metadata": {},
       "output_type": "display_data",
       "text": [
        "<IPython.core.display.Javascript at 0x1119d6c10>"
       ]
      },
      {
       "javascript": [
        "jQuery('#progress-bar-4cd84a83-09b5-44ab-8e14-f481225a946c').val('30')"
       ],
       "metadata": {},
       "output_type": "display_data",
       "text": [
        "<IPython.core.display.Javascript at 0x1119d6ed0>"
       ]
      },
      {
       "javascript": [
        "jQuery('#progress-bar-4cd84a83-09b5-44ab-8e14-f481225a946c').val('30')"
       ],
       "metadata": {},
       "output_type": "display_data",
       "text": [
        "<IPython.core.display.Javascript at 0x1119d6ad0>"
       ]
      },
      {
       "javascript": [
        "jQuery('#progress-bar-4cd84a83-09b5-44ab-8e14-f481225a946c').val('31')"
       ],
       "metadata": {},
       "output_type": "display_data",
       "text": [
        "<IPython.core.display.Javascript at 0x1119d6710>"
       ]
      },
      {
       "javascript": [
        "jQuery('#progress-bar-4cd84a83-09b5-44ab-8e14-f481225a946c').val('31')"
       ],
       "metadata": {},
       "output_type": "display_data",
       "text": [
        "<IPython.core.display.Javascript at 0x1119d6ad0>"
       ]
      },
      {
       "javascript": [
        "jQuery('#progress-bar-4cd84a83-09b5-44ab-8e14-f481225a946c').val('31')"
       ],
       "metadata": {},
       "output_type": "display_data",
       "text": [
        "<IPython.core.display.Javascript at 0x1119d65d0>"
       ]
      },
      {
       "javascript": [
        "jQuery('#progress-bar-4cd84a83-09b5-44ab-8e14-f481225a946c').val('32')"
       ],
       "metadata": {},
       "output_type": "display_data",
       "text": [
        "<IPython.core.display.Javascript at 0x1119d6c90>"
       ]
      },
      {
       "javascript": [
        "jQuery('#progress-bar-4cd84a83-09b5-44ab-8e14-f481225a946c').val('32')"
       ],
       "metadata": {},
       "output_type": "display_data",
       "text": [
        "<IPython.core.display.Javascript at 0x1119d6690>"
       ]
      },
      {
       "javascript": [
        "jQuery('#progress-bar-4cd84a83-09b5-44ab-8e14-f481225a946c').val('32')"
       ],
       "metadata": {},
       "output_type": "display_data",
       "text": [
        "<IPython.core.display.Javascript at 0x1119d6f90>"
       ]
      },
      {
       "javascript": [
        "jQuery('#progress-bar-4cd84a83-09b5-44ab-8e14-f481225a946c').val('33')"
       ],
       "metadata": {},
       "output_type": "display_data",
       "text": [
        "<IPython.core.display.Javascript at 0x1119d6450>"
       ]
      },
      {
       "javascript": [
        "jQuery('#progress-bar-4cd84a83-09b5-44ab-8e14-f481225a946c').val('33')"
       ],
       "metadata": {},
       "output_type": "display_data",
       "text": [
        "<IPython.core.display.Javascript at 0x1119d6150>"
       ]
      },
      {
       "javascript": [
        "jQuery('#progress-bar-4cd84a83-09b5-44ab-8e14-f481225a946c').val('33')"
       ],
       "metadata": {},
       "output_type": "display_data",
       "text": [
        "<IPython.core.display.Javascript at 0x1119d6b10>"
       ]
      },
      {
       "javascript": [
        "jQuery('#progress-bar-4cd84a83-09b5-44ab-8e14-f481225a946c').val('34')"
       ],
       "metadata": {},
       "output_type": "display_data",
       "text": [
        "<IPython.core.display.Javascript at 0x1119d6590>"
       ]
      },
      {
       "javascript": [
        "jQuery('#progress-bar-4cd84a83-09b5-44ab-8e14-f481225a946c').val('34')"
       ],
       "metadata": {},
       "output_type": "display_data",
       "text": [
        "<IPython.core.display.Javascript at 0x1119d6c50>"
       ]
      },
      {
       "javascript": [
        "jQuery('#progress-bar-4cd84a83-09b5-44ab-8e14-f481225a946c').val('34')"
       ],
       "metadata": {},
       "output_type": "display_data",
       "text": [
        "<IPython.core.display.Javascript at 0x1119d6790>"
       ]
      },
      {
       "javascript": [
        "jQuery('#progress-bar-4cd84a83-09b5-44ab-8e14-f481225a946c').val('35')"
       ],
       "metadata": {},
       "output_type": "display_data",
       "text": [
        "<IPython.core.display.Javascript at 0x10b502710>"
       ]
      },
      {
       "javascript": [
        "jQuery('#progress-bar-4cd84a83-09b5-44ab-8e14-f481225a946c').val('35')"
       ],
       "metadata": {},
       "output_type": "display_data",
       "text": [
        "<IPython.core.display.Javascript at 0x1119d6b10>"
       ]
      },
      {
       "javascript": [
        "jQuery('#progress-bar-4cd84a83-09b5-44ab-8e14-f481225a946c').val('35')"
       ],
       "metadata": {},
       "output_type": "display_data",
       "text": [
        "<IPython.core.display.Javascript at 0x1118466d0>"
       ]
      },
      {
       "javascript": [
        "jQuery('#progress-bar-4cd84a83-09b5-44ab-8e14-f481225a946c').val('36')"
       ],
       "metadata": {},
       "output_type": "display_data",
       "text": [
        "<IPython.core.display.Javascript at 0x1119d6710>"
       ]
      },
      {
       "javascript": [
        "jQuery('#progress-bar-4cd84a83-09b5-44ab-8e14-f481225a946c').val('36')"
       ],
       "metadata": {},
       "output_type": "display_data",
       "text": [
        "<IPython.core.display.Javascript at 0x1119d6950>"
       ]
      },
      {
       "javascript": [
        "jQuery('#progress-bar-4cd84a83-09b5-44ab-8e14-f481225a946c').val('36')"
       ],
       "metadata": {},
       "output_type": "display_data",
       "text": [
        "<IPython.core.display.Javascript at 0x1119d6ad0>"
       ]
      },
      {
       "javascript": [
        "jQuery('#progress-bar-4cd84a83-09b5-44ab-8e14-f481225a946c').val('37')"
       ],
       "metadata": {},
       "output_type": "display_data",
       "text": [
        "<IPython.core.display.Javascript at 0x1119d6f10>"
       ]
      },
      {
       "javascript": [
        "jQuery('#progress-bar-4cd84a83-09b5-44ab-8e14-f481225a946c').val('37')"
       ],
       "metadata": {},
       "output_type": "display_data",
       "text": [
        "<IPython.core.display.Javascript at 0x1119d6990>"
       ]
      },
      {
       "javascript": [
        "jQuery('#progress-bar-4cd84a83-09b5-44ab-8e14-f481225a946c').val('37')"
       ],
       "metadata": {},
       "output_type": "display_data",
       "text": [
        "<IPython.core.display.Javascript at 0x1119d6c10>"
       ]
      },
      {
       "javascript": [
        "jQuery('#progress-bar-4cd84a83-09b5-44ab-8e14-f481225a946c').val('38')"
       ],
       "metadata": {},
       "output_type": "display_data",
       "text": [
        "<IPython.core.display.Javascript at 0x1119d6450>"
       ]
      },
      {
       "javascript": [
        "jQuery('#progress-bar-4cd84a83-09b5-44ab-8e14-f481225a946c').val('38')"
       ],
       "metadata": {},
       "output_type": "display_data",
       "text": [
        "<IPython.core.display.Javascript at 0x1119d6c50>"
       ]
      },
      {
       "javascript": [
        "jQuery('#progress-bar-4cd84a83-09b5-44ab-8e14-f481225a946c').val('38')"
       ],
       "metadata": {},
       "output_type": "display_data",
       "text": [
        "<IPython.core.display.Javascript at 0x1119d6150>"
       ]
      },
      {
       "javascript": [
        "jQuery('#progress-bar-4cd84a83-09b5-44ab-8e14-f481225a946c').val('39')"
       ],
       "metadata": {},
       "output_type": "display_data",
       "text": [
        "<IPython.core.display.Javascript at 0x1119d66d0>"
       ]
      },
      {
       "javascript": [
        "jQuery('#progress-bar-4cd84a83-09b5-44ab-8e14-f481225a946c').val('39')"
       ],
       "metadata": {},
       "output_type": "display_data",
       "text": [
        "<IPython.core.display.Javascript at 0x1119d6410>"
       ]
      },
      {
       "javascript": [
        "jQuery('#progress-bar-4cd84a83-09b5-44ab-8e14-f481225a946c').val('39')"
       ],
       "metadata": {},
       "output_type": "display_data",
       "text": [
        "<IPython.core.display.Javascript at 0x1119d6e90>"
       ]
      },
      {
       "javascript": [
        "jQuery('#progress-bar-4cd84a83-09b5-44ab-8e14-f481225a946c').val('40')"
       ],
       "metadata": {},
       "output_type": "display_data",
       "text": [
        "<IPython.core.display.Javascript at 0x1119d6410>"
       ]
      },
      {
       "javascript": [
        "jQuery('#progress-bar-4cd84a83-09b5-44ab-8e14-f481225a946c').val('40')"
       ],
       "metadata": {},
       "output_type": "display_data",
       "text": [
        "<IPython.core.display.Javascript at 0x1119d6b10>"
       ]
      },
      {
       "javascript": [
        "jQuery('#progress-bar-4cd84a83-09b5-44ab-8e14-f481225a946c').val('40')"
       ],
       "metadata": {},
       "output_type": "display_data",
       "text": [
        "<IPython.core.display.Javascript at 0x1119d6f10>"
       ]
      },
      {
       "javascript": [
        "jQuery('#progress-bar-4cd84a83-09b5-44ab-8e14-f481225a946c').val('41')"
       ],
       "metadata": {},
       "output_type": "display_data",
       "text": [
        "<IPython.core.display.Javascript at 0x1119d6f90>"
       ]
      },
      {
       "javascript": [
        "jQuery('#progress-bar-4cd84a83-09b5-44ab-8e14-f481225a946c').val('41')"
       ],
       "metadata": {},
       "output_type": "display_data",
       "text": [
        "<IPython.core.display.Javascript at 0x1119d6890>"
       ]
      },
      {
       "javascript": [
        "jQuery('#progress-bar-4cd84a83-09b5-44ab-8e14-f481225a946c').val('41')"
       ],
       "metadata": {},
       "output_type": "display_data",
       "text": [
        "<IPython.core.display.Javascript at 0x1119d6b10>"
       ]
      },
      {
       "javascript": [
        "jQuery('#progress-bar-4cd84a83-09b5-44ab-8e14-f481225a946c').val('42')"
       ],
       "metadata": {},
       "output_type": "display_data",
       "text": [
        "<IPython.core.display.Javascript at 0x1119d6e10>"
       ]
      },
      {
       "javascript": [
        "jQuery('#progress-bar-4cd84a83-09b5-44ab-8e14-f481225a946c').val('42')"
       ],
       "metadata": {},
       "output_type": "display_data",
       "text": [
        "<IPython.core.display.Javascript at 0x1119d63d0>"
       ]
      },
      {
       "javascript": [
        "jQuery('#progress-bar-4cd84a83-09b5-44ab-8e14-f481225a946c').val('42')"
       ],
       "metadata": {},
       "output_type": "display_data",
       "text": [
        "<IPython.core.display.Javascript at 0x1119d6990>"
       ]
      },
      {
       "javascript": [
        "jQuery('#progress-bar-4cd84a83-09b5-44ab-8e14-f481225a946c').val('43')"
       ],
       "metadata": {},
       "output_type": "display_data",
       "text": [
        "<IPython.core.display.Javascript at 0x1119d6450>"
       ]
      },
      {
       "javascript": [
        "jQuery('#progress-bar-4cd84a83-09b5-44ab-8e14-f481225a946c').val('43')"
       ],
       "metadata": {},
       "output_type": "display_data",
       "text": [
        "<IPython.core.display.Javascript at 0x1119d6d90>"
       ]
      },
      {
       "javascript": [
        "jQuery('#progress-bar-4cd84a83-09b5-44ab-8e14-f481225a946c').val('43')"
       ],
       "metadata": {},
       "output_type": "display_data",
       "text": [
        "<IPython.core.display.Javascript at 0x1119d6510>"
       ]
      },
      {
       "javascript": [
        "jQuery('#progress-bar-4cd84a83-09b5-44ab-8e14-f481225a946c').val('44')"
       ],
       "metadata": {},
       "output_type": "display_data",
       "text": [
        "<IPython.core.display.Javascript at 0x1119d6950>"
       ]
      },
      {
       "javascript": [
        "jQuery('#progress-bar-4cd84a83-09b5-44ab-8e14-f481225a946c').val('44')"
       ],
       "metadata": {},
       "output_type": "display_data",
       "text": [
        "<IPython.core.display.Javascript at 0x1119d6ed0>"
       ]
      },
      {
       "javascript": [
        "jQuery('#progress-bar-4cd84a83-09b5-44ab-8e14-f481225a946c').val('44')"
       ],
       "metadata": {},
       "output_type": "display_data",
       "text": [
        "<IPython.core.display.Javascript at 0x1119d6e10>"
       ]
      },
      {
       "javascript": [
        "jQuery('#progress-bar-4cd84a83-09b5-44ab-8e14-f481225a946c').val('45')"
       ],
       "metadata": {},
       "output_type": "display_data",
       "text": [
        "<IPython.core.display.Javascript at 0x1119d6fd0>"
       ]
      },
      {
       "javascript": [
        "jQuery('#progress-bar-4cd84a83-09b5-44ab-8e14-f481225a946c').val('45')"
       ],
       "metadata": {},
       "output_type": "display_data",
       "text": [
        "<IPython.core.display.Javascript at 0x1119d6f50>"
       ]
      },
      {
       "javascript": [
        "jQuery('#progress-bar-4cd84a83-09b5-44ab-8e14-f481225a946c').val('45')"
       ],
       "metadata": {},
       "output_type": "display_data",
       "text": [
        "<IPython.core.display.Javascript at 0x1119d6e50>"
       ]
      },
      {
       "javascript": [
        "jQuery('#progress-bar-4cd84a83-09b5-44ab-8e14-f481225a946c').val('46')"
       ],
       "metadata": {},
       "output_type": "display_data",
       "text": [
        "<IPython.core.display.Javascript at 0x1119d6450>"
       ]
      },
      {
       "javascript": [
        "jQuery('#progress-bar-4cd84a83-09b5-44ab-8e14-f481225a946c').val('46')"
       ],
       "metadata": {},
       "output_type": "display_data",
       "text": [
        "<IPython.core.display.Javascript at 0x1119d6510>"
       ]
      },
      {
       "javascript": [
        "jQuery('#progress-bar-4cd84a83-09b5-44ab-8e14-f481225a946c').val('46')"
       ],
       "metadata": {},
       "output_type": "display_data",
       "text": [
        "<IPython.core.display.Javascript at 0x1119d6d90>"
       ]
      },
      {
       "javascript": [
        "jQuery('#progress-bar-4cd84a83-09b5-44ab-8e14-f481225a946c').val('47')"
       ],
       "metadata": {},
       "output_type": "display_data",
       "text": [
        "<IPython.core.display.Javascript at 0x1119d6710>"
       ]
      },
      {
       "javascript": [
        "jQuery('#progress-bar-4cd84a83-09b5-44ab-8e14-f481225a946c').val('47')"
       ],
       "metadata": {},
       "output_type": "display_data",
       "text": [
        "<IPython.core.display.Javascript at 0x1119d6ad0>"
       ]
      },
      {
       "javascript": [
        "jQuery('#progress-bar-4cd84a83-09b5-44ab-8e14-f481225a946c').val('47')"
       ],
       "metadata": {},
       "output_type": "display_data",
       "text": [
        "<IPython.core.display.Javascript at 0x1119d6650>"
       ]
      },
      {
       "javascript": [
        "jQuery('#progress-bar-4cd84a83-09b5-44ab-8e14-f481225a946c').val('48')"
       ],
       "metadata": {},
       "output_type": "display_data",
       "text": [
        "<IPython.core.display.Javascript at 0x1119d6f50>"
       ]
      },
      {
       "javascript": [
        "jQuery('#progress-bar-4cd84a83-09b5-44ab-8e14-f481225a946c').val('48')"
       ],
       "metadata": {},
       "output_type": "display_data",
       "text": [
        "<IPython.core.display.Javascript at 0x1119d6490>"
       ]
      },
      {
       "javascript": [
        "jQuery('#progress-bar-4cd84a83-09b5-44ab-8e14-f481225a946c').val('48')"
       ],
       "metadata": {},
       "output_type": "display_data",
       "text": [
        "<IPython.core.display.Javascript at 0x1119d6d90>"
       ]
      },
      {
       "javascript": [
        "jQuery('#progress-bar-4cd84a83-09b5-44ab-8e14-f481225a946c').val('49')"
       ],
       "metadata": {},
       "output_type": "display_data",
       "text": [
        "<IPython.core.display.Javascript at 0x1119d6990>"
       ]
      },
      {
       "javascript": [
        "jQuery('#progress-bar-4cd84a83-09b5-44ab-8e14-f481225a946c').val('49')"
       ],
       "metadata": {},
       "output_type": "display_data",
       "text": [
        "<IPython.core.display.Javascript at 0x1119d6e90>"
       ]
      },
      {
       "javascript": [
        "jQuery('#progress-bar-4cd84a83-09b5-44ab-8e14-f481225a946c').val('49')"
       ],
       "metadata": {},
       "output_type": "display_data",
       "text": [
        "<IPython.core.display.Javascript at 0x1119d6650>"
       ]
      },
      {
       "javascript": [
        "jQuery('#progress-bar-4cd84a83-09b5-44ab-8e14-f481225a946c').val('50')"
       ],
       "metadata": {},
       "output_type": "display_data",
       "text": [
        "<IPython.core.display.Javascript at 0x1119d6e90>"
       ]
      },
      {
       "javascript": [
        "jQuery('#progress-bar-4cd84a83-09b5-44ab-8e14-f481225a946c').val('50')"
       ],
       "metadata": {},
       "output_type": "display_data",
       "text": [
        "<IPython.core.display.Javascript at 0x1119d6f10>"
       ]
      },
      {
       "javascript": [
        "jQuery('#progress-bar-4cd84a83-09b5-44ab-8e14-f481225a946c').val('50')"
       ],
       "metadata": {},
       "output_type": "display_data",
       "text": [
        "<IPython.core.display.Javascript at 0x1119d65d0>"
       ]
      },
      {
       "javascript": [
        "jQuery('#progress-bar-4cd84a83-09b5-44ab-8e14-f481225a946c').val('51')"
       ],
       "metadata": {},
       "output_type": "display_data",
       "text": [
        "<IPython.core.display.Javascript at 0x1119d6890>"
       ]
      },
      {
       "javascript": [
        "jQuery('#progress-bar-4cd84a83-09b5-44ab-8e14-f481225a946c').val('51')"
       ],
       "metadata": {},
       "output_type": "display_data",
       "text": [
        "<IPython.core.display.Javascript at 0x1119d6e90>"
       ]
      },
      {
       "javascript": [
        "jQuery('#progress-bar-4cd84a83-09b5-44ab-8e14-f481225a946c').val('51')"
       ],
       "metadata": {},
       "output_type": "display_data",
       "text": [
        "<IPython.core.display.Javascript at 0x1119d66d0>"
       ]
      },
      {
       "javascript": [
        "jQuery('#progress-bar-4cd84a83-09b5-44ab-8e14-f481225a946c').val('52')"
       ],
       "metadata": {},
       "output_type": "display_data",
       "text": [
        "<IPython.core.display.Javascript at 0x1119d6d50>"
       ]
      },
      {
       "javascript": [
        "jQuery('#progress-bar-4cd84a83-09b5-44ab-8e14-f481225a946c').val('52')"
       ],
       "metadata": {},
       "output_type": "display_data",
       "text": [
        "<IPython.core.display.Javascript at 0x1119d6f50>"
       ]
      },
      {
       "javascript": [
        "jQuery('#progress-bar-4cd84a83-09b5-44ab-8e14-f481225a946c').val('52')"
       ],
       "metadata": {},
       "output_type": "display_data",
       "text": [
        "<IPython.core.display.Javascript at 0x111846c50>"
       ]
      },
      {
       "javascript": [
        "jQuery('#progress-bar-4cd84a83-09b5-44ab-8e14-f481225a946c').val('53')"
       ],
       "metadata": {},
       "output_type": "display_data",
       "text": [
        "<IPython.core.display.Javascript at 0x1119d6790>"
       ]
      },
      {
       "javascript": [
        "jQuery('#progress-bar-4cd84a83-09b5-44ab-8e14-f481225a946c').val('53')"
       ],
       "metadata": {},
       "output_type": "display_data",
       "text": [
        "<IPython.core.display.Javascript at 0x1119d6890>"
       ]
      },
      {
       "javascript": [
        "jQuery('#progress-bar-4cd84a83-09b5-44ab-8e14-f481225a946c').val('53')"
       ],
       "metadata": {},
       "output_type": "display_data",
       "text": [
        "<IPython.core.display.Javascript at 0x1119d6410>"
       ]
      },
      {
       "javascript": [
        "jQuery('#progress-bar-4cd84a83-09b5-44ab-8e14-f481225a946c').val('54')"
       ],
       "metadata": {},
       "output_type": "display_data",
       "text": [
        "<IPython.core.display.Javascript at 0x1119d6ad0>"
       ]
      },
      {
       "javascript": [
        "jQuery('#progress-bar-4cd84a83-09b5-44ab-8e14-f481225a946c').val('54')"
       ],
       "metadata": {},
       "output_type": "display_data",
       "text": [
        "<IPython.core.display.Javascript at 0x1119d6810>"
       ]
      },
      {
       "javascript": [
        "jQuery('#progress-bar-4cd84a83-09b5-44ab-8e14-f481225a946c').val('54')"
       ],
       "metadata": {},
       "output_type": "display_data",
       "text": [
        "<IPython.core.display.Javascript at 0x1119d6890>"
       ]
      },
      {
       "javascript": [
        "jQuery('#progress-bar-4cd84a83-09b5-44ab-8e14-f481225a946c').val('55')"
       ],
       "metadata": {},
       "output_type": "display_data",
       "text": [
        "<IPython.core.display.Javascript at 0x1119d6250>"
       ]
      },
      {
       "javascript": [
        "jQuery('#progress-bar-4cd84a83-09b5-44ab-8e14-f481225a946c').val('55')"
       ],
       "metadata": {},
       "output_type": "display_data",
       "text": [
        "<IPython.core.display.Javascript at 0x1119d6ed0>"
       ]
      },
      {
       "javascript": [
        "jQuery('#progress-bar-4cd84a83-09b5-44ab-8e14-f481225a946c').val('55')"
       ],
       "metadata": {},
       "output_type": "display_data",
       "text": [
        "<IPython.core.display.Javascript at 0x10b502690>"
       ]
      },
      {
       "javascript": [
        "jQuery('#progress-bar-4cd84a83-09b5-44ab-8e14-f481225a946c').val('56')"
       ],
       "metadata": {},
       "output_type": "display_data",
       "text": [
        "<IPython.core.display.Javascript at 0x1119d6150>"
       ]
      },
      {
       "javascript": [
        "jQuery('#progress-bar-4cd84a83-09b5-44ab-8e14-f481225a946c').val('56')"
       ],
       "metadata": {},
       "output_type": "display_data",
       "text": [
        "<IPython.core.display.Javascript at 0x1119d6dd0>"
       ]
      },
      {
       "javascript": [
        "jQuery('#progress-bar-4cd84a83-09b5-44ab-8e14-f481225a946c').val('56')"
       ],
       "metadata": {},
       "output_type": "display_data",
       "text": [
        "<IPython.core.display.Javascript at 0x1119d6f50>"
       ]
      },
      {
       "javascript": [
        "jQuery('#progress-bar-4cd84a83-09b5-44ab-8e14-f481225a946c').val('56')"
       ],
       "metadata": {},
       "output_type": "display_data",
       "text": [
        "<IPython.core.display.Javascript at 0x1119d6710>"
       ]
      },
      {
       "javascript": [
        "jQuery('#progress-bar-4cd84a83-09b5-44ab-8e14-f481225a946c').val('57')"
       ],
       "metadata": {},
       "output_type": "display_data",
       "text": [
        "<IPython.core.display.Javascript at 0x1119d6bd0>"
       ]
      },
      {
       "javascript": [
        "jQuery('#progress-bar-4cd84a83-09b5-44ab-8e14-f481225a946c').val('57')"
       ],
       "metadata": {},
       "output_type": "display_data",
       "text": [
        "<IPython.core.display.Javascript at 0x1119d66d0>"
       ]
      },
      {
       "javascript": [
        "jQuery('#progress-bar-4cd84a83-09b5-44ab-8e14-f481225a946c').val('57')"
       ],
       "metadata": {},
       "output_type": "display_data",
       "text": [
        "<IPython.core.display.Javascript at 0x1119d6950>"
       ]
      },
      {
       "javascript": [
        "jQuery('#progress-bar-4cd84a83-09b5-44ab-8e14-f481225a946c').val('58')"
       ],
       "metadata": {},
       "output_type": "display_data",
       "text": [
        "<IPython.core.display.Javascript at 0x1119d6e10>"
       ]
      },
      {
       "javascript": [
        "jQuery('#progress-bar-4cd84a83-09b5-44ab-8e14-f481225a946c').val('58')"
       ],
       "metadata": {},
       "output_type": "display_data",
       "text": [
        "<IPython.core.display.Javascript at 0x1119d6250>"
       ]
      },
      {
       "javascript": [
        "jQuery('#progress-bar-4cd84a83-09b5-44ab-8e14-f481225a946c').val('59')"
       ],
       "metadata": {},
       "output_type": "display_data",
       "text": [
        "<IPython.core.display.Javascript at 0x1119d6d90>"
       ]
      },
      {
       "javascript": [
        "jQuery('#progress-bar-4cd84a83-09b5-44ab-8e14-f481225a946c').val('59')"
       ],
       "metadata": {},
       "output_type": "display_data",
       "text": [
        "<IPython.core.display.Javascript at 0x1119d6490>"
       ]
      },
      {
       "javascript": [
        "jQuery('#progress-bar-4cd84a83-09b5-44ab-8e14-f481225a946c').val('59')"
       ],
       "metadata": {},
       "output_type": "display_data",
       "text": [
        "<IPython.core.display.Javascript at 0x1119d6790>"
       ]
      },
      {
       "javascript": [
        "jQuery('#progress-bar-4cd84a83-09b5-44ab-8e14-f481225a946c').val('60')"
       ],
       "metadata": {},
       "output_type": "display_data",
       "text": [
        "<IPython.core.display.Javascript at 0x1119d6e10>"
       ]
      },
      {
       "javascript": [
        "jQuery('#progress-bar-4cd84a83-09b5-44ab-8e14-f481225a946c').val('60')"
       ],
       "metadata": {},
       "output_type": "display_data",
       "text": [
        "<IPython.core.display.Javascript at 0x1119d66d0>"
       ]
      },
      {
       "javascript": [
        "jQuery('#progress-bar-4cd84a83-09b5-44ab-8e14-f481225a946c').val('60')"
       ],
       "metadata": {},
       "output_type": "display_data",
       "text": [
        "<IPython.core.display.Javascript at 0x1119d6d90>"
       ]
      },
      {
       "javascript": [
        "jQuery('#progress-bar-4cd84a83-09b5-44ab-8e14-f481225a946c').val('61')"
       ],
       "metadata": {},
       "output_type": "display_data",
       "text": [
        "<IPython.core.display.Javascript at 0x1119d6dd0>"
       ]
      },
      {
       "javascript": [
        "jQuery('#progress-bar-4cd84a83-09b5-44ab-8e14-f481225a946c').val('61')"
       ],
       "metadata": {},
       "output_type": "display_data",
       "text": [
        "<IPython.core.display.Javascript at 0x1119d6250>"
       ]
      },
      {
       "javascript": [
        "jQuery('#progress-bar-4cd84a83-09b5-44ab-8e14-f481225a946c').val('61')"
       ],
       "metadata": {},
       "output_type": "display_data",
       "text": [
        "<IPython.core.display.Javascript at 0x1119d6490>"
       ]
      },
      {
       "javascript": [
        "jQuery('#progress-bar-4cd84a83-09b5-44ab-8e14-f481225a946c').val('62')"
       ],
       "metadata": {},
       "output_type": "display_data",
       "text": [
        "<IPython.core.display.Javascript at 0x1119d6510>"
       ]
      },
      {
       "javascript": [
        "jQuery('#progress-bar-4cd84a83-09b5-44ab-8e14-f481225a946c').val('62')"
       ],
       "metadata": {},
       "output_type": "display_data",
       "text": [
        "<IPython.core.display.Javascript at 0x1119d6750>"
       ]
      },
      {
       "javascript": [
        "jQuery('#progress-bar-4cd84a83-09b5-44ab-8e14-f481225a946c').val('62')"
       ],
       "metadata": {},
       "output_type": "display_data",
       "text": [
        "<IPython.core.display.Javascript at 0x1119d6250>"
       ]
      },
      {
       "javascript": [
        "jQuery('#progress-bar-4cd84a83-09b5-44ab-8e14-f481225a946c').val('63')"
       ],
       "metadata": {},
       "output_type": "display_data",
       "text": [
        "<IPython.core.display.Javascript at 0x1119d6f50>"
       ]
      },
      {
       "javascript": [
        "jQuery('#progress-bar-4cd84a83-09b5-44ab-8e14-f481225a946c').val('63')"
       ],
       "metadata": {},
       "output_type": "display_data",
       "text": [
        "<IPython.core.display.Javascript at 0x1119d6e50>"
       ]
      },
      {
       "javascript": [
        "jQuery('#progress-bar-4cd84a83-09b5-44ab-8e14-f481225a946c').val('63')"
       ],
       "metadata": {},
       "output_type": "display_data",
       "text": [
        "<IPython.core.display.Javascript at 0x1119d6890>"
       ]
      },
      {
       "javascript": [
        "jQuery('#progress-bar-4cd84a83-09b5-44ab-8e14-f481225a946c').val('64')"
       ],
       "metadata": {},
       "output_type": "display_data",
       "text": [
        "<IPython.core.display.Javascript at 0x1119d69d0>"
       ]
      },
      {
       "javascript": [
        "jQuery('#progress-bar-4cd84a83-09b5-44ab-8e14-f481225a946c').val('64')"
       ],
       "metadata": {},
       "output_type": "display_data",
       "text": [
        "<IPython.core.display.Javascript at 0x1119d6750>"
       ]
      },
      {
       "javascript": [
        "jQuery('#progress-bar-4cd84a83-09b5-44ab-8e14-f481225a946c').val('64')"
       ],
       "metadata": {},
       "output_type": "display_data",
       "text": [
        "<IPython.core.display.Javascript at 0x1119d6e50>"
       ]
      },
      {
       "javascript": [
        "jQuery('#progress-bar-4cd84a83-09b5-44ab-8e14-f481225a946c').val('65')"
       ],
       "metadata": {},
       "output_type": "display_data",
       "text": [
        "<IPython.core.display.Javascript at 0x1119d6890>"
       ]
      },
      {
       "javascript": [
        "jQuery('#progress-bar-4cd84a83-09b5-44ab-8e14-f481225a946c').val('65')"
       ],
       "metadata": {},
       "output_type": "display_data",
       "text": [
        "<IPython.core.display.Javascript at 0x1119d6690>"
       ]
      },
      {
       "javascript": [
        "jQuery('#progress-bar-4cd84a83-09b5-44ab-8e14-f481225a946c').val('65')"
       ],
       "metadata": {},
       "output_type": "display_data",
       "text": [
        "<IPython.core.display.Javascript at 0x1119d6dd0>"
       ]
      },
      {
       "javascript": [
        "jQuery('#progress-bar-4cd84a83-09b5-44ab-8e14-f481225a946c').val('66')"
       ],
       "metadata": {},
       "output_type": "display_data",
       "text": [
        "<IPython.core.display.Javascript at 0x1119d6b10>"
       ]
      },
      {
       "javascript": [
        "jQuery('#progress-bar-4cd84a83-09b5-44ab-8e14-f481225a946c').val('66')"
       ],
       "metadata": {},
       "output_type": "display_data",
       "text": [
        "<IPython.core.display.Javascript at 0x1119d6410>"
       ]
      },
      {
       "javascript": [
        "jQuery('#progress-bar-4cd84a83-09b5-44ab-8e14-f481225a946c').val('66')"
       ],
       "metadata": {},
       "output_type": "display_data",
       "text": [
        "<IPython.core.display.Javascript at 0x1119d6d50>"
       ]
      },
      {
       "javascript": [
        "jQuery('#progress-bar-4cd84a83-09b5-44ab-8e14-f481225a946c').val('67')"
       ],
       "metadata": {},
       "output_type": "display_data",
       "text": [
        "<IPython.core.display.Javascript at 0x1119d6f10>"
       ]
      },
      {
       "javascript": [
        "jQuery('#progress-bar-4cd84a83-09b5-44ab-8e14-f481225a946c').val('67')"
       ],
       "metadata": {},
       "output_type": "display_data",
       "text": [
        "<IPython.core.display.Javascript at 0x1119d6690>"
       ]
      },
      {
       "javascript": [
        "jQuery('#progress-bar-4cd84a83-09b5-44ab-8e14-f481225a946c').val('67')"
       ],
       "metadata": {},
       "output_type": "display_data",
       "text": [
        "<IPython.core.display.Javascript at 0x1119d6810>"
       ]
      },
      {
       "javascript": [
        "jQuery('#progress-bar-4cd84a83-09b5-44ab-8e14-f481225a946c').val('68')"
       ],
       "metadata": {},
       "output_type": "display_data",
       "text": [
        "<IPython.core.display.Javascript at 0x1119d69d0>"
       ]
      },
      {
       "javascript": [
        "jQuery('#progress-bar-4cd84a83-09b5-44ab-8e14-f481225a946c').val('68')"
       ],
       "metadata": {},
       "output_type": "display_data",
       "text": [
        "<IPython.core.display.Javascript at 0x1119d6e50>"
       ]
      },
      {
       "javascript": [
        "jQuery('#progress-bar-4cd84a83-09b5-44ab-8e14-f481225a946c').val('68')"
       ],
       "metadata": {},
       "output_type": "display_data",
       "text": [
        "<IPython.core.display.Javascript at 0x1119d6a10>"
       ]
      },
      {
       "javascript": [
        "jQuery('#progress-bar-4cd84a83-09b5-44ab-8e14-f481225a946c').val('69')"
       ],
       "metadata": {},
       "output_type": "display_data",
       "text": [
        "<IPython.core.display.Javascript at 0x1119d6890>"
       ]
      },
      {
       "javascript": [
        "jQuery('#progress-bar-4cd84a83-09b5-44ab-8e14-f481225a946c').val('69')"
       ],
       "metadata": {},
       "output_type": "display_data",
       "text": [
        "<IPython.core.display.Javascript at 0x1119d6690>"
       ]
      },
      {
       "javascript": [
        "jQuery('#progress-bar-4cd84a83-09b5-44ab-8e14-f481225a946c').val('69')"
       ],
       "metadata": {},
       "output_type": "display_data",
       "text": [
        "<IPython.core.display.Javascript at 0x1119d6150>"
       ]
      },
      {
       "javascript": [
        "jQuery('#progress-bar-4cd84a83-09b5-44ab-8e14-f481225a946c').val('70')"
       ],
       "metadata": {},
       "output_type": "display_data",
       "text": [
        "<IPython.core.display.Javascript at 0x1119d6810>"
       ]
      },
      {
       "javascript": [
        "jQuery('#progress-bar-4cd84a83-09b5-44ab-8e14-f481225a946c').val('70')"
       ],
       "metadata": {},
       "output_type": "display_data",
       "text": [
        "<IPython.core.display.Javascript at 0x1119d6d10>"
       ]
      },
      {
       "javascript": [
        "jQuery('#progress-bar-4cd84a83-09b5-44ab-8e14-f481225a946c').val('70')"
       ],
       "metadata": {},
       "output_type": "display_data",
       "text": [
        "<IPython.core.display.Javascript at 0x1119d6490>"
       ]
      },
      {
       "javascript": [
        "jQuery('#progress-bar-4cd84a83-09b5-44ab-8e14-f481225a946c').val('71')"
       ],
       "metadata": {},
       "output_type": "display_data",
       "text": [
        "<IPython.core.display.Javascript at 0x1119d6f90>"
       ]
      },
      {
       "javascript": [
        "jQuery('#progress-bar-4cd84a83-09b5-44ab-8e14-f481225a946c').val('71')"
       ],
       "metadata": {},
       "output_type": "display_data",
       "text": [
        "<IPython.core.display.Javascript at 0x1119d6710>"
       ]
      },
      {
       "javascript": [
        "jQuery('#progress-bar-4cd84a83-09b5-44ab-8e14-f481225a946c').val('71')"
       ],
       "metadata": {},
       "output_type": "display_data",
       "text": [
        "<IPython.core.display.Javascript at 0x1119d6650>"
       ]
      },
      {
       "javascript": [
        "jQuery('#progress-bar-4cd84a83-09b5-44ab-8e14-f481225a946c').val('72')"
       ],
       "metadata": {},
       "output_type": "display_data",
       "text": [
        "<IPython.core.display.Javascript at 0x1119d6c90>"
       ]
      },
      {
       "javascript": [
        "jQuery('#progress-bar-4cd84a83-09b5-44ab-8e14-f481225a946c').val('72')"
       ],
       "metadata": {},
       "output_type": "display_data",
       "text": [
        "<IPython.core.display.Javascript at 0x1119d6510>"
       ]
      },
      {
       "javascript": [
        "jQuery('#progress-bar-4cd84a83-09b5-44ab-8e14-f481225a946c').val('72')"
       ],
       "metadata": {},
       "output_type": "display_data",
       "text": [
        "<IPython.core.display.Javascript at 0x1119d6b10>"
       ]
      },
      {
       "javascript": [
        "jQuery('#progress-bar-4cd84a83-09b5-44ab-8e14-f481225a946c').val('73')"
       ],
       "metadata": {},
       "output_type": "display_data",
       "text": [
        "<IPython.core.display.Javascript at 0x1119d6650>"
       ]
      },
      {
       "javascript": [
        "jQuery('#progress-bar-4cd84a83-09b5-44ab-8e14-f481225a946c').val('73')"
       ],
       "metadata": {},
       "output_type": "display_data",
       "text": [
        "<IPython.core.display.Javascript at 0x1119d6d50>"
       ]
      },
      {
       "javascript": [
        "jQuery('#progress-bar-4cd84a83-09b5-44ab-8e14-f481225a946c').val('73')"
       ],
       "metadata": {},
       "output_type": "display_data",
       "text": [
        "<IPython.core.display.Javascript at 0x1119d6dd0>"
       ]
      },
      {
       "javascript": [
        "jQuery('#progress-bar-4cd84a83-09b5-44ab-8e14-f481225a946c').val('74')"
       ],
       "metadata": {},
       "output_type": "display_data",
       "text": [
        "<IPython.core.display.Javascript at 0x1119d6f10>"
       ]
      },
      {
       "javascript": [
        "jQuery('#progress-bar-4cd84a83-09b5-44ab-8e14-f481225a946c').val('74')"
       ],
       "metadata": {},
       "output_type": "display_data",
       "text": [
        "<IPython.core.display.Javascript at 0x1119d6250>"
       ]
      },
      {
       "javascript": [
        "jQuery('#progress-bar-4cd84a83-09b5-44ab-8e14-f481225a946c').val('74')"
       ],
       "metadata": {},
       "output_type": "display_data",
       "text": [
        "<IPython.core.display.Javascript at 0x1119d6990>"
       ]
      },
      {
       "javascript": [
        "jQuery('#progress-bar-4cd84a83-09b5-44ab-8e14-f481225a946c').val('75')"
       ],
       "metadata": {},
       "output_type": "display_data",
       "text": [
        "<IPython.core.display.Javascript at 0x1119d6650>"
       ]
      },
      {
       "javascript": [
        "jQuery('#progress-bar-4cd84a83-09b5-44ab-8e14-f481225a946c').val('75')"
       ],
       "metadata": {},
       "output_type": "display_data",
       "text": [
        "<IPython.core.display.Javascript at 0x1119d6e90>"
       ]
      },
      {
       "javascript": [
        "jQuery('#progress-bar-4cd84a83-09b5-44ab-8e14-f481225a946c').val('75')"
       ],
       "metadata": {},
       "output_type": "display_data",
       "text": [
        "<IPython.core.display.Javascript at 0x1119d6d50>"
       ]
      },
      {
       "javascript": [
        "jQuery('#progress-bar-4cd84a83-09b5-44ab-8e14-f481225a946c').val('76')"
       ],
       "metadata": {},
       "output_type": "display_data",
       "text": [
        "<IPython.core.display.Javascript at 0x1119d6690>"
       ]
      },
      {
       "javascript": [
        "jQuery('#progress-bar-4cd84a83-09b5-44ab-8e14-f481225a946c').val('76')"
       ],
       "metadata": {},
       "output_type": "display_data",
       "text": [
        "<IPython.core.display.Javascript at 0x1119d66d0>"
       ]
      },
      {
       "javascript": [
        "jQuery('#progress-bar-4cd84a83-09b5-44ab-8e14-f481225a946c').val('76')"
       ],
       "metadata": {},
       "output_type": "display_data",
       "text": [
        "<IPython.core.display.Javascript at 0x1119d6a10>"
       ]
      },
      {
       "javascript": [
        "jQuery('#progress-bar-4cd84a83-09b5-44ab-8e14-f481225a946c').val('77')"
       ],
       "metadata": {},
       "output_type": "display_data",
       "text": [
        "<IPython.core.display.Javascript at 0x1119d6c50>"
       ]
      },
      {
       "javascript": [
        "jQuery('#progress-bar-4cd84a83-09b5-44ab-8e14-f481225a946c').val('77')"
       ],
       "metadata": {},
       "output_type": "display_data",
       "text": [
        "<IPython.core.display.Javascript at 0x1119d6810>"
       ]
      },
      {
       "javascript": [
        "jQuery('#progress-bar-4cd84a83-09b5-44ab-8e14-f481225a946c').val('77')"
       ],
       "metadata": {},
       "output_type": "display_data",
       "text": [
        "<IPython.core.display.Javascript at 0x1119d6950>"
       ]
      },
      {
       "javascript": [
        "jQuery('#progress-bar-4cd84a83-09b5-44ab-8e14-f481225a946c').val('78')"
       ],
       "metadata": {},
       "output_type": "display_data",
       "text": [
        "<IPython.core.display.Javascript at 0x1119d6890>"
       ]
      },
      {
       "javascript": [
        "jQuery('#progress-bar-4cd84a83-09b5-44ab-8e14-f481225a946c').val('78')"
       ],
       "metadata": {},
       "output_type": "display_data",
       "text": [
        "<IPython.core.display.Javascript at 0x1119d67d0>"
       ]
      },
      {
       "javascript": [
        "jQuery('#progress-bar-4cd84a83-09b5-44ab-8e14-f481225a946c').val('78')"
       ],
       "metadata": {},
       "output_type": "display_data",
       "text": [
        "<IPython.core.display.Javascript at 0x111846590>"
       ]
      },
      {
       "javascript": [
        "jQuery('#progress-bar-4cd84a83-09b5-44ab-8e14-f481225a946c').val('79')"
       ],
       "metadata": {},
       "output_type": "display_data",
       "text": [
        "<IPython.core.display.Javascript at 0x1119d6650>"
       ]
      },
      {
       "javascript": [
        "jQuery('#progress-bar-4cd84a83-09b5-44ab-8e14-f481225a946c').val('79')"
       ],
       "metadata": {},
       "output_type": "display_data",
       "text": [
        "<IPython.core.display.Javascript at 0x10b502710>"
       ]
      },
      {
       "javascript": [
        "jQuery('#progress-bar-4cd84a83-09b5-44ab-8e14-f481225a946c').val('79')"
       ],
       "metadata": {},
       "output_type": "display_data",
       "text": [
        "<IPython.core.display.Javascript at 0x1119d6f10>"
       ]
      },
      {
       "javascript": [
        "jQuery('#progress-bar-4cd84a83-09b5-44ab-8e14-f481225a946c').val('80')"
       ],
       "metadata": {},
       "output_type": "display_data",
       "text": [
        "<IPython.core.display.Javascript at 0x1119d67d0>"
       ]
      },
      {
       "javascript": [
        "jQuery('#progress-bar-4cd84a83-09b5-44ab-8e14-f481225a946c').val('80')"
       ],
       "metadata": {},
       "output_type": "display_data",
       "text": [
        "<IPython.core.display.Javascript at 0x1119d6490>"
       ]
      },
      {
       "javascript": [
        "jQuery('#progress-bar-4cd84a83-09b5-44ab-8e14-f481225a946c').val('80')"
       ],
       "metadata": {},
       "output_type": "display_data",
       "text": [
        "<IPython.core.display.Javascript at 0x10b502710>"
       ]
      },
      {
       "javascript": [
        "jQuery('#progress-bar-4cd84a83-09b5-44ab-8e14-f481225a946c').val('81')"
       ],
       "metadata": {},
       "output_type": "display_data",
       "text": [
        "<IPython.core.display.Javascript at 0x1119d6dd0>"
       ]
      },
      {
       "javascript": [
        "jQuery('#progress-bar-4cd84a83-09b5-44ab-8e14-f481225a946c').val('81')"
       ],
       "metadata": {},
       "output_type": "display_data",
       "text": [
        "<IPython.core.display.Javascript at 0x1119d65d0>"
       ]
      },
      {
       "javascript": [
        "jQuery('#progress-bar-4cd84a83-09b5-44ab-8e14-f481225a946c').val('81')"
       ],
       "metadata": {},
       "output_type": "display_data",
       "text": [
        "<IPython.core.display.Javascript at 0x1119d63d0>"
       ]
      },
      {
       "javascript": [
        "jQuery('#progress-bar-4cd84a83-09b5-44ab-8e14-f481225a946c').val('82')"
       ],
       "metadata": {},
       "output_type": "display_data",
       "text": [
        "<IPython.core.display.Javascript at 0x1119d65d0>"
       ]
      },
      {
       "javascript": [
        "jQuery('#progress-bar-4cd84a83-09b5-44ab-8e14-f481225a946c').val('82')"
       ],
       "metadata": {},
       "output_type": "display_data",
       "text": [
        "<IPython.core.display.Javascript at 0x1119d6890>"
       ]
      },
      {
       "javascript": [
        "jQuery('#progress-bar-4cd84a83-09b5-44ab-8e14-f481225a946c').val('82')"
       ],
       "metadata": {},
       "output_type": "display_data",
       "text": [
        "<IPython.core.display.Javascript at 0x1119d6cd0>"
       ]
      },
      {
       "javascript": [
        "jQuery('#progress-bar-4cd84a83-09b5-44ab-8e14-f481225a946c').val('83')"
       ],
       "metadata": {},
       "output_type": "display_data",
       "text": [
        "<IPython.core.display.Javascript at 0x1119d6590>"
       ]
      },
      {
       "javascript": [
        "jQuery('#progress-bar-4cd84a83-09b5-44ab-8e14-f481225a946c').val('83')"
       ],
       "metadata": {},
       "output_type": "display_data",
       "text": [
        "<IPython.core.display.Javascript at 0x1119d6810>"
       ]
      },
      {
       "javascript": [
        "jQuery('#progress-bar-4cd84a83-09b5-44ab-8e14-f481225a946c').val('83')"
       ],
       "metadata": {},
       "output_type": "display_data",
       "text": [
        "<IPython.core.display.Javascript at 0x111846650>"
       ]
      },
      {
       "javascript": [
        "jQuery('#progress-bar-4cd84a83-09b5-44ab-8e14-f481225a946c').val('84')"
       ],
       "metadata": {},
       "output_type": "display_data",
       "text": [
        "<IPython.core.display.Javascript at 0x1119d6cd0>"
       ]
      },
      {
       "javascript": [
        "jQuery('#progress-bar-4cd84a83-09b5-44ab-8e14-f481225a946c').val('84')"
       ],
       "metadata": {},
       "output_type": "display_data",
       "text": [
        "<IPython.core.display.Javascript at 0x1119d6bd0>"
       ]
      },
      {
       "javascript": [
        "jQuery('#progress-bar-4cd84a83-09b5-44ab-8e14-f481225a946c').val('84')"
       ],
       "metadata": {},
       "output_type": "display_data",
       "text": [
        "<IPython.core.display.Javascript at 0x1119d6650>"
       ]
      },
      {
       "javascript": [
        "jQuery('#progress-bar-4cd84a83-09b5-44ab-8e14-f481225a946c').val('85')"
       ],
       "metadata": {},
       "output_type": "display_data",
       "text": [
        "<IPython.core.display.Javascript at 0x111846590>"
       ]
      },
      {
       "javascript": [
        "jQuery('#progress-bar-4cd84a83-09b5-44ab-8e14-f481225a946c').val('85')"
       ],
       "metadata": {},
       "output_type": "display_data",
       "text": [
        "<IPython.core.display.Javascript at 0x1119d6fd0>"
       ]
      },
      {
       "javascript": [
        "jQuery('#progress-bar-4cd84a83-09b5-44ab-8e14-f481225a946c').val('85')"
       ],
       "metadata": {},
       "output_type": "display_data",
       "text": [
        "<IPython.core.display.Javascript at 0x1119d6950>"
       ]
      },
      {
       "javascript": [
        "jQuery('#progress-bar-4cd84a83-09b5-44ab-8e14-f481225a946c').val('86')"
       ],
       "metadata": {},
       "output_type": "display_data",
       "text": [
        "<IPython.core.display.Javascript at 0x1119d6bd0>"
       ]
      },
      {
       "javascript": [
        "jQuery('#progress-bar-4cd84a83-09b5-44ab-8e14-f481225a946c').val('86')"
       ],
       "metadata": {},
       "output_type": "display_data",
       "text": [
        "<IPython.core.display.Javascript at 0x1119d6f50>"
       ]
      },
      {
       "javascript": [
        "jQuery('#progress-bar-4cd84a83-09b5-44ab-8e14-f481225a946c').val('86')"
       ],
       "metadata": {},
       "output_type": "display_data",
       "text": [
        "<IPython.core.display.Javascript at 0x1119c7dd0>"
       ]
      },
      {
       "javascript": [
        "jQuery('#progress-bar-4cd84a83-09b5-44ab-8e14-f481225a946c').val('87')"
       ],
       "metadata": {},
       "output_type": "display_data",
       "text": [
        "<IPython.core.display.Javascript at 0x1119d6f50>"
       ]
      },
      {
       "javascript": [
        "jQuery('#progress-bar-4cd84a83-09b5-44ab-8e14-f481225a946c').val('87')"
       ],
       "metadata": {},
       "output_type": "display_data",
       "text": [
        "<IPython.core.display.Javascript at 0x1119d6990>"
       ]
      },
      {
       "javascript": [
        "jQuery('#progress-bar-4cd84a83-09b5-44ab-8e14-f481225a946c').val('87')"
       ],
       "metadata": {},
       "output_type": "display_data",
       "text": [
        "<IPython.core.display.Javascript at 0x1119d6d90>"
       ]
      },
      {
       "javascript": [
        "jQuery('#progress-bar-4cd84a83-09b5-44ab-8e14-f481225a946c').val('88')"
       ],
       "metadata": {},
       "output_type": "display_data",
       "text": [
        "<IPython.core.display.Javascript at 0x1119d6990>"
       ]
      },
      {
       "javascript": [
        "jQuery('#progress-bar-4cd84a83-09b5-44ab-8e14-f481225a946c').val('88')"
       ],
       "metadata": {},
       "output_type": "display_data",
       "text": [
        "<IPython.core.display.Javascript at 0x1119d6410>"
       ]
      },
      {
       "javascript": [
        "jQuery('#progress-bar-4cd84a83-09b5-44ab-8e14-f481225a946c').val('88')"
       ],
       "metadata": {},
       "output_type": "display_data",
       "text": [
        "<IPython.core.display.Javascript at 0x1119d6c90>"
       ]
      },
      {
       "javascript": [
        "jQuery('#progress-bar-4cd84a83-09b5-44ab-8e14-f481225a946c').val('89')"
       ],
       "metadata": {},
       "output_type": "display_data",
       "text": [
        "<IPython.core.display.Javascript at 0x1119d6890>"
       ]
      },
      {
       "javascript": [
        "jQuery('#progress-bar-4cd84a83-09b5-44ab-8e14-f481225a946c').val('89')"
       ],
       "metadata": {},
       "output_type": "display_data",
       "text": [
        "<IPython.core.display.Javascript at 0x1119d6510>"
       ]
      },
      {
       "javascript": [
        "jQuery('#progress-bar-4cd84a83-09b5-44ab-8e14-f481225a946c').val('89')"
       ],
       "metadata": {},
       "output_type": "display_data",
       "text": [
        "<IPython.core.display.Javascript at 0x1119d6e10>"
       ]
      },
      {
       "javascript": [
        "jQuery('#progress-bar-4cd84a83-09b5-44ab-8e14-f481225a946c').val('90')"
       ],
       "metadata": {},
       "output_type": "display_data",
       "text": [
        "<IPython.core.display.Javascript at 0x1119d6410>"
       ]
      },
      {
       "javascript": [
        "jQuery('#progress-bar-4cd84a83-09b5-44ab-8e14-f481225a946c').val('90')"
       ],
       "metadata": {},
       "output_type": "display_data",
       "text": [
        "<IPython.core.display.Javascript at 0x1119d6690>"
       ]
      },
      {
       "javascript": [
        "jQuery('#progress-bar-4cd84a83-09b5-44ab-8e14-f481225a946c').val('90')"
       ],
       "metadata": {},
       "output_type": "display_data",
       "text": [
        "<IPython.core.display.Javascript at 0x1119d67d0>"
       ]
      },
      {
       "javascript": [
        "jQuery('#progress-bar-4cd84a83-09b5-44ab-8e14-f481225a946c').val('91')"
       ],
       "metadata": {},
       "output_type": "display_data",
       "text": [
        "<IPython.core.display.Javascript at 0x1119d6810>"
       ]
      },
      {
       "javascript": [
        "jQuery('#progress-bar-4cd84a83-09b5-44ab-8e14-f481225a946c').val('91')"
       ],
       "metadata": {},
       "output_type": "display_data",
       "text": [
        "<IPython.core.display.Javascript at 0x111846590>"
       ]
      },
      {
       "javascript": [
        "jQuery('#progress-bar-4cd84a83-09b5-44ab-8e14-f481225a946c').val('91')"
       ],
       "metadata": {},
       "output_type": "display_data",
       "text": [
        "<IPython.core.display.Javascript at 0x1119d6b90>"
       ]
      },
      {
       "javascript": [
        "jQuery('#progress-bar-4cd84a83-09b5-44ab-8e14-f481225a946c').val('92')"
       ],
       "metadata": {},
       "output_type": "display_data",
       "text": [
        "<IPython.core.display.Javascript at 0x1119d6b10>"
       ]
      },
      {
       "javascript": [
        "jQuery('#progress-bar-4cd84a83-09b5-44ab-8e14-f481225a946c').val('92')"
       ],
       "metadata": {},
       "output_type": "display_data",
       "text": [
        "<IPython.core.display.Javascript at 0x1119d69d0>"
       ]
      },
      {
       "javascript": [
        "jQuery('#progress-bar-4cd84a83-09b5-44ab-8e14-f481225a946c').val('92')"
       ],
       "metadata": {},
       "output_type": "display_data",
       "text": [
        "<IPython.core.display.Javascript at 0x1119c7dd0>"
       ]
      },
      {
       "javascript": [
        "jQuery('#progress-bar-4cd84a83-09b5-44ab-8e14-f481225a946c').val('93')"
       ],
       "metadata": {},
       "output_type": "display_data",
       "text": [
        "<IPython.core.display.Javascript at 0x1119d6490>"
       ]
      },
      {
       "javascript": [
        "jQuery('#progress-bar-4cd84a83-09b5-44ab-8e14-f481225a946c').val('93')"
       ],
       "metadata": {},
       "output_type": "display_data",
       "text": [
        "<IPython.core.display.Javascript at 0x1119d6850>"
       ]
      },
      {
       "javascript": [
        "jQuery('#progress-bar-4cd84a83-09b5-44ab-8e14-f481225a946c').val('93')"
       ],
       "metadata": {},
       "output_type": "display_data",
       "text": [
        "<IPython.core.display.Javascript at 0x1119d6790>"
       ]
      },
      {
       "javascript": [
        "jQuery('#progress-bar-4cd84a83-09b5-44ab-8e14-f481225a946c').val('94')"
       ],
       "metadata": {},
       "output_type": "display_data",
       "text": [
        "<IPython.core.display.Javascript at 0x1119d6e90>"
       ]
      },
      {
       "javascript": [
        "jQuery('#progress-bar-4cd84a83-09b5-44ab-8e14-f481225a946c').val('94')"
       ],
       "metadata": {},
       "output_type": "display_data",
       "text": [
        "<IPython.core.display.Javascript at 0x1119d6750>"
       ]
      },
      {
       "javascript": [
        "jQuery('#progress-bar-4cd84a83-09b5-44ab-8e14-f481225a946c').val('94')"
       ],
       "metadata": {},
       "output_type": "display_data",
       "text": [
        "<IPython.core.display.Javascript at 0x10db796d0>"
       ]
      },
      {
       "javascript": [
        "jQuery('#progress-bar-4cd84a83-09b5-44ab-8e14-f481225a946c').val('95')"
       ],
       "metadata": {},
       "output_type": "display_data",
       "text": [
        "<IPython.core.display.Javascript at 0x1119d6150>"
       ]
      },
      {
       "javascript": [
        "jQuery('#progress-bar-4cd84a83-09b5-44ab-8e14-f481225a946c').val('95')"
       ],
       "metadata": {},
       "output_type": "display_data",
       "text": [
        "<IPython.core.display.Javascript at 0x1119d6a50>"
       ]
      },
      {
       "javascript": [
        "jQuery('#progress-bar-4cd84a83-09b5-44ab-8e14-f481225a946c').val('95')"
       ],
       "metadata": {},
       "output_type": "display_data",
       "text": [
        "<IPython.core.display.Javascript at 0x1119d6590>"
       ]
      },
      {
       "javascript": [
        "jQuery('#progress-bar-4cd84a83-09b5-44ab-8e14-f481225a946c').val('96')"
       ],
       "metadata": {},
       "output_type": "display_data",
       "text": [
        "<IPython.core.display.Javascript at 0x1119d6f50>"
       ]
      },
      {
       "javascript": [
        "jQuery('#progress-bar-4cd84a83-09b5-44ab-8e14-f481225a946c').val('96')"
       ],
       "metadata": {},
       "output_type": "display_data",
       "text": [
        "<IPython.core.display.Javascript at 0x1119d6ed0>"
       ]
      },
      {
       "javascript": [
        "jQuery('#progress-bar-4cd84a83-09b5-44ab-8e14-f481225a946c').val('96')"
       ],
       "metadata": {},
       "output_type": "display_data",
       "text": [
        "<IPython.core.display.Javascript at 0x1119d6950>"
       ]
      },
      {
       "javascript": [
        "jQuery('#progress-bar-4cd84a83-09b5-44ab-8e14-f481225a946c').val('97')"
       ],
       "metadata": {},
       "output_type": "display_data",
       "text": [
        "<IPython.core.display.Javascript at 0x1119d6590>"
       ]
      },
      {
       "javascript": [
        "jQuery('#progress-bar-4cd84a83-09b5-44ab-8e14-f481225a946c').val('97')"
       ],
       "metadata": {},
       "output_type": "display_data",
       "text": [
        "<IPython.core.display.Javascript at 0x1119d6f10>"
       ]
      },
      {
       "javascript": [
        "jQuery('#progress-bar-4cd84a83-09b5-44ab-8e14-f481225a946c').val('97')"
       ],
       "metadata": {},
       "output_type": "display_data",
       "text": [
        "<IPython.core.display.Javascript at 0x1119d66d0>"
       ]
      },
      {
       "javascript": [
        "jQuery('#progress-bar-4cd84a83-09b5-44ab-8e14-f481225a946c').val('98')"
       ],
       "metadata": {},
       "output_type": "display_data",
       "text": [
        "<IPython.core.display.Javascript at 0x1119d6850>"
       ]
      },
      {
       "javascript": [
        "jQuery('#progress-bar-4cd84a83-09b5-44ab-8e14-f481225a946c').val('98')"
       ],
       "metadata": {},
       "output_type": "display_data",
       "text": [
        "<IPython.core.display.Javascript at 0x1119d6590>"
       ]
      },
      {
       "javascript": [
        "jQuery('#progress-bar-4cd84a83-09b5-44ab-8e14-f481225a946c').val('98')"
       ],
       "metadata": {},
       "output_type": "display_data",
       "text": [
        "<IPython.core.display.Javascript at 0x1119d6950>"
       ]
      },
      {
       "javascript": [
        "jQuery('#progress-bar-4cd84a83-09b5-44ab-8e14-f481225a946c').val('99')"
       ],
       "metadata": {},
       "output_type": "display_data",
       "text": [
        "<IPython.core.display.Javascript at 0x1119d6810>"
       ]
      },
      {
       "javascript": [
        "jQuery('#progress-bar-4cd84a83-09b5-44ab-8e14-f481225a946c').val('99')"
       ],
       "metadata": {},
       "output_type": "display_data",
       "text": [
        "<IPython.core.display.Javascript at 0x1119d6850>"
       ]
      },
      {
       "javascript": [
        "jQuery('#progress-bar-4cd84a83-09b5-44ab-8e14-f481225a946c').val('99')"
       ],
       "metadata": {},
       "output_type": "display_data",
       "text": [
        "<IPython.core.display.Javascript at 0x1119d6c50>"
       ]
      },
      {
       "javascript": [
        "jQuery('#progress-bar-4cd84a83-09b5-44ab-8e14-f481225a946c').val('100')"
       ],
       "metadata": {},
       "output_type": "display_data",
       "text": [
        "<IPython.core.display.Javascript at 0x1119d6d90>"
       ]
      },
      {
       "output_type": "stream",
       "stream": "stdout",
       "text": [
        "Finished after 01:00:23\n"
       ]
      }
     ],
     "prompt_number": 7
    },
    {
     "cell_type": "code",
     "collapsed": false,
     "input": [
      "results"
     ],
     "language": "python",
     "metadata": {},
     "outputs": [
      {
       "html": [
        "\n",
        "        <h4>Result:</h4>\n",
        "        <ul>\n",
        "            <li>model: MODELID_3473243</li>\n",
        "            <li>heuristic: NSGA2</li>\n",
        "            <li>objective function: bpcy = (Biomass_Ecoli_core_N_LPAREN_w_FSLASH_GAM_RPAREN__Nmet2 * EX_ac_LPAREN_e_RPAREN_) / EX_glc_LPAREN_e_RPAREN_| min #knockouts</li>\n",
        "            <li>simulation method: fba</li>\n",
        "            <li>type: None</li>\n",
        "        <ul>\n",
        "        <div style=\"max-height:1000px;max-width:1500px;overflow:auto;\">\n",
        "<table border=\"1\" class=\"dataframe\">\n",
        "  <thead>\n",
        "    <tr style=\"text-align: right;\">\n",
        "      <th></th>\n",
        "      <th>Fitness</th>\n",
        "      <th>Knockouts</th>\n",
        "      <th>Size</th>\n",
        "    </tr>\n",
        "  </thead>\n",
        "  <tbody>\n",
        "    <tr>\n",
        "      <th>0</th>\n",
        "      <td>      (0.561319, 1.0)</td>\n",
        "      <td>               (CO2t)</td>\n",
        "      <td> 1</td>\n",
        "    </tr>\n",
        "    <tr>\n",
        "      <th>1</th>\n",
        "      <td>       (0.64908, 0.5)</td>\n",
        "      <td>        (TKT1, SUCDi)</td>\n",
        "      <td> 2</td>\n",
        "    </tr>\n",
        "    <tr>\n",
        "      <th>2</th>\n",
        "      <td>      (0.606279, 0.5)</td>\n",
        "      <td>       (ATPS4r, ATPM)</td>\n",
        "      <td> 2</td>\n",
        "    </tr>\n",
        "    <tr>\n",
        "      <th>3</th>\n",
        "      <td>  (0.64908, 0.333333)</td>\n",
        "      <td>   (AKGDH, TKT1, ICL)</td>\n",
        "      <td> 3</td>\n",
        "    </tr>\n",
        "    <tr>\n",
        "      <th>4</th>\n",
        "      <td>  (0.64908, 0.333333)</td>\n",
        "      <td> (AKGDH, TKT1, SUCDi)</td>\n",
        "      <td> 3</td>\n",
        "    </tr>\n",
        "    <tr>\n",
        "      <th>5</th>\n",
        "      <td>      (0.535608, 1.0)</td>\n",
        "      <td>             (ATPS4r)</td>\n",
        "      <td> 1</td>\n",
        "    </tr>\n",
        "    <tr>\n",
        "      <th>6</th>\n",
        "      <td> (0.617805, 0.333333)</td>\n",
        "      <td>    (CO2t, ATPM, ICL)</td>\n",
        "      <td> 3</td>\n",
        "    </tr>\n",
        "    <tr>\n",
        "      <th>7</th>\n",
        "      <td>      (0.523097, 1.0)</td>\n",
        "      <td>             (ATPS4r)</td>\n",
        "      <td> 1</td>\n",
        "    </tr>\n",
        "    <tr>\n",
        "      <th>8</th>\n",
        "      <td> (0.617805, 0.333333)</td>\n",
        "      <td>  (CO2t, ATPM, SUCDi)</td>\n",
        "      <td> 3</td>\n",
        "    </tr>\n",
        "    <tr>\n",
        "      <th>9</th>\n",
        "      <td>      (0.586245, 0.5)</td>\n",
        "      <td>       (ATPS4r, ATPM)</td>\n",
        "      <td> 2</td>\n",
        "    </tr>\n",
        "  </tbody>\n",
        "</table>\n",
        "</div>"
       ],
       "metadata": {},
       "output_type": "pyout",
       "prompt_number": 8,
       "text": [
        "<cameo.strain_design.heuristic.KnockoutOptimizationResult at 0x10b502710>"
       ]
      }
     ],
     "prompt_number": 8
    },
    {
     "cell_type": "code",
     "collapsed": false,
     "input": [
      "mutant = model.copy()"
     ],
     "language": "python",
     "metadata": {},
     "outputs": [],
     "prompt_number": 29
    },
    {
     "cell_type": "code",
     "collapsed": false,
     "input": [
      "mutant.reactions.PGL.knock_out()\n",
      "mutant.reactions.SUCDi.knock_out()"
     ],
     "language": "python",
     "metadata": {},
     "outputs": [],
     "prompt_number": 37
    },
    {
     "cell_type": "code",
     "collapsed": false,
     "input": [
      "mutant_fluxes = mutant.solve().x_dict"
     ],
     "language": "python",
     "metadata": {},
     "outputs": [],
     "prompt_number": 38
    },
    {
     "cell_type": "code",
     "collapsed": false,
     "input": [
      "print mutant_fluxes['Biomass_Ecoli_core_N_LPAREN_w_FSLASH_GAM_RPAREN__Nmet2']\n",
      "print mutant_fluxes['EX_ac_LPAREN_e_RPAREN_']"
     ],
     "language": "python",
     "metadata": {},
     "outputs": [
      {
       "output_type": "stream",
       "stream": "stdout",
       "text": [
        "0.654744854115\n",
        "10.0488603347\n"
       ]
      }
     ],
     "prompt_number": 39
    },
    {
     "cell_type": "markdown",
     "metadata": {},
     "source": [
      "### iJO1366 model"
     ]
    },
    {
     "cell_type": "code",
     "collapsed": false,
     "input": [
      "model = load_model(\"../tests/data/iJO1366.xml\")"
     ],
     "language": "python",
     "metadata": {},
     "outputs": [],
     "prompt_number": 9
    },
    {
     "cell_type": "code",
     "collapsed": false,
     "input": [
      "of1 = product_yield(\"EX_ac_LPAREN_e_RPAREN_\", \"EX_glc_LPAREN_e_RPAREN_\")\n",
      "of2 = number_of_knockouts()\n",
      "of3 = biomass_product_coupled_yield(\"Ec_biomass_iJO1366_core_53p95M\", \"EX_ac_LPAREN_e_RPAREN_\", \"EX_glc_LPAREN_e_RPAREN_\")"
     ],
     "language": "python",
     "metadata": {},
     "outputs": [],
     "prompt_number": 10
    },
    {
     "cell_type": "code",
     "collapsed": false,
     "input": [
      "ko = GeneKnockoutOptimization(model=model, objective_function=[of1, of2, of3],\n",
      "                                  simulation_method=fba, heuristic_method=inspyred.ec.emo.NSGA2)"
     ],
     "language": "python",
     "metadata": {},
     "outputs": [],
     "prompt_number": 11
    },
    {
     "cell_type": "code",
     "collapsed": false,
     "input": [
      "ko.run(max_evaluations=5000, n=10, mutation_rate=0.3, popultation_size=100)"
     ],
     "language": "python",
     "metadata": {},
     "outputs": [
      {
       "html": [
        "<progress id='progress-bar-e7567437-7678-40f7-939f-378aa28e0011' value='0' max='100' style='width:50%;'></progress>"
       ],
       "metadata": {},
       "output_type": "display_data",
       "text": [
        "<IPython.core.display.HTML at 0x1120c4890>"
       ]
      },
      {
       "output_type": "stream",
       "stream": "stdout",
       "text": [
        "Starting optimization at Mon, 25 Aug 2014 11:06:21\n"
       ]
      },
      {
       "output_type": "stream",
       "stream": "stdout",
       "text": [
        "found config for http://localhost:5006/\n",
        "{}\n",
        "loading it!\n",
        "if you don't wish to load this config, please pass load_from_config=False\n"
       ]
      },
      {
       "html": [
        "<p>Connecting notebook to document \"2687030f-2c37-11e4-b0f2-b8e856101da4\" at server http://localhost:5006/</p>"
       ],
       "metadata": {},
       "output_type": "display_data"
      },
      {
       "html": [
        "<script src=\"http://localhost:5006//bokeh/embed.js\" bokeh_plottype=\"serverconn\"\n",
        "        bokeh_docid=\"41955465-a931-44fe-8e4e-69df5cb77239\" bokeh_ws_conn_string=\"ws://localhost:5006/bokeh/sub\"\n",
        "        bokeh_docapikey=\"3950b708-57a2-493b-9676-9bd49d9b0ca6\" bokeh_root_url=\"http://localhost:5006/\"\n",
        "        bokeh_modelid=\"2eebbab7-d6d5-4d2d-a525-663215006f8a\" bokeh_modeltype=\"Plot\" async=\"true\"></script>\n",
        "        "
       ],
       "metadata": {},
       "output_type": "display_data"
      },
      {
       "javascript": [
        "jQuery('#progress-bar-e7567437-7678-40f7-939f-378aa28e0011').val('2')"
       ],
       "metadata": {},
       "output_type": "display_data",
       "text": [
        "<IPython.core.display.Javascript at 0x1120a3b90>"
       ]
      },
      {
       "javascript": [
        "jQuery('#progress-bar-e7567437-7678-40f7-939f-378aa28e0011').val('4')"
       ],
       "metadata": {},
       "output_type": "display_data",
       "text": [
        "<IPython.core.display.Javascript at 0x1120a9cd0>"
       ]
      },
      {
       "javascript": [
        "jQuery('#progress-bar-e7567437-7678-40f7-939f-378aa28e0011').val('6')"
       ],
       "metadata": {},
       "output_type": "display_data",
       "text": [
        "<IPython.core.display.Javascript at 0x1120a6950>"
       ]
      },
      {
       "javascript": [
        "jQuery('#progress-bar-e7567437-7678-40f7-939f-378aa28e0011').val('8')"
       ],
       "metadata": {},
       "output_type": "display_data",
       "text": [
        "<IPython.core.display.Javascript at 0x1120958d0>"
       ]
      },
      {
       "javascript": [
        "jQuery('#progress-bar-e7567437-7678-40f7-939f-378aa28e0011').val('10')"
       ],
       "metadata": {},
       "output_type": "display_data",
       "text": [
        "<IPython.core.display.Javascript at 0x11208f8d0>"
       ]
      },
      {
       "javascript": [
        "jQuery('#progress-bar-e7567437-7678-40f7-939f-378aa28e0011').val('12')"
       ],
       "metadata": {},
       "output_type": "display_data",
       "text": [
        "<IPython.core.display.Javascript at 0x1120a9850>"
       ]
      },
      {
       "javascript": [
        "jQuery('#progress-bar-e7567437-7678-40f7-939f-378aa28e0011').val('14')"
       ],
       "metadata": {},
       "output_type": "display_data",
       "text": [
        "<IPython.core.display.Javascript at 0x1120afc50>"
       ]
      },
      {
       "javascript": [
        "jQuery('#progress-bar-e7567437-7678-40f7-939f-378aa28e0011').val('16')"
       ],
       "metadata": {},
       "output_type": "display_data",
       "text": [
        "<IPython.core.display.Javascript at 0x112095fd0>"
       ]
      },
      {
       "javascript": [
        "jQuery('#progress-bar-e7567437-7678-40f7-939f-378aa28e0011').val('18')"
       ],
       "metadata": {},
       "output_type": "display_data",
       "text": [
        "<IPython.core.display.Javascript at 0x112095190>"
       ]
      },
      {
       "javascript": [
        "jQuery('#progress-bar-e7567437-7678-40f7-939f-378aa28e0011').val('20')"
       ],
       "metadata": {},
       "output_type": "display_data",
       "text": [
        "<IPython.core.display.Javascript at 0x112098e10>"
       ]
      },
      {
       "javascript": [
        "jQuery('#progress-bar-e7567437-7678-40f7-939f-378aa28e0011').val('22')"
       ],
       "metadata": {},
       "output_type": "display_data",
       "text": [
        "<IPython.core.display.Javascript at 0x1120afdd0>"
       ]
      },
      {
       "javascript": [
        "jQuery('#progress-bar-e7567437-7678-40f7-939f-378aa28e0011').val('24')"
       ],
       "metadata": {},
       "output_type": "display_data",
       "text": [
        "<IPython.core.display.Javascript at 0x11208ce10>"
       ]
      },
      {
       "javascript": [
        "jQuery('#progress-bar-e7567437-7678-40f7-939f-378aa28e0011').val('26')"
       ],
       "metadata": {},
       "output_type": "display_data",
       "text": [
        "<IPython.core.display.Javascript at 0x1120af850>"
       ]
      },
      {
       "javascript": [
        "jQuery('#progress-bar-e7567437-7678-40f7-939f-378aa28e0011').val('28')"
       ],
       "metadata": {},
       "output_type": "display_data",
       "text": [
        "<IPython.core.display.Javascript at 0x11208f210>"
       ]
      },
      {
       "javascript": [
        "jQuery('#progress-bar-e7567437-7678-40f7-939f-378aa28e0011').val('30')"
       ],
       "metadata": {},
       "output_type": "display_data",
       "text": [
        "<IPython.core.display.Javascript at 0x112092050>"
       ]
      },
      {
       "javascript": [
        "jQuery('#progress-bar-e7567437-7678-40f7-939f-378aa28e0011').val('32')"
       ],
       "metadata": {},
       "output_type": "display_data",
       "text": [
        "<IPython.core.display.Javascript at 0x11208c790>"
       ]
      },
      {
       "javascript": [
        "jQuery('#progress-bar-e7567437-7678-40f7-939f-378aa28e0011').val('34')"
       ],
       "metadata": {},
       "output_type": "display_data",
       "text": [
        "<IPython.core.display.Javascript at 0x11208f910>"
       ]
      },
      {
       "javascript": [
        "jQuery('#progress-bar-e7567437-7678-40f7-939f-378aa28e0011').val('36')"
       ],
       "metadata": {},
       "output_type": "display_data",
       "text": [
        "<IPython.core.display.Javascript at 0x112089190>"
       ]
      },
      {
       "javascript": [
        "jQuery('#progress-bar-e7567437-7678-40f7-939f-378aa28e0011').val('38')"
       ],
       "metadata": {},
       "output_type": "display_data",
       "text": [
        "<IPython.core.display.Javascript at 0x1120afc50>"
       ]
      },
      {
       "javascript": [
        "jQuery('#progress-bar-e7567437-7678-40f7-939f-378aa28e0011').val('40')"
       ],
       "metadata": {},
       "output_type": "display_data",
       "text": [
        "<IPython.core.display.Javascript at 0x112098f10>"
       ]
      },
      {
       "javascript": [
        "jQuery('#progress-bar-e7567437-7678-40f7-939f-378aa28e0011').val('42')"
       ],
       "metadata": {},
       "output_type": "display_data",
       "text": [
        "<IPython.core.display.Javascript at 0x112092ed0>"
       ]
      },
      {
       "javascript": [
        "jQuery('#progress-bar-e7567437-7678-40f7-939f-378aa28e0011').val('44')"
       ],
       "metadata": {},
       "output_type": "display_data",
       "text": [
        "<IPython.core.display.Javascript at 0x11208c790>"
       ]
      },
      {
       "javascript": [
        "jQuery('#progress-bar-e7567437-7678-40f7-939f-378aa28e0011').val('46')"
       ],
       "metadata": {},
       "output_type": "display_data",
       "text": [
        "<IPython.core.display.Javascript at 0x112095b50>"
       ]
      },
      {
       "javascript": [
        "jQuery('#progress-bar-e7567437-7678-40f7-939f-378aa28e0011').val('48')"
       ],
       "metadata": {},
       "output_type": "display_data",
       "text": [
        "<IPython.core.display.Javascript at 0x11208c750>"
       ]
      },
      {
       "javascript": [
        "jQuery('#progress-bar-e7567437-7678-40f7-939f-378aa28e0011').val('50')"
       ],
       "metadata": {},
       "output_type": "display_data",
       "text": [
        "<IPython.core.display.Javascript at 0x1120a3b50>"
       ]
      },
      {
       "javascript": [
        "jQuery('#progress-bar-e7567437-7678-40f7-939f-378aa28e0011').val('52')"
       ],
       "metadata": {},
       "output_type": "display_data",
       "text": [
        "<IPython.core.display.Javascript at 0x1120afc50>"
       ]
      },
      {
       "javascript": [
        "jQuery('#progress-bar-e7567437-7678-40f7-939f-378aa28e0011').val('54')"
       ],
       "metadata": {},
       "output_type": "display_data",
       "text": [
        "<IPython.core.display.Javascript at 0x1120a6f10>"
       ]
      },
      {
       "javascript": [
        "jQuery('#progress-bar-e7567437-7678-40f7-939f-378aa28e0011').val('56')"
       ],
       "metadata": {},
       "output_type": "display_data",
       "text": [
        "<IPython.core.display.Javascript at 0x11208cc90>"
       ]
      },
      {
       "javascript": [
        "jQuery('#progress-bar-e7567437-7678-40f7-939f-378aa28e0011').val('57')"
       ],
       "metadata": {},
       "output_type": "display_data",
       "text": [
        "<IPython.core.display.Javascript at 0x1120a9850>"
       ]
      },
      {
       "javascript": [
        "jQuery('#progress-bar-e7567437-7678-40f7-939f-378aa28e0011').val('60')"
       ],
       "metadata": {},
       "output_type": "display_data",
       "text": [
        "<IPython.core.display.Javascript at 0x11208fd50>"
       ]
      },
      {
       "javascript": [
        "jQuery('#progress-bar-e7567437-7678-40f7-939f-378aa28e0011').val('62')"
       ],
       "metadata": {},
       "output_type": "display_data",
       "text": [
        "<IPython.core.display.Javascript at 0x1120a9dd0>"
       ]
      },
      {
       "javascript": [
        "jQuery('#progress-bar-e7567437-7678-40f7-939f-378aa28e0011').val('64')"
       ],
       "metadata": {},
       "output_type": "display_data",
       "text": [
        "<IPython.core.display.Javascript at 0x112092450>"
       ]
      },
      {
       "javascript": [
        "jQuery('#progress-bar-e7567437-7678-40f7-939f-378aa28e0011').val('66')"
       ],
       "metadata": {},
       "output_type": "display_data",
       "text": [
        "<IPython.core.display.Javascript at 0x112098810>"
       ]
      },
      {
       "javascript": [
        "jQuery('#progress-bar-e7567437-7678-40f7-939f-378aa28e0011').val('68')"
       ],
       "metadata": {},
       "output_type": "display_data",
       "text": [
        "<IPython.core.display.Javascript at 0x112211950>"
       ]
      },
      {
       "javascript": [
        "jQuery('#progress-bar-e7567437-7678-40f7-939f-378aa28e0011').val('70')"
       ],
       "metadata": {},
       "output_type": "display_data",
       "text": [
        "<IPython.core.display.Javascript at 0x112098a90>"
       ]
      },
      {
       "javascript": [
        "jQuery('#progress-bar-e7567437-7678-40f7-939f-378aa28e0011').val('72')"
       ],
       "metadata": {},
       "output_type": "display_data",
       "text": [
        "<IPython.core.display.Javascript at 0x1120a9f50>"
       ]
      },
      {
       "javascript": [
        "jQuery('#progress-bar-e7567437-7678-40f7-939f-378aa28e0011').val('74')"
       ],
       "metadata": {},
       "output_type": "display_data",
       "text": [
        "<IPython.core.display.Javascript at 0x112095d10>"
       ]
      },
      {
       "javascript": [
        "jQuery('#progress-bar-e7567437-7678-40f7-939f-378aa28e0011').val('76')"
       ],
       "metadata": {},
       "output_type": "display_data",
       "text": [
        "<IPython.core.display.Javascript at 0x112098550>"
       ]
      },
      {
       "javascript": [
        "jQuery('#progress-bar-e7567437-7678-40f7-939f-378aa28e0011').val('78')"
       ],
       "metadata": {},
       "output_type": "display_data",
       "text": [
        "<IPython.core.display.Javascript at 0x112089790>"
       ]
      },
      {
       "javascript": [
        "jQuery('#progress-bar-e7567437-7678-40f7-939f-378aa28e0011').val('80')"
       ],
       "metadata": {},
       "output_type": "display_data",
       "text": [
        "<IPython.core.display.Javascript at 0x112095490>"
       ]
      },
      {
       "javascript": [
        "jQuery('#progress-bar-e7567437-7678-40f7-939f-378aa28e0011').val('82')"
       ],
       "metadata": {},
       "output_type": "display_data",
       "text": [
        "<IPython.core.display.Javascript at 0x11208f190>"
       ]
      },
      {
       "javascript": [
        "jQuery('#progress-bar-e7567437-7678-40f7-939f-378aa28e0011').val('84')"
       ],
       "metadata": {},
       "output_type": "display_data",
       "text": [
        "<IPython.core.display.Javascript at 0x11208fc10>"
       ]
      },
      {
       "javascript": [
        "jQuery('#progress-bar-e7567437-7678-40f7-939f-378aa28e0011').val('86')"
       ],
       "metadata": {},
       "output_type": "display_data",
       "text": [
        "<IPython.core.display.Javascript at 0x112095210>"
       ]
      },
      {
       "javascript": [
        "jQuery('#progress-bar-e7567437-7678-40f7-939f-378aa28e0011').val('88')"
       ],
       "metadata": {},
       "output_type": "display_data",
       "text": [
        "<IPython.core.display.Javascript at 0x1120a9ad0>"
       ]
      },
      {
       "javascript": [
        "jQuery('#progress-bar-e7567437-7678-40f7-939f-378aa28e0011').val('90')"
       ],
       "metadata": {},
       "output_type": "display_data",
       "text": [
        "<IPython.core.display.Javascript at 0x1120a3710>"
       ]
      },
      {
       "javascript": [
        "jQuery('#progress-bar-e7567437-7678-40f7-939f-378aa28e0011').val('92')"
       ],
       "metadata": {},
       "output_type": "display_data",
       "text": [
        "<IPython.core.display.Javascript at 0x11208f550>"
       ]
      },
      {
       "javascript": [
        "jQuery('#progress-bar-e7567437-7678-40f7-939f-378aa28e0011').val('94')"
       ],
       "metadata": {},
       "output_type": "display_data",
       "text": [
        "<IPython.core.display.Javascript at 0x11208cf10>"
       ]
      },
      {
       "javascript": [
        "jQuery('#progress-bar-e7567437-7678-40f7-939f-378aa28e0011').val('96')"
       ],
       "metadata": {},
       "output_type": "display_data",
       "text": [
        "<IPython.core.display.Javascript at 0x112098fd0>"
       ]
      },
      {
       "javascript": [
        "jQuery('#progress-bar-e7567437-7678-40f7-939f-378aa28e0011').val('98')"
       ],
       "metadata": {},
       "output_type": "display_data",
       "text": [
        "<IPython.core.display.Javascript at 0x112089ed0>"
       ]
      },
      {
       "javascript": [
        "jQuery('#progress-bar-e7567437-7678-40f7-939f-378aa28e0011').val('100')"
       ],
       "metadata": {},
       "output_type": "display_data",
       "text": [
        "<IPython.core.display.Javascript at 0x112098890>"
       ]
      },
      {
       "output_type": "stream",
       "stream": "stdout",
       "text": [
        "Finished after 01:38:21\n"
       ]
      },
      {
       "html": [
        "\n",
        "        <h4>Result:</h4>\n",
        "        <ul>\n",
        "            <li>model: iJO1366</li>\n",
        "            <li>heuristic: NSGA2</li>\n",
        "            <li>objective function: yield = (EX_ac_LPAREN_e_RPAREN_ / EX_glc_LPAREN_e_RPAREN_)| min #knockouts| bpcy = (Ec_biomass_iJO1366_core_53p95M * EX_ac_LPAREN_e_RPAREN_) / EX_glc_LPAREN_e_RPAREN_</li>\n",
        "            <li>simulation method: fba</li>\n",
        "            <li>type: None</li>\n",
        "        <ul>\n",
        "        <div style=\"max-height:1000px;max-width:1500px;overflow:auto;\">\n",
        "<table border=\"1\" class=\"dataframe\">\n",
        "  <thead>\n",
        "    <tr style=\"text-align: right;\">\n",
        "      <th></th>\n",
        "      <th>Fitness</th>\n",
        "      <th>Knockouts</th>\n",
        "      <th>Size</th>\n",
        "    </tr>\n",
        "  </thead>\n",
        "  <tbody>\n",
        "    <tr>\n",
        "      <th>0 </th>\n",
        "      <td>      (1.394293, 1.0, 0.561171)</td>\n",
        "      <td>                                    (b3737)</td>\n",
        "      <td> 1</td>\n",
        "    </tr>\n",
        "    <tr>\n",
        "      <th>1 </th>\n",
        "      <td>      (1.481471, 0.2, 0.573877)</td>\n",
        "      <td>        (b2508, b2964, b2913, b3732, b3409)</td>\n",
        "      <td> 5</td>\n",
        "    </tr>\n",
        "    <tr>\n",
        "      <th>2 </th>\n",
        "      <td>      (1.394293, 1.0, 0.561171)</td>\n",
        "      <td>                                    (b3731)</td>\n",
        "      <td> 1</td>\n",
        "    </tr>\n",
        "    <tr>\n",
        "      <th>3 </th>\n",
        "      <td>     (1.480182, 0.25, 0.574803)</td>\n",
        "      <td>               (b4209, b2913, b3371, b3732)</td>\n",
        "      <td> 4</td>\n",
        "    </tr>\n",
        "    <tr>\n",
        "      <th>4 </th>\n",
        "      <td>      (1.481471, 0.2, 0.573877)</td>\n",
        "      <td>        (b3451, b2508, b2964, b2913, b3732)</td>\n",
        "      <td> 5</td>\n",
        "    </tr>\n",
        "    <tr>\n",
        "      <th>5 </th>\n",
        "      <td>     (1.480182, 0.25, 0.574803)</td>\n",
        "      <td>               (b2441, b4209, b2913, b3732)</td>\n",
        "      <td> 4</td>\n",
        "    </tr>\n",
        "    <tr>\n",
        "      <th>6 </th>\n",
        "      <td> (1.865577, 0.333333, 0.139252)</td>\n",
        "      <td>                      (b2913, b2779, b3732)</td>\n",
        "      <td> 3</td>\n",
        "    </tr>\n",
        "    <tr>\n",
        "      <th>7 </th>\n",
        "      <td>     (1.480182, 0.25, 0.574803)</td>\n",
        "      <td>               (b4209, b2913, b3732, b1533)</td>\n",
        "      <td> 4</td>\n",
        "    </tr>\n",
        "    <tr>\n",
        "      <th>8 </th>\n",
        "      <td>     (1.480182, 0.25, 0.574803)</td>\n",
        "      <td>               (b4209, b1592, b2913, b3732)</td>\n",
        "      <td> 4</td>\n",
        "    </tr>\n",
        "    <tr>\n",
        "      <th>9 </th>\n",
        "      <td>      (1.480139, 0.5, 0.574833)</td>\n",
        "      <td>                             (b2913, b3732)</td>\n",
        "      <td> 2</td>\n",
        "    </tr>\n",
        "    <tr>\n",
        "      <th>10</th>\n",
        "      <td> (1.655124, 0.333333, 0.315983)</td>\n",
        "      <td>                      (b1876, b2779, b3732)</td>\n",
        "      <td> 3</td>\n",
        "    </tr>\n",
        "    <tr>\n",
        "      <th>11</th>\n",
        "      <td> (1.483096, 0.333333, 0.572706)</td>\n",
        "      <td>                      (b2913, b0910, b3732)</td>\n",
        "      <td> 3</td>\n",
        "    </tr>\n",
        "    <tr>\n",
        "      <th>12</th>\n",
        "      <td> (1.617131, 0.333333, 0.462538)</td>\n",
        "      <td>                      (b2913, b3919, b3732)</td>\n",
        "      <td> 3</td>\n",
        "    </tr>\n",
        "    <tr>\n",
        "      <th>13</th>\n",
        "      <td> (1.483096, 0.333333, 0.572706)</td>\n",
        "      <td>                      (b3737, b2913, b0910)</td>\n",
        "      <td> 3</td>\n",
        "    </tr>\n",
        "    <tr>\n",
        "      <th>14</th>\n",
        "      <td>      (1.480139, 0.5, 0.574833)</td>\n",
        "      <td>                             (b3736, b2913)</td>\n",
        "      <td> 2</td>\n",
        "    </tr>\n",
        "    <tr>\n",
        "      <th>15</th>\n",
        "      <td>     (1.480182, 0.25, 0.574803)</td>\n",
        "      <td>               (b4209, b3428, b2913, b3732)</td>\n",
        "      <td> 4</td>\n",
        "    </tr>\n",
        "    <tr>\n",
        "      <th>16</th>\n",
        "      <td> (1.865933, 0.166667, 0.138909)</td>\n",
        "      <td> (b3942, b3451, b2913, b3733, b2508, b1779)</td>\n",
        "      <td> 6</td>\n",
        "    </tr>\n",
        "    <tr>\n",
        "      <th>17</th>\n",
        "      <td> (1.655124, 0.333333, 0.315983)</td>\n",
        "      <td>                      (b0887, b2779, b3732)</td>\n",
        "      <td> 3</td>\n",
        "    </tr>\n",
        "    <tr>\n",
        "      <th>18</th>\n",
        "      <td> (1.480142, 0.333333, 0.574832)</td>\n",
        "      <td>                      (b3835, b2913, b3732)</td>\n",
        "      <td> 3</td>\n",
        "    </tr>\n",
        "    <tr>\n",
        "      <th>19</th>\n",
        "      <td>      (1.481456, 0.2, 0.573887)</td>\n",
        "      <td>        (b3035, b3737, b2913, b3744, b3350)</td>\n",
        "      <td> 5</td>\n",
        "    </tr>\n",
        "    <tr>\n",
        "      <th>20</th>\n",
        "      <td>      (1.720977, 0.2, 0.317897)</td>\n",
        "      <td>        (b0722, b1713, b4151, b3731, b2779)</td>\n",
        "      <td> 5</td>\n",
        "    </tr>\n",
        "    <tr>\n",
        "      <th>21</th>\n",
        "      <td>      (1.720977, 0.2, 0.317897)</td>\n",
        "      <td>        (b0677, b3945, b0721, b3731, b2779)</td>\n",
        "      <td> 5</td>\n",
        "    </tr>\n",
        "    <tr>\n",
        "      <th>22</th>\n",
        "      <td> (1.655124, 0.333333, 0.315983)</td>\n",
        "      <td>                      (b0887, b3737, b2779)</td>\n",
        "      <td> 3</td>\n",
        "    </tr>\n",
        "    <tr>\n",
        "      <th>23</th>\n",
        "      <td> (1.655124, 0.333333, 0.315983)</td>\n",
        "      <td>                      (b2242, b3732, b2779)</td>\n",
        "      <td> 3</td>\n",
        "    </tr>\n",
        "    <tr>\n",
        "      <th>24</th>\n",
        "      <td>     (1.863096, 0.25, 0.141634)</td>\n",
        "      <td>               (b3455, b3732, b3581, b1779)</td>\n",
        "      <td> 4</td>\n",
        "    </tr>\n",
        "    <tr>\n",
        "      <th>25</th>\n",
        "      <td> (1.904876, 0.166667, 0.135366)</td>\n",
        "      <td> (b2286, b4291, b2913, b0722, b3737, b2779)</td>\n",
        "      <td> 6</td>\n",
        "    </tr>\n",
        "    <tr>\n",
        "      <th>26</th>\n",
        "      <td>     (1.480182, 0.25, 0.574803)</td>\n",
        "      <td>               (b4209, b3737, b2913, b3371)</td>\n",
        "      <td> 4</td>\n",
        "    </tr>\n",
        "    <tr>\n",
        "      <th>27</th>\n",
        "      <td>               (2.0, 0.25, 0.0)</td>\n",
        "      <td>               (b0674, b0688, b0722, b3744)</td>\n",
        "      <td> 4</td>\n",
        "    </tr>\n",
        "    <tr>\n",
        "      <th>28</th>\n",
        "      <td>      (1.720977, 0.2, 0.317897)</td>\n",
        "      <td>        (b0722, b3945, b0721, b3731, b2779)</td>\n",
        "      <td> 5</td>\n",
        "    </tr>\n",
        "    <tr>\n",
        "      <th>29</th>\n",
        "      <td>     (1.863096, 0.25, 0.141634)</td>\n",
        "      <td>               (b1002, b3732, b2199, b1779)</td>\n",
        "      <td> 4</td>\n",
        "    </tr>\n",
        "    <tr>\n",
        "      <th>...</th>\n",
        "      <td>...</td>\n",
        "      <td>...</td>\n",
        "      <td>...</td>\n",
        "    </tr>\n",
        "    <tr>\n",
        "      <th>70</th>\n",
        "      <td> (1.720977, 0.166667, 0.317897)</td>\n",
        "      <td> (b2307, b0722, b0677, b4151, b3731, b2779)</td>\n",
        "      <td> 6</td>\n",
        "    </tr>\n",
        "    <tr>\n",
        "      <th>71</th>\n",
        "      <td>     (1.655124, 0.25, 0.315983)</td>\n",
        "      <td>               (b2779, b0653, b3732, b3371)</td>\n",
        "      <td> 4</td>\n",
        "    </tr>\n",
        "    <tr>\n",
        "      <th>72</th>\n",
        "      <td>     (1.865577, 0.25, 0.139252)</td>\n",
        "      <td>               (b3806, b3737, b2913, b2779)</td>\n",
        "      <td> 4</td>\n",
        "    </tr>\n",
        "    <tr>\n",
        "      <th>73</th>\n",
        "      <td> (1.480139, 0.333333, 0.574833)</td>\n",
        "      <td>                      (b3737, b1487, b2913)</td>\n",
        "      <td> 3</td>\n",
        "    </tr>\n",
        "    <tr>\n",
        "      <th>74</th>\n",
        "      <td> (1.720977, 0.166667, 0.317897)</td>\n",
        "      <td>        (b0722, b0677, b3732, b2490, b2779)</td>\n",
        "      <td> 6</td>\n",
        "    </tr>\n",
        "    <tr>\n",
        "      <th>75</th>\n",
        "      <td>     (1.655124, 0.25, 0.315983)</td>\n",
        "      <td>               (b0698, b3455, b2779, b3732)</td>\n",
        "      <td> 4</td>\n",
        "    </tr>\n",
        "    <tr>\n",
        "      <th>76</th>\n",
        "      <td>     (1.865577, 0.25, 0.139252)</td>\n",
        "      <td>               (b2913, b3371, b3732, b2779)</td>\n",
        "      <td> 4</td>\n",
        "    </tr>\n",
        "    <tr>\n",
        "      <th>77</th>\n",
        "      <td> (1.480139, 0.333333, 0.574833)</td>\n",
        "      <td>                      (b2913, b1539, b3732)</td>\n",
        "      <td> 3</td>\n",
        "    </tr>\n",
        "    <tr>\n",
        "      <th>78</th>\n",
        "      <td> (1.720977, 0.166667, 0.317897)</td>\n",
        "      <td> (b2199, b0722, b1640, b3737, b3731, b2779)</td>\n",
        "      <td> 6</td>\n",
        "    </tr>\n",
        "    <tr>\n",
        "      <th>79</th>\n",
        "      <td>     (1.865577, 0.25, 0.139252)</td>\n",
        "      <td>               (b2913, b3732, b2498, b1779)</td>\n",
        "      <td> 4</td>\n",
        "    </tr>\n",
        "    <tr>\n",
        "      <th>80</th>\n",
        "      <td> (1.480139, 0.333333, 0.574833)</td>\n",
        "      <td>                      (b2232, b2913, b3732)</td>\n",
        "      <td> 3</td>\n",
        "    </tr>\n",
        "    <tr>\n",
        "      <th>81</th>\n",
        "      <td> (1.720977, 0.166667, 0.317897)</td>\n",
        "      <td> (b3371, b0722, b0677, b4194, b3732, b2779)</td>\n",
        "      <td> 6</td>\n",
        "    </tr>\n",
        "    <tr>\n",
        "      <th>82</th>\n",
        "      <td>     (1.655124, 0.25, 0.315983)</td>\n",
        "      <td>               (b2661, b3732, b2601, b2779)</td>\n",
        "      <td> 4</td>\n",
        "    </tr>\n",
        "    <tr>\n",
        "      <th>83</th>\n",
        "      <td>     (1.865577, 0.25, 0.139252)</td>\n",
        "      <td>               (b2702, b2913, b2779, b3732)</td>\n",
        "      <td> 4</td>\n",
        "    </tr>\n",
        "    <tr>\n",
        "      <th>84</th>\n",
        "      <td> (1.720977, 0.166667, 0.317897)</td>\n",
        "      <td> (b3945, b2490, b0722, b0677, b3732, b2779)</td>\n",
        "      <td> 6</td>\n",
        "    </tr>\n",
        "    <tr>\n",
        "      <th>85</th>\n",
        "      <td> (1.720977, 0.166667, 0.317897)</td>\n",
        "      <td> (b3945, b0722, b0677, b3731, b3137, b2779)</td>\n",
        "      <td> 6</td>\n",
        "    </tr>\n",
        "    <tr>\n",
        "      <th>86</th>\n",
        "      <td> (1.720977, 0.166667, 0.317897)</td>\n",
        "      <td> (b3945, b0722, b1640, b1982, b3731, b2779)</td>\n",
        "      <td> 6</td>\n",
        "    </tr>\n",
        "    <tr>\n",
        "      <th>87</th>\n",
        "      <td> (1.720977, 0.166667, 0.317897)</td>\n",
        "      <td> (b3945, b0805, b0722, b3731, b3137, b2779)</td>\n",
        "      <td> 6</td>\n",
        "    </tr>\n",
        "    <tr>\n",
        "      <th>88</th>\n",
        "      <td> (1.720977, 0.166667, 0.317897)</td>\n",
        "      <td> (b1599, b0677, b0722, b3737, b3137, b2779)</td>\n",
        "      <td> 6</td>\n",
        "    </tr>\n",
        "    <tr>\n",
        "      <th>89</th>\n",
        "      <td> (1.720977, 0.166667, 0.317897)</td>\n",
        "      <td> (b2286, b3371, b0722, b3737, b2779, b2223)</td>\n",
        "      <td> 6</td>\n",
        "    </tr>\n",
        "    <tr>\n",
        "      <th>90</th>\n",
        "      <td> (1.720977, 0.166667, 0.317897)</td>\n",
        "      <td>        (b0722, b1640, b4151, b3731, b2779)</td>\n",
        "      <td> 6</td>\n",
        "    </tr>\n",
        "    <tr>\n",
        "      <th>91</th>\n",
        "      <td> (1.720977, 0.166667, 0.317897)</td>\n",
        "      <td> (b3737, b0722, b0677, b2490, b1473, b2779)</td>\n",
        "      <td> 6</td>\n",
        "    </tr>\n",
        "    <tr>\n",
        "      <th>92</th>\n",
        "      <td> (1.720977, 0.166667, 0.317897)</td>\n",
        "      <td> (b1441, b0805, b0722, b3731, b3732, b2779)</td>\n",
        "      <td> 6</td>\n",
        "    </tr>\n",
        "    <tr>\n",
        "      <th>93</th>\n",
        "      <td>     (1.655124, 0.25, 0.315983)</td>\n",
        "      <td>               (b2779, b0653, b3732, b1773)</td>\n",
        "      <td> 4</td>\n",
        "    </tr>\n",
        "    <tr>\n",
        "      <th>94</th>\n",
        "      <td>     (1.865577, 0.25, 0.139252)</td>\n",
        "      <td>               (b2913, b2835, b3732, b2779)</td>\n",
        "      <td> 4</td>\n",
        "    </tr>\n",
        "    <tr>\n",
        "      <th>95</th>\n",
        "      <td> (1.480139, 0.333333, 0.574833)</td>\n",
        "      <td>                      (b2913, b0411, b3732)</td>\n",
        "      <td> 3</td>\n",
        "    </tr>\n",
        "    <tr>\n",
        "      <th>96</th>\n",
        "      <td>     (1.655124, 0.25, 0.315983)</td>\n",
        "      <td>               (b3737, b2242, b2199, b2779)</td>\n",
        "      <td> 4</td>\n",
        "    </tr>\n",
        "    <tr>\n",
        "      <th>97</th>\n",
        "      <td>     (1.865577, 0.25, 0.139252)</td>\n",
        "      <td>               (b3503, b2913, b2779, b3732)</td>\n",
        "      <td> 4</td>\n",
        "    </tr>\n",
        "    <tr>\n",
        "      <th>98</th>\n",
        "      <td> (1.480139, 0.333333, 0.574833)</td>\n",
        "      <td>                      (b2913, b3732, b2688)</td>\n",
        "      <td> 3</td>\n",
        "    </tr>\n",
        "    <tr>\n",
        "      <th>99</th>\n",
        "      <td>     (1.655124, 0.25, 0.315983)</td>\n",
        "      <td>               (b2779, b3371, b3732, b1007)</td>\n",
        "      <td> 4</td>\n",
        "    </tr>\n",
        "  </tbody>\n",
        "</table>\n",
        "<p>100 rows \u00d7 3 columns</p>\n",
        "</div>"
       ],
       "metadata": {},
       "output_type": "pyout",
       "prompt_number": 12,
       "text": [
        "<cameo.strain_design.heuristic.KnockoutOptimizationResult at 0x112211950>"
       ]
      }
     ],
     "prompt_number": 12
    },
    {
     "cell_type": "code",
     "collapsed": false,
     "input": [],
     "language": "python",
     "metadata": {},
     "outputs": []
    }
   ],
   "metadata": {}
  }
 ]
}