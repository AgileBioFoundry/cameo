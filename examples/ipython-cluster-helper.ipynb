{
 "metadata": {
  "name": "",
  "signature": "sha256:1ea7b4790463d87e6c2a0c585599ee780e65cce090b4a7e3efd54905d30f4725"
 },
 "nbformat": 3,
 "nbformat_minor": 0,
 "worksheets": [
  {
   "cells": [
    {
     "cell_type": "code",
     "collapsed": false,
     "input": [
      "from cluster_helper.cluster import cluster_view"
     ],
     "language": "python",
     "metadata": {},
     "outputs": [],
     "prompt_number": 1
    },
    {
     "cell_type": "code",
     "collapsed": false,
     "input": [
      "from cameo import load_model, flux_variability_analysis\n",
      "from cameo.flux_analysis.analysis import _cycle_free_fva"
     ],
     "language": "python",
     "metadata": {},
     "outputs": [],
     "prompt_number": 2
    },
    {
     "cell_type": "code",
     "collapsed": false,
     "input": [
      "model = load_model('../tests/data/iJO1366.xml')\n",
      "# model = load_model('../tests/data/EcoliCore.xml')"
     ],
     "language": "python",
     "metadata": {},
     "outputs": [],
     "prompt_number": 11
    },
    {
     "cell_type": "code",
     "collapsed": false,
     "input": [
      "from cameo.parallel import SequentialView"
     ],
     "language": "python",
     "metadata": {},
     "outputs": [],
     "prompt_number": 4
    },
    {
     "cell_type": "code",
     "collapsed": false,
     "input": [
      "%prun -s cumtime result = flux_variability_analysis(model, reactions=model.reactions[0:800], fraction_of_optimum=1., remove_cycles=True, view=SequentialView())"
     ],
     "language": "python",
     "metadata": {},
     "outputs": [
      {
       "output_type": "stream",
       "stream": "stdout",
       "text": [
        " "
       ]
      }
     ],
     "prompt_number": 12
    },
    {
     "cell_type": "code",
     "collapsed": false,
     "input": [
      "%prun -s cumtime result = flux_variability_analysis(model, reactions=model.reactions[0:800], fraction_of_optimum=1., remove_cycles=False, view=SequentialView())"
     ],
     "language": "python",
     "metadata": {},
     "outputs": []
    },
    {
     "cell_type": "code",
     "collapsed": false,
     "input": [
      "with cluster_view(scheduler=None, queue=None, num_jobs=5, extra_params={\"run_local\": True}) as view:\n",
      "    result = flux_variability_analysis(model, fraction_of_optimum=1., view=view, remove_cycles=True)"
     ],
     "language": "python",
     "metadata": {},
     "outputs": [
      {
       "output_type": "stream",
       "stream": "stdout",
       "text": [
        "Sending a shutdown signal to the controller and engines.\n"
       ]
      }
     ],
     "prompt_number": 12
    },
    {
     "cell_type": "code",
     "collapsed": false,
     "input": [
      "print result.min()\n",
      "print result.max()"
     ],
     "language": "python",
     "metadata": {},
     "outputs": [
      {
       "output_type": "stream",
       "stream": "stdout",
       "text": [
        "lower_bound   -68.305000\n",
        "upper_bound    -0.479429\n",
        "dtype: float64\n",
        "lower_bound      8.39\n",
        "upper_bound    666.44\n",
        "dtype: float64\n"
       ]
      }
     ],
     "prompt_number": 7
    },
    {
     "cell_type": "code",
     "collapsed": false,
     "input": [
      "result[result.upper_bound > 1000]"
     ],
     "language": "python",
     "metadata": {},
     "outputs": [
      {
       "html": [
        "<div style=\"max-height:1000px;max-width:1500px;overflow:auto;\">\n",
        "<table border=\"1\" class=\"dataframe\">\n",
        "  <thead>\n",
        "    <tr style=\"text-align: right;\">\n",
        "      <th></th>\n",
        "      <th>lower_bound</th>\n",
        "      <th>upper_bound</th>\n",
        "    </tr>\n",
        "  </thead>\n",
        "  <tbody>\n",
        "  </tbody>\n",
        "</table>\n",
        "</div>"
       ],
       "metadata": {},
       "output_type": "pyout",
       "prompt_number": 6,
       "text": [
        "Empty DataFrame\n",
        "Columns: [lower_bound, upper_bound]\n",
        "Index: []"
       ]
      }
     ],
     "prompt_number": 6
    },
    {
     "cell_type": "code",
     "collapsed": false,
     "input": [],
     "language": "python",
     "metadata": {},
     "outputs": []
    }
   ],
   "metadata": {}
  }
 ]
}