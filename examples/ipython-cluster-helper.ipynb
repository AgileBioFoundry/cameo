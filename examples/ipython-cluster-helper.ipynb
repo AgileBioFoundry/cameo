{
 "metadata": {
  "name": "",
  "signature": "sha256:af8d95a5aae3d642c1e308497972901fa043243bb25c19cdd64d43730e2f2189"
 },
 "nbformat": 3,
 "nbformat_minor": 0,
 "worksheets": [
  {
   "cells": [
    {
     "cell_type": "code",
     "collapsed": false,
     "input": [
      "from cluster_helper.cluster import cluster_view"
     ],
     "language": "python",
     "metadata": {},
     "outputs": [],
     "prompt_number": 6
    },
    {
     "cell_type": "code",
     "collapsed": false,
     "input": [
      "from cameo import load_model, flux_variability_analysis\n",
      "from cameo.flux_analysis.analysis import _cycle_free_fva"
     ],
     "language": "python",
     "metadata": {},
     "outputs": [],
     "prompt_number": 7
    },
    {
     "cell_type": "code",
     "collapsed": false,
     "input": [
      "from cameo.parallel import SequentialView\n",
      "from cameo.flux_analysis.simulation import _cycle_free_flux, fba"
     ],
     "language": "python",
     "metadata": {},
     "outputs": [],
     "prompt_number": 17
    },
    {
     "cell_type": "code",
     "collapsed": false,
     "input": [
      "# model = load_model('../tests/data/iJO1366.xml')\n",
      "# model = load_model('../tests/data/iTO977_v1.01_cobra.xml')\n",
      "model = load_model('../tests/data/EcoliCore.xml')"
     ],
     "language": "python",
     "metadata": {},
     "outputs": [],
     "prompt_number": 19
    },
    {
     "cell_type": "code",
     "collapsed": false,
     "input": [
      "%time ref = fba(model).x_dict"
     ],
     "language": "python",
     "metadata": {},
     "outputs": [
      {
       "output_type": "stream",
       "stream": "stdout",
       "text": [
        "CPU times: user 2.73 ms, sys: 478 \u00b5s, total: 3.21 ms\n",
        "Wall time: 2.8 ms\n"
       ]
      }
     ],
     "prompt_number": 20
    },
    {
     "cell_type": "code",
     "collapsed": false,
     "input": [
      "%prun -s cumtime _cycle_free_flux(model, ref)"
     ],
     "language": "python",
     "metadata": {},
     "outputs": [
      {
       "output_type": "stream",
       "stream": "stdout",
       "text": [
        " "
       ]
      }
     ],
     "prompt_number": 21
    },
    {
     "cell_type": "code",
     "collapsed": false,
     "input": [
      "%time result = flux_variability_analysis(model, reactions=model.reactions, fraction_of_optimum=.9, remove_cycles=False, view=SequentialView())"
     ],
     "language": "python",
     "metadata": {},
     "outputs": [
      {
       "output_type": "stream",
       "stream": "stdout",
       "text": [
        "CPU times: user 119 ms, sys: 30.9 ms, total: 150 ms\n",
        "Wall time: 154 ms\n"
       ]
      }
     ],
     "prompt_number": 22
    },
    {
     "cell_type": "code",
     "collapsed": false,
     "input": [
      "%time result = flux_variability_analysis(model, reactions=model.reactions, fraction_of_optimum=.9, remove_cycles=True, view=SequentialView())"
     ],
     "language": "python",
     "metadata": {},
     "outputs": [
      {
       "output_type": "stream",
       "stream": "stdout",
       "text": [
        "CPU times: user 262 ms, sys: 4.19 ms, total: 266 ms\n",
        "Wall time: 272 ms\n"
       ]
      }
     ],
     "prompt_number": 23
    },
    {
     "cell_type": "code",
     "collapsed": false,
     "input": [
      "with cluster_view(scheduler=None, queue=None, num_jobs=5, extra_params={\"run_local\": True}) as view:\n",
      "    result = flux_variability_analysis(model, fraction_of_optimum=1., view=view, remove_cycles=True)"
     ],
     "language": "python",
     "metadata": {},
     "outputs": [
      {
       "output_type": "stream",
       "stream": "stdout",
       "text": [
        "Sending a shutdown signal to the controller and engines.\n"
       ]
      },
      {
       "output_type": "stream",
       "stream": "stderr",
       "text": [
        "/Users/niko/.virtualenvs/cameo/lib/python2.7/site-packages/IPython/parallel/client/client.py:446 \u001b[1;31mRuntimeWarning\u001b[0m: \n",
        "            Controller appears to be listening on localhost, but not on this machine.\n",
        "            If this is true, you should specify Client(...,sshserver='you@10.32.0.120')\n",
        "            or instruct your controller to listen on an external IP.\n"
       ]
      }
     ],
     "prompt_number": 24
    },
    {
     "cell_type": "code",
     "collapsed": false,
     "input": [
      "print result.min()\n",
      "print result.max()"
     ],
     "language": "python",
     "metadata": {},
     "outputs": [
      {
       "output_type": "stream",
       "stream": "stdout",
       "text": [
        "lower_bound   -21.610000\n",
        "upper_bound    -6.101818\n",
        "dtype: float64\n",
        "lower_bound     8.39\n",
        "upper_bound    96.44\n",
        "dtype: float64\n"
       ]
      }
     ],
     "prompt_number": 25
    },
    {
     "cell_type": "code",
     "collapsed": false,
     "input": [
      "result[result.lower_bound < -100]"
     ],
     "language": "python",
     "metadata": {},
     "outputs": [
      {
       "html": [
        "<div style=\"max-height:1000px;max-width:1500px;overflow:auto;\">\n",
        "<table border=\"1\" class=\"dataframe\">\n",
        "  <thead>\n",
        "    <tr style=\"text-align: right;\">\n",
        "      <th></th>\n",
        "      <th>lower_bound</th>\n",
        "      <th>upper_bound</th>\n",
        "    </tr>\n",
        "  </thead>\n",
        "  <tbody>\n",
        "  </tbody>\n",
        "</table>\n",
        "</div>"
       ],
       "metadata": {},
       "output_type": "pyout",
       "prompt_number": 26,
       "text": [
        "Empty DataFrame\n",
        "Columns: [lower_bound, upper_bound]\n",
        "Index: []"
       ]
      }
     ],
     "prompt_number": 26
    },
    {
     "cell_type": "code",
     "collapsed": false,
     "input": [
      "result[result.upper_bound > 100]"
     ],
     "language": "python",
     "metadata": {},
     "outputs": [
      {
       "html": [
        "<div style=\"max-height:1000px;max-width:1500px;overflow:auto;\">\n",
        "<table border=\"1\" class=\"dataframe\">\n",
        "  <thead>\n",
        "    <tr style=\"text-align: right;\">\n",
        "      <th></th>\n",
        "      <th>lower_bound</th>\n",
        "      <th>upper_bound</th>\n",
        "    </tr>\n",
        "  </thead>\n",
        "  <tbody>\n",
        "  </tbody>\n",
        "</table>\n",
        "</div>"
       ],
       "metadata": {},
       "output_type": "pyout",
       "prompt_number": 27,
       "text": [
        "Empty DataFrame\n",
        "Columns: [lower_bound, upper_bound]\n",
        "Index: []"
       ]
      }
     ],
     "prompt_number": 27
    }
   ],
   "metadata": {}
  }
 ]
}