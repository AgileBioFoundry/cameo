{
 "metadata": {
  "name": "",
  "signature": "sha256:09e08bf418d5c9bafb07c171739a05f092e60ec9b9cf8de033cc617a4ab24f5c"
 },
 "nbformat": 3,
 "nbformat_minor": 0,
 "worksheets": [
  {
   "cells": [
    {
     "cell_type": "code",
     "collapsed": false,
     "input": [
      "from cluster_helper.cluster import cluster_view"
     ],
     "language": "python",
     "metadata": {},
     "outputs": [],
     "prompt_number": 1
    },
    {
     "cell_type": "code",
     "collapsed": false,
     "input": [
      "from cameo import load_model, flux_variability_analysis\n",
      "from cameo.flux_analysis.analysis import _cycle_free_fva"
     ],
     "language": "python",
     "metadata": {},
     "outputs": [],
     "prompt_number": 2
    },
    {
     "cell_type": "code",
     "collapsed": false,
     "input": [
      "model = load_model('../tests/data/iJO1366.xml')\n",
      "# model = load_model('../tests/data/EcoliCore.xml')"
     ],
     "language": "python",
     "metadata": {},
     "outputs": [],
     "prompt_number": 6
    },
    {
     "cell_type": "code",
     "collapsed": true,
     "input": [
      "%time sol = _cycle_free_fva(model)"
     ],
     "language": "python",
     "metadata": {},
     "outputs": [
      {
       "output_type": "stream",
       "stream": "stdout",
       "text": [
        "ACALD\n",
        "ACALDt\n",
        "ACKr\n",
        "ACONTa\n",
        "ACONTb\n",
        "ACt2r\n",
        "ADK1\n",
        "AKGDH\n",
        "AKGt2r\n",
        "ALCD2x\n",
        "ATPM\n",
        "ATPS4r\n",
        "Biomass_Ecoli_core_N_LPAREN_w_FSLASH_GAM_RPAREN__Nmet2\n",
        "CO2t\n",
        "CS\n",
        "CYTBD\n",
        "D_LACt2\n",
        "ENO\n",
        "ETOHt2r\n",
        "EX_ac_LPAREN_e_RPAREN_\n",
        "EX_acald_LPAREN_e_RPAREN_\n",
        "EX_akg_LPAREN_e_RPAREN_\n",
        "EX_co2_LPAREN_e_RPAREN_\n",
        "EX_etoh_LPAREN_e_RPAREN_\n",
        "EX_for_LPAREN_e_RPAREN_\n",
        "EX_fru_LPAREN_e_RPAREN_\n",
        "EX_fum_LPAREN_e_RPAREN_\n",
        "EX_glc_LPAREN_e_RPAREN_\n",
        "EX_gln_L_LPAREN_e_RPAREN_\n",
        "EX_glu_L_LPAREN_e_RPAREN_\n",
        "EX_h2o_LPAREN_e_RPAREN_\n",
        "EX_h_LPAREN_e_RPAREN_\n",
        "EX_lac_D_LPAREN_e_RPAREN_\n",
        "EX_mal_L_LPAREN_e_RPAREN_\n",
        "EX_nh4_LPAREN_e_RPAREN_\n",
        "EX_o2_LPAREN_e_RPAREN_\n",
        "EX_pi_LPAREN_e_RPAREN_\n",
        "EX_pyr_LPAREN_e_RPAREN_\n",
        "EX_succ_LPAREN_e_RPAREN_\n",
        "FBA\n",
        "FBP\n",
        "FORt2\n",
        "FORti\n",
        "FRD7\n",
        "FRUpts2\n",
        "FUM\n",
        "FUMt2_2\n",
        "G6PDH2r\n",
        "GAPD\n",
        "GLCpts\n",
        "GLNS\n",
        "GLNabc\n",
        "GLUDy\n",
        "GLUN\n",
        "GLUSy\n",
        "GLUt2r\n",
        "GND\n",
        "H2Ot\n",
        "ICDHyr\n",
        "ICL\n",
        "LDH_D\n",
        "MALS\n",
        "MALt2_2\n",
        "MDH\n",
        "ME1\n",
        "ME2\n",
        "NADH16\n",
        "NADTRHD\n",
        "NH4t\n",
        "O2t\n",
        "PDH\n",
        "PFK\n",
        "PFL\n",
        "PGI\n",
        "PGK\n",
        "PGL\n",
        "PGM\n",
        "PIt2r\n",
        "PPC\n",
        "PPCK\n",
        "PPS\n",
        "PTAr\n",
        "PYK\n",
        "PYRt2r\n",
        "RPE\n",
        "RPI\n",
        "SUCCt2_2\n",
        "SUCCt3"
       ]
      },
      {
       "output_type": "stream",
       "stream": "stdout",
       "text": [
        "\n",
        "SUCDi\n",
        "SUCOAS\n",
        "TALA\n",
        "THD2\n",
        "TKT1\n",
        "TKT2\n",
        "TPI\n",
        "ACALD 999999.0\n",
        "ACALDt"
       ]
      },
      {
       "output_type": "stream",
       "stream": "stdout",
       "text": [
        " 999999.0\n",
        "ACKr"
       ]
      },
      {
       "output_type": "stream",
       "stream": "stdout",
       "text": [
        " 999999.0\n",
        "ACONTa"
       ]
      },
      {
       "output_type": "stream",
       "stream": "stdout",
       "text": [
        " 999999.0\n",
        "ACONTb"
       ]
      },
      {
       "output_type": "stream",
       "stream": "stdout",
       "text": [
        " 999999.0\n",
        "ACt2r"
       ]
      },
      {
       "output_type": "stream",
       "stream": "stdout",
       "text": [
        " 999999.0\n",
        "ADK1"
       ]
      },
      {
       "output_type": "stream",
       "stream": "stdout",
       "text": [
        " 999999.0\n",
        "AKGt2r"
       ]
      },
      {
       "output_type": "stream",
       "stream": "stdout",
       "text": [
        " 999999.0\n",
        "ALCD2x"
       ]
      },
      {
       "output_type": "stream",
       "stream": "stdout",
       "text": [
        " 999999.0\n",
        "ATPS4r"
       ]
      },
      {
       "output_type": "stream",
       "stream": "stdout",
       "text": [
        " 999999.0\n",
        "CO2t"
       ]
      },
      {
       "output_type": "stream",
       "stream": "stdout",
       "text": [
        " 999999.0\n",
        "CYTBD"
       ]
      },
      {
       "output_type": "stream",
       "stream": "stdout",
       "text": [
        " 491.600987654\n",
        "D_LACt2"
       ]
      },
      {
       "output_type": "stream",
       "stream": "stdout",
       "text": [
        " 999999.0\n",
        "ENO"
       ]
      },
      {
       "output_type": "stream",
       "stream": "stdout",
       "text": [
        " 999999.0\n",
        "ETOHt2r"
       ]
      },
      {
       "output_type": "stream",
       "stream": "stdout",
       "text": [
        " 999999.0\n",
        "EX_ac_LPAREN_e_RPAREN_"
       ]
      },
      {
       "output_type": "stream",
       "stream": "stdout",
       "text": [
        " 101.933497942\n",
        "EX_acald_LPAREN_e_RPAREN_"
       ]
      },
      {
       "output_type": "stream",
       "stream": "stdout",
       "text": [
        " 121.933497942\n",
        "EX_co2_LPAREN_e_RPAREN_"
       ]
      },
      {
       "output_type": "stream",
       "stream": "stdout",
       "text": [
        " 999999.0\n",
        "EX_etoh_LPAREN_e_RPAREN_"
       ]
      },
      {
       "output_type": "stream",
       "stream": "stdout",
       "text": [
        " 161.933497942\n",
        "EX_for_LPAREN_e_RPAREN_"
       ]
      },
      {
       "output_type": "stream",
       "stream": "stdout",
       "text": [
        " 363.866995885\n",
        "EX_glu_L_LPAREN_e_RPAREN_"
       ]
      },
      {
       "output_type": "stream",
       "stream": "stdout",
       "text": [
        " 100.966748971\n",
        "EX_h2o_LPAREN_e_RPAREN_"
       ]
      },
      {
       "output_type": "stream",
       "stream": "stdout",
       "text": [
        " 999999.0\n",
        "EX_h_LPAREN_e_RPAREN_"
       ]
      },
      {
       "output_type": "stream",
       "stream": "stdout",
       "text": [
        " 999999.0\n",
        "EX_lac_D_LPAREN_e_RPAREN_"
       ]
      },
      {
       "output_type": "stream",
       "stream": "stdout",
       "text": [
        " 221.933497942\n",
        "EX_nh4_LPAREN_e_RPAREN_"
       ]
      },
      {
       "output_type": "stream",
       "stream": "stdout",
       "text": [
        " 999999.0\n",
        "EX_o2_LPAREN_e_RPAREN_"
       ]
      },
      {
       "output_type": "stream",
       "stream": "stdout",
       "text": [
        " 999999.0\n",
        "EX_pi_LPAREN_e_RPAREN_"
       ]
      },
      {
       "output_type": "stream",
       "stream": "stdout",
       "text": [
        " 999999.0\n",
        "EX_pyr_LPAREN_e_RPAREN_"
       ]
      },
      {
       "output_type": "stream",
       "stream": "stdout",
       "text": [
        " 241.933497942\n",
        "EX_succ_LPAREN_e_RPAREN_"
       ]
      },
      {
       "output_type": "stream",
       "stream": "stdout",
       "text": [
        " 223.035696159\n",
        "FBA"
       ]
      },
      {
       "output_type": "stream",
       "stream": "stdout",
       "text": [
        " 999999.0\n",
        "FBP"
       ]
      },
      {
       "output_type": "stream",
       "stream": "stdout",
       "text": [
        " 2458.528107\n",
        "FORt2"
       ]
      },
      {
       "output_type": "stream",
       "stream": "stdout",
       "text": [
        " 10534.112428\n",
        "FORti"
       ]
      },
      {
       "output_type": "stream",
       "stream": "stdout",
       "text": [
        " 11234.112428\n",
        "FRD7"
       ]
      },
      {
       "output_type": "stream",
       "stream": "stdout",
       "text": [
        " 999999.0\n",
        "FUM"
       ]
      },
      {
       "output_type": "stream",
       "stream": "stdout",
       "text": [
        " 999999.0\n",
        "G6PDH2r"
       ]
      },
      {
       "output_type": "stream",
       "stream": "stdout",
       "text": [
        " 999999.0\n",
        "GAPD"
       ]
      },
      {
       "output_type": "stream",
       "stream": "stdout",
       "text": [
        " 999999.0\n",
        "GLCpts"
       ]
      },
      {
       "output_type": "stream",
       "stream": "stdout",
       "text": [
        " 170.966748971\n",
        "GLNS"
       ]
      },
      {
       "output_type": "stream",
       "stream": "stdout",
       "text": [
        " 2344.17773663\n",
        "GLUDy"
       ]
      },
      {
       "output_type": "stream",
       "stream": "stdout",
       "text": [
        " 999999.0\n",
        "GLUN"
       ]
      },
      {
       "output_type": "stream",
       "stream": "stdout",
       "text": [
        " 2474.17773663\n",
        "GLUSy"
       ]
      },
      {
       "output_type": "stream",
       "stream": "stdout",
       "text": [
        " 2604.17773663\n",
        "GLUt2r"
       ]
      },
      {
       "output_type": "stream",
       "stream": "stdout",
       "text": [
        " 999999.0\n",
        "GND"
       ]
      },
      {
       "output_type": "stream",
       "stream": "stdout",
       "text": [
        " 1265.80049383\n",
        "H2Ot"
       ]
      },
      {
       "output_type": "stream",
       "stream": "stdout",
       "text": [
        " 999999.0\n",
        "ICDHyr"
       ]
      },
      {
       "output_type": "stream",
       "stream": "stdout",
       "text": [
        " 999999.0\n",
        "ICL"
       ]
      },
      {
       "output_type": "stream",
       "stream": "stdout",
       "text": [
        " 220.966748971\n",
        "LDH_D"
       ]
      },
      {
       "output_type": "stream",
       "stream": "stdout",
       "text": [
        " 999999.0\n",
        "MALS"
       ]
      },
      {
       "output_type": "stream",
       "stream": "stdout",
       "text": [
        " 230.966748971\n",
        "MDH"
       ]
      },
      {
       "output_type": "stream",
       "stream": "stdout",
       "text": [
        " 999999.0\n",
        "ME1"
       ]
      },
      {
       "output_type": "stream",
       "stream": "stdout",
       "text": [
        " 1562.08886831\n",
        "ME2"
       ]
      },
      {
       "output_type": "stream",
       "stream": "stdout",
       "text": [
        " 1627.08886831\n",
        "NADH16"
       ]
      },
      {
       "output_type": "stream",
       "stream": "stdout",
       "text": [
        " 3131.60098765\n",
        "NADTRHD"
       ]
      },
      {
       "output_type": "stream",
       "stream": "stdout",
       "text": [
        " 10279.9564609\n",
        "NH4t"
       ]
      },
      {
       "output_type": "stream",
       "stream": "stdout",
       "text": [
        " 999999.0\n",
        "O2t"
       ]
      },
      {
       "output_type": "stream",
       "stream": "stdout",
       "text": [
        " 999999.0\n",
        "PDH"
       ]
      },
      {
       "output_type": "stream",
       "stream": "stdout",
       "text": [
        " 561.933497942\n",
        "PFK"
       ]
      },
      {
       "output_type": "stream",
       "stream": "stdout",
       "text": [
        " 3774.17773663\n",
        "PFL"
       ]
      },
      {
       "output_type": "stream",
       "stream": "stdout",
       "text": [
        " 601.933497942\n",
        "PGI"
       ]
      },
      {
       "output_type": "stream",
       "stream": "stdout",
       "text": [
        " 999999.0\n",
        "PGK"
       ]
      },
      {
       "output_type": "stream",
       "stream": "stdout",
       "text": [
        " 999999.0\n",
        "PGL"
       ]
      },
      {
       "output_type": "stream",
       "stream": "stdout",
       "text": [
        " 1865.80049383\n",
        "PGM"
       ]
      },
      {
       "output_type": "stream",
       "stream": "stdout",
       "text": [
        " 999999.0\n",
        "PIt2r"
       ]
      },
      {
       "output_type": "stream",
       "stream": "stdout",
       "text": [
        " 999999.0\n",
        "PPC"
       ]
      },
      {
       "output_type": "stream",
       "stream": "stdout",
       "text": [
        " 4164.17773663\n",
        "PPCK"
       ]
      },
      {
       "output_type": "stream",
       "stream": "stdout",
       "text": [
        " 4294.17773663\n",
        "PPS"
       ]
      },
      {
       "output_type": "stream",
       "stream": "stdout",
       "text": [
        " 4765.1444856\n",
        "PTAr"
       ]
      },
      {
       "output_type": "stream",
       "stream": "stdout",
       "text": [
        " 999999.0\n",
        "PYK"
       ]
      },
      {
       "output_type": "stream",
       "stream": "stdout",
       "text": [
        " 4554.17773663\n",
        "PYRt2r"
       ]
      },
      {
       "output_type": "stream",
       "stream": "stdout",
       "text": [
        " 999999.0\n",
        "RPE"
       ]
      },
      {
       "output_type": "stream",
       "stream": "stdout",
       "text": [
        " 999999.0\n",
        "RPI"
       ]
      },
      {
       "output_type": "stream",
       "stream": "stdout",
       "text": [
        " 999999.0\n",
        "SUCCt2_2"
       ]
      },
      {
       "output_type": "stream",
       "stream": "stdout",
       "text": [
        " 6245.5703155\n",
        "SUCCt3"
       ]
      },
      {
       "output_type": "stream",
       "stream": "stdout",
       "text": [
        " 6418.90364883\n",
        "SUCOAS"
       ]
      },
      {
       "output_type": "stream",
       "stream": "stdout",
       "text": [
        " 999999.0\n",
        "TALA"
       ]
      },
      {
       "output_type": "stream",
       "stream": "stdout",
       "text": [
        " 999999.0\n",
        "THD2"
       ]
      },
      {
       "output_type": "stream",
       "stream": "stdout",
       "text": [
        " 9888.35547325\n",
        "TKT1"
       ]
      },
      {
       "output_type": "stream",
       "stream": "stdout",
       "text": [
        " 999999.0\n",
        "TKT2"
       ]
      },
      {
       "output_type": "stream",
       "stream": "stdout",
       "text": [
        " 999999.0\n",
        "TPI"
       ]
      },
      {
       "output_type": "stream",
       "stream": "stdout",
       "text": [
        " 999999.0\n",
        "CPU times: user 28.4 s, sys: 329 ms, total: 28.7 s"
       ]
      },
      {
       "output_type": "stream",
       "stream": "stdout",
       "text": [
        "\n",
        "Wall time: 28.8 s\n"
       ]
      }
     ],
     "prompt_number": 5
    },
    {
     "cell_type": "code",
     "collapsed": false,
     "input": [
      "from cameo.parallel import SequentialView"
     ],
     "language": "python",
     "metadata": {},
     "outputs": [],
     "prompt_number": 4
    },
    {
     "cell_type": "code",
     "collapsed": false,
     "input": [
      "model.reactions.GAPD.lower_bound = 0\n",
      "model.reactions.GAPD.upper_bound = 0"
     ],
     "language": "python",
     "metadata": {},
     "outputs": [],
     "prompt_number": 11
    },
    {
     "cell_type": "code",
     "collapsed": false,
     "input": [
      "model.reactions.GAPD.reversibility"
     ],
     "language": "python",
     "metadata": {},
     "outputs": [
      {
       "metadata": {},
       "output_type": "pyout",
       "prompt_number": 13,
       "text": [
        "False"
       ]
      }
     ],
     "prompt_number": 13
    },
    {
     "cell_type": "code",
     "collapsed": false,
     "input": [
      "%prun -s cumtime result = flux_variability_analysis(model, reactions=model.reactions[0:200], fraction_of_optimum=1., remove_cycles=False, view=SequentialView())"
     ],
     "language": "python",
     "metadata": {},
     "outputs": [
      {
       "output_type": "stream",
       "stream": "stdout",
       "text": [
        " "
       ]
      }
     ],
     "prompt_number": 14
    },
    {
     "cell_type": "code",
     "collapsed": false,
     "input": [
      "with cluster_view(scheduler=None, queue=None, num_jobs=5, extra_params={\"run_local\": True}) as view:\n",
      "    result = flux_variability_analysis(model, fraction_of_optimum=1., view=view, remove_cycles=True)"
     ],
     "language": "python",
     "metadata": {},
     "outputs": [
      {
       "output_type": "stream",
       "stream": "stdout",
       "text": [
        "Sending a shutdown signal to the controller and engines.\n"
       ]
      }
     ],
     "prompt_number": 12
    },
    {
     "cell_type": "code",
     "collapsed": false,
     "input": [
      "print result.min()\n",
      "print result.max()"
     ],
     "language": "python",
     "metadata": {},
     "outputs": [
      {
       "output_type": "stream",
       "stream": "stdout",
       "text": [
        "lower_bound   -68.305000\n",
        "upper_bound    -0.479429\n",
        "dtype: float64\n",
        "lower_bound      8.39\n",
        "upper_bound    666.44\n",
        "dtype: float64\n"
       ]
      }
     ],
     "prompt_number": 7
    },
    {
     "cell_type": "code",
     "collapsed": false,
     "input": [
      "result[result.upper_bound > 1000]"
     ],
     "language": "python",
     "metadata": {},
     "outputs": [
      {
       "html": [
        "<div style=\"max-height:1000px;max-width:1500px;overflow:auto;\">\n",
        "<table border=\"1\" class=\"dataframe\">\n",
        "  <thead>\n",
        "    <tr style=\"text-align: right;\">\n",
        "      <th></th>\n",
        "      <th>lower_bound</th>\n",
        "      <th>upper_bound</th>\n",
        "    </tr>\n",
        "  </thead>\n",
        "  <tbody>\n",
        "  </tbody>\n",
        "</table>\n",
        "</div>"
       ],
       "metadata": {},
       "output_type": "pyout",
       "prompt_number": 9,
       "text": [
        "Empty DataFrame\n",
        "Columns: [lower_bound, upper_bound]\n",
        "Index: []"
       ]
      }
     ],
     "prompt_number": 9
    },
    {
     "cell_type": "code",
     "collapsed": false,
     "input": [],
     "language": "python",
     "metadata": {},
     "outputs": []
    }
   ],
   "metadata": {}
  }
 ]
}