{
 "metadata": {
  "name": "",
  "signature": "sha256:e2abfac3498170da2461ccb77e874be84f2c69820c215d8d73faacd7a1c99d4b"
 },
 "nbformat": 3,
 "nbformat_minor": 0,
 "worksheets": [
  {
   "cells": [
    {
     "cell_type": "code",
     "collapsed": false,
     "input": [
      "%load_ext autoreload\n",
      "%autoreload 2"
     ],
     "language": "python",
     "metadata": {},
     "outputs": [],
     "prompt_number": 1
    },
    {
     "cell_type": "code",
     "collapsed": false,
     "input": [
      "%matplotlib inline"
     ],
     "language": "python",
     "metadata": {},
     "outputs": [],
     "prompt_number": 2
    },
    {
     "cell_type": "code",
     "collapsed": false,
     "input": [
      "from cameo.strain_design.heuristics import ReactionKnockoutOptimization\n",
      "from cameo import load_model\n",
      "from cameo.strain_design.heuristics.objective_functions import bpcy, product_yield, number_of_knockouts\n",
      "from cameo.flux_analysis.simulation import fba\n",
      "from cameo.solver_based_model import to_solver_based_model\n",
      "from cobra.io import read_sbml_model\n",
      "from optlang import cplex_interface, glpk_interface\n",
      "import cameo\n",
      "import inspyred\n",
      "from random import Random"
     ],
     "language": "python",
     "metadata": {},
     "outputs": [
      {
       "output_type": "stream",
       "stream": "stderr",
       "text": [
        "/Users/joao/.virtualenvs/cameo-env/lib/python2.7/site-packages/pandas/io/excel.py:626 \u001b[1;31mUserWarning\u001b[0m: Installed openpyxl is not supported at this time. Use >=1.6.1 and <2.0.0.\n",
        "/Users/joao/Documents/repos/optlang/optlang/cplex_interface.py:24 \u001b[1;31mUserWarning\u001b[0m: Be careful! The CPLEX interface is still under construction ...\n"
       ]
      }
     ],
     "prompt_number": 3
    },
    {
     "cell_type": "code",
     "collapsed": false,
     "input": [
      "model = read_sbml_model(\"/Users/joao/Documents/repos/cameo/tests/data/iJO1366.xml\")\n",
      "model = to_solver_based_model(model, solver_interface=glpk_interface)"
     ],
     "language": "python",
     "metadata": {},
     "outputs": [],
     "prompt_number": 4
    },
    {
     "cell_type": "code",
     "collapsed": false,
     "input": [
      "of1 = product_yield(\"EX_ac_LPAREN_e_RPAREN_\", \"EX_glc_LPAREN_e_RPAREN_\")\n",
      "of2 = number_of_knockouts()\n",
      "of3 = bpcy(\"Ec_biomass_iJO1366_core_53p95M\", \"EX_ac_LPAREN_e_RPAREN_\", \"EX_glc_LPAREN_e_RPAREN_\")"
     ],
     "language": "python",
     "metadata": {},
     "outputs": [],
     "prompt_number": 5
    },
    {
     "cell_type": "code",
     "collapsed": false,
     "input": [
      "ko = ReactionKnockoutOptimization(model=model, objective_function=[of1, of2],\n",
      "                                  simulation_method=fba, heuristic_method=inspyred.ec.emo.NSGA2)"
     ],
     "language": "python",
     "metadata": {},
     "outputs": [],
     "prompt_number": 6
    },
    {
     "cell_type": "code",
     "collapsed": false,
     "input": [
      "ko.run(max_evaluations=50000, n=10, mutation_rate=0.3, popultation_size=100, crossover_rate=0.2)"
     ],
     "language": "python",
     "metadata": {},
     "outputs": [
      {
       "output_type": "stream",
       "stream": "stdout",
       "text": [
        "found config for http://localhost:5006/\n",
        "{}\n",
        "loading it!\n",
        "if you don't wish to load this config, please pass load_from_config=False\n"
       ]
      },
      {
       "html": [
        "<p>Connecting notebook to document \"41bfa3fa-fdd2-11e3-8dd8-d0e1408cfa06\" at server http://localhost:5006/</p>"
       ],
       "metadata": {},
       "output_type": "display_data"
      },
      {
       "html": [
        "<script src=\"http://localhost:5006//bokeh/embed.js\" bokeh_plottype=\"serverconn\"\n",
        "        bokeh_docid=\"5ce0d31d-fcb6-47fe-bc0d-0b2457584a15\" bokeh_ws_conn_string=\"ws://localhost:5006/bokeh/sub\"\n",
        "        bokeh_docapikey=\"c99cf2cd-54f9-4de4-b0c6-b1ae2b4cb42a\" bokeh_root_url=\"http://localhost:5006/\"\n",
        "        bokeh_modelid=\"d75b4470-5573-4828-92f0-cfd317d39d9a\" bokeh_modeltype=\"Plot\" async=\"true\"></script>\n",
        "        "
       ],
       "metadata": {},
       "output_type": "display_data"
      },
      {
       "html": [
        "<h4>Result:</h4><ul>    <li>model: iJO1366</li>    <li>heuristic: NSGA2</li>    <li>objective function: yield = (EX_ac_LPAREN_e_RPAREN_ / EX_glc_LPAREN_e_RPAREN_)|min #knockouts</li>    <li>simulation method: fba</li>    <li>type: reaction</li></ul><h4>Solutions:</h4><table>   <thead>       <tr>           <th>Knockouts</th>           <th>Fitness</th>           <th>Biomass</th>       </tr>   </thead>   <tbody>       <tr>    <td>LPLIPAL2E141, AIRC3, LPLIPAL2A120</td>    <td>[2.890417, 0.333333]</td>    <td>1.35818083068e-13</td></tr>\n",
        "<tr>    <td>G3PD2, SUCCt2_2pp, PROt4pp</td>    <td>[2.890417, 0.333333]</td>    <td>1.00974195868e-27</td></tr>\n",
        "<tr>    <td>FTHFLi, MEOHtrpp</td>    <td>[2.6435, 0.5]</td>    <td>-1.34800551484e-26</td></tr>\n",
        "<tr>    <td>MEOHtrpp</td>    <td>[2.5, 1.0]</td>    <td>-1.34800551484e-26</td></tr>\n",
        "<tr>    <td>G3PD2</td>    <td>[2.425909, 1.0]</td>    <td>2.73034225628e-24</td></tr>\n",
        "<tr>    <td>MEOHtrpp, 23CUMPtex</td>    <td>[2.624737, 0.5]</td>    <td>-1.79505298983e-27</td></tr>\n",
        "<tr>    <td>G3PD2, TRE6PS, PROt4pp</td>    <td>[2.708095, 0.333333]</td>    <td>8.06501097239e-24</td></tr>\n",
        "<tr>    <td>G3PD2, PGCD, UMPtex, 3OAS141, EAR120x</td>    <td>[2.890417, 0.2]</td>    <td>8.06501097239e-24</td></tr>\n",
        "<tr>    <td>G3PD2</td>    <td>[2.409444, 1.0]</td>    <td>8.06501097239e-24</td></tr>\n",
        "<tr>    <td>MEOHtrpp, 23CUMPtex</td>    <td>[2.526408, 0.5]</td>    <td>9.33911691317e-28</td></tr>\n",
        "<tr>    <td>CCGS, MEOHtrpp, PGP180abcpp, MDDCP1pp</td>    <td>[2.616623, 0.25]</td>    <td>-4.2133059562e-25</td></tr>\n",
        "<tr>    <td>G3PD2, PPM, ICHORSi, CO2tpp, PHETRS</td>    <td>[2.880454, 0.2]</td>    <td>3.12388918468e-28</td></tr>\n",
        "<tr>    <td>G3PD2, LCTSt3ipp</td>    <td>[2.5, 0.5]</td>    <td>4.49335171614e-26</td></tr>\n",
        "<tr>    <td>G3PD2, PGCD, UMPtex, 3OAS141, EAR120x</td>    <td>[2.708095, 0.2]</td>    <td>3.92789621928e-26</td></tr>\n",
        "<tr>    <td>G3PD2, PPM, ATPS4rpp, CO2tpp</td>    <td>[2.56413, 0.25]</td>    <td>-1.06132407773e-27</td></tr>\n",
        "<tr>    <td>MEOHtrpp</td>    <td>[2.4, 1.0]</td>    <td>-1.00974195868e-27</td></tr>\n",
        "<tr>    <td>G3PD2</td>    <td>[2.195556, 1.0]</td>    <td>-2.00370669926e-28</td></tr>\n",
        "<tr>    <td>ACOAD4f, AIRC3</td>    <td>[2.433529, 0.5]</td>    <td>-7.00576696902e-13</td></tr>\n",
        "<tr>    <td>G3PD2, PHETA1, LPLIPAL2E160</td>    <td>[2.5, 0.333333]</td>    <td>4.05887422538e-28</td></tr>\n",
        "<tr>    <td>G3PD2, O16AUNDtpp, SUCRtex</td>    <td>[2.5, 0.333333]</td>    <td>-4.73316543133e-30</td></tr>\n",
        "<tr>    <td>G3PD2, OMBZLM, SUCRtex</td>    <td>[2.5, 0.333333]</td>    <td>-4.73316543133e-30</td></tr>\n",
        "<tr>    <td>G3PD2, PGCD, UMPtex, 3OAS141, PGSA161</td>    <td>[2.614167, 0.2]</td>    <td>-4.73316543133e-30</td></tr>\n",
        "<tr>    <td>G3PD2</td>    <td>[2.0, 1.0]</td>    <td>-4.73316543133e-30</td></tr>\n",
        "<tr>    <td>AIRC3</td>    <td>[2.0, 1.0]</td>    <td>-1.0786890761e-13</td></tr>\n",
        "<tr>    <td>MEOHtrpp</td>    <td>[2.0, 1.0]</td>    <td>1.2651727469e-20</td></tr>\n",
        "<tr>    <td>G3PD2, FMNRx2</td>    <td>[2.425909, 0.5]</td>    <td>1.26217744835e-27</td></tr>\n",
        "<tr>    <td>G3PD2, O16A4Lpp</td>    <td>[2.425909, 0.5]</td>    <td>1.26217744835e-27</td></tr>\n",
        "<tr>    <td>HYD1pp, MEOHtrpp, MDDCP1pp</td>    <td>[2.429375, 0.333333]</td>    <td>-2.84885438396e-24</td></tr>\n",
        "<tr>    <td>G3PD2, DCAtex, MDDCP1pp</td>    <td>[2.429375, 0.333333]</td>    <td>-2.73638893592e-16</td></tr>\n",
        "<tr>    <td>G3PD2, SUCCt2_2pp, CPGNexs</td>    <td>[2.429375, 0.333333]</td>    <td>-2.73638893592e-16</td></tr>\n",
        "<tr>    <td>FRUpts2pp, MEOHtrpp, PGP180abcpp, MDDCP1pp</td>    <td>[2.5, 0.25]</td>    <td>0.0</td></tr>\n",
        "<tr>    <td>G3PD2, DHPTDNRN, S7PI, 2AGPE161tipp</td>    <td>[2.5, 0.25]</td>    <td>0.0</td></tr>\n",
        "<tr>    <td>FRUpts2pp, MEOHtrpp, PGP180abcpp, 2AGPG160tipp</td>    <td>[2.5, 0.25]</td>    <td>-7.14735748034e-23</td></tr>\n",
        "<tr>    <td>G3PD2, MMETt2pp, LPLIPAL1G181pp, PAPSR, ETHAtex</td>    <td>[2.526408, 0.2]</td>    <td>2.7117093617e-28</td></tr>\n",
        "<tr>    <td>AIRC3</td>    <td>[1.8904, 1.0]</td>    <td>-3.60652228077e-13</td></tr>\n",
        "<tr>    <td>G3PD2, ALLTAMH, SUCRtex</td>    <td>[2.409444, 0.333333]</td>    <td>1.68993688252e-15</td></tr>\n",
        "<tr>    <td>G3PD2, CYSDS</td>    <td>[2.4, 0.5]</td>    <td>1.68993688252e-15</td></tr>\n",
        "<tr>    <td>G3PD2, OCDCAtexi, Ec_biomass_iJO1366_WT_53p95M</td>    <td>[2.409444, 0.333333]</td>    <td>1.68993688252e-15</td></tr>\n",
        "<tr>    <td>G3PD2, TRE6PS, PROt4pp</td>    <td>[2.409444, 0.333333]</td>    <td>1.68993688252e-15</td></tr>\n",
        "<tr>    <td>OCTAtex, HSDy, GLUR, GLYC3Pabcpp, TDSR1</td>    <td>[2.5, 0.2]</td>    <td>-8.5828066488e-28</td></tr>\n",
        "<tr>    <td>G3PD2, MDDCP1pp</td>    <td>[2.4, 0.5]</td>    <td>-6.07497006957e-16</td></tr>\n",
        "<tr>    <td>G3PD2, LCTSt3ipp</td>    <td>[2.4, 0.5]</td>    <td>-6.07497006957e-16</td></tr>\n",
        "<tr>    <td>MEOHtrpp, 23CUMPtex</td>    <td>[2.4, 0.5]</td>    <td>0.0</td></tr>\n",
        "<tr>    <td>MEOHtrpp, DAGK180</td>    <td>[2.4, 0.5]</td>    <td>0.0</td></tr>\n",
        "<tr>    <td>PLIPA1E120pp, MEOHtrpp, 12DGR161tipp, CO2tpp</td>    <td>[2.4935, 0.25]</td>    <td>-1.81753552563e-27</td></tr>\n",
        "<tr>    <td>FRUpts2pp, MEOHtrpp, EAR120y, MDDCP1pp</td>    <td>[2.429375, 0.25]</td>    <td>0.0</td></tr>\n",
        "<tr>    <td>G3PD2</td>    <td>[1.804286, 1.0]</td>    <td>0.0</td></tr>\n",
        "<tr>    <td>MEOHtrpp, PGP180abcpp, XYLUtex</td>    <td>[2.376667, 0.333333]</td>    <td>0.0</td></tr>\n",
        "<tr>    <td>MEOHtrpp, GNK</td>    <td>[2.347857, 0.5]</td>    <td>0.0</td></tr>\n",
        "<tr>    <td>G3PD2, MDDCP1pp</td>    <td>[2.347857, 0.5]</td>    <td>0.0</td></tr>\n",
        "<tr>    <td>G3PD2, BTNt2ipp</td>    <td>[2.347857, 0.5]</td>    <td>0.0</td></tr>\n",
        "<tr>    <td>G3PD2, SUCCt2_2pp, ASNNpp, VALTA</td>    <td>[2.409444, 0.25]</td>    <td>0.0</td></tr>\n",
        "<tr>    <td>G3PD2</td>    <td>[1.74449, 1.0]</td>    <td>0.0</td></tr>\n",
        "<tr>    <td>G3PD2, TMAtex</td>    <td>[2.25, 0.5]</td>    <td>0.0</td></tr>\n",
        "<tr>    <td>G3PD2, PPM, PFK_2</td>    <td>[2.347857, 0.333333]</td>    <td>7.57306469012e-28</td></tr>\n",
        "<tr>    <td>3OAS161, MEOHtrpp, PGP180abcpp, PYDXPP</td>    <td>[2.4, 0.25]</td>    <td>-9.31042670423e-24</td></tr>\n",
        "<tr>    <td>2AGPA161tipp, GLUR, GLYC3Pabcpp, SERt4pp</td>    <td>[2.4, 0.25]</td>    <td>4.10207670715e-28</td></tr>\n",
        "<tr>    <td>ARGt3pp, MEOHtrpp, GGPTRCS, MDDCP1pp</td>    <td>[2.4, 0.25]</td>    <td>0.0</td></tr>\n",
        "<tr>    <td>CCGS, MEOHtrpp, PGP180abcpp, MDDCP1pp</td>    <td>[2.4, 0.25]</td>    <td>0.0</td></tr>\n",
        "<tr>    <td>G3PD2</td>    <td>[1.629714, 1.0]</td>    <td>-8.30276102745e-29</td></tr>\n",
        "<tr>    <td>G3PD2, TMAtex</td>    <td>[2.151089, 0.5]</td>    <td>-8.30276102745e-29</td></tr>\n",
        "<tr>    <td>G3PD2, S7PI, 2AGPE161tipp</td>    <td>[2.25, 0.333333]</td>    <td>4.003469094e-29</td></tr>\n",
        "<tr>    <td>ARGt3pp, MEOHtrpp, 12DGR161tipp</td>    <td>[2.25, 0.333333]</td>    <td>1.6231743144e-26</td></tr>\n",
        "<tr>    <td>G3PD2, ADNCYC, LPLIPAL1G181pp, PAPSR</td>    <td>[2.383571, 0.25]</td>    <td>-9.44256326692e-17</td></tr>\n",
        "<tr>    <td>G3PD2, MEOHtrpp, PGP180abcpp, MDDCP1pp</td>    <td>[2.383571, 0.25]</td>    <td>-9.44256326692e-17</td></tr>\n",
        "<tr>    <td>MEOHtrpp</td>    <td>[1.566471, 1.0]</td>    <td>1.11491653641e-26</td></tr>\n",
        "<tr>    <td>G3PD2, DSERt2pp</td>    <td>[2.0, 0.5]</td>    <td>-3.3784378399e-16</td></tr>\n",
        "<tr>    <td>ALLTNt2rpp, AIRC3</td>    <td>[2.0, 0.5]</td>    <td>7.64225524493e-13</td></tr>\n",
        "<tr>    <td>G3PD2, SUCCt2_2pp, PROt4pp</td>    <td>[2.151089, 0.333333]</td>    <td>-1.89326617253e-28</td></tr>\n",
        "<tr>    <td>G3PD2, ACALDtpp</td>    <td>[2.0, 0.5]</td>    <td>-1.89326617253e-28</td></tr>\n",
        "<tr>    <td>G3PD2, MTHFD</td>    <td>[2.0, 0.5]</td>    <td>-1.89326617253e-28</td></tr>\n",
        "<tr>    <td>MEOHtrpp, GLUSy</td>    <td>[2.0, 0.5]</td>    <td>-7.71965166667e-25</td></tr>\n",
        "<tr>    <td>G3PD2, ASCBptspp</td>    <td>[2.0, 0.5]</td>    <td>4.92590891398e-16</td></tr>\n",
        "<tr>    <td>G3PD2, LCTSt3ipp</td>    <td>[2.0, 0.5]</td>    <td>4.92590891398e-16</td></tr>\n",
        "<tr>    <td>G3PD2, O16A4Lpp</td>    <td>[2.0, 0.5]</td>    <td>4.92590891398e-16</td></tr>\n",
        "<tr>    <td>MEOHtrpp, AP5AH</td>    <td>[2.0, 0.5]</td>    <td>2.78136955745e-27</td></tr>\n",
        "<tr>    <td>G3PD2, BALAtex</td>    <td>[2.0, 0.5]</td>    <td>2.52435489671e-29</td></tr>\n",
        "<tr>    <td>MEOHtrpp, NMNDA</td>    <td>[2.0, 0.5]</td>    <td>-3.92874658185e-29</td></tr>\n",
        "<tr>    <td>G3PD2, NTPP2</td>    <td>[2.0, 0.5]</td>    <td>8.48183245294e-27</td></tr>\n",
        "<tr>    <td>MEOHtrpp, CLPNS180pp</td>    <td>[2.0, 0.5]</td>    <td>7.11868080871e-27</td></tr>\n",
        "<tr>    <td>G3PD2, CYSDS</td>    <td>[2.0, 0.5]</td>    <td>-5.30114528309e-26</td></tr>\n",
        "<tr>    <td>G3PD2, 3HAD80</td>    <td>[2.0, 0.5]</td>    <td>-5.30114528309e-26</td></tr>\n",
        "<tr>    <td>G3PD2, DDGLK</td>    <td>[2.0, 0.5]</td>    <td>-5.30114528309e-26</td></tr>\n",
        "<tr>    <td>G3PD2, FRUK</td>    <td>[2.0, 0.5]</td>    <td>-5.30114528309e-26</td></tr>\n",
        "<tr>    <td>AIRC3, APG3PAT141</td>    <td>[2.0, 0.5]</td>    <td>-4.92410090132e-13</td></tr>\n",
        "<tr>    <td>G3PD2, BTNt2ipp</td>    <td>[2.0, 0.5]</td>    <td>9.52675480313e-30</td></tr>\n",
        "<tr>    <td>ALDD2x, MEOHtrpp</td>    <td>[2.0, 0.5]</td>    <td>2.32341624693e-25</td></tr>\n",
        "<tr>    <td>G3PD2, NMNtex</td>    <td>[2.0, 0.5]</td>    <td>-2.6980305136e-25</td></tr>\n",
        "<tr>    <td>MEOHtrpp, 23CUMPtex</td>    <td>[2.0, 0.5]</td>    <td>-1.27227486794e-26</td></tr>\n",
        "<tr>    <td>G3PD2, CYTK1</td>    <td>[2.0, 0.5]</td>    <td>-1.7670484277e-28</td></tr>\n",
        "<tr>    <td>GPDDA5, MEOHtrpp</td>    <td>[2.0, 0.5]</td>    <td>0.0</td></tr>\n",
        "<tr>    <td>G3PD2, NACODA</td>    <td>[2.0, 0.5]</td>    <td>2.46679866886e-15</td></tr>\n",
        "<tr>    <td>G3PD2, MOX</td>    <td>[2.0, 0.5]</td>    <td>2.46679866886e-15</td></tr>\n",
        "<tr>    <td>G3PD2, DAGK180</td>    <td>[2.0, 0.5]</td>    <td>2.46679866886e-15</td></tr>\n",
        "<tr>    <td>G3PD2, TTDCEAtexi</td>    <td>[2.0, 0.5]</td>    <td>2.46679866886e-15</td></tr>\n",
        "<tr>    <td>G3PD2, ALAt2pp</td>    <td>[2.0, 0.5]</td>    <td>2.46679866886e-15</td></tr>\n",
        "<tr>    <td>G3PD2, HOMt2pp</td>    <td>[2.0, 0.5]</td>    <td>2.46679866886e-15</td></tr>\n",
        "<tr>    <td>G3PD2, FDMO3</td>    <td>[2.0, 0.5]</td>    <td>2.46679866886e-15</td></tr>\n",
        "<tr>    <td>G3PD2, SUCCt2_3pp</td>    <td>[2.0, 0.5]</td>    <td>2.46679866886e-15</td></tr>\n",
        "<tr>    <td>MEOHtrpp, MDDCP1pp</td>    <td>[2.0, 0.5]</td>    <td>4.41762106924e-29</td></tr>   </tbody><table>"
       ],
       "metadata": {},
       "output_type": "pyout",
       "prompt_number": 8,
       "text": [
        "<cameo.strain_design.heuristics.KnockoutOptimizationResult at 0x108c72a50>"
       ]
      }
     ],
     "prompt_number": 8
    },
    {
     "cell_type": "code",
     "collapsed": false,
     "input": [],
     "language": "python",
     "metadata": {},
     "outputs": []
    }
   ],
   "metadata": {}
  }
 ]
}