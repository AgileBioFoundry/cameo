{
 "metadata": {
  "name": "",
  "signature": "sha256:778a6269f31704c51b49e83afb06126af74e4c8c318f98ee5a7033bb449b6576"
 },
 "nbformat": 3,
 "nbformat_minor": 0,
 "worksheets": [
  {
   "cells": [
    {
     "cell_type": "heading",
     "level": 2,
     "metadata": {},
     "source": [
      "Differential flux variability analysis"
     ]
    },
    {
     "cell_type": "code",
     "collapsed": false,
     "input": [
      "%matplotlib inline"
     ],
     "language": "python",
     "metadata": {},
     "outputs": [],
     "prompt_number": 1
    },
    {
     "cell_type": "code",
     "collapsed": false,
     "input": [
      "from matplotlib import pyplot"
     ],
     "language": "python",
     "metadata": {},
     "outputs": [],
     "prompt_number": 2
    },
    {
     "cell_type": "code",
     "collapsed": false,
     "input": [
      "from cameo import load_model\n",
      "from cameo.flux_analysis.analysis import flux_variability_analysis, phenotypic_phase_plane\n",
      "from cameo.strain_design.deterministic import DifferentialFVA\n",
      "from cameo.parallel import SequentialView"
     ],
     "language": "python",
     "metadata": {},
     "outputs": [],
     "prompt_number": 3
    },
    {
     "cell_type": "markdown",
     "metadata": {},
     "source": [
      "Load the E. coli core model."
     ]
    },
    {
     "cell_type": "code",
     "collapsed": false,
     "input": [
      "model = load_model('../tests/data/EcoliCore.xml')"
     ],
     "language": "python",
     "metadata": {},
     "outputs": [],
     "prompt_number": 4
    },
    {
     "cell_type": "markdown",
     "metadata": {},
     "source": [
      "The production envelope looks like this."
     ]
    },
    {
     "cell_type": "code",
     "collapsed": false,
     "input": [
      "production_envelope = phenotypic_phase_plane(model, [model.reactions.Biomass_Ecoli_core_N_LPAREN_w_FSLASH_GAM_RPAREN__Nmet2], model.reactions.EX_succ_LPAREN_e_RPAREN_)\n",
      "growth = production_envelope.Biomass_Ecoli_core_N_LPAREN_w_FSLASH_GAM_RPAREN__Nmet2\n",
      "lb = production_envelope.objective_lower_bound\n",
      "ub = production_envelope.objective_upper_bound\n",
      "fig = pyplot.figure()\n",
      "pyplot.plot(growth, lb, 'k', growth, ub, 'k')\n",
      "pyplot.fill_between(growth, ub)\n",
      "pyplot.xlabel('Growth')\n",
      "pyplot.ylabel('Production');"
     ],
     "language": "python",
     "metadata": {},
     "outputs": [
      {
       "metadata": {},
       "output_type": "display_data",
       "png": "[encoded data removed]",
       "text": [
        "<matplotlib.figure.Figure at 0x114144d50>"
       ]
      }
     ],
     "prompt_number": 6
    },
    {
     "cell_type": "markdown",
     "metadata": {},
     "source": [
      "Set up a model that represent a reference state (in this case a model with a constrained growth rate)."
     ]
    },
    {
     "cell_type": "code",
     "collapsed": false,
     "input": [
      "reference_model = model.copy()\n",
      "biomass_rxn = reference_model.reactions.Biomass_Ecoli_core_N_LPAREN_w_FSLASH_GAM_RPAREN__Nmet2\n",
      "biomass_rxn.lower_bound = 0.3\n",
      "target = reference_model.reactions.EX_succ_LPAREN_e_RPAREN_\n",
      "target.lower_bound = 2"
     ],
     "language": "python",
     "metadata": {},
     "outputs": [],
     "prompt_number": 7
    },
    {
     "cell_type": "markdown",
     "metadata": {},
     "source": [
      "Set up the differential flux variability analysis strain design method."
     ]
    },
    {
     "cell_type": "code",
     "collapsed": false,
     "input": [
      "diffFVA = DifferentialFVA(design_space_model=model,\n",
      "                          reference_model=reference_model,\n",
      "                          objective=reference_model.reactions.EX_succ_LPAREN_e_RPAREN_,\n",
      "                          variables=[biomass_rxn],\n",
      "                          normalize_ranges_by=biomass_rxn,\n",
      "                          points=10)"
     ],
     "language": "python",
     "metadata": {},
     "outputs": [
      {
       "output_type": "stream",
       "stream": "stdout",
       "text": [
        "set(['EX_gln_L_LPAREN_e_RPAREN_', 'EX_for_LPAREN_e_RPAREN_', 'EX_lac_D_LPAREN_e_RPAREN_', 'EX_fru_LPAREN_e_RPAREN_', 'EX_ac_LPAREN_e_RPAREN_', 'EX_etoh_LPAREN_e_RPAREN_', 'EX_pi_LPAREN_e_RPAREN_', 'EX_mal_L_LPAREN_e_RPAREN_', 'EX_fum_LPAREN_e_RPAREN_', 'EX_akg_LPAREN_e_RPAREN_', 'EX_glc_LPAREN_e_RPAREN_', 'EX_glu_L_LPAREN_e_RPAREN_', 'EX_nh4_LPAREN_e_RPAREN_', 'EX_h2o_LPAREN_e_RPAREN_', 'EX_acald_LPAREN_e_RPAREN_', 'EX_co2_LPAREN_e_RPAREN_', 'EX_h_LPAREN_e_RPAREN_', 'EX_o2_LPAREN_e_RPAREN_', 'EX_pyr_LPAREN_e_RPAREN_'])\n"
       ]
      }
     ],
     "prompt_number": 8
    },
    {
     "cell_type": "markdown",
     "metadata": {},
     "source": [
      "Run differential flux variability analysis"
     ]
    },
    {
     "cell_type": "code",
     "collapsed": false,
     "input": [
      "result = diffFVA.run(view=SequentialView())\n",
      "x = [elem[0][1] for elem in list(result.items)]\n",
      "y = [elem[1][1] for elem in list(result.items)]\n",
      "pyplot.plot(growth, lb, 'k', growth, ub, 'k')\n",
      "pyplot.plot([biomass_rxn.lower_bound], [target.lower_bound], 'go')\n",
      "pyplot.fill_between(growth, ub, color='gray')\n",
      "pyplot.xlabel('Growth')\n",
      "pyplot.ylabel('Production');\n",
      "pyplot.plot(x,y, 'ro');"
     ],
     "language": "python",
     "metadata": {},
     "outputs": [
      {
       "javascript": [
        "//2b5599fa-8629-4054-a8ab-4b3b14b04315\n",
        "$(\"head\").append(\"<style> td.pb_widget {     width: auto; } td.pb_widget_fill {     width: 100%; } table.pb {     font-family: monospace;     border: 0;     margin: 0; } table.pb tr { border: 0; } table.pb td {     white-space: nowrap;     border: 0; } div.pb {     border: 1px solid #ddd;     border-radius: 3px; } div.pb_bar {     height: 1.5em; } </style>\")"
       ],
       "metadata": {},
       "output_type": "display_data",
       "text": [
        "<IPython.core.display.Javascript at 0x113f4ffd0>"
       ]
      },
      {
       "javascript": [
        "\n",
        "                  // 2b5599fa-8629-4054-a8ab-4b3b14b04315 -- used to remove this code blob in the end\n",
        "                  IPython.OutputArea.prototype.cleanProgressBar = function(uuids) {\n",
        "                      // filter by uuid-strings \n",
        "                      var myfilter = function(output) { \n",
        "                          var nuids = uuids.length;\n",
        "                          for (var i=0; i<nuids; i++) {\n",
        "                              if (output.hasOwnProperty('html')) {\n",
        "                                  if (output.html.indexOf(uuids[i]) != -1) {\n",
        "                                      return false;\n",
        "                                  }\n",
        "                              }\n",
        "                              if (output.hasOwnProperty('javascript')) {\n",
        "                                  if (output.javascript.indexOf(uuids[i]) != -1) {\n",
        "                                      return false;\n",
        "                                  }\n",
        "                              }\n",
        "                          }\n",
        "                          // keep all others\n",
        "                          return true;\n",
        "                      };\n",
        "\n",
        "                      // Filter the ouputs\n",
        "                      this.outputs = this.outputs.filter(myfilter);\n",
        "                };\n",
        "                "
       ],
       "metadata": {},
       "output_type": "display_data",
       "text": [
        "<IPython.core.display.Javascript at 0x113f57d10>"
       ]
      },
      {
       "html": [
        "<div class=\"pb\" id=\"2b5599fa-8629-4054-a8ab-4b3b14b04315\"><table class=\"pb ui-widget\"><tr>\n",
        "<td class=\"pb_widget\">Scanning grid points </td>\n",
        "<td class=\"pb_widget_fill\">\n",
        "        <div class=\"pb_bar\" id=\"86de7465-e225-4069-8f08-6b5ea417211d\"></div>\n",
        "        <script type=\"text/javascript\">\n",
        "            $(\"div#86de7465-e225-4069-8f08-6b5ea417211d\").progressbar({value: 0, max: 36});\n",
        "        </script>\n",
        "        </td>\n",
        "<td class=\"pb_widget\"> </td>\n",
        "<td class=\"pb_widget\"><div id=\"62f6eb99-29e3-4453-8b1a-f222a58d757f\">ETA:  --:--:--</div></td>\n",
        "</tr></table><div>"
       ],
       "metadata": {},
       "output_type": "display_data",
       "text": [
        "<IPython.core.display.HTML at 0x113f57cd0>"
       ]
      },
      {
       "javascript": [
        "\n",
        "        var $myPB = $(\"div#86de7465-e225-4069-8f08-6b5ea417211d\")\n",
        "        if ($myPB.hasClass('ui-progressbar')) {\n",
        "            $myPB.progressbar('value', 1);\n",
        "        } else {\n",
        "            $myPB.progressbar({value: 0, max: 36});\n",
        "        }\n",
        "        "
       ],
       "metadata": {},
       "output_type": "display_data",
       "text": [
        "<IPython.core.display.Javascript at 0x113f57ed0>"
       ]
      },
      {
       "javascript": [
        "$('div#62f6eb99-29e3-4453-8b1a-f222a58d757f').text('ETA:  0:00:04');"
       ],
       "metadata": {},
       "output_type": "display_data",
       "text": [
        "<IPython.core.display.Javascript at 0x113f57e50>"
       ]
      },
      {
       "javascript": [
        "\n",
        "        var $myPB = $(\"div#86de7465-e225-4069-8f08-6b5ea417211d\")\n",
        "        if ($myPB.hasClass('ui-progressbar')) {\n",
        "            $myPB.progressbar('value', 2);\n",
        "        } else {\n",
        "            $myPB.progressbar({value: 0, max: 36});\n",
        "        }\n",
        "        "
       ],
       "metadata": {},
       "output_type": "display_data",
       "text": [
        "<IPython.core.display.Javascript at 0x113f57b90>"
       ]
      },
      {
       "javascript": [
        "$('div#62f6eb99-29e3-4453-8b1a-f222a58d757f').text('ETA:  0:00:04');"
       ],
       "metadata": {},
       "output_type": "display_data",
       "text": [
        "<IPython.core.display.Javascript at 0x113f57f10>"
       ]
      },
      {
       "javascript": [
        "\n",
        "        var $myPB = $(\"div#86de7465-e225-4069-8f08-6b5ea417211d\")\n",
        "        if ($myPB.hasClass('ui-progressbar')) {\n",
        "            $myPB.progressbar('value', 3);\n",
        "        } else {\n",
        "            $myPB.progressbar({value: 0, max: 36});\n",
        "        }\n",
        "        "
       ],
       "metadata": {},
       "output_type": "display_data",
       "text": [
        "<IPython.core.display.Javascript at 0x113f57b50>"
       ]
      },
      {
       "javascript": [
        "$('div#62f6eb99-29e3-4453-8b1a-f222a58d757f').text('ETA:  0:00:03');"
       ],
       "metadata": {},
       "output_type": "display_data",
       "text": [
        "<IPython.core.display.Javascript at 0x113f57d10>"
       ]
      },
      {
       "javascript": [
        "\n",
        "        var $myPB = $(\"div#86de7465-e225-4069-8f08-6b5ea417211d\")\n",
        "        if ($myPB.hasClass('ui-progressbar')) {\n",
        "            $myPB.progressbar('value', 4);\n",
        "        } else {\n",
        "            $myPB.progressbar({value: 0, max: 36});\n",
        "        }\n",
        "        "
       ],
       "metadata": {},
       "output_type": "display_data",
       "text": [
        "<IPython.core.display.Javascript at 0x113f57ad0>"
       ]
      },
      {
       "javascript": [
        "$('div#62f6eb99-29e3-4453-8b1a-f222a58d757f').text('ETA:  0:00:03');"
       ],
       "metadata": {},
       "output_type": "display_data",
       "text": [
        "<IPython.core.display.Javascript at 0x113f57e90>"
       ]
      },
      {
       "javascript": [
        "\n",
        "        var $myPB = $(\"div#86de7465-e225-4069-8f08-6b5ea417211d\")\n",
        "        if ($myPB.hasClass('ui-progressbar')) {\n",
        "            $myPB.progressbar('value', 5);\n",
        "        } else {\n",
        "            $myPB.progressbar({value: 0, max: 36});\n",
        "        }\n",
        "        "
       ],
       "metadata": {},
       "output_type": "display_data",
       "text": [
        "<IPython.core.display.Javascript at 0x113f57890>"
       ]
      },
      {
       "javascript": [
        "$('div#62f6eb99-29e3-4453-8b1a-f222a58d757f').text('ETA:  0:00:03');"
       ],
       "metadata": {},
       "output_type": "display_data",
       "text": [
        "<IPython.core.display.Javascript at 0x113f57f50>"
       ]
      },
      {
       "javascript": [
        "\n",
        "        var $myPB = $(\"div#86de7465-e225-4069-8f08-6b5ea417211d\")\n",
        "        if ($myPB.hasClass('ui-progressbar')) {\n",
        "            $myPB.progressbar('value', 6);\n",
        "        } else {\n",
        "            $myPB.progressbar({value: 0, max: 36});\n",
        "        }\n",
        "        "
       ],
       "metadata": {},
       "output_type": "display_data",
       "text": [
        "<IPython.core.display.Javascript at 0x113f57b50>"
       ]
      },
      {
       "javascript": [
        "$('div#62f6eb99-29e3-4453-8b1a-f222a58d757f').text('ETA:  0:00:03');"
       ],
       "metadata": {},
       "output_type": "display_data",
       "text": [
        "<IPython.core.display.Javascript at 0x113f57ed0>"
       ]
      },
      {
       "javascript": [
        "\n",
        "        var $myPB = $(\"div#86de7465-e225-4069-8f08-6b5ea417211d\")\n",
        "        if ($myPB.hasClass('ui-progressbar')) {\n",
        "            $myPB.progressbar('value', 7);\n",
        "        } else {\n",
        "            $myPB.progressbar({value: 0, max: 36});\n",
        "        }\n",
        "        "
       ],
       "metadata": {},
       "output_type": "display_data",
       "text": [
        "<IPython.core.display.Javascript at 0x113f57e50>"
       ]
      },
      {
       "javascript": [
        "$('div#62f6eb99-29e3-4453-8b1a-f222a58d757f').text('ETA:  0:00:03');"
       ],
       "metadata": {},
       "output_type": "display_data",
       "text": [
        "<IPython.core.display.Javascript at 0x113f579d0>"
       ]
      },
      {
       "javascript": [
        "\n",
        "        var $myPB = $(\"div#86de7465-e225-4069-8f08-6b5ea417211d\")\n",
        "        if ($myPB.hasClass('ui-progressbar')) {\n",
        "            $myPB.progressbar('value', 8);\n",
        "        } else {\n",
        "            $myPB.progressbar({value: 0, max: 36});\n",
        "        }\n",
        "        "
       ],
       "metadata": {},
       "output_type": "display_data",
       "text": [
        "<IPython.core.display.Javascript at 0x113f57ed0>"
       ]
      },
      {
       "javascript": [
        "$('div#62f6eb99-29e3-4453-8b1a-f222a58d757f').text('ETA:  0:00:03');"
       ],
       "metadata": {},
       "output_type": "display_data",
       "text": [
        "<IPython.core.display.Javascript at 0x113f57d10>"
       ]
      },
      {
       "javascript": [
        "\n",
        "        var $myPB = $(\"div#86de7465-e225-4069-8f08-6b5ea417211d\")\n",
        "        if ($myPB.hasClass('ui-progressbar')) {\n",
        "            $myPB.progressbar('value', 9);\n",
        "        } else {\n",
        "            $myPB.progressbar({value: 0, max: 36});\n",
        "        }\n",
        "        "
       ],
       "metadata": {},
       "output_type": "display_data",
       "text": [
        "<IPython.core.display.Javascript at 0x113f57e50>"
       ]
      },
      {
       "javascript": [
        "$('div#62f6eb99-29e3-4453-8b1a-f222a58d757f').text('ETA:  0:00:02');"
       ],
       "metadata": {},
       "output_type": "display_data",
       "text": [
        "<IPython.core.display.Javascript at 0x113f57910>"
       ]
      },
      {
       "javascript": [
        "\n",
        "        var $myPB = $(\"div#86de7465-e225-4069-8f08-6b5ea417211d\")\n",
        "        if ($myPB.hasClass('ui-progressbar')) {\n",
        "            $myPB.progressbar('value', 10);\n",
        "        } else {\n",
        "            $myPB.progressbar({value: 0, max: 36});\n",
        "        }\n",
        "        "
       ],
       "metadata": {},
       "output_type": "display_data",
       "text": [
        "<IPython.core.display.Javascript at 0x113f57050>"
       ]
      },
      {
       "javascript": [
        "$('div#62f6eb99-29e3-4453-8b1a-f222a58d757f').text('ETA:  0:00:02');"
       ],
       "metadata": {},
       "output_type": "display_data",
       "text": [
        "<IPython.core.display.Javascript at 0x113f57790>"
       ]
      },
      {
       "javascript": [
        "\n",
        "        var $myPB = $(\"div#86de7465-e225-4069-8f08-6b5ea417211d\")\n",
        "        if ($myPB.hasClass('ui-progressbar')) {\n",
        "            $myPB.progressbar('value', 11);\n",
        "        } else {\n",
        "            $myPB.progressbar({value: 0, max: 36});\n",
        "        }\n",
        "        "
       ],
       "metadata": {},
       "output_type": "display_data",
       "text": [
        "<IPython.core.display.Javascript at 0x113f57190>"
       ]
      },
      {
       "javascript": [
        "$('div#62f6eb99-29e3-4453-8b1a-f222a58d757f').text('ETA:  0:00:02');"
       ],
       "metadata": {},
       "output_type": "display_data",
       "text": [
        "<IPython.core.display.Javascript at 0x113f579d0>"
       ]
      },
      {
       "javascript": [
        "\n",
        "        var $myPB = $(\"div#86de7465-e225-4069-8f08-6b5ea417211d\")\n",
        "        if ($myPB.hasClass('ui-progressbar')) {\n",
        "            $myPB.progressbar('value', 12);\n",
        "        } else {\n",
        "            $myPB.progressbar({value: 0, max: 36});\n",
        "        }\n",
        "        "
       ],
       "metadata": {},
       "output_type": "display_data",
       "text": [
        "<IPython.core.display.Javascript at 0x113f57f90>"
       ]
      },
      {
       "javascript": [
        "$('div#62f6eb99-29e3-4453-8b1a-f222a58d757f').text('ETA:  0:00:02');"
       ],
       "metadata": {},
       "output_type": "display_data",
       "text": [
        "<IPython.core.display.Javascript at 0x113f576d0>"
       ]
      },
      {
       "javascript": [
        "\n",
        "        var $myPB = $(\"div#86de7465-e225-4069-8f08-6b5ea417211d\")\n",
        "        if ($myPB.hasClass('ui-progressbar')) {\n",
        "            $myPB.progressbar('value', 13);\n",
        "        } else {\n",
        "            $myPB.progressbar({value: 0, max: 36});\n",
        "        }\n",
        "        "
       ],
       "metadata": {},
       "output_type": "display_data",
       "text": [
        "<IPython.core.display.Javascript at 0x113f57050>"
       ]
      },
      {
       "javascript": [
        "$('div#62f6eb99-29e3-4453-8b1a-f222a58d757f').text('ETA:  0:00:02');"
       ],
       "metadata": {},
       "output_type": "display_data",
       "text": [
        "<IPython.core.display.Javascript at 0x113f57ed0>"
       ]
      },
      {
       "javascript": [
        "\n",
        "        var $myPB = $(\"div#86de7465-e225-4069-8f08-6b5ea417211d\")\n",
        "        if ($myPB.hasClass('ui-progressbar')) {\n",
        "            $myPB.progressbar('value', 14);\n",
        "        } else {\n",
        "            $myPB.progressbar({value: 0, max: 36});\n",
        "        }\n",
        "        "
       ],
       "metadata": {},
       "output_type": "display_data",
       "text": [
        "<IPython.core.display.Javascript at 0x113f57350>"
       ]
      },
      {
       "javascript": [
        "$('div#62f6eb99-29e3-4453-8b1a-f222a58d757f').text('ETA:  0:00:02');"
       ],
       "metadata": {},
       "output_type": "display_data",
       "text": [
        "<IPython.core.display.Javascript at 0x113f57790>"
       ]
      },
      {
       "javascript": [
        "\n",
        "        var $myPB = $(\"div#86de7465-e225-4069-8f08-6b5ea417211d\")\n",
        "        if ($myPB.hasClass('ui-progressbar')) {\n",
        "            $myPB.progressbar('value', 15);\n",
        "        } else {\n",
        "            $myPB.progressbar({value: 0, max: 36});\n",
        "        }\n",
        "        "
       ],
       "metadata": {},
       "output_type": "display_data",
       "text": [
        "<IPython.core.display.Javascript at 0x113f57190>"
       ]
      },
      {
       "javascript": [
        "$('div#62f6eb99-29e3-4453-8b1a-f222a58d757f').text('ETA:  0:00:02');"
       ],
       "metadata": {},
       "output_type": "display_data",
       "text": [
        "<IPython.core.display.Javascript at 0x113f57d10>"
       ]
      },
      {
       "javascript": [
        "\n",
        "        var $myPB = $(\"div#86de7465-e225-4069-8f08-6b5ea417211d\")\n",
        "        if ($myPB.hasClass('ui-progressbar')) {\n",
        "            $myPB.progressbar('value', 16);\n",
        "        } else {\n",
        "            $myPB.progressbar({value: 0, max: 36});\n",
        "        }\n",
        "        "
       ],
       "metadata": {},
       "output_type": "display_data",
       "text": [
        "<IPython.core.display.Javascript at 0x113f57790>"
       ]
      },
      {
       "javascript": [
        "$('div#62f6eb99-29e3-4453-8b1a-f222a58d757f').text('ETA:  0:00:02');"
       ],
       "metadata": {},
       "output_type": "display_data",
       "text": [
        "<IPython.core.display.Javascript at 0x114f40190>"
       ]
      },
      {
       "javascript": [
        "\n",
        "        var $myPB = $(\"div#86de7465-e225-4069-8f08-6b5ea417211d\")\n",
        "        if ($myPB.hasClass('ui-progressbar')) {\n",
        "            $myPB.progressbar('value', 17);\n",
        "        } else {\n",
        "            $myPB.progressbar({value: 0, max: 36});\n",
        "        }\n",
        "        "
       ],
       "metadata": {},
       "output_type": "display_data",
       "text": [
        "<IPython.core.display.Javascript at 0x113f57190>"
       ]
      },
      {
       "javascript": [
        "$('div#62f6eb99-29e3-4453-8b1a-f222a58d757f').text('ETA:  0:00:02');"
       ],
       "metadata": {},
       "output_type": "display_data",
       "text": [
        "<IPython.core.display.Javascript at 0x114f40210>"
       ]
      },
      {
       "javascript": [
        "\n",
        "        var $myPB = $(\"div#86de7465-e225-4069-8f08-6b5ea417211d\")\n",
        "        if ($myPB.hasClass('ui-progressbar')) {\n",
        "            $myPB.progressbar('value', 18);\n",
        "        } else {\n",
        "            $myPB.progressbar({value: 0, max: 36});\n",
        "        }\n",
        "        "
       ],
       "metadata": {},
       "output_type": "display_data",
       "text": [
        "<IPython.core.display.Javascript at 0x114f401d0>"
       ]
      },
      {
       "javascript": [
        "$('div#62f6eb99-29e3-4453-8b1a-f222a58d757f').text('ETA:  0:00:01');"
       ],
       "metadata": {},
       "output_type": "display_data",
       "text": [
        "<IPython.core.display.Javascript at 0x114f40050>"
       ]
      },
      {
       "javascript": [
        "\n",
        "        var $myPB = $(\"div#86de7465-e225-4069-8f08-6b5ea417211d\")\n",
        "        if ($myPB.hasClass('ui-progressbar')) {\n",
        "            $myPB.progressbar('value', 19);\n",
        "        } else {\n",
        "            $myPB.progressbar({value: 0, max: 36});\n",
        "        }\n",
        "        "
       ],
       "metadata": {},
       "output_type": "display_data",
       "text": [
        "<IPython.core.display.Javascript at 0x114f40350>"
       ]
      },
      {
       "javascript": [
        "$('div#62f6eb99-29e3-4453-8b1a-f222a58d757f').text('ETA:  0:00:01');"
       ],
       "metadata": {},
       "output_type": "display_data",
       "text": [
        "<IPython.core.display.Javascript at 0x114f40110>"
       ]
      },
      {
       "javascript": [
        "\n",
        "        var $myPB = $(\"div#86de7465-e225-4069-8f08-6b5ea417211d\")\n",
        "        if ($myPB.hasClass('ui-progressbar')) {\n",
        "            $myPB.progressbar('value', 20);\n",
        "        } else {\n",
        "            $myPB.progressbar({value: 0, max: 36});\n",
        "        }\n",
        "        "
       ],
       "metadata": {},
       "output_type": "display_data",
       "text": [
        "<IPython.core.display.Javascript at 0x114f40090>"
       ]
      },
      {
       "javascript": [
        "$('div#62f6eb99-29e3-4453-8b1a-f222a58d757f').text('ETA:  0:00:01');"
       ],
       "metadata": {},
       "output_type": "display_data",
       "text": [
        "<IPython.core.display.Javascript at 0x114f40190>"
       ]
      },
      {
       "javascript": [
        "\n",
        "        var $myPB = $(\"div#86de7465-e225-4069-8f08-6b5ea417211d\")\n",
        "        if ($myPB.hasClass('ui-progressbar')) {\n",
        "            $myPB.progressbar('value', 21);\n",
        "        } else {\n",
        "            $myPB.progressbar({value: 0, max: 36});\n",
        "        }\n",
        "        "
       ],
       "metadata": {},
       "output_type": "display_data",
       "text": [
        "<IPython.core.display.Javascript at 0x114f40490>"
       ]
      },
      {
       "javascript": [
        "$('div#62f6eb99-29e3-4453-8b1a-f222a58d757f').text('ETA:  0:00:01');"
       ],
       "metadata": {},
       "output_type": "display_data",
       "text": [
        "<IPython.core.display.Javascript at 0x114f40310>"
       ]
      },
      {
       "javascript": [
        "\n",
        "        var $myPB = $(\"div#86de7465-e225-4069-8f08-6b5ea417211d\")\n",
        "        if ($myPB.hasClass('ui-progressbar')) {\n",
        "            $myPB.progressbar('value', 22);\n",
        "        } else {\n",
        "            $myPB.progressbar({value: 0, max: 36});\n",
        "        }\n",
        "        "
       ],
       "metadata": {},
       "output_type": "display_data",
       "text": [
        "<IPython.core.display.Javascript at 0x114f40190>"
       ]
      },
      {
       "javascript": [
        "$('div#62f6eb99-29e3-4453-8b1a-f222a58d757f').text('ETA:  0:00:01');"
       ],
       "metadata": {},
       "output_type": "display_data",
       "text": [
        "<IPython.core.display.Javascript at 0x114f40210>"
       ]
      },
      {
       "javascript": [
        "\n",
        "        var $myPB = $(\"div#86de7465-e225-4069-8f08-6b5ea417211d\")\n",
        "        if ($myPB.hasClass('ui-progressbar')) {\n",
        "            $myPB.progressbar('value', 23);\n",
        "        } else {\n",
        "            $myPB.progressbar({value: 0, max: 36});\n",
        "        }\n",
        "        "
       ],
       "metadata": {},
       "output_type": "display_data",
       "text": [
        "<IPython.core.display.Javascript at 0x114f40490>"
       ]
      },
      {
       "javascript": [
        "$('div#62f6eb99-29e3-4453-8b1a-f222a58d757f').text('ETA:  0:00:01');"
       ],
       "metadata": {},
       "output_type": "display_data",
       "text": [
        "<IPython.core.display.Javascript at 0x114f40410>"
       ]
      },
      {
       "javascript": [
        "\n",
        "        var $myPB = $(\"div#86de7465-e225-4069-8f08-6b5ea417211d\")\n",
        "        if ($myPB.hasClass('ui-progressbar')) {\n",
        "            $myPB.progressbar('value', 24);\n",
        "        } else {\n",
        "            $myPB.progressbar({value: 0, max: 36});\n",
        "        }\n",
        "        "
       ],
       "metadata": {},
       "output_type": "display_data",
       "text": [
        "<IPython.core.display.Javascript at 0x114f406d0>"
       ]
      },
      {
       "javascript": [
        "$('div#62f6eb99-29e3-4453-8b1a-f222a58d757f').text('ETA:  0:00:01');"
       ],
       "metadata": {},
       "output_type": "display_data",
       "text": [
        "<IPython.core.display.Javascript at 0x114f40550>"
       ]
      },
      {
       "javascript": [
        "\n",
        "        var $myPB = $(\"div#86de7465-e225-4069-8f08-6b5ea417211d\")\n",
        "        if ($myPB.hasClass('ui-progressbar')) {\n",
        "            $myPB.progressbar('value', 25);\n",
        "        } else {\n",
        "            $myPB.progressbar({value: 0, max: 36});\n",
        "        }\n",
        "        "
       ],
       "metadata": {},
       "output_type": "display_data",
       "text": [
        "<IPython.core.display.Javascript at 0x114f405d0>"
       ]
      },
      {
       "javascript": [
        "$('div#62f6eb99-29e3-4453-8b1a-f222a58d757f').text('ETA:  0:00:01');"
       ],
       "metadata": {},
       "output_type": "display_data",
       "text": [
        "<IPython.core.display.Javascript at 0x114f40350>"
       ]
      },
      {
       "javascript": [
        "\n",
        "        var $myPB = $(\"div#86de7465-e225-4069-8f08-6b5ea417211d\")\n",
        "        if ($myPB.hasClass('ui-progressbar')) {\n",
        "            $myPB.progressbar('value', 26);\n",
        "        } else {\n",
        "            $myPB.progressbar({value: 0, max: 36});\n",
        "        }\n",
        "        "
       ],
       "metadata": {},
       "output_type": "display_data",
       "text": [
        "<IPython.core.display.Javascript at 0x114f40850>"
       ]
      },
      {
       "javascript": [
        "$('div#62f6eb99-29e3-4453-8b1a-f222a58d757f').text('ETA:  0:00:01');"
       ],
       "metadata": {},
       "output_type": "display_data",
       "text": [
        "<IPython.core.display.Javascript at 0x114f40650>"
       ]
      },
      {
       "javascript": [
        "\n",
        "        var $myPB = $(\"div#86de7465-e225-4069-8f08-6b5ea417211d\")\n",
        "        if ($myPB.hasClass('ui-progressbar')) {\n",
        "            $myPB.progressbar('value', 27);\n",
        "        } else {\n",
        "            $myPB.progressbar({value: 0, max: 36});\n",
        "        }\n",
        "        "
       ],
       "metadata": {},
       "output_type": "display_data",
       "text": [
        "<IPython.core.display.Javascript at 0x114f40310>"
       ]
      },
      {
       "javascript": [
        "$('div#62f6eb99-29e3-4453-8b1a-f222a58d757f').text('ETA:  0:00:00');"
       ],
       "metadata": {},
       "output_type": "display_data",
       "text": [
        "<IPython.core.display.Javascript at 0x114f407d0>"
       ]
      },
      {
       "javascript": [
        "\n",
        "        var $myPB = $(\"div#86de7465-e225-4069-8f08-6b5ea417211d\")\n",
        "        if ($myPB.hasClass('ui-progressbar')) {\n",
        "            $myPB.progressbar('value', 28);\n",
        "        } else {\n",
        "            $myPB.progressbar({value: 0, max: 36});\n",
        "        }\n",
        "        "
       ],
       "metadata": {},
       "output_type": "display_data",
       "text": [
        "<IPython.core.display.Javascript at 0x114f40950>"
       ]
      },
      {
       "javascript": [
        "$('div#62f6eb99-29e3-4453-8b1a-f222a58d757f').text('ETA:  0:00:00');"
       ],
       "metadata": {},
       "output_type": "display_data",
       "text": [
        "<IPython.core.display.Javascript at 0x114f406d0>"
       ]
      },
      {
       "javascript": [
        "\n",
        "        var $myPB = $(\"div#86de7465-e225-4069-8f08-6b5ea417211d\")\n",
        "        if ($myPB.hasClass('ui-progressbar')) {\n",
        "            $myPB.progressbar('value', 29);\n",
        "        } else {\n",
        "            $myPB.progressbar({value: 0, max: 36});\n",
        "        }\n",
        "        "
       ],
       "metadata": {},
       "output_type": "display_data",
       "text": [
        "<IPython.core.display.Javascript at 0x114f407d0>"
       ]
      },
      {
       "javascript": [
        "$('div#62f6eb99-29e3-4453-8b1a-f222a58d757f').text('ETA:  0:00:00');"
       ],
       "metadata": {},
       "output_type": "display_data",
       "text": [
        "<IPython.core.display.Javascript at 0x114f40190>"
       ]
      },
      {
       "javascript": [
        "\n",
        "        var $myPB = $(\"div#86de7465-e225-4069-8f08-6b5ea417211d\")\n",
        "        if ($myPB.hasClass('ui-progressbar')) {\n",
        "            $myPB.progressbar('value', 30);\n",
        "        } else {\n",
        "            $myPB.progressbar({value: 0, max: 36});\n",
        "        }\n",
        "        "
       ],
       "metadata": {},
       "output_type": "display_data",
       "text": [
        "<IPython.core.display.Javascript at 0x114f40850>"
       ]
      },
      {
       "javascript": [
        "$('div#62f6eb99-29e3-4453-8b1a-f222a58d757f').text('ETA:  0:00:00');"
       ],
       "metadata": {},
       "output_type": "display_data",
       "text": [
        "<IPython.core.display.Javascript at 0x114f40990>"
       ]
      },
      {
       "javascript": [
        "\n",
        "        var $myPB = $(\"div#86de7465-e225-4069-8f08-6b5ea417211d\")\n",
        "        if ($myPB.hasClass('ui-progressbar')) {\n",
        "            $myPB.progressbar('value', 31);\n",
        "        } else {\n",
        "            $myPB.progressbar({value: 0, max: 36});\n",
        "        }\n",
        "        "
       ],
       "metadata": {},
       "output_type": "display_data",
       "text": [
        "<IPython.core.display.Javascript at 0x114f40c10>"
       ]
      },
      {
       "javascript": [
        "$('div#62f6eb99-29e3-4453-8b1a-f222a58d757f').text('ETA:  0:00:00');"
       ],
       "metadata": {},
       "output_type": "display_data",
       "text": [
        "<IPython.core.display.Javascript at 0x114f407d0>"
       ]
      },
      {
       "javascript": [
        "\n",
        "        var $myPB = $(\"div#86de7465-e225-4069-8f08-6b5ea417211d\")\n",
        "        if ($myPB.hasClass('ui-progressbar')) {\n",
        "            $myPB.progressbar('value', 32);\n",
        "        } else {\n",
        "            $myPB.progressbar({value: 0, max: 36});\n",
        "        }\n",
        "        "
       ],
       "metadata": {},
       "output_type": "display_data",
       "text": [
        "<IPython.core.display.Javascript at 0x114f40850>"
       ]
      },
      {
       "javascript": [
        "$('div#62f6eb99-29e3-4453-8b1a-f222a58d757f').text('ETA:  0:00:00');"
       ],
       "metadata": {},
       "output_type": "display_data",
       "text": [
        "<IPython.core.display.Javascript at 0x114f40a90>"
       ]
      },
      {
       "javascript": [
        "\n",
        "        var $myPB = $(\"div#86de7465-e225-4069-8f08-6b5ea417211d\")\n",
        "        if ($myPB.hasClass('ui-progressbar')) {\n",
        "            $myPB.progressbar('value', 33);\n",
        "        } else {\n",
        "            $myPB.progressbar({value: 0, max: 36});\n",
        "        }\n",
        "        "
       ],
       "metadata": {},
       "output_type": "display_data",
       "text": [
        "<IPython.core.display.Javascript at 0x114f40d90>"
       ]
      },
      {
       "javascript": [
        "$('div#62f6eb99-29e3-4453-8b1a-f222a58d757f').text('ETA:  0:00:00');"
       ],
       "metadata": {},
       "output_type": "display_data",
       "text": [
        "<IPython.core.display.Javascript at 0x114f40950>"
       ]
      },
      {
       "javascript": [
        "\n",
        "        var $myPB = $(\"div#86de7465-e225-4069-8f08-6b5ea417211d\")\n",
        "        if ($myPB.hasClass('ui-progressbar')) {\n",
        "            $myPB.progressbar('value', 34);\n",
        "        } else {\n",
        "            $myPB.progressbar({value: 0, max: 36});\n",
        "        }\n",
        "        "
       ],
       "metadata": {},
       "output_type": "display_data",
       "text": [
        "<IPython.core.display.Javascript at 0x114f409d0>"
       ]
      },
      {
       "javascript": [
        "$('div#62f6eb99-29e3-4453-8b1a-f222a58d757f').text('ETA:  0:00:00');"
       ],
       "metadata": {},
       "output_type": "display_data",
       "text": [
        "<IPython.core.display.Javascript at 0x114f40190>"
       ]
      },
      {
       "javascript": [
        "\n",
        "        var $myPB = $(\"div#86de7465-e225-4069-8f08-6b5ea417211d\")\n",
        "        if ($myPB.hasClass('ui-progressbar')) {\n",
        "            $myPB.progressbar('value', 35);\n",
        "        } else {\n",
        "            $myPB.progressbar({value: 0, max: 36});\n",
        "        }\n",
        "        "
       ],
       "metadata": {},
       "output_type": "display_data",
       "text": [
        "<IPython.core.display.Javascript at 0x114f40f10>"
       ]
      },
      {
       "javascript": [
        "$('div#62f6eb99-29e3-4453-8b1a-f222a58d757f').text('ETA:  0:00:00');"
       ],
       "metadata": {},
       "output_type": "display_data",
       "text": [
        "<IPython.core.display.Javascript at 0x114f40d10>"
       ]
      },
      {
       "javascript": [
        "\n",
        "        var $myPB = $(\"div#86de7465-e225-4069-8f08-6b5ea417211d\")\n",
        "        if ($myPB.hasClass('ui-progressbar')) {\n",
        "            $myPB.progressbar('value', 36);\n",
        "        } else {\n",
        "            $myPB.progressbar({value: 0, max: 36});\n",
        "        }\n",
        "        "
       ],
       "metadata": {},
       "output_type": "display_data",
       "text": [
        "<IPython.core.display.Javascript at 0x113f57d90>"
       ]
      },
      {
       "javascript": [
        "$('div#62f6eb99-29e3-4453-8b1a-f222a58d757f').text('Time: 0:00:03');"
       ],
       "metadata": {},
       "output_type": "display_data",
       "text": [
        "<IPython.core.display.Javascript at 0x114f40b90>"
       ]
      },
      {
       "javascript": [
        "var element = document.getElementById('2b5599fa-8629-4054-a8ab-4b3b14b04315');\n",
        "                    var parent = element.parentNode\n",
        "                    parent.removeChild(element);\n",
        "                    parent.parentElement.remove();"
       ],
       "metadata": {},
       "output_type": "display_data",
       "text": [
        "<IPython.core.display.Javascript at 0x113f57210>"
       ]
      },
      {
       "javascript": [
        "this.cleanProgressBar(['2b5599fa-8629-4054-a8ab-4b3b14b04315', '86de7465-e225-4069-8f08-6b5ea417211d', '62f6eb99-29e3-4453-8b1a-f222a58d757f'])"
       ],
       "metadata": {},
       "output_type": "display_data",
       "text": [
        "<IPython.core.display.Javascript at 0x114f40f90>"
       ]
      },
      {
       "metadata": {},
       "output_type": "display_data",
       "png": "[encoded data removed]",
       "text": [
        "<matplotlib.figure.Figure at 0x114144690>"
       ]
      }
     ],
     "prompt_number": 9
    },
    {
     "cell_type": "markdown",
     "metadata": {},
     "source": [
      "Scan the optimal surface only"
     ]
    },
    {
     "cell_type": "code",
     "collapsed": false,
     "input": [
      "result = diffFVA.run(surface_only=True,view=SequentialView())\n",
      "\n",
      "x = [elem[0][1] for elem in list(result.items)]\n",
      "y = [elem[1][1] for elem in list(result.items)]\n",
      "pyplot.plot(growth, lb, 'k', growth, ub, 'k')\n",
      "pyplot.plot([biomass_rxn.lower_bound], [target.lower_bound], 'go')\n",
      "pyplot.fill_between(growth, ub, color='gray')\n",
      "pyplot.xlabel('Growth')\n",
      "pyplot.ylabel('Production');\n",
      "pyplot.plot(x,y, 'ro');"
     ],
     "language": "python",
     "metadata": {},
     "outputs": [
      {
       "javascript": [
        "//d062d30a-bf75-47a5-b694-89e2e079ca2a\n",
        "$(\"head\").append(\"<style> td.pb_widget {     width: auto; } td.pb_widget_fill {     width: 100%; } table.pb {     font-family: monospace;     border: 0;     margin: 0; } table.pb tr { border: 0; } table.pb td {     white-space: nowrap;     border: 0; } div.pb {     border: 1px solid #ddd;     border-radius: 3px; } div.pb_bar {     height: 1.5em; } </style>\")"
       ],
       "metadata": {},
       "output_type": "display_data",
       "text": [
        "<IPython.core.display.Javascript at 0x114e59110>"
       ]
      },
      {
       "javascript": [
        "\n",
        "                  // d062d30a-bf75-47a5-b694-89e2e079ca2a -- used to remove this code blob in the end\n",
        "                  IPython.OutputArea.prototype.cleanProgressBar = function(uuids) {\n",
        "                      // filter by uuid-strings \n",
        "                      var myfilter = function(output) { \n",
        "                          var nuids = uuids.length;\n",
        "                          for (var i=0; i<nuids; i++) {\n",
        "                              if (output.hasOwnProperty('html')) {\n",
        "                                  if (output.html.indexOf(uuids[i]) != -1) {\n",
        "                                      return false;\n",
        "                                  }\n",
        "                              }\n",
        "                              if (output.hasOwnProperty('javascript')) {\n",
        "                                  if (output.javascript.indexOf(uuids[i]) != -1) {\n",
        "                                      return false;\n",
        "                                  }\n",
        "                              }\n",
        "                          }\n",
        "                          // keep all others\n",
        "                          return true;\n",
        "                      };\n",
        "\n",
        "                      // Filter the ouputs\n",
        "                      this.outputs = this.outputs.filter(myfilter);\n",
        "                };\n",
        "                "
       ],
       "metadata": {},
       "output_type": "display_data",
       "text": [
        "<IPython.core.display.Javascript at 0x11505a4d0>"
       ]
      },
      {
       "html": [
        "<div class=\"pb\" id=\"d062d30a-bf75-47a5-b694-89e2e079ca2a\"><table class=\"pb ui-widget\"><tr>\n",
        "<td class=\"pb_widget\">Scanning grid points </td>\n",
        "<td class=\"pb_widget_fill\">\n",
        "        <div class=\"pb_bar\" id=\"f716cb1b-f7c8-4dab-afc2-75a02edef6a6\"></div>\n",
        "        <script type=\"text/javascript\">\n",
        "            $(\"div#f716cb1b-f7c8-4dab-afc2-75a02edef6a6\").progressbar({value: 0, max: 8});\n",
        "        </script>\n",
        "        </td>\n",
        "<td class=\"pb_widget\"> </td>\n",
        "<td class=\"pb_widget\"><div id=\"4c2da25f-2062-42fa-8a46-3309a4e4acd6\">ETA:  --:--:--</div></td>\n",
        "</tr></table><div>"
       ],
       "metadata": {},
       "output_type": "display_data",
       "text": [
        "<IPython.core.display.HTML at 0x1150549d0>"
       ]
      },
      {
       "javascript": [
        "\n",
        "        var $myPB = $(\"div#f716cb1b-f7c8-4dab-afc2-75a02edef6a6\")\n",
        "        if ($myPB.hasClass('ui-progressbar')) {\n",
        "            $myPB.progressbar('value', 1);\n",
        "        } else {\n",
        "            $myPB.progressbar({value: 0, max: 8});\n",
        "        }\n",
        "        "
       ],
       "metadata": {},
       "output_type": "display_data",
       "text": [
        "<IPython.core.display.Javascript at 0x115054cd0>"
       ]
      },
      {
       "javascript": [
        "$('div#4c2da25f-2062-42fa-8a46-3309a4e4acd6').text('ETA:  0:00:00');"
       ],
       "metadata": {},
       "output_type": "display_data",
       "text": [
        "<IPython.core.display.Javascript at 0x115054610>"
       ]
      },
      {
       "javascript": [
        "\n",
        "        var $myPB = $(\"div#f716cb1b-f7c8-4dab-afc2-75a02edef6a6\")\n",
        "        if ($myPB.hasClass('ui-progressbar')) {\n",
        "            $myPB.progressbar('value', 2);\n",
        "        } else {\n",
        "            $myPB.progressbar({value: 0, max: 8});\n",
        "        }\n",
        "        "
       ],
       "metadata": {},
       "output_type": "display_data",
       "text": [
        "<IPython.core.display.Javascript at 0x11505aa90>"
       ]
      },
      {
       "javascript": [
        "$('div#4c2da25f-2062-42fa-8a46-3309a4e4acd6').text('ETA:  0:00:00');"
       ],
       "metadata": {},
       "output_type": "display_data",
       "text": [
        "<IPython.core.display.Javascript at 0x11505abd0>"
       ]
      },
      {
       "javascript": [
        "\n",
        "        var $myPB = $(\"div#f716cb1b-f7c8-4dab-afc2-75a02edef6a6\")\n",
        "        if ($myPB.hasClass('ui-progressbar')) {\n",
        "            $myPB.progressbar('value', 3);\n",
        "        } else {\n",
        "            $myPB.progressbar({value: 0, max: 8});\n",
        "        }\n",
        "        "
       ],
       "metadata": {},
       "output_type": "display_data",
       "text": [
        "<IPython.core.display.Javascript at 0x11505afd0>"
       ]
      },
      {
       "javascript": [
        "$('div#4c2da25f-2062-42fa-8a46-3309a4e4acd6').text('ETA:  0:00:00');"
       ],
       "metadata": {},
       "output_type": "display_data",
       "text": [
        "<IPython.core.display.Javascript at 0x11505ac50>"
       ]
      },
      {
       "javascript": [
        "\n",
        "        var $myPB = $(\"div#f716cb1b-f7c8-4dab-afc2-75a02edef6a6\")\n",
        "        if ($myPB.hasClass('ui-progressbar')) {\n",
        "            $myPB.progressbar('value', 4);\n",
        "        } else {\n",
        "            $myPB.progressbar({value: 0, max: 8});\n",
        "        }\n",
        "        "
       ],
       "metadata": {},
       "output_type": "display_data",
       "text": [
        "<IPython.core.display.Javascript at 0x11505ae10>"
       ]
      },
      {
       "javascript": [
        "$('div#4c2da25f-2062-42fa-8a46-3309a4e4acd6').text('ETA:  0:00:00');"
       ],
       "metadata": {},
       "output_type": "display_data",
       "text": [
        "<IPython.core.display.Javascript at 0x11505a150>"
       ]
      },
      {
       "javascript": [
        "\n",
        "        var $myPB = $(\"div#f716cb1b-f7c8-4dab-afc2-75a02edef6a6\")\n",
        "        if ($myPB.hasClass('ui-progressbar')) {\n",
        "            $myPB.progressbar('value', 5);\n",
        "        } else {\n",
        "            $myPB.progressbar({value: 0, max: 8});\n",
        "        }\n",
        "        "
       ],
       "metadata": {},
       "output_type": "display_data",
       "text": [
        "<IPython.core.display.Javascript at 0x11505aed0>"
       ]
      },
      {
       "javascript": [
        "$('div#4c2da25f-2062-42fa-8a46-3309a4e4acd6').text('ETA:  0:00:00');"
       ],
       "metadata": {},
       "output_type": "display_data",
       "text": [
        "<IPython.core.display.Javascript at 0x11505a6d0>"
       ]
      },
      {
       "javascript": [
        "\n",
        "        var $myPB = $(\"div#f716cb1b-f7c8-4dab-afc2-75a02edef6a6\")\n",
        "        if ($myPB.hasClass('ui-progressbar')) {\n",
        "            $myPB.progressbar('value', 6);\n",
        "        } else {\n",
        "            $myPB.progressbar({value: 0, max: 8});\n",
        "        }\n",
        "        "
       ],
       "metadata": {},
       "output_type": "display_data",
       "text": [
        "<IPython.core.display.Javascript at 0x11505a2d0>"
       ]
      },
      {
       "javascript": [
        "$('div#4c2da25f-2062-42fa-8a46-3309a4e4acd6').text('ETA:  0:00:00');"
       ],
       "metadata": {},
       "output_type": "display_data",
       "text": [
        "<IPython.core.display.Javascript at 0x11505aad0>"
       ]
      },
      {
       "javascript": [
        "\n",
        "        var $myPB = $(\"div#f716cb1b-f7c8-4dab-afc2-75a02edef6a6\")\n",
        "        if ($myPB.hasClass('ui-progressbar')) {\n",
        "            $myPB.progressbar('value', 7);\n",
        "        } else {\n",
        "            $myPB.progressbar({value: 0, max: 8});\n",
        "        }\n",
        "        "
       ],
       "metadata": {},
       "output_type": "display_data",
       "text": [
        "<IPython.core.display.Javascript at 0x11505a110>"
       ]
      },
      {
       "javascript": [
        "$('div#4c2da25f-2062-42fa-8a46-3309a4e4acd6').text('ETA:  0:00:00');"
       ],
       "metadata": {},
       "output_type": "display_data",
       "text": [
        "<IPython.core.display.Javascript at 0x11505afd0>"
       ]
      },
      {
       "javascript": [
        "\n",
        "        var $myPB = $(\"div#f716cb1b-f7c8-4dab-afc2-75a02edef6a6\")\n",
        "        if ($myPB.hasClass('ui-progressbar')) {\n",
        "            $myPB.progressbar('value', 8);\n",
        "        } else {\n",
        "            $myPB.progressbar({value: 0, max: 8});\n",
        "        }\n",
        "        "
       ],
       "metadata": {},
       "output_type": "display_data",
       "text": [
        "<IPython.core.display.Javascript at 0x11505ac50>"
       ]
      },
      {
       "javascript": [
        "$('div#4c2da25f-2062-42fa-8a46-3309a4e4acd6').text('Time: 0:00:01');"
       ],
       "metadata": {},
       "output_type": "display_data",
       "text": [
        "<IPython.core.display.Javascript at 0x11505a6d0>"
       ]
      },
      {
       "javascript": [
        "var element = document.getElementById('d062d30a-bf75-47a5-b694-89e2e079ca2a');\n",
        "                    var parent = element.parentNode\n",
        "                    parent.removeChild(element);\n",
        "                    parent.parentElement.remove();"
       ],
       "metadata": {},
       "output_type": "display_data",
       "text": [
        "<IPython.core.display.Javascript at 0x11505aad0>"
       ]
      },
      {
       "javascript": [
        "this.cleanProgressBar(['d062d30a-bf75-47a5-b694-89e2e079ca2a', 'f716cb1b-f7c8-4dab-afc2-75a02edef6a6', '4c2da25f-2062-42fa-8a46-3309a4e4acd6'])"
       ],
       "metadata": {},
       "output_type": "display_data",
       "text": [
        "<IPython.core.display.Javascript at 0x11505a2d0>"
       ]
      },
      {
       "metadata": {},
       "output_type": "display_data",
       "png": "[encoded data removed]",
       "text": [
        "<matplotlib.figure.Figure at 0x114e59110>"
       ]
      }
     ],
     "prompt_number": 15
    },
    {
     "cell_type": "markdown",
     "metadata": {},
     "source": [
      "Per default, only solution that improve upon the reference production will be scanned. Set `improvements_only=False` if you want to scan the whole envelope."
     ]
    },
    {
     "cell_type": "code",
     "collapsed": false,
     "input": [
      "result = diffFVA.run(improvements_only=False, view=SequentialView())\n",
      "x = [elem[0][1] for elem in list(result.items)]\n",
      "y = [elem[1][1] for elem in list(result.items)]\n",
      "pyplot.plot(growth, lb, 'k', growth, ub, 'k')\n",
      "pyplot.plot([biomass_rxn.lower_bound], [target.lower_bound], 'go')\n",
      "pyplot.fill_between(growth, ub, color='gray')\n",
      "pyplot.xlabel('Growth')\n",
      "pyplot.ylabel('Production')\n",
      "pyplot.plot(x,y, 'ro');"
     ],
     "language": "python",
     "metadata": {},
     "outputs": [
      {
       "javascript": [
        "//0f299d25-5b6d-4ee1-ad52-7d8d5daceaee\n",
        "$(\"head\").append(\"<style> td.pb_widget {     width: auto; } td.pb_widget_fill {     width: 100%; } table.pb {     font-family: monospace;     border: 0;     margin: 0; } table.pb tr { border: 0; } table.pb td {     white-space: nowrap;     border: 0; } div.pb {     border: 1px solid #ddd;     border-radius: 3px; } div.pb_bar {     height: 1.5em; } </style>\")"
       ],
       "metadata": {},
       "output_type": "display_data",
       "text": [
        "<IPython.core.display.Javascript at 0x114e75890>"
       ]
      },
      {
       "javascript": [
        "\n",
        "                  // 0f299d25-5b6d-4ee1-ad52-7d8d5daceaee -- used to remove this code blob in the end\n",
        "                  IPython.OutputArea.prototype.cleanProgressBar = function(uuids) {\n",
        "                      // filter by uuid-strings \n",
        "                      var myfilter = function(output) { \n",
        "                          var nuids = uuids.length;\n",
        "                          for (var i=0; i<nuids; i++) {\n",
        "                              if (output.hasOwnProperty('html')) {\n",
        "                                  if (output.html.indexOf(uuids[i]) != -1) {\n",
        "                                      return false;\n",
        "                                  }\n",
        "                              }\n",
        "                              if (output.hasOwnProperty('javascript')) {\n",
        "                                  if (output.javascript.indexOf(uuids[i]) != -1) {\n",
        "                                      return false;\n",
        "                                  }\n",
        "                              }\n",
        "                          }\n",
        "                          // keep all others\n",
        "                          return true;\n",
        "                      };\n",
        "\n",
        "                      // Filter the ouputs\n",
        "                      this.outputs = this.outputs.filter(myfilter);\n",
        "                };\n",
        "                "
       ],
       "metadata": {},
       "output_type": "display_data",
       "text": [
        "<IPython.core.display.Javascript at 0x114f7ab50>"
       ]
      },
      {
       "html": [
        "<div class=\"pb\" id=\"0f299d25-5b6d-4ee1-ad52-7d8d5daceaee\"><table class=\"pb ui-widget\"><tr>\n",
        "<td class=\"pb_widget\">Scanning grid points </td>\n",
        "<td class=\"pb_widget_fill\">\n",
        "        <div class=\"pb_bar\" id=\"eebbe88f-258c-4585-b770-3764ef10d4dc\"></div>\n",
        "        <script type=\"text/javascript\">\n",
        "            $(\"div#eebbe88f-258c-4585-b770-3764ef10d4dc\").progressbar({value: 0, max: 63});\n",
        "        </script>\n",
        "        </td>\n",
        "<td class=\"pb_widget\"> </td>\n",
        "<td class=\"pb_widget\"><div id=\"2929e56e-c4b0-4325-bf8c-a452da9b47e9\">ETA:  --:--:--</div></td>\n",
        "</tr></table><div>"
       ],
       "metadata": {},
       "output_type": "display_data",
       "text": [
        "<IPython.core.display.HTML at 0x114f7a890>"
       ]
      },
      {
       "javascript": [
        "\n",
        "        var $myPB = $(\"div#eebbe88f-258c-4585-b770-3764ef10d4dc\")\n",
        "        if ($myPB.hasClass('ui-progressbar')) {\n",
        "            $myPB.progressbar('value', 1);\n",
        "        } else {\n",
        "            $myPB.progressbar({value: 0, max: 63});\n",
        "        }\n",
        "        "
       ],
       "metadata": {},
       "output_type": "display_data",
       "text": [
        "<IPython.core.display.Javascript at 0x114f7a0d0>"
       ]
      },
      {
       "javascript": [
        "$('div#2929e56e-c4b0-4325-bf8c-a452da9b47e9').text('ETA:  0:00:07');"
       ],
       "metadata": {},
       "output_type": "display_data",
       "text": [
        "<IPython.core.display.Javascript at 0x114f7af90>"
       ]
      },
      {
       "javascript": [
        "\n",
        "        var $myPB = $(\"div#eebbe88f-258c-4585-b770-3764ef10d4dc\")\n",
        "        if ($myPB.hasClass('ui-progressbar')) {\n",
        "            $myPB.progressbar('value', 2);\n",
        "        } else {\n",
        "            $myPB.progressbar({value: 0, max: 63});\n",
        "        }\n",
        "        "
       ],
       "metadata": {},
       "output_type": "display_data",
       "text": [
        "<IPython.core.display.Javascript at 0x114f7a250>"
       ]
      },
      {
       "javascript": [
        "$('div#2929e56e-c4b0-4325-bf8c-a452da9b47e9').text('ETA:  0:00:06');"
       ],
       "metadata": {},
       "output_type": "display_data",
       "text": [
        "<IPython.core.display.Javascript at 0x114f7a150>"
       ]
      },
      {
       "javascript": [
        "\n",
        "        var $myPB = $(\"div#eebbe88f-258c-4585-b770-3764ef10d4dc\")\n",
        "        if ($myPB.hasClass('ui-progressbar')) {\n",
        "            $myPB.progressbar('value', 3);\n",
        "        } else {\n",
        "            $myPB.progressbar({value: 0, max: 63});\n",
        "        }\n",
        "        "
       ],
       "metadata": {},
       "output_type": "display_data",
       "text": [
        "<IPython.core.display.Javascript at 0x114f7a0d0>"
       ]
      },
      {
       "javascript": [
        "$('div#2929e56e-c4b0-4325-bf8c-a452da9b47e9').text('ETA:  0:00:06');"
       ],
       "metadata": {},
       "output_type": "display_data",
       "text": [
        "<IPython.core.display.Javascript at 0x114f7a090>"
       ]
      },
      {
       "javascript": [
        "\n",
        "        var $myPB = $(\"div#eebbe88f-258c-4585-b770-3764ef10d4dc\")\n",
        "        if ($myPB.hasClass('ui-progressbar')) {\n",
        "            $myPB.progressbar('value', 4);\n",
        "        } else {\n",
        "            $myPB.progressbar({value: 0, max: 63});\n",
        "        }\n",
        "        "
       ],
       "metadata": {},
       "output_type": "display_data",
       "text": [
        "<IPython.core.display.Javascript at 0x114f7a450>"
       ]
      },
      {
       "javascript": [
        "$('div#2929e56e-c4b0-4325-bf8c-a452da9b47e9').text('ETA:  0:00:06');"
       ],
       "metadata": {},
       "output_type": "display_data",
       "text": [
        "<IPython.core.display.Javascript at 0x114f7a410>"
       ]
      },
      {
       "javascript": [
        "\n",
        "        var $myPB = $(\"div#eebbe88f-258c-4585-b770-3764ef10d4dc\")\n",
        "        if ($myPB.hasClass('ui-progressbar')) {\n",
        "            $myPB.progressbar('value', 5);\n",
        "        } else {\n",
        "            $myPB.progressbar({value: 0, max: 63});\n",
        "        }\n",
        "        "
       ],
       "metadata": {},
       "output_type": "display_data",
       "text": [
        "<IPython.core.display.Javascript at 0x114f7aed0>"
       ]
      },
      {
       "javascript": [
        "$('div#2929e56e-c4b0-4325-bf8c-a452da9b47e9').text('ETA:  0:00:05');"
       ],
       "metadata": {},
       "output_type": "display_data",
       "text": [
        "<IPython.core.display.Javascript at 0x114f7af90>"
       ]
      },
      {
       "javascript": [
        "\n",
        "        var $myPB = $(\"div#eebbe88f-258c-4585-b770-3764ef10d4dc\")\n",
        "        if ($myPB.hasClass('ui-progressbar')) {\n",
        "            $myPB.progressbar('value', 6);\n",
        "        } else {\n",
        "            $myPB.progressbar({value: 0, max: 63});\n",
        "        }\n",
        "        "
       ],
       "metadata": {},
       "output_type": "display_data",
       "text": [
        "<IPython.core.display.Javascript at 0x114f7acd0>"
       ]
      },
      {
       "javascript": [
        "$('div#2929e56e-c4b0-4325-bf8c-a452da9b47e9').text('ETA:  0:00:05');"
       ],
       "metadata": {},
       "output_type": "display_data",
       "text": [
        "<IPython.core.display.Javascript at 0x114f7a890>"
       ]
      },
      {
       "javascript": [
        "\n",
        "        var $myPB = $(\"div#eebbe88f-258c-4585-b770-3764ef10d4dc\")\n",
        "        if ($myPB.hasClass('ui-progressbar')) {\n",
        "            $myPB.progressbar('value', 7);\n",
        "        } else {\n",
        "            $myPB.progressbar({value: 0, max: 63});\n",
        "        }\n",
        "        "
       ],
       "metadata": {},
       "output_type": "display_data",
       "text": [
        "<IPython.core.display.Javascript at 0x114f7a710>"
       ]
      },
      {
       "javascript": [
        "$('div#2929e56e-c4b0-4325-bf8c-a452da9b47e9').text('ETA:  0:00:05');"
       ],
       "metadata": {},
       "output_type": "display_data",
       "text": [
        "<IPython.core.display.Javascript at 0x114f7af50>"
       ]
      },
      {
       "javascript": [
        "\n",
        "        var $myPB = $(\"div#eebbe88f-258c-4585-b770-3764ef10d4dc\")\n",
        "        if ($myPB.hasClass('ui-progressbar')) {\n",
        "            $myPB.progressbar('value', 8);\n",
        "        } else {\n",
        "            $myPB.progressbar({value: 0, max: 63});\n",
        "        }\n",
        "        "
       ],
       "metadata": {},
       "output_type": "display_data",
       "text": [
        "<IPython.core.display.Javascript at 0x114f7aed0>"
       ]
      },
      {
       "javascript": [
        "$('div#2929e56e-c4b0-4325-bf8c-a452da9b47e9').text('ETA:  0:00:05');"
       ],
       "metadata": {},
       "output_type": "display_data",
       "text": [
        "<IPython.core.display.Javascript at 0x114f7a0d0>"
       ]
      },
      {
       "javascript": [
        "\n",
        "        var $myPB = $(\"div#eebbe88f-258c-4585-b770-3764ef10d4dc\")\n",
        "        if ($myPB.hasClass('ui-progressbar')) {\n",
        "            $myPB.progressbar('value', 9);\n",
        "        } else {\n",
        "            $myPB.progressbar({value: 0, max: 63});\n",
        "        }\n",
        "        "
       ],
       "metadata": {},
       "output_type": "display_data",
       "text": [
        "<IPython.core.display.Javascript at 0x114f7a090>"
       ]
      },
      {
       "javascript": [
        "$('div#2929e56e-c4b0-4325-bf8c-a452da9b47e9').text('ETA:  0:00:05');"
       ],
       "metadata": {},
       "output_type": "display_data",
       "text": [
        "<IPython.core.display.Javascript at 0x114f7a790>"
       ]
      },
      {
       "javascript": [
        "\n",
        "        var $myPB = $(\"div#eebbe88f-258c-4585-b770-3764ef10d4dc\")\n",
        "        if ($myPB.hasClass('ui-progressbar')) {\n",
        "            $myPB.progressbar('value', 10);\n",
        "        } else {\n",
        "            $myPB.progressbar({value: 0, max: 63});\n",
        "        }\n",
        "        "
       ],
       "metadata": {},
       "output_type": "display_data",
       "text": [
        "<IPython.core.display.Javascript at 0x114f7ad10>"
       ]
      },
      {
       "javascript": [
        "$('div#2929e56e-c4b0-4325-bf8c-a452da9b47e9').text('ETA:  0:00:05');"
       ],
       "metadata": {},
       "output_type": "display_data",
       "text": [
        "<IPython.core.display.Javascript at 0x114f7af90>"
       ]
      },
      {
       "javascript": [
        "\n",
        "        var $myPB = $(\"div#eebbe88f-258c-4585-b770-3764ef10d4dc\")\n",
        "        if ($myPB.hasClass('ui-progressbar')) {\n",
        "            $myPB.progressbar('value', 11);\n",
        "        } else {\n",
        "            $myPB.progressbar({value: 0, max: 63});\n",
        "        }\n",
        "        "
       ],
       "metadata": {},
       "output_type": "display_data",
       "text": [
        "<IPython.core.display.Javascript at 0x114f7a390>"
       ]
      },
      {
       "javascript": [
        "$('div#2929e56e-c4b0-4325-bf8c-a452da9b47e9').text('ETA:  0:00:05');"
       ],
       "metadata": {},
       "output_type": "display_data",
       "text": [
        "<IPython.core.display.Javascript at 0x114f7a590>"
       ]
      },
      {
       "javascript": [
        "\n",
        "        var $myPB = $(\"div#eebbe88f-258c-4585-b770-3764ef10d4dc\")\n",
        "        if ($myPB.hasClass('ui-progressbar')) {\n",
        "            $myPB.progressbar('value', 12);\n",
        "        } else {\n",
        "            $myPB.progressbar({value: 0, max: 63});\n",
        "        }\n",
        "        "
       ],
       "metadata": {},
       "output_type": "display_data",
       "text": [
        "<IPython.core.display.Javascript at 0x114f7ad90>"
       ]
      },
      {
       "javascript": [
        "$('div#2929e56e-c4b0-4325-bf8c-a452da9b47e9').text('ETA:  0:00:05');"
       ],
       "metadata": {},
       "output_type": "display_data",
       "text": [
        "<IPython.core.display.Javascript at 0x114f7a0d0>"
       ]
      },
      {
       "javascript": [
        "\n",
        "        var $myPB = $(\"div#eebbe88f-258c-4585-b770-3764ef10d4dc\")\n",
        "        if ($myPB.hasClass('ui-progressbar')) {\n",
        "            $myPB.progressbar('value', 13);\n",
        "        } else {\n",
        "            $myPB.progressbar({value: 0, max: 63});\n",
        "        }\n",
        "        "
       ],
       "metadata": {},
       "output_type": "display_data",
       "text": [
        "<IPython.core.display.Javascript at 0x114f7add0>"
       ]
      },
      {
       "javascript": [
        "$('div#2929e56e-c4b0-4325-bf8c-a452da9b47e9').text('ETA:  0:00:05');"
       ],
       "metadata": {},
       "output_type": "display_data",
       "text": [
        "<IPython.core.display.Javascript at 0x114f7aed0>"
       ]
      },
      {
       "javascript": [
        "\n",
        "        var $myPB = $(\"div#eebbe88f-258c-4585-b770-3764ef10d4dc\")\n",
        "        if ($myPB.hasClass('ui-progressbar')) {\n",
        "            $myPB.progressbar('value', 14);\n",
        "        } else {\n",
        "            $myPB.progressbar({value: 0, max: 63});\n",
        "        }\n",
        "        "
       ],
       "metadata": {},
       "output_type": "display_data",
       "text": [
        "<IPython.core.display.Javascript at 0x114f7a910>"
       ]
      },
      {
       "javascript": [
        "$('div#2929e56e-c4b0-4325-bf8c-a452da9b47e9').text('ETA:  0:00:05');"
       ],
       "metadata": {},
       "output_type": "display_data",
       "text": [
        "<IPython.core.display.Javascript at 0x114f7ad10>"
       ]
      },
      {
       "javascript": [
        "\n",
        "        var $myPB = $(\"div#eebbe88f-258c-4585-b770-3764ef10d4dc\")\n",
        "        if ($myPB.hasClass('ui-progressbar')) {\n",
        "            $myPB.progressbar('value', 15);\n",
        "        } else {\n",
        "            $myPB.progressbar({value: 0, max: 63});\n",
        "        }\n",
        "        "
       ],
       "metadata": {},
       "output_type": "display_data",
       "text": [
        "<IPython.core.display.Javascript at 0x114f7ad90>"
       ]
      },
      {
       "javascript": [
        "$('div#2929e56e-c4b0-4325-bf8c-a452da9b47e9').text('ETA:  0:00:05');"
       ],
       "metadata": {},
       "output_type": "display_data",
       "text": [
        "<IPython.core.display.Javascript at 0x114f7af10>"
       ]
      },
      {
       "javascript": [
        "\n",
        "        var $myPB = $(\"div#eebbe88f-258c-4585-b770-3764ef10d4dc\")\n",
        "        if ($myPB.hasClass('ui-progressbar')) {\n",
        "            $myPB.progressbar('value', 16);\n",
        "        } else {\n",
        "            $myPB.progressbar({value: 0, max: 63});\n",
        "        }\n",
        "        "
       ],
       "metadata": {},
       "output_type": "display_data",
       "text": [
        "<IPython.core.display.Javascript at 0x114f7a290>"
       ]
      },
      {
       "javascript": [
        "$('div#2929e56e-c4b0-4325-bf8c-a452da9b47e9').text('ETA:  0:00:04');"
       ],
       "metadata": {},
       "output_type": "display_data",
       "text": [
        "<IPython.core.display.Javascript at 0x114f7a0d0>"
       ]
      },
      {
       "javascript": [
        "\n",
        "        var $myPB = $(\"div#eebbe88f-258c-4585-b770-3764ef10d4dc\")\n",
        "        if ($myPB.hasClass('ui-progressbar')) {\n",
        "            $myPB.progressbar('value', 17);\n",
        "        } else {\n",
        "            $myPB.progressbar({value: 0, max: 63});\n",
        "        }\n",
        "        "
       ],
       "metadata": {},
       "output_type": "display_data",
       "text": [
        "<IPython.core.display.Javascript at 0x114f7a490>"
       ]
      },
      {
       "javascript": [
        "$('div#2929e56e-c4b0-4325-bf8c-a452da9b47e9').text('ETA:  0:00:04');"
       ],
       "metadata": {},
       "output_type": "display_data",
       "text": [
        "<IPython.core.display.Javascript at 0x114f7af10>"
       ]
      },
      {
       "javascript": [
        "\n",
        "        var $myPB = $(\"div#eebbe88f-258c-4585-b770-3764ef10d4dc\")\n",
        "        if ($myPB.hasClass('ui-progressbar')) {\n",
        "            $myPB.progressbar('value', 18);\n",
        "        } else {\n",
        "            $myPB.progressbar({value: 0, max: 63});\n",
        "        }\n",
        "        "
       ],
       "metadata": {},
       "output_type": "display_data",
       "text": [
        "<IPython.core.display.Javascript at 0x114f8b1d0>"
       ]
      },
      {
       "javascript": [
        "$('div#2929e56e-c4b0-4325-bf8c-a452da9b47e9').text('ETA:  0:00:04');"
       ],
       "metadata": {},
       "output_type": "display_data",
       "text": [
        "<IPython.core.display.Javascript at 0x114f8bc10>"
       ]
      },
      {
       "javascript": [
        "\n",
        "        var $myPB = $(\"div#eebbe88f-258c-4585-b770-3764ef10d4dc\")\n",
        "        if ($myPB.hasClass('ui-progressbar')) {\n",
        "            $myPB.progressbar('value', 19);\n",
        "        } else {\n",
        "            $myPB.progressbar({value: 0, max: 63});\n",
        "        }\n",
        "        "
       ],
       "metadata": {},
       "output_type": "display_data",
       "text": [
        "<IPython.core.display.Javascript at 0x114f7a490>"
       ]
      },
      {
       "javascript": [
        "$('div#2929e56e-c4b0-4325-bf8c-a452da9b47e9').text('ETA:  0:00:04');"
       ],
       "metadata": {},
       "output_type": "display_data",
       "text": [
        "<IPython.core.display.Javascript at 0x114f8bc90>"
       ]
      },
      {
       "javascript": [
        "\n",
        "        var $myPB = $(\"div#eebbe88f-258c-4585-b770-3764ef10d4dc\")\n",
        "        if ($myPB.hasClass('ui-progressbar')) {\n",
        "            $myPB.progressbar('value', 20);\n",
        "        } else {\n",
        "            $myPB.progressbar({value: 0, max: 63});\n",
        "        }\n",
        "        "
       ],
       "metadata": {},
       "output_type": "display_data",
       "text": [
        "<IPython.core.display.Javascript at 0x114f8b210>"
       ]
      },
      {
       "javascript": [
        "$('div#2929e56e-c4b0-4325-bf8c-a452da9b47e9').text('ETA:  0:00:04');"
       ],
       "metadata": {},
       "output_type": "display_data",
       "text": [
        "<IPython.core.display.Javascript at 0x114f8b7d0>"
       ]
      },
      {
       "javascript": [
        "\n",
        "        var $myPB = $(\"div#eebbe88f-258c-4585-b770-3764ef10d4dc\")\n",
        "        if ($myPB.hasClass('ui-progressbar')) {\n",
        "            $myPB.progressbar('value', 21);\n",
        "        } else {\n",
        "            $myPB.progressbar({value: 0, max: 63});\n",
        "        }\n",
        "        "
       ],
       "metadata": {},
       "output_type": "display_data",
       "text": [
        "<IPython.core.display.Javascript at 0x114f8be50>"
       ]
      },
      {
       "javascript": [
        "$('div#2929e56e-c4b0-4325-bf8c-a452da9b47e9').text('ETA:  0:00:04');"
       ],
       "metadata": {},
       "output_type": "display_data",
       "text": [
        "<IPython.core.display.Javascript at 0x114f8bf10>"
       ]
      },
      {
       "javascript": [
        "\n",
        "        var $myPB = $(\"div#eebbe88f-258c-4585-b770-3764ef10d4dc\")\n",
        "        if ($myPB.hasClass('ui-progressbar')) {\n",
        "            $myPB.progressbar('value', 22);\n",
        "        } else {\n",
        "            $myPB.progressbar({value: 0, max: 63});\n",
        "        }\n",
        "        "
       ],
       "metadata": {},
       "output_type": "display_data",
       "text": [
        "<IPython.core.display.Javascript at 0x114f8bc90>"
       ]
      },
      {
       "javascript": [
        "$('div#2929e56e-c4b0-4325-bf8c-a452da9b47e9').text('ETA:  0:00:04');"
       ],
       "metadata": {},
       "output_type": "display_data",
       "text": [
        "<IPython.core.display.Javascript at 0x114f8b1d0>"
       ]
      },
      {
       "javascript": [
        "\n",
        "        var $myPB = $(\"div#eebbe88f-258c-4585-b770-3764ef10d4dc\")\n",
        "        if ($myPB.hasClass('ui-progressbar')) {\n",
        "            $myPB.progressbar('value', 23);\n",
        "        } else {\n",
        "            $myPB.progressbar({value: 0, max: 63});\n",
        "        }\n",
        "        "
       ],
       "metadata": {},
       "output_type": "display_data",
       "text": [
        "<IPython.core.display.Javascript at 0x114f8b750>"
       ]
      },
      {
       "javascript": [
        "$('div#2929e56e-c4b0-4325-bf8c-a452da9b47e9').text('ETA:  0:00:04');"
       ],
       "metadata": {},
       "output_type": "display_data",
       "text": [
        "<IPython.core.display.Javascript at 0x114f8bb90>"
       ]
      },
      {
       "javascript": [
        "\n",
        "        var $myPB = $(\"div#eebbe88f-258c-4585-b770-3764ef10d4dc\")\n",
        "        if ($myPB.hasClass('ui-progressbar')) {\n",
        "            $myPB.progressbar('value', 24);\n",
        "        } else {\n",
        "            $myPB.progressbar({value: 0, max: 63});\n",
        "        }\n",
        "        "
       ],
       "metadata": {},
       "output_type": "display_data",
       "text": [
        "<IPython.core.display.Javascript at 0x114f8b1d0>"
       ]
      },
      {
       "javascript": [
        "$('div#2929e56e-c4b0-4325-bf8c-a452da9b47e9').text('ETA:  0:00:04');"
       ],
       "metadata": {},
       "output_type": "display_data",
       "text": [
        "<IPython.core.display.Javascript at 0x114f8b7d0>"
       ]
      },
      {
       "javascript": [
        "\n",
        "        var $myPB = $(\"div#eebbe88f-258c-4585-b770-3764ef10d4dc\")\n",
        "        if ($myPB.hasClass('ui-progressbar')) {\n",
        "            $myPB.progressbar('value', 25);\n",
        "        } else {\n",
        "            $myPB.progressbar({value: 0, max: 63});\n",
        "        }\n",
        "        "
       ],
       "metadata": {},
       "output_type": "display_data",
       "text": [
        "<IPython.core.display.Javascript at 0x114f8be50>"
       ]
      },
      {
       "javascript": [
        "$('div#2929e56e-c4b0-4325-bf8c-a452da9b47e9').text('ETA:  0:00:03');"
       ],
       "metadata": {},
       "output_type": "display_data",
       "text": [
        "<IPython.core.display.Javascript at 0x114f8b990>"
       ]
      },
      {
       "javascript": [
        "\n",
        "        var $myPB = $(\"div#eebbe88f-258c-4585-b770-3764ef10d4dc\")\n",
        "        if ($myPB.hasClass('ui-progressbar')) {\n",
        "            $myPB.progressbar('value', 26);\n",
        "        } else {\n",
        "            $myPB.progressbar({value: 0, max: 63});\n",
        "        }\n",
        "        "
       ],
       "metadata": {},
       "output_type": "display_data",
       "text": [
        "<IPython.core.display.Javascript at 0x114f8b890>"
       ]
      },
      {
       "javascript": [
        "$('div#2929e56e-c4b0-4325-bf8c-a452da9b47e9').text('ETA:  0:00:03');"
       ],
       "metadata": {},
       "output_type": "display_data",
       "text": [
        "<IPython.core.display.Javascript at 0x114f8b450>"
       ]
      },
      {
       "javascript": [
        "\n",
        "        var $myPB = $(\"div#eebbe88f-258c-4585-b770-3764ef10d4dc\")\n",
        "        if ($myPB.hasClass('ui-progressbar')) {\n",
        "            $myPB.progressbar('value', 27);\n",
        "        } else {\n",
        "            $myPB.progressbar({value: 0, max: 63});\n",
        "        }\n",
        "        "
       ],
       "metadata": {},
       "output_type": "display_data",
       "text": [
        "<IPython.core.display.Javascript at 0x114f8b4d0>"
       ]
      },
      {
       "javascript": [
        "$('div#2929e56e-c4b0-4325-bf8c-a452da9b47e9').text('ETA:  0:00:03');"
       ],
       "metadata": {},
       "output_type": "display_data",
       "text": [
        "<IPython.core.display.Javascript at 0x114f8bb90>"
       ]
      },
      {
       "javascript": [
        "\n",
        "        var $myPB = $(\"div#eebbe88f-258c-4585-b770-3764ef10d4dc\")\n",
        "        if ($myPB.hasClass('ui-progressbar')) {\n",
        "            $myPB.progressbar('value', 28);\n",
        "        } else {\n",
        "            $myPB.progressbar({value: 0, max: 63});\n",
        "        }\n",
        "        "
       ],
       "metadata": {},
       "output_type": "display_data",
       "text": [
        "<IPython.core.display.Javascript at 0x114f8b250>"
       ]
      },
      {
       "javascript": [
        "$('div#2929e56e-c4b0-4325-bf8c-a452da9b47e9').text('ETA:  0:00:03');"
       ],
       "metadata": {},
       "output_type": "display_data",
       "text": [
        "<IPython.core.display.Javascript at 0x114f8b810>"
       ]
      },
      {
       "javascript": [
        "\n",
        "        var $myPB = $(\"div#eebbe88f-258c-4585-b770-3764ef10d4dc\")\n",
        "        if ($myPB.hasClass('ui-progressbar')) {\n",
        "            $myPB.progressbar('value', 29);\n",
        "        } else {\n",
        "            $myPB.progressbar({value: 0, max: 63});\n",
        "        }\n",
        "        "
       ],
       "metadata": {},
       "output_type": "display_data",
       "text": [
        "<IPython.core.display.Javascript at 0x114f8b750>"
       ]
      },
      {
       "javascript": [
        "$('div#2929e56e-c4b0-4325-bf8c-a452da9b47e9').text('ETA:  0:00:03');"
       ],
       "metadata": {},
       "output_type": "display_data",
       "text": [
        "<IPython.core.display.Javascript at 0x114f8b1d0>"
       ]
      },
      {
       "javascript": [
        "\n",
        "        var $myPB = $(\"div#eebbe88f-258c-4585-b770-3764ef10d4dc\")\n",
        "        if ($myPB.hasClass('ui-progressbar')) {\n",
        "            $myPB.progressbar('value', 30);\n",
        "        } else {\n",
        "            $myPB.progressbar({value: 0, max: 63});\n",
        "        }\n",
        "        "
       ],
       "metadata": {},
       "output_type": "display_data",
       "text": [
        "<IPython.core.display.Javascript at 0x114f8b690>"
       ]
      },
      {
       "javascript": [
        "$('div#2929e56e-c4b0-4325-bf8c-a452da9b47e9').text('ETA:  0:00:03');"
       ],
       "metadata": {},
       "output_type": "display_data",
       "text": [
        "<IPython.core.display.Javascript at 0x114f8b0d0>"
       ]
      },
      {
       "javascript": [
        "\n",
        "        var $myPB = $(\"div#eebbe88f-258c-4585-b770-3764ef10d4dc\")\n",
        "        if ($myPB.hasClass('ui-progressbar')) {\n",
        "            $myPB.progressbar('value', 31);\n",
        "        } else {\n",
        "            $myPB.progressbar({value: 0, max: 63});\n",
        "        }\n",
        "        "
       ],
       "metadata": {},
       "output_type": "display_data",
       "text": [
        "<IPython.core.display.Javascript at 0x114f8b1d0>"
       ]
      },
      {
       "javascript": [
        "$('div#2929e56e-c4b0-4325-bf8c-a452da9b47e9').text('ETA:  0:00:03');"
       ],
       "metadata": {},
       "output_type": "display_data",
       "text": [
        "<IPython.core.display.Javascript at 0x114f8b890>"
       ]
      },
      {
       "javascript": [
        "\n",
        "        var $myPB = $(\"div#eebbe88f-258c-4585-b770-3764ef10d4dc\")\n",
        "        if ($myPB.hasClass('ui-progressbar')) {\n",
        "            $myPB.progressbar('value', 32);\n",
        "        } else {\n",
        "            $myPB.progressbar({value: 0, max: 63});\n",
        "        }\n",
        "        "
       ],
       "metadata": {},
       "output_type": "display_data",
       "text": [
        "<IPython.core.display.Javascript at 0x114f8b250>"
       ]
      },
      {
       "javascript": [
        "$('div#2929e56e-c4b0-4325-bf8c-a452da9b47e9').text('ETA:  0:00:03');"
       ],
       "metadata": {},
       "output_type": "display_data",
       "text": [
        "<IPython.core.display.Javascript at 0x114f8b650>"
       ]
      },
      {
       "javascript": [
        "\n",
        "        var $myPB = $(\"div#eebbe88f-258c-4585-b770-3764ef10d4dc\")\n",
        "        if ($myPB.hasClass('ui-progressbar')) {\n",
        "            $myPB.progressbar('value', 33);\n",
        "        } else {\n",
        "            $myPB.progressbar({value: 0, max: 63});\n",
        "        }\n",
        "        "
       ],
       "metadata": {},
       "output_type": "display_data",
       "text": [
        "<IPython.core.display.Javascript at 0x114f8bbd0>"
       ]
      },
      {
       "javascript": [
        "$('div#2929e56e-c4b0-4325-bf8c-a452da9b47e9').text('ETA:  0:00:02');"
       ],
       "metadata": {},
       "output_type": "display_data",
       "text": [
        "<IPython.core.display.Javascript at 0x114f8b8d0>"
       ]
      },
      {
       "javascript": [
        "\n",
        "        var $myPB = $(\"div#eebbe88f-258c-4585-b770-3764ef10d4dc\")\n",
        "        if ($myPB.hasClass('ui-progressbar')) {\n",
        "            $myPB.progressbar('value', 34);\n",
        "        } else {\n",
        "            $myPB.progressbar({value: 0, max: 63});\n",
        "        }\n",
        "        "
       ],
       "metadata": {},
       "output_type": "display_data",
       "text": [
        "<IPython.core.display.Javascript at 0x114f8ba10>"
       ]
      },
      {
       "javascript": [
        "$('div#2929e56e-c4b0-4325-bf8c-a452da9b47e9').text('ETA:  0:00:02');"
       ],
       "metadata": {},
       "output_type": "display_data",
       "text": [
        "<IPython.core.display.Javascript at 0x114f8b690>"
       ]
      },
      {
       "javascript": [
        "\n",
        "        var $myPB = $(\"div#eebbe88f-258c-4585-b770-3764ef10d4dc\")\n",
        "        if ($myPB.hasClass('ui-progressbar')) {\n",
        "            $myPB.progressbar('value', 35);\n",
        "        } else {\n",
        "            $myPB.progressbar({value: 0, max: 63});\n",
        "        }\n",
        "        "
       ],
       "metadata": {},
       "output_type": "display_data",
       "text": [
        "<IPython.core.display.Javascript at 0x114f8bd50>"
       ]
      },
      {
       "javascript": [
        "$('div#2929e56e-c4b0-4325-bf8c-a452da9b47e9').text('ETA:  0:00:02');"
       ],
       "metadata": {},
       "output_type": "display_data",
       "text": [
        "<IPython.core.display.Javascript at 0x114f8ba50>"
       ]
      },
      {
       "javascript": [
        "\n",
        "        var $myPB = $(\"div#eebbe88f-258c-4585-b770-3764ef10d4dc\")\n",
        "        if ($myPB.hasClass('ui-progressbar')) {\n",
        "            $myPB.progressbar('value', 36);\n",
        "        } else {\n",
        "            $myPB.progressbar({value: 0, max: 63});\n",
        "        }\n",
        "        "
       ],
       "metadata": {},
       "output_type": "display_data",
       "text": [
        "<IPython.core.display.Javascript at 0x114f8b590>"
       ]
      },
      {
       "javascript": [
        "$('div#2929e56e-c4b0-4325-bf8c-a452da9b47e9').text('ETA:  0:00:02');"
       ],
       "metadata": {},
       "output_type": "display_data",
       "text": [
        "<IPython.core.display.Javascript at 0x114f8b1d0>"
       ]
      },
      {
       "javascript": [
        "\n",
        "        var $myPB = $(\"div#eebbe88f-258c-4585-b770-3764ef10d4dc\")\n",
        "        if ($myPB.hasClass('ui-progressbar')) {\n",
        "            $myPB.progressbar('value', 37);\n",
        "        } else {\n",
        "            $myPB.progressbar({value: 0, max: 63});\n",
        "        }\n",
        "        "
       ],
       "metadata": {},
       "output_type": "display_data",
       "text": [
        "<IPython.core.display.Javascript at 0x114f8bfd0>"
       ]
      },
      {
       "javascript": [
        "$('div#2929e56e-c4b0-4325-bf8c-a452da9b47e9').text('ETA:  0:00:02');"
       ],
       "metadata": {},
       "output_type": "display_data",
       "text": [
        "<IPython.core.display.Javascript at 0x114f8bbd0>"
       ]
      },
      {
       "javascript": [
        "\n",
        "        var $myPB = $(\"div#eebbe88f-258c-4585-b770-3764ef10d4dc\")\n",
        "        if ($myPB.hasClass('ui-progressbar')) {\n",
        "            $myPB.progressbar('value', 38);\n",
        "        } else {\n",
        "            $myPB.progressbar({value: 0, max: 63});\n",
        "        }\n",
        "        "
       ],
       "metadata": {},
       "output_type": "display_data",
       "text": [
        "<IPython.core.display.Javascript at 0x114f8b8d0>"
       ]
      },
      {
       "javascript": [
        "$('div#2929e56e-c4b0-4325-bf8c-a452da9b47e9').text('ETA:  0:00:02');"
       ],
       "metadata": {},
       "output_type": "display_data",
       "text": [
        "<IPython.core.display.Javascript at 0x114f8b1d0>"
       ]
      },
      {
       "javascript": [
        "\n",
        "        var $myPB = $(\"div#eebbe88f-258c-4585-b770-3764ef10d4dc\")\n",
        "        if ($myPB.hasClass('ui-progressbar')) {\n",
        "            $myPB.progressbar('value', 39);\n",
        "        } else {\n",
        "            $myPB.progressbar({value: 0, max: 63});\n",
        "        }\n",
        "        "
       ],
       "metadata": {},
       "output_type": "display_data",
       "text": [
        "<IPython.core.display.Javascript at 0x114f6c3d0>"
       ]
      },
      {
       "javascript": [
        "$('div#2929e56e-c4b0-4325-bf8c-a452da9b47e9').text('ETA:  0:00:02');"
       ],
       "metadata": {},
       "output_type": "display_data",
       "text": [
        "<IPython.core.display.Javascript at 0x114f6c510>"
       ]
      },
      {
       "javascript": [
        "\n",
        "        var $myPB = $(\"div#eebbe88f-258c-4585-b770-3764ef10d4dc\")\n",
        "        if ($myPB.hasClass('ui-progressbar')) {\n",
        "            $myPB.progressbar('value', 40);\n",
        "        } else {\n",
        "            $myPB.progressbar({value: 0, max: 63});\n",
        "        }\n",
        "        "
       ],
       "metadata": {},
       "output_type": "display_data",
       "text": [
        "<IPython.core.display.Javascript at 0x114f8b8d0>"
       ]
      },
      {
       "javascript": [
        "$('div#2929e56e-c4b0-4325-bf8c-a452da9b47e9').text('ETA:  0:00:02');"
       ],
       "metadata": {},
       "output_type": "display_data",
       "text": [
        "<IPython.core.display.Javascript at 0x114f6ce10>"
       ]
      },
      {
       "javascript": [
        "\n",
        "        var $myPB = $(\"div#eebbe88f-258c-4585-b770-3764ef10d4dc\")\n",
        "        if ($myPB.hasClass('ui-progressbar')) {\n",
        "            $myPB.progressbar('value', 41);\n",
        "        } else {\n",
        "            $myPB.progressbar({value: 0, max: 63});\n",
        "        }\n",
        "        "
       ],
       "metadata": {},
       "output_type": "display_data",
       "text": [
        "<IPython.core.display.Javascript at 0x114f6c3d0>"
       ]
      },
      {
       "javascript": [
        "$('div#2929e56e-c4b0-4325-bf8c-a452da9b47e9').text('ETA:  0:00:02');"
       ],
       "metadata": {},
       "output_type": "display_data",
       "text": [
        "<IPython.core.display.Javascript at 0x114f6ca10>"
       ]
      },
      {
       "javascript": [
        "\n",
        "        var $myPB = $(\"div#eebbe88f-258c-4585-b770-3764ef10d4dc\")\n",
        "        if ($myPB.hasClass('ui-progressbar')) {\n",
        "            $myPB.progressbar('value', 42);\n",
        "        } else {\n",
        "            $myPB.progressbar({value: 0, max: 63});\n",
        "        }\n",
        "        "
       ],
       "metadata": {},
       "output_type": "display_data",
       "text": [
        "<IPython.core.display.Javascript at 0x114f6c710>"
       ]
      },
      {
       "javascript": [
        "$('div#2929e56e-c4b0-4325-bf8c-a452da9b47e9').text('ETA:  0:00:02');"
       ],
       "metadata": {},
       "output_type": "display_data",
       "text": [
        "<IPython.core.display.Javascript at 0x114f6ca50>"
       ]
      },
      {
       "javascript": [
        "\n",
        "        var $myPB = $(\"div#eebbe88f-258c-4585-b770-3764ef10d4dc\")\n",
        "        if ($myPB.hasClass('ui-progressbar')) {\n",
        "            $myPB.progressbar('value', 43);\n",
        "        } else {\n",
        "            $myPB.progressbar({value: 0, max: 63});\n",
        "        }\n",
        "        "
       ],
       "metadata": {},
       "output_type": "display_data",
       "text": [
        "<IPython.core.display.Javascript at 0x114f6ccd0>"
       ]
      },
      {
       "javascript": [
        "$('div#2929e56e-c4b0-4325-bf8c-a452da9b47e9').text('ETA:  0:00:01');"
       ],
       "metadata": {},
       "output_type": "display_data",
       "text": [
        "<IPython.core.display.Javascript at 0x114f6c910>"
       ]
      },
      {
       "javascript": [
        "\n",
        "        var $myPB = $(\"div#eebbe88f-258c-4585-b770-3764ef10d4dc\")\n",
        "        if ($myPB.hasClass('ui-progressbar')) {\n",
        "            $myPB.progressbar('value', 44);\n",
        "        } else {\n",
        "            $myPB.progressbar({value: 0, max: 63});\n",
        "        }\n",
        "        "
       ],
       "metadata": {},
       "output_type": "display_data",
       "text": [
        "<IPython.core.display.Javascript at 0x114f6cf90>"
       ]
      },
      {
       "javascript": [
        "$('div#2929e56e-c4b0-4325-bf8c-a452da9b47e9').text('ETA:  0:00:01');"
       ],
       "metadata": {},
       "output_type": "display_data",
       "text": [
        "<IPython.core.display.Javascript at 0x114f6c310>"
       ]
      },
      {
       "javascript": [
        "\n",
        "        var $myPB = $(\"div#eebbe88f-258c-4585-b770-3764ef10d4dc\")\n",
        "        if ($myPB.hasClass('ui-progressbar')) {\n",
        "            $myPB.progressbar('value', 45);\n",
        "        } else {\n",
        "            $myPB.progressbar({value: 0, max: 63});\n",
        "        }\n",
        "        "
       ],
       "metadata": {},
       "output_type": "display_data",
       "text": [
        "<IPython.core.display.Javascript at 0x114f6c910>"
       ]
      },
      {
       "javascript": [
        "$('div#2929e56e-c4b0-4325-bf8c-a452da9b47e9').text('ETA:  0:00:01');"
       ],
       "metadata": {},
       "output_type": "display_data",
       "text": [
        "<IPython.core.display.Javascript at 0x114f6ce10>"
       ]
      },
      {
       "javascript": [
        "\n",
        "        var $myPB = $(\"div#eebbe88f-258c-4585-b770-3764ef10d4dc\")\n",
        "        if ($myPB.hasClass('ui-progressbar')) {\n",
        "            $myPB.progressbar('value', 46);\n",
        "        } else {\n",
        "            $myPB.progressbar({value: 0, max: 63});\n",
        "        }\n",
        "        "
       ],
       "metadata": {},
       "output_type": "display_data",
       "text": [
        "<IPython.core.display.Javascript at 0x114f6c710>"
       ]
      },
      {
       "javascript": [
        "$('div#2929e56e-c4b0-4325-bf8c-a452da9b47e9').text('ETA:  0:00:01');"
       ],
       "metadata": {},
       "output_type": "display_data",
       "text": [
        "<IPython.core.display.Javascript at 0x114f6cdd0>"
       ]
      },
      {
       "javascript": [
        "\n",
        "        var $myPB = $(\"div#eebbe88f-258c-4585-b770-3764ef10d4dc\")\n",
        "        if ($myPB.hasClass('ui-progressbar')) {\n",
        "            $myPB.progressbar('value', 47);\n",
        "        } else {\n",
        "            $myPB.progressbar({value: 0, max: 63});\n",
        "        }\n",
        "        "
       ],
       "metadata": {},
       "output_type": "display_data",
       "text": [
        "<IPython.core.display.Javascript at 0x114f6c950>"
       ]
      },
      {
       "javascript": [
        "$('div#2929e56e-c4b0-4325-bf8c-a452da9b47e9').text('ETA:  0:00:01');"
       ],
       "metadata": {},
       "output_type": "display_data",
       "text": [
        "<IPython.core.display.Javascript at 0x114f6cb50>"
       ]
      },
      {
       "javascript": [
        "\n",
        "        var $myPB = $(\"div#eebbe88f-258c-4585-b770-3764ef10d4dc\")\n",
        "        if ($myPB.hasClass('ui-progressbar')) {\n",
        "            $myPB.progressbar('value', 48);\n",
        "        } else {\n",
        "            $myPB.progressbar({value: 0, max: 63});\n",
        "        }\n",
        "        "
       ],
       "metadata": {},
       "output_type": "display_data",
       "text": [
        "<IPython.core.display.Javascript at 0x114f6c290>"
       ]
      },
      {
       "javascript": [
        "$('div#2929e56e-c4b0-4325-bf8c-a452da9b47e9').text('ETA:  0:00:01');"
       ],
       "metadata": {},
       "output_type": "display_data",
       "text": [
        "<IPython.core.display.Javascript at 0x114f6cf90>"
       ]
      },
      {
       "javascript": [
        "\n",
        "        var $myPB = $(\"div#eebbe88f-258c-4585-b770-3764ef10d4dc\")\n",
        "        if ($myPB.hasClass('ui-progressbar')) {\n",
        "            $myPB.progressbar('value', 49);\n",
        "        } else {\n",
        "            $myPB.progressbar({value: 0, max: 63});\n",
        "        }\n",
        "        "
       ],
       "metadata": {},
       "output_type": "display_data",
       "text": [
        "<IPython.core.display.Javascript at 0x114f6c890>"
       ]
      },
      {
       "javascript": [
        "$('div#2929e56e-c4b0-4325-bf8c-a452da9b47e9').text('ETA:  0:00:01');"
       ],
       "metadata": {},
       "output_type": "display_data",
       "text": [
        "<IPython.core.display.Javascript at 0x114f6c7d0>"
       ]
      },
      {
       "javascript": [
        "\n",
        "        var $myPB = $(\"div#eebbe88f-258c-4585-b770-3764ef10d4dc\")\n",
        "        if ($myPB.hasClass('ui-progressbar')) {\n",
        "            $myPB.progressbar('value', 50);\n",
        "        } else {\n",
        "            $myPB.progressbar({value: 0, max: 63});\n",
        "        }\n",
        "        "
       ],
       "metadata": {},
       "output_type": "display_data",
       "text": [
        "<IPython.core.display.Javascript at 0x114f6cf10>"
       ]
      },
      {
       "javascript": [
        "$('div#2929e56e-c4b0-4325-bf8c-a452da9b47e9').text('ETA:  0:00:01');"
       ],
       "metadata": {},
       "output_type": "display_data",
       "text": [
        "<IPython.core.display.Javascript at 0x114f6c910>"
       ]
      },
      {
       "javascript": [
        "\n",
        "        var $myPB = $(\"div#eebbe88f-258c-4585-b770-3764ef10d4dc\")\n",
        "        if ($myPB.hasClass('ui-progressbar')) {\n",
        "            $myPB.progressbar('value', 51);\n",
        "        } else {\n",
        "            $myPB.progressbar({value: 0, max: 63});\n",
        "        }\n",
        "        "
       ],
       "metadata": {},
       "output_type": "display_data",
       "text": [
        "<IPython.core.display.Javascript at 0x114f6c350>"
       ]
      },
      {
       "javascript": [
        "$('div#2929e56e-c4b0-4325-bf8c-a452da9b47e9').text('ETA:  0:00:01');"
       ],
       "metadata": {},
       "output_type": "display_data",
       "text": [
        "<IPython.core.display.Javascript at 0x114f6c210>"
       ]
      },
      {
       "javascript": [
        "\n",
        "        var $myPB = $(\"div#eebbe88f-258c-4585-b770-3764ef10d4dc\")\n",
        "        if ($myPB.hasClass('ui-progressbar')) {\n",
        "            $myPB.progressbar('value', 52);\n",
        "        } else {\n",
        "            $myPB.progressbar({value: 0, max: 63});\n",
        "        }\n",
        "        "
       ],
       "metadata": {},
       "output_type": "display_data",
       "text": [
        "<IPython.core.display.Javascript at 0x114f6c910>"
       ]
      },
      {
       "javascript": [
        "$('div#2929e56e-c4b0-4325-bf8c-a452da9b47e9').text('ETA:  0:00:01');"
       ],
       "metadata": {},
       "output_type": "display_data",
       "text": [
        "<IPython.core.display.Javascript at 0x114f6c950>"
       ]
      },
      {
       "javascript": [
        "\n",
        "        var $myPB = $(\"div#eebbe88f-258c-4585-b770-3764ef10d4dc\")\n",
        "        if ($myPB.hasClass('ui-progressbar')) {\n",
        "            $myPB.progressbar('value', 53);\n",
        "        } else {\n",
        "            $myPB.progressbar({value: 0, max: 63});\n",
        "        }\n",
        "        "
       ],
       "metadata": {},
       "output_type": "display_data",
       "text": [
        "<IPython.core.display.Javascript at 0x114f6c890>"
       ]
      },
      {
       "javascript": [
        "$('div#2929e56e-c4b0-4325-bf8c-a452da9b47e9').text('ETA:  0:00:00');"
       ],
       "metadata": {},
       "output_type": "display_data",
       "text": [
        "<IPython.core.display.Javascript at 0x114f6ce50>"
       ]
      },
      {
       "javascript": [
        "\n",
        "        var $myPB = $(\"div#eebbe88f-258c-4585-b770-3764ef10d4dc\")\n",
        "        if ($myPB.hasClass('ui-progressbar')) {\n",
        "            $myPB.progressbar('value', 54);\n",
        "        } else {\n",
        "            $myPB.progressbar({value: 0, max: 63});\n",
        "        }\n",
        "        "
       ],
       "metadata": {},
       "output_type": "display_data",
       "text": [
        "<IPython.core.display.Javascript at 0x114f6ca90>"
       ]
      },
      {
       "javascript": [
        "$('div#2929e56e-c4b0-4325-bf8c-a452da9b47e9').text('ETA:  0:00:00');"
       ],
       "metadata": {},
       "output_type": "display_data",
       "text": [
        "<IPython.core.display.Javascript at 0x114f6c4d0>"
       ]
      },
      {
       "javascript": [
        "\n",
        "        var $myPB = $(\"div#eebbe88f-258c-4585-b770-3764ef10d4dc\")\n",
        "        if ($myPB.hasClass('ui-progressbar')) {\n",
        "            $myPB.progressbar('value', 55);\n",
        "        } else {\n",
        "            $myPB.progressbar({value: 0, max: 63});\n",
        "        }\n",
        "        "
       ],
       "metadata": {},
       "output_type": "display_data",
       "text": [
        "<IPython.core.display.Javascript at 0x114f6c650>"
       ]
      },
      {
       "javascript": [
        "$('div#2929e56e-c4b0-4325-bf8c-a452da9b47e9').text('ETA:  0:00:00');"
       ],
       "metadata": {},
       "output_type": "display_data",
       "text": [
        "<IPython.core.display.Javascript at 0x114f6c350>"
       ]
      },
      {
       "javascript": [
        "\n",
        "        var $myPB = $(\"div#eebbe88f-258c-4585-b770-3764ef10d4dc\")\n",
        "        if ($myPB.hasClass('ui-progressbar')) {\n",
        "            $myPB.progressbar('value', 56);\n",
        "        } else {\n",
        "            $myPB.progressbar({value: 0, max: 63});\n",
        "        }\n",
        "        "
       ],
       "metadata": {},
       "output_type": "display_data",
       "text": [
        "<IPython.core.display.Javascript at 0x114f6c110>"
       ]
      },
      {
       "javascript": [
        "$('div#2929e56e-c4b0-4325-bf8c-a452da9b47e9').text('ETA:  0:00:00');"
       ],
       "metadata": {},
       "output_type": "display_data",
       "text": [
        "<IPython.core.display.Javascript at 0x114f6c910>"
       ]
      },
      {
       "javascript": [
        "\n",
        "        var $myPB = $(\"div#eebbe88f-258c-4585-b770-3764ef10d4dc\")\n",
        "        if ($myPB.hasClass('ui-progressbar')) {\n",
        "            $myPB.progressbar('value', 57);\n",
        "        } else {\n",
        "            $myPB.progressbar({value: 0, max: 63});\n",
        "        }\n",
        "        "
       ],
       "metadata": {},
       "output_type": "display_data",
       "text": [
        "<IPython.core.display.Javascript at 0x114f6c4d0>"
       ]
      },
      {
       "javascript": [
        "$('div#2929e56e-c4b0-4325-bf8c-a452da9b47e9').text('ETA:  0:00:00');"
       ],
       "metadata": {},
       "output_type": "display_data",
       "text": [
        "<IPython.core.display.Javascript at 0x114f6c650>"
       ]
      },
      {
       "javascript": [
        "\n",
        "        var $myPB = $(\"div#eebbe88f-258c-4585-b770-3764ef10d4dc\")\n",
        "        if ($myPB.hasClass('ui-progressbar')) {\n",
        "            $myPB.progressbar('value', 58);\n",
        "        } else {\n",
        "            $myPB.progressbar({value: 0, max: 63});\n",
        "        }\n",
        "        "
       ],
       "metadata": {},
       "output_type": "display_data",
       "text": [
        "<IPython.core.display.Javascript at 0x114f6c950>"
       ]
      },
      {
       "javascript": [
        "$('div#2929e56e-c4b0-4325-bf8c-a452da9b47e9').text('ETA:  0:00:00');"
       ],
       "metadata": {},
       "output_type": "display_data",
       "text": [
        "<IPython.core.display.Javascript at 0x114f6c910>"
       ]
      },
      {
       "javascript": [
        "\n",
        "        var $myPB = $(\"div#eebbe88f-258c-4585-b770-3764ef10d4dc\")\n",
        "        if ($myPB.hasClass('ui-progressbar')) {\n",
        "            $myPB.progressbar('value', 59);\n",
        "        } else {\n",
        "            $myPB.progressbar({value: 0, max: 63});\n",
        "        }\n",
        "        "
       ],
       "metadata": {},
       "output_type": "display_data",
       "text": [
        "<IPython.core.display.Javascript at 0x114f6c950>"
       ]
      },
      {
       "javascript": [
        "$('div#2929e56e-c4b0-4325-bf8c-a452da9b47e9').text('ETA:  0:00:00');"
       ],
       "metadata": {},
       "output_type": "display_data",
       "text": [
        "<IPython.core.display.Javascript at 0x114f43b50>"
       ]
      },
      {
       "javascript": [
        "\n",
        "        var $myPB = $(\"div#eebbe88f-258c-4585-b770-3764ef10d4dc\")\n",
        "        if ($myPB.hasClass('ui-progressbar')) {\n",
        "            $myPB.progressbar('value', 60);\n",
        "        } else {\n",
        "            $myPB.progressbar({value: 0, max: 63});\n",
        "        }\n",
        "        "
       ],
       "metadata": {},
       "output_type": "display_data",
       "text": [
        "<IPython.core.display.Javascript at 0x114f43f90>"
       ]
      },
      {
       "javascript": [
        "$('div#2929e56e-c4b0-4325-bf8c-a452da9b47e9').text('ETA:  0:00:00');"
       ],
       "metadata": {},
       "output_type": "display_data",
       "text": [
        "<IPython.core.display.Javascript at 0x114f43990>"
       ]
      },
      {
       "javascript": [
        "\n",
        "        var $myPB = $(\"div#eebbe88f-258c-4585-b770-3764ef10d4dc\")\n",
        "        if ($myPB.hasClass('ui-progressbar')) {\n",
        "            $myPB.progressbar('value', 61);\n",
        "        } else {\n",
        "            $myPB.progressbar({value: 0, max: 63});\n",
        "        }\n",
        "        "
       ],
       "metadata": {},
       "output_type": "display_data",
       "text": [
        "<IPython.core.display.Javascript at 0x114f43550>"
       ]
      },
      {
       "javascript": [
        "$('div#2929e56e-c4b0-4325-bf8c-a452da9b47e9').text('ETA:  0:00:00');"
       ],
       "metadata": {},
       "output_type": "display_data",
       "text": [
        "<IPython.core.display.Javascript at 0x114f43d50>"
       ]
      },
      {
       "javascript": [
        "\n",
        "        var $myPB = $(\"div#eebbe88f-258c-4585-b770-3764ef10d4dc\")\n",
        "        if ($myPB.hasClass('ui-progressbar')) {\n",
        "            $myPB.progressbar('value', 62);\n",
        "        } else {\n",
        "            $myPB.progressbar({value: 0, max: 63});\n",
        "        }\n",
        "        "
       ],
       "metadata": {},
       "output_type": "display_data",
       "text": [
        "<IPython.core.display.Javascript at 0x114f43b90>"
       ]
      },
      {
       "javascript": [
        "$('div#2929e56e-c4b0-4325-bf8c-a452da9b47e9').text('ETA:  0:00:00');"
       ],
       "metadata": {},
       "output_type": "display_data",
       "text": [
        "<IPython.core.display.Javascript at 0x114f43a90>"
       ]
      },
      {
       "javascript": [
        "\n",
        "        var $myPB = $(\"div#eebbe88f-258c-4585-b770-3764ef10d4dc\")\n",
        "        if ($myPB.hasClass('ui-progressbar')) {\n",
        "            $myPB.progressbar('value', 63);\n",
        "        } else {\n",
        "            $myPB.progressbar({value: 0, max: 63});\n",
        "        }\n",
        "        "
       ],
       "metadata": {},
       "output_type": "display_data",
       "text": [
        "<IPython.core.display.Javascript at 0x114f7aa90>"
       ]
      },
      {
       "javascript": [
        "$('div#2929e56e-c4b0-4325-bf8c-a452da9b47e9').text('Time: 0:00:06');"
       ],
       "metadata": {},
       "output_type": "display_data",
       "text": [
        "<IPython.core.display.Javascript at 0x114f43a90>"
       ]
      },
      {
       "javascript": [
        "var element = document.getElementById('0f299d25-5b6d-4ee1-ad52-7d8d5daceaee');\n",
        "                    var parent = element.parentNode\n",
        "                    parent.removeChild(element);\n",
        "                    parent.parentElement.remove();"
       ],
       "metadata": {},
       "output_type": "display_data",
       "text": [
        "<IPython.core.display.Javascript at 0x114f7a110>"
       ]
      },
      {
       "javascript": [
        "this.cleanProgressBar(['0f299d25-5b6d-4ee1-ad52-7d8d5daceaee', 'eebbe88f-258c-4585-b770-3764ef10d4dc', '2929e56e-c4b0-4325-bf8c-a452da9b47e9'])"
       ],
       "metadata": {},
       "output_type": "display_data",
       "text": [
        "<IPython.core.display.Javascript at 0x114f43610>"
       ]
      },
      {
       "metadata": {},
       "output_type": "display_data",
       "png": "[encoded data removed]",
       "text": [
        "<matplotlib.figure.Figure at 0x114e75210>"
       ]
      }
     ],
     "prompt_number": 11
    },
    {
     "cell_type": "code",
     "collapsed": false,
     "input": [],
     "language": "python",
     "metadata": {},
     "outputs": []
    }
   ],
   "metadata": {}
  }
 ]
}