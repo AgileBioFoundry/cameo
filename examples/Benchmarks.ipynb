{
 "metadata": {
  "name": ""
 },
 "nbformat": 3,
 "nbformat_minor": 0,
 "worksheets": [
  {
   "cells": [
    {
     "cell_type": "heading",
     "level": 1,
     "metadata": {},
     "source": [
      "Benchmarks of constraint-based modeling methods"
     ]
    },
    {
     "cell_type": "heading",
     "level": 3,
     "metadata": {},
     "source": [
      "Import dependencies and initialize models"
     ]
    },
    {
     "cell_type": "code",
     "collapsed": false,
     "input": [
      "import time\n",
      "import cProfile\n",
      "import plotly\n",
      "import dataset\n",
      "db = dataset.connect('sqlite:///:memory:')\n",
      "benchmarks = db['benchmarks']"
     ],
     "language": "python",
     "metadata": {},
     "outputs": [],
     "prompt_number": 1
    },
    {
     "cell_type": "code",
     "collapsed": false,
     "input": [
      "from framed.io_utils.sbml import load_sbml_model, GPR_CONSTRAINED\n",
      "from framed.analysis.variability import FVA as framed_fva\n",
      "from framed.core.fixes import fix_bigg_model\n",
      "from framed.solvers import set_default_solver\n",
      "from framed.core.fixes import fix_bigg_model\n",
      "set_default_solver('glpk_lazy')"
     ],
     "language": "python",
     "metadata": {},
     "outputs": [],
     "prompt_number": 2
    },
    {
     "cell_type": "code",
     "collapsed": false,
     "input": [
      "from framed.solvers import default_solver\n",
      "default_solver"
     ],
     "language": "python",
     "metadata": {},
     "outputs": [
      {
       "metadata": {},
       "output_type": "pyout",
       "prompt_number": 3,
       "text": [
        "'glpk_lazy'"
       ]
      }
     ],
     "prompt_number": 3
    },
    {
     "cell_type": "code",
     "collapsed": false,
     "input": [
      "from timeit import Timer\n",
      "from functools import partial\n",
      "import cameo\n",
      "from cameo.util import AutoVivification\n",
      "from cameo.util import flux_variability_analysis as cameo_fva\n",
      "from cobra.oven.phantomas1234.solver_based_model import to_solver_based_model\n",
      "from cobra.io import read_sbml_model\n",
      "from cobra.flux_analysis.variability import flux_variability_analysis as cobrapy_fva"
     ],
     "language": "python",
     "metadata": {},
     "outputs": [
      {
       "output_type": "stream",
       "stream": "stderr",
       "text": [
        "/Users/niko/Arbejder/Dev/cobrapy/cobra/oven/__init__.py:2: UserWarning: Functions in cobra.oven are still being baked thus are not officially supported and may not function\n",
        "  warn(\"Functions in cobra.oven are still being baked thus are not officially supported and may not function\")\n"
       ]
      }
     ],
     "prompt_number": 4
    },
    {
     "cell_type": "code",
     "collapsed": false,
     "input": [
      "cobrapy_model = read_sbml_model('../tests/data/EcoliCore.xml')\n",
      "sbmodel = to_solver_based_model(cobrapy_model)\n",
      "framed_model = load_sbml_model('../tests/data/EcoliCore.xml', GPR_CONSTRAINED)\n",
      "fix_bigg_model(framed_model)"
     ],
     "language": "python",
     "metadata": {},
     "outputs": [],
     "prompt_number": 5
    },
    {
     "cell_type": "code",
     "collapsed": false,
     "input": [
      "cobrapy_model_iJO = read_sbml_model('../tests/data/iJO1366.xml')\n",
      "sbmodel_iJO = to_solver_based_model(cobrapy_model_iJO)\n",
      "framed_model_iJO = load_sbml_model('../tests/data/iJO1366.xml', GPR_CONSTRAINED)\n",
      "fix_bigg_model(framed_model_iJO)"
     ],
     "language": "python",
     "metadata": {},
     "outputs": [
      {
       "output_type": "stream",
       "stream": "stderr",
       "text": [
        "/Users/niko/Arbejder/Dev/cobrapy/cobra/core/Formula.py:151: UserWarning: An element ('R') in one of your chemical formulas is not in the periodic table cobra.core.Formula.weight_dict. \n",
        "Thus we cannot calculate a formula weight for the metabolite.\n",
        "  'Thus we cannot calculate a formula weight for the metabolite.')\n",
        "/Users/niko/Arbejder/Dev/cobrapy/cobra/core/Formula.py:151: UserWarning: An element ('X') in one of your chemical formulas is not in the periodic table cobra.core.Formula.weight_dict. \n",
        "Thus we cannot calculate a formula weight for the metabolite.\n",
        "  'Thus we cannot calculate a formula weight for the metabolite.')\n"
       ]
      }
     ],
     "prompt_number": 6
    },
    {
     "cell_type": "code",
     "collapsed": false,
     "input": [
      "benchmark_results = AutoVivification()"
     ],
     "language": "python",
     "metadata": {},
     "outputs": [],
     "prompt_number": 7
    },
    {
     "cell_type": "heading",
     "level": 2,
     "metadata": {},
     "source": [
      "Flux-variability analysis"
     ]
    },
    {
     "cell_type": "code",
     "collapsed": false,
     "input": [
      "fva_repeat=3\n",
      "fva_number=10"
     ],
     "language": "python",
     "metadata": {},
     "outputs": [],
     "prompt_number": 8
    },
    {
     "cell_type": "markdown",
     "metadata": {},
     "source": [
      "Start with E. coli core"
     ]
    },
    {
     "cell_type": "code",
     "collapsed": false,
     "input": [
      "timing = min(Timer(partial(cameo_fva, sbmodel)).repeat(repeat=fva_repeat, number=fva_number))\n",
      "benchmarks.insert(dict(\n",
      "                       methods='fva',\n",
      "                       framework='cameo',\n",
      "                       model='E. coli Core',\n",
      "                       repeat=fva_repeat,\n",
      "                       number=fva_number,\n",
      "                       timing=timing\n",
      "                       )\n",
      "                  )\n",
      "print timing"
     ],
     "language": "python",
     "metadata": {},
     "outputs": [
      {
       "output_type": "stream",
       "stream": "stdout",
       "text": [
        "1.01764392853\n"
       ]
      }
     ],
     "prompt_number": 9
    },
    {
     "cell_type": "code",
     "collapsed": false,
     "input": [
      "timing = min(Timer(partial(framed_fva, framed_model)).repeat(repeat=fva_repeat, number=fva_number))\n",
      "benchmarks.insert(dict(\n",
      "                       methods='fva',\n",
      "                       framework='framed',\n",
      "                       model='E. coli Core',\n",
      "                       repeat=fva_repeat,\n",
      "                       number=fva_number,\n",
      "                       timing=timing\n",
      "                       )\n",
      "                  )\n",
      "print timing"
     ],
     "language": "python",
     "metadata": {},
     "outputs": [
      {
       "output_type": "stream",
       "stream": "stdout",
       "text": [
        "0.968016862869\n"
       ]
      }
     ],
     "prompt_number": 10
    },
    {
     "cell_type": "code",
     "collapsed": false,
     "input": [
      "timing = min(Timer(partial(cobrapy_fva, cobrapy_model)).repeat(repeat=fva_repeat, number=fva_number))\n",
      "benchmarks.insert(dict(\n",
      "                       methods='fva',\n",
      "                       framework='cobrapy',\n",
      "                       model='E. coli Core',\n",
      "                       repeat=fva_repeat,\n",
      "                       number=fva_number,\n",
      "                       timing=min(Timer(partial(cobrapy_fva, cobrapy_model)).repeat(repeat=fva_repeat, number=fva_number))\n",
      "                       )\n",
      "                  )\n",
      "print timing"
     ],
     "language": "python",
     "metadata": {},
     "outputs": [
      {
       "output_type": "stream",
       "stream": "stdout",
       "text": [
        "13.0710031986\n"
       ]
      }
     ],
     "prompt_number": 12
    },
    {
     "cell_type": "markdown",
     "metadata": {},
     "source": [
      "Now iJO1366"
     ]
    },
    {
     "cell_type": "code",
     "collapsed": false,
     "input": [
      "t1 = time.time()\n",
      "tmp = cameo_fva(sbmodel_iJO)\n",
      "t2 = time.time()\n",
      "print \"Execution time: %s\" % (t2-t1)"
     ],
     "language": "python",
     "metadata": {},
     "outputs": [
      {
       "output_type": "stream",
       "stream": "stdout",
       "text": [
        "Execution time: 30.1828668118\n"
       ]
      }
     ],
     "prompt_number": 14
    },
    {
     "cell_type": "code",
     "collapsed": true,
     "input": [
      "cProfile.run('cameo_fva(sbmodel_iJO)')"
     ],
     "language": "python",
     "metadata": {},
     "outputs": [
      {
       "output_type": "stream",
       "stream": "stdout",
       "text": [
        "         27385024 function calls (27379858 primitive calls) in 37.633 seconds\n",
        "\n",
        "   Ordered by: standard name\n",
        "\n",
        "   ncalls  tottime  percall  cumtime  percall filename:lineno(function)\n",
        "        1    0.001    0.001   37.633   37.633 <string>:1(<module>)\n",
        "        1    0.000    0.000    0.000    0.000 _abcoll.py:526(update)\n",
        "        3    0.000    0.000    0.000    0.000 _weakrefset.py:68(__contains__)\n",
        "        1    0.000    0.000    0.000    0.000 abc.py:128(__instancecheck__)\n",
        "        1    0.000    0.000    0.000    0.000 abc.py:148(__subclasscheck__)\n",
        "    20664    0.054    0.000    0.065    0.000 basic.py:106(__hash__)\n",
        "     5167    0.005    0.000    0.005    0.000 basic.py:656(args)\n",
        "    10332    0.031    0.000    0.039    0.000 basic.py:81(__new__)\n",
        "    15498    0.131    0.000    0.350    0.000 cache.py:78(wrapper)\n",
        "        1    0.000    0.000    0.000    0.000 collections.py:38(__init__)\n",
        "     2583    0.020    0.000    0.020    0.000 collections.py:54(__setitem__)\n",
        "        1    0.000    0.000    0.000    0.000 copy.py:306(_reconstruct)\n",
        "        1    0.000    0.000    0.000    0.000 copy.py:66(copy)\n",
        "        1    0.000    0.000    0.000    0.000 copy_reg.py:92(__newobj__)\n",
        "    10332    0.034    0.000    0.389    0.000 decorators.py:105(binary_op_wrapper)\n",
        "    10332    0.041    0.000    1.026    0.000 decorators.py:67(__sympifyit_wrapper)\n",
        "    10332    0.029    0.000    0.351    0.000 expr.py:162(__rmul__)\n",
        "     5166    0.024    0.000    0.509    0.000 glpk_interface.py:115(__init__)\n",
        "     5166    0.009    0.000    0.014    0.000 glpk_interface.py:122(value)\n",
        "41329/36163    0.098    0.000    0.143    0.000 glpk_interface.py:126(__setattr__)\n",
        "     5167    0.015    0.000    0.039    0.000 glpk_interface.py:27(index)\n",
        "    10333    0.011    0.000    0.011    0.000 glpk_interface.py:288(objective)\n",
        "     5167    4.282    0.001    8.580    0.002 glpk_interface.py:291(objective)\n",
        "     5166    0.055    0.000   18.855    0.004 glpk_interface.py:317(optimize)\n",
        "     5166    0.048    0.000    0.485    0.000 interface.py:263(__init__)\n",
        "     5166    0.014    0.000    0.359    0.000 interface.py:279(_canonicalize)\n",
        "     5167    0.004    0.000    0.004    0.000 interface.py:284(expression)\n",
        "     5167    0.002    0.000    0.002    0.000 interface.py:291(direction)\n",
        "     5166    0.008    0.000    0.013    0.000 interface.py:295(direction)\n",
        "    10332    0.016    0.000    0.042    0.000 libintmath.py:83(python_bitcount)\n",
        "    15499    0.105    0.000    0.105    0.000 libmpf.py:153(_normalize)\n",
        "    10332    0.048    0.000    0.182    0.000 libmpf.py:291(from_man_exp)\n",
        "    10332    0.051    0.000    0.243    0.000 libmpf.py:410(from_float)\n",
        "     5167    0.013    0.000    0.026    0.000 libmpf.py:429(to_float)\n",
        "    10332    0.012    0.000    0.012    0.000 libmpf.py:511(mpf_eq)\n",
        "    10332    0.043    0.000    0.066    0.000 libmpf.py:64(dps_to_prec)\n",
        "     5166    0.018    0.000    0.020    0.000 numbers.py:1638(__eq__)\n",
        "     5166    0.018    0.000    0.038    0.000 numbers.py:1645(__ne__)\n",
        "     5167    0.013    0.000    0.027    0.000 numbers.py:27(mpf_norm)\n",
        "     5167    0.021    0.000    0.083    0.000 numbers.py:275(__float__)\n",
        "    10332    0.023    0.000    0.076    0.000 numbers.py:380(__hash__)\n",
        "    10332    0.122    0.000    0.496    0.000 numbers.py:568(__new__)\n",
        "    10332    0.006    0.000    0.006    0.000 numbers.py:664(_hashable_content)\n",
        "     5167    0.010    0.000    0.037    0.000 numbers.py:679(_as_mpf_val)\n",
        "    10332    0.052    0.000    0.101    0.000 numbers.py:819(__eq__)\n",
        "    10332    0.030    0.000    0.106    0.000 numbers.py:903(__hash__)\n",
        "     5167    0.012    0.000    0.017    0.000 solver_based_model.py:128(objective)\n",
        "     5167    0.097    0.000    9.886    0.002 solver_based_model.py:131(objective)\n",
        "    25832    0.017    0.000    0.017    0.000 solver_based_model.py:142(solver)\n",
        "     5166    4.466    0.001   27.503    0.005 solver_based_model.py:256(optimize)\n",
        "     5166    0.006    0.000    0.006    0.000 solver_based_model.py:42(__init__)\n",
        "     5166    0.019    0.000    0.043    0.000 solver_based_model.py:46(f)\n",
        "     5166    0.005    0.000    0.005    0.000 solver_based_model.py:66(status)\n",
        "    10332    0.013    0.000    0.021    0.000 sympify.py:302(_sympify)\n",
        "    20664    0.075    0.000    0.571    0.000 sympify.py:50(sympify)\n",
        "        1    0.116    0.116   37.632   37.632 util.py:31(flux_variability_analysis)\n",
        "    10332    0.026    0.000    0.026    0.000 {_bisect.bisect}\n",
        "     5167    0.024    0.000    0.024    0.000 {_glpkpi.glp_find_col}\n",
        "     5167    0.007    0.000    0.007    0.000 {_glpkpi.glp_get_num_cols}\n",
        "     5166    0.006    0.000    0.006    0.000 {_glpkpi.glp_get_obj_val}\n",
        "     5166    0.017    0.000    0.017    0.000 {_glpkpi.glp_get_status}\n",
        " 13351528    4.130    0.000    4.130    0.000 {_glpkpi.glp_set_obj_coef}\n",
        "    10333    0.006    0.000    0.006    0.000 {_glpkpi.glp_set_obj_dir}\n",
        "     5166   18.784    0.004   18.784    0.004 {_glpkpi.glp_simplex}\n",
        "    10333    0.008    0.000    0.008    0.000 {built-in method __new__ of type object at 0x106bab328}\n",
        "    41332    0.035    0.000    0.035    0.000 {getattr}\n",
        "    20666    0.038    0.000    0.038    0.000 {hasattr}\n",
        "    10332    0.005    0.000    0.005    0.000 {hash}\n",
        "        1    0.000    0.000    0.000    0.000 {id}\n",
        "    98161    0.056    0.000    0.056    0.000 {isinstance}\n",
        "        4    0.000    0.000    0.000    0.000 {len}\n",
        "    10332    0.011    0.000    0.011    0.000 {math.frexp}\n",
        "     5167    0.013    0.000    0.013    0.000 {math.ldexp}\n",
        "    10332    0.010    0.000    0.010    0.000 {max}\n",
        "        1    0.000    0.000    0.000    0.000 {method '__reduce_ex__' of 'object' objects}\n",
        "        1    0.000    0.000    0.000    0.000 {method 'disable' of '_lsprof.Profiler' objects}\n",
        "        2    0.000    0.000    0.000    0.000 {method 'get' of 'dict' objects}\n",
        "        1    0.000    0.000    0.000    0.000 {method 'items' of 'dict' objects}\n",
        "        1    0.000    0.000    0.000    0.000 {method 'update' of 'dict' objects}\n",
        "    10332    0.013    0.000    0.013    0.000 {round}\n",
        " 13343778    4.100    0.000    4.100    0.000 {setattr}\n",
        "\n",
        "\n"
       ]
      }
     ],
     "prompt_number": 15
    },
    {
     "cell_type": "code",
     "collapsed": false,
     "input": [
      "# Reference speed\n",
      "ref_model = sbmodel_iJO.copy()\n",
      "def super_fast_fva():\n",
      "    import optlang\n",
      "    fva_sol_sbmodel2 = dict()\n",
      "    for rxn in ref_model.reactions:\n",
      "        fva_sol_sbmodel2[rxn.id] = dict()\n",
      "    t = time.time()\n",
      "    for rxn in ref_model.reactions:\n",
      "        ref_model.solver.objective = optlang.Objective(\n",
      "            1. * ref_model.solver.variables[rxn.id], direction='min')\n",
      "        status = ref_model.solver.optimize()\n",
      "        \n",
      "        if status is 'optimal':\n",
      "            fva_sol_sbmodel2[rxn.id]['minimum'] = ref_model.solver.objective.value\n",
      "        else:\n",
      "            fva_sol_sbmodel2[rxn.id]['minimum'] = None\n",
      "            # lb = ref_model.solver.objective.value\n",
      "            # if abs(lb) < 10**-6:\n",
      "            #     lb = 0.\n",
      "            # ref_model.solver.variables[rxn.id].lb = lb\n",
      "    for rxn in ref_model.reactions:\n",
      "        ref_model.solver.objective = optlang.Objective(\n",
      "            1. * ref_model.solver.variables[rxn.id], direction='max')\n",
      "        status = ref_model.solver.optimize()\n",
      "        if status is 'optimal':\n",
      "            fva_sol_sbmodel2[rxn.id]['maximum'] = ref_model.solver.objective.value\n",
      "            # ub = ref_model.solver.objective.value\n",
      "            # if abs(ub) < 10**-6:\n",
      "            #     ub = 0.\n",
      "            # ref_model.solver.variables[rxn.id].ub = ub\n",
      "        else:\n",
      "            fva_sol_sbmodel2[rxn.id]['maximum'] = ref_model.solver.objective.value\n",
      "    elapsed = time.time() - t\n",
      "    print 'optlang based FVA time elapsed: ', elapsed"
     ],
     "language": "python",
     "metadata": {},
     "outputs": [
      {
       "output_type": "stream",
       "stream": "stdout",
       "text": [
        "I am actually used.\n",
        "Populating from other solver ..."
       ]
      },
      {
       "output_type": "stream",
       "stream": "stdout",
       "text": [
        "\n"
       ]
      }
     ],
     "prompt_number": 16
    },
    {
     "cell_type": "code",
     "collapsed": false,
     "input": [
      "super_fast_fva()"
     ],
     "language": "python",
     "metadata": {},
     "outputs": [
      {
       "output_type": "stream",
       "stream": "stdout",
       "text": [
        "optlang based FVA time elapsed:  24.77125597\n"
       ]
      }
     ],
     "prompt_number": 17
    },
    {
     "cell_type": "code",
     "collapsed": false,
     "input": [
      "cProfile.run('super_fast_fva()')"
     ],
     "language": "python",
     "metadata": {},
     "outputs": [
      {
       "output_type": "stream",
       "stream": "stdout",
       "text": [
        "optlang based FVA time elapsed:  26.1223189831\n",
        "         13932767 function calls in 26.128 seconds\n",
        "\n",
        "   Ordered by: standard name\n",
        "\n",
        "   ncalls  tottime  percall  cumtime  percall filename:lineno(function)\n",
        "        1    0.131    0.131   26.127   26.127 <ipython-input-23-83d6ecba05cc>:3(super_fast_fva)\n",
        "        1    0.001    0.001   26.128   26.128 <string>:1(<module>)\n",
        "    20664    0.042    0.000    0.052    0.000 basic.py:106(__hash__)\n",
        "        4    0.000    0.000    0.000    0.000 basic.py:115(_hashable_content)\n",
        "        2    0.000    0.000    0.000    0.000 basic.py:340(__eq__)\n",
        "     5166    0.004    0.000    0.004    0.000 basic.py:656(args)\n",
        "    10332    0.023    0.000    0.030    0.000 basic.py:81(__new__)\n",
        "    10332    0.086    0.000    0.262    0.000 cache.py:78(wrapper)\n",
        "    10332    0.023    0.000    0.313    0.000 decorators.py:105(binary_op_wrapper)\n",
        "    10332    0.035    0.000    0.807    0.000 decorators.py:67(__sympifyit_wrapper)\n",
        "    10332    0.025    0.000    0.286    0.000 expr.py:162(__rmul__)\n",
        "     5166    0.018    0.000    0.429    0.000 glpk_interface.py:115(__init__)\n",
        "     5166    0.007    0.000    0.010    0.000 glpk_interface.py:122(value)\n",
        "    30996    0.057    0.000    0.083    0.000 glpk_interface.py:126(__setattr__)\n",
        "     5166    0.011    0.000    0.030    0.000 glpk_interface.py:27(index)\n",
        "     5166    0.003    0.000    0.003    0.000 glpk_interface.py:288(objective)\n",
        "     5166    4.135    0.001    8.086    0.002 glpk_interface.py:291(objective)\n",
        "     5166    0.038    0.000   16.942    0.003 glpk_interface.py:317(optimize)\n",
        "     5166    0.040    0.000    0.411    0.000 interface.py:263(__init__)\n",
        "     5166    0.013    0.000    0.304    0.000 interface.py:279(_canonicalize)\n",
        "     5166    0.003    0.000    0.003    0.000 interface.py:284(expression)\n",
        "     5166    0.002    0.000    0.002    0.000 interface.py:291(direction)\n",
        "        4    0.000    0.000    0.000    0.000 iostream.py:178(write)\n",
        "        4    0.000    0.000    0.000    0.000 iostream.py:79(_is_master_process)\n",
        "        4    0.000    0.000    0.000    0.000 iostream.py:88(_check_mp_mode)\n",
        "    10332    0.012    0.000    0.033    0.000 libintmath.py:83(python_bitcount)\n",
        "    15498    0.083    0.000    0.083    0.000 libmpf.py:153(_normalize)\n",
        "    10332    0.037    0.000    0.142    0.000 libmpf.py:291(from_man_exp)\n",
        "    10332    0.038    0.000    0.187    0.000 libmpf.py:410(from_float)\n",
        "     5166    0.010    0.000    0.020    0.000 libmpf.py:429(to_float)\n",
        "    10334    0.011    0.000    0.011    0.000 libmpf.py:511(mpf_eq)\n",
        "    10332    0.034    0.000    0.052    0.000 libmpf.py:64(dps_to_prec)\n",
        "     5166    0.010    0.000    0.020    0.000 numbers.py:27(mpf_norm)\n",
        "     5166    0.016    0.000    0.064    0.000 numbers.py:275(__float__)\n",
        "    10332    0.019    0.000    0.064    0.000 numbers.py:380(__hash__)\n",
        "    10332    0.095    0.000    0.388    0.000 numbers.py:568(__new__)\n",
        "    10332    0.006    0.000    0.006    0.000 numbers.py:664(_hashable_content)\n",
        "     5166    0.007    0.000    0.028    0.000 numbers.py:679(_as_mpf_val)\n",
        "    10334    0.042    0.000    0.083    0.000 numbers.py:819(__eq__)\n",
        "    10332    0.022    0.000    0.086    0.000 numbers.py:903(__hash__)\n",
        "    20664    0.010    0.000    0.010    0.000 solver_based_model.py:142(solver)\n",
        "    10334    0.011    0.000    0.018    0.000 sympify.py:302(_sympify)\n",
        "    20666    0.052    0.000    0.440    0.000 sympify.py:50(sympify)\n",
        "        4    0.000    0.000    0.000    0.000 utf_8.py:15(decode)\n",
        "    10332    0.020    0.000    0.020    0.000 {_bisect.bisect}\n",
        "        4    0.000    0.000    0.000    0.000 {_codecs.utf_8_decode}\n",
        "     5166    0.019    0.000    0.019    0.000 {_glpkpi.glp_find_col}\n",
        "     5166    0.005    0.000    0.005    0.000 {_glpkpi.glp_get_num_cols}\n",
        "     5166    0.004    0.000    0.004    0.000 {_glpkpi.glp_get_obj_val}\n",
        "     5166    0.012    0.000    0.012    0.000 {_glpkpi.glp_get_status}\n",
        " 13348944    3.823    0.000    3.823    0.000 {_glpkpi.glp_set_obj_coef}\n",
        "     5166    0.003    0.000    0.003    0.000 {_glpkpi.glp_set_obj_dir}\n",
        "     5166   16.892    0.003   16.892    0.003 {_glpkpi.glp_simplex}\n",
        "    10332    0.007    0.000    0.007    0.000 {built-in method __new__ of type object at 0x10fd90328}\n",
        "    30996    0.026    0.000    0.026    0.000 {getattr}\n",
        "    20664    0.030    0.000    0.030    0.000 {hasattr}\n",
        "    10332    0.004    0.000    0.004    0.000 {hash}\n",
        "    82666    0.037    0.000    0.037    0.000 {isinstance}\n",
        "    10332    0.008    0.000    0.008    0.000 {math.frexp}\n",
        "     5166    0.010    0.000    0.010    0.000 {math.ldexp}\n",
        "    10332    0.009    0.000    0.009    0.000 {max}\n",
        "        4    0.000    0.000    0.000    0.000 {method 'decode' of 'str' objects}\n",
        "        1    0.000    0.000    0.000    0.000 {method 'disable' of '_lsprof.Profiler' objects}\n",
        "        4    0.000    0.000    0.000    0.000 {method 'write' of '_io.StringIO' objects}\n",
        "        4    0.000    0.000    0.000    0.000 {posix.getpid}\n",
        "    10332    0.008    0.000    0.008    0.000 {round}\n",
        "        6    0.000    0.000    0.000    0.000 {time.time}\n",
        "\n",
        "\n"
       ]
      }
     ],
     "prompt_number": 25
    },
    {
     "cell_type": "code",
     "collapsed": false,
     "input": [
      "t1 = time.time()\n",
      "tmp = framed_fva(framed_model_iJO)\n",
      "t2 = time.time()\n",
      "print \"Execution time: %s\" % (t2-t1)"
     ],
     "language": "python",
     "metadata": {},
     "outputs": [
      {
       "output_type": "stream",
       "stream": "stdout",
       "text": [
        "Execution time: 92.1724119186\n"
       ]
      }
     ],
     "prompt_number": 37
    },
    {
     "cell_type": "code",
     "collapsed": false,
     "input": [
      "sbmodel_iJO.solver.configuration.presolve"
     ],
     "language": "python",
     "metadata": {},
     "outputs": [
      {
       "metadata": {},
       "output_type": "pyout",
       "prompt_number": 35,
       "text": [
        "False"
       ]
      }
     ],
     "prompt_number": 35
    },
    {
     "cell_type": "code",
     "collapsed": false,
     "input": [
      "timing = min(Timer(partial(cameo_fva, sbmodel_iJO)).repeat(repeat=fva_repeat, number=fva_number))\n",
      "benchmarks.insert(dict(\n",
      "                       methods='fva',\n",
      "                       framework='cameo',\n",
      "                       model='E. coli Core',\n",
      "                       repeat=fva_repeat,\n",
      "                       number=fva_number,\n",
      "                       timing=timing\n",
      "                       )\n",
      "                  )\n",
      "print timing"
     ],
     "language": "python",
     "metadata": {},
     "outputs": [
      {
       "output_type": "stream",
       "stream": "stdout",
       "text": [
        "0.790654182434\n"
       ]
      }
     ],
     "prompt_number": 17
    },
    {
     "cell_type": "code",
     "collapsed": false,
     "input": [
      "dataset.freeze(benchmarks.all(), format='csv', filename='benchmarks.csv')"
     ],
     "language": "python",
     "metadata": {},
     "outputs": [],
     "prompt_number": 41
    }
   ],
   "metadata": {}
  }
 ]
}