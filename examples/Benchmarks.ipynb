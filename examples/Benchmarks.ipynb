{
 "metadata": {
  "name": ""
 },
 "nbformat": 3,
 "nbformat_minor": 0,
 "worksheets": [
  {
   "cells": [
    {
     "cell_type": "heading",
     "level": 1,
     "metadata": {},
     "source": [
      "Benchmarks of constraint-based modeling methods"
     ]
    },
    {
     "cell_type": "heading",
     "level": 3,
     "metadata": {},
     "source": [
      "Import dependencies and initialize models"
     ]
    },
    {
     "cell_type": "code",
     "collapsed": false,
     "input": [
      "import time\n",
      "import cProfile\n",
      "import plotly\n",
      "import dataset\n",
      "db = dataset.connect('sqlite:///:memory:')\n",
      "benchmarks = db['benchmarks']"
     ],
     "language": "python",
     "metadata": {},
     "outputs": [],
     "prompt_number": 21
    },
    {
     "cell_type": "code",
     "collapsed": false,
     "input": [
      "from framed.io_utils.sbml import load_sbml_model, GPR_CONSTRAINED\n",
      "from framed.analysis.variability import FVA as framed_fva\n",
      "from framed.core.fixes import fix_bigg_model\n",
      "from framed.solvers import set_default_solver\n",
      "from framed.core.fixes import fix_bigg_model\n",
      "set_default_solver('glpk_lazy')"
     ],
     "language": "python",
     "metadata": {},
     "outputs": [],
     "prompt_number": 22
    },
    {
     "cell_type": "code",
     "collapsed": false,
     "input": [
      "from framed.solvers import default_solver\n",
      "default_solver"
     ],
     "language": "python",
     "metadata": {},
     "outputs": [
      {
       "metadata": {},
       "output_type": "pyout",
       "prompt_number": 23,
       "text": [
        "'glpk_lazy'"
       ]
      }
     ],
     "prompt_number": 23
    },
    {
     "cell_type": "code",
     "collapsed": false,
     "input": [
      "from timeit import Timer\n",
      "from functools import partial\n",
      "import cameo\n",
      "from cameo.util import AutoVivification\n",
      "from cameo.basics import _flux_variability_analysis as cameo_fva\n",
      "from cameo import load_model\n",
      "from cameo.solver_based_model import to_solver_based_model\n",
      "from cobra.io import read_sbml_model\n",
      "from cobra.flux_analysis.variability import flux_variability_analysis as cobrapy_fva"
     ],
     "language": "python",
     "metadata": {},
     "outputs": [],
     "prompt_number": 28
    },
    {
     "cell_type": "code",
     "collapsed": false,
     "input": [
      "cobrapy_model = read_sbml_model('../tests/data/EcoliCore.xml')\n",
      "sbmodel = to_solver_based_model(cobrapy_model)\n",
      "framed_model = load_sbml_model('../tests/data/EcoliCore.xml', GPR_CONSTRAINED)\n",
      "fix_bigg_model(framed_model)"
     ],
     "language": "python",
     "metadata": {},
     "outputs": [],
     "prompt_number": 29
    },
    {
     "cell_type": "code",
     "collapsed": false,
     "input": [
      "cobrapy_model_iJO = read_sbml_model('../tests/data/iJO1366.xml')\n",
      "sbmodel_iJO = to_solver_based_model(cobrapy_model_iJO)\n",
      "framed_model_iJO = load_sbml_model('../tests/data/iJO1366.xml', GPR_CONSTRAINED)\n",
      "fix_bigg_model(framed_model_iJO)"
     ],
     "language": "python",
     "metadata": {},
     "outputs": [
      {
       "output_type": "stream",
       "stream": "stderr",
       "text": [
        "/Users/niko/Arbejder/Dev/cobrapy/cobra/core/Formula.py:151: UserWarning: An element ('R') in one of your chemical formulas is not in the periodic table cobra.core.Formula.weight_dict. \n",
        "Thus we cannot calculate a formula weight for the metabolite.\n",
        "  'Thus we cannot calculate a formula weight for the metabolite.')\n",
        "/Users/niko/Arbejder/Dev/cobrapy/cobra/core/Formula.py:151: UserWarning: An element ('X') in one of your chemical formulas is not in the periodic table cobra.core.Formula.weight_dict. \n",
        "Thus we cannot calculate a formula weight for the metabolite.\n",
        "  'Thus we cannot calculate a formula weight for the metabolite.')\n"
       ]
      }
     ],
     "prompt_number": 6
    },
    {
     "cell_type": "code",
     "collapsed": false,
     "input": [
      "benchmark_results = AutoVivification()"
     ],
     "language": "python",
     "metadata": {},
     "outputs": [],
     "prompt_number": 7
    },
    {
     "cell_type": "heading",
     "level": 2,
     "metadata": {},
     "source": [
      "Flux-variability analysis"
     ]
    },
    {
     "cell_type": "code",
     "collapsed": false,
     "input": [
      "fva_repeat=3\n",
      "fva_number=10"
     ],
     "language": "python",
     "metadata": {},
     "outputs": [],
     "prompt_number": 9
    },
    {
     "cell_type": "markdown",
     "metadata": {},
     "source": [
      "Start with E. coli core"
     ]
    },
    {
     "cell_type": "code",
     "collapsed": false,
     "input": [
      "timing = min(Timer(partial(cameo_fva, sbmodel)).repeat(repeat=fva_repeat, number=fva_number))\n",
      "benchmarks.insert(dict(\n",
      "                       methods='fva',\n",
      "                       framework='cameo',\n",
      "                       model='E. coli Core',\n",
      "                       repeat=fva_repeat,\n",
      "                       number=fva_number,\n",
      "                       timing=timing\n",
      "                       )\n",
      "                  )\n",
      "print timing"
     ],
     "language": "python",
     "metadata": {},
     "outputs": [
      {
       "output_type": "stream",
       "stream": "stdout",
       "text": [
        "0.52258014679\n"
       ]
      }
     ],
     "prompt_number": 13
    },
    {
     "cell_type": "code",
     "collapsed": false,
     "input": [
      "timing = min(Timer(partial(framed_fva, framed_model)).repeat(repeat=fva_repeat, number=fva_number))\n",
      "benchmarks.insert(dict(\n",
      "                       methods='fva',\n",
      "                       framework='framed',\n",
      "                       model='E. coli Core',\n",
      "                       repeat=fva_repeat,\n",
      "                       number=fva_number,\n",
      "                       timing=timing\n",
      "                       )\n",
      "                  )\n",
      "print timing"
     ],
     "language": "python",
     "metadata": {},
     "outputs": [
      {
       "output_type": "stream",
       "stream": "stdout",
       "text": [
        "0.77330994606\n"
       ]
      }
     ],
     "prompt_number": 12
    },
    {
     "cell_type": "code",
     "collapsed": false,
     "input": [
      "timing = min(Timer(partial(cobrapy_fva, cobrapy_model)).repeat(repeat=fva_repeat, number=fva_number))\n",
      "benchmarks.insert(dict(\n",
      "                       methods='fva',\n",
      "                       framework='cobrapy',\n",
      "                       model='E. coli Core',\n",
      "                       repeat=fva_repeat,\n",
      "                       number=fva_number,\n",
      "                       timing=min(Timer(partial(cobrapy_fva, cobrapy_model)).repeat(repeat=fva_repeat, number=fva_number))\n",
      "                       )\n",
      "                  )\n",
      "print timing"
     ],
     "language": "python",
     "metadata": {},
     "outputs": [
      {
       "output_type": "stream",
       "stream": "stdout",
       "text": [
        "11.0274939537\n"
       ]
      }
     ],
     "prompt_number": 15
    },
    {
     "cell_type": "markdown",
     "metadata": {},
     "source": [
      "Now iJO1366"
     ]
    },
    {
     "cell_type": "code",
     "collapsed": false,
     "input": [
      "t1 = time.time()\n",
      "tmp = cameo_fva(sbmodel_iJO)\n",
      "t2 = time.time()\n",
      "print \"Execution time: %s\" % (t2-t1)"
     ],
     "language": "python",
     "metadata": {},
     "outputs": [
      {
       "output_type": "stream",
       "stream": "stdout",
       "text": [
        "Execution time: 23.5777769089\n"
       ]
      }
     ],
     "prompt_number": 14
    },
    {
     "cell_type": "code",
     "collapsed": false,
     "input": [
      "cProfile.run('cameo_fva(sbmodel_iJO)')"
     ],
     "language": "python",
     "metadata": {},
     "outputs": [
      {
       "output_type": "stream",
       "stream": "stdout",
       "text": [
        "         14596396 function calls (14565410 primitive calls) in 29.823 seconds\n",
        "\n",
        "   Ordered by: standard name\n",
        "\n",
        "   ncalls  tottime  percall  cumtime  percall filename:lineno(function)\n",
        "        1    0.001    0.001   29.823   29.823 <string>:1(<module>)\n",
        "        1    0.000    0.000    0.000    0.000 _abcoll.py:526(update)\n",
        "        3    0.000    0.000    0.000    0.000 _weakrefset.py:68(__contains__)\n",
        "        1    0.000    0.000    0.000    0.000 abc.py:128(__instancecheck__)\n",
        "        1    0.000    0.000    0.000    0.000 abc.py:148(__subclasscheck__)\n",
        "     5164    0.012    0.000    0.012    0.000 assumptions.py:136(getit)\n",
        "56812/51648    0.076    0.000    0.103    0.000 basic.py:106(__hash__)\n",
        "     2582    0.002    0.000    0.002    0.000 basic.py:115(_hashable_content)\n",
        "    12916    0.009    0.000    0.009    0.000 basic.py:656(args)\n",
        "    23242    0.056    0.000    0.069    0.000 basic.py:81(__new__)\n",
        "        1    0.097    0.097   29.822   29.822 basics.py:67(_flux_variability_analysis)\n",
        "15496/10332    0.159    0.000    1.247    0.000 cache.py:78(wrapper)\n",
        "        1    0.000    0.000    0.000    0.000 collections.py:38(__init__)\n",
        "     2583    0.018    0.000    0.018    0.000 collections.py:54(__setitem__)\n",
        "     5164    0.004    0.000    0.004    0.000 compatibility.py:129(__init__)\n",
        "        1    0.000    0.000    0.000    0.000 copy.py:306(_reconstruct)\n",
        "        1    0.000    0.000    0.000    0.000 copy.py:66(copy)\n",
        "        1    0.000    0.000    0.000    0.000 copy_reg.py:92(__newobj__)\n",
        "        1    0.000    0.000    0.000    0.000 copy_reg.py:95(_slotnames)\n",
        "    10332    0.024    0.000    1.312    0.000 decorators.py:105(binary_op_wrapper)\n",
        "23242/10332    0.060    0.000    1.927    0.000 decorators.py:67(__sympifyit_wrapper)\n",
        "    10332    0.037    0.000    1.284    0.000 expr.py:162(__rmul__)\n",
        "     5164    0.003    0.000    0.003    0.000 expr.py:1645(as_base_exp)\n",
        "     5166    0.021    0.000    0.979    0.000 glpk_interface.py:196(__init__)\n",
        "     5166    0.009    0.000    0.014    0.000 glpk_interface.py:203(value)\n",
        "41329/36163    0.097    0.000    0.144    0.000 glpk_interface.py:207(__setattr__)\n",
        "    10333    0.005    0.000    0.005    0.000 glpk_interface.py:438(objective)\n",
        "     5167    4.693    0.001    9.624    0.002 glpk_interface.py:442(objective)\n",
        "     5166    0.048    0.000   17.694    0.003 glpk_interface.py:483(optimize)\n",
        "     5167    0.012    0.000    0.032    0.000 glpk_interface.py:73(index)\n",
        "     5166    0.044    0.000    0.959    0.000 interface.py:297(__init__)\n",
        "     5166    0.013    0.000    0.833    0.000 interface.py:319(_canonicalize)\n",
        "    10334    0.005    0.000    0.005    0.000 interface.py:324(expression)\n",
        "     5167    0.002    0.000    0.002    0.000 interface.py:336(direction)\n",
        "     5166    0.007    0.000    0.017    0.000 interface.py:341(direction)\n",
        "     5167    0.075    0.000    0.081    0.000 interface.py:453(objective)\n",
        "    10332    0.016    0.000    0.040    0.000 libintmath.py:83(python_bitcount)\n",
        "    28409    0.122    0.000    0.122    0.000 libmpf.py:153(_normalize)\n",
        "     7746    0.007    0.000    0.007    0.000 libmpf.py:208(_normalize1)\n",
        "    15496    0.064    0.000    0.204    0.000 libmpf.py:291(from_man_exp)\n",
        "     5164    0.007    0.000    0.031    0.000 libmpf.py:330(from_int)\n",
        "    10332    0.058    0.000    0.249    0.000 libmpf.py:410(from_float)\n",
        "     5167    0.026    0.000    0.037    0.000 libmpf.py:429(to_float)\n",
        "     5168    0.006    0.000    0.006    0.000 libmpf.py:511(mpf_eq)\n",
        "    10332    0.041    0.000    0.063    0.000 libmpf.py:64(dps_to_prec)\n",
        "     7746    0.026    0.000    0.033    0.000 libmpf.py:858(python_mpf_mul)\n",
        "     5164    0.009    0.000    0.031    0.000 mul.py:28(_mulsort)\n",
        "    10328    0.088    0.000    0.261    0.000 mul.py:368(_gather)\n",
        "     5164    0.193    0.000    0.782    0.000 mul.py:93(flatten)\n",
        "     5164    0.014    0.000    0.178    0.000 numbers.py:1183(__mul__)\n",
        "    15492    0.018    0.000    0.046    0.000 numbers.py:1364(__hash__)\n",
        "     5164    0.008    0.000    0.039    0.000 numbers.py:1515(_as_mpf_val)\n",
        "     5164    0.010    0.000    0.012    0.000 numbers.py:1522(__new__)\n",
        "    10328    0.035    0.000    0.250    0.000 numbers.py:1612(__mul__)\n",
        "    15492    0.026    0.000    0.073    0.000 numbers.py:1676(__hash__)\n",
        "     5164    0.002    0.000    0.002    0.000 numbers.py:1873(__nonzero__)\n",
        "    12913    0.020    0.000    0.042    0.000 numbers.py:27(mpf_norm)\n",
        "     5164    0.010    0.000    0.055    0.000 numbers.py:271(_as_mpf_op)\n",
        "     5167    0.018    0.000    0.085    0.000 numbers.py:275(__float__)\n",
        "    33570    0.050    0.000    0.119    0.000 numbers.py:380(__hash__)\n",
        "     5164    0.003    0.000    0.003    0.000 numbers.py:400(as_coeff_Mul)\n",
        "    10332    0.115    0.000    0.490    0.000 numbers.py:568(__new__)\n",
        "     7746    0.019    0.000    0.056    0.000 numbers.py:644(_new)\n",
        "    12914    0.008    0.000    0.008    0.000 numbers.py:664(_hashable_content)\n",
        "     5167    0.008    0.000    0.030    0.000 numbers.py:679(_as_mpf_val)\n",
        "     2582    0.003    0.000    0.005    0.000 numbers.py:686(_as_mpf_op)\n",
        "     5164    0.004    0.000    0.004    0.000 numbers.py:719(__nonzero__)\n",
        "     7746    0.035    0.000    0.187    0.000 numbers.py:739(__mul__)\n",
        "     5168    0.026    0.000    0.049    0.000 numbers.py:819(__eq__)\n",
        "    18078    0.038    0.000    0.129    0.000 numbers.py:903(__hash__)\n",
        "     5164    0.055    0.000    0.917    0.000 operations.py:25(__new__)\n",
        "     5164    0.018    0.000    0.033    0.000 operations.py:46(_from_args)\n",
        "     5166    0.017    0.000    0.027    0.000 solver_based_model.py:104(status)\n",
        "     5167    0.011    0.000    0.015    0.000 solver_based_model.py:243(objective)\n",
        "     5167    0.084    0.000   11.808    0.002 solver_based_model.py:247(objective)\n",
        "    30998    0.014    0.000    0.014    0.000 solver_based_model.py:262(solver)\n",
        "     5166    0.050    0.000   17.762    0.003 solver_based_model.py:368(optimize)\n",
        "     5166    0.013    0.000    0.013    0.000 solver_based_model.py:59(__init__)\n",
        "    10332    0.010    0.000    0.010    0.000 solver_based_model.py:64(_check_freshness)\n",
        "     5166    0.028    0.000    0.050    0.000 solver_based_model.py:72(f)\n",
        "    15496    0.015    0.000    0.028    0.000 sympify.py:302(_sympify)\n",
        "    25828    0.069    0.000    0.559    0.000 sympify.py:50(sympify)\n",
        "    10332    0.025    0.000    0.025    0.000 {_bisect.bisect}\n",
        "     5166    0.066    0.000    0.066    0.000 {_glpkpi._glp_lpx_get_class}\n",
        "     5167    0.020    0.000    0.020    0.000 {_glpkpi.glp_find_col}\n",
        "     5167    0.008    0.000    0.008    0.000 {_glpkpi.glp_get_num_cols}\n",
        "     5166    0.005    0.000    0.005    0.000 {_glpkpi.glp_get_obj_val}\n",
        "     5166    0.015    0.000    0.015    0.000 {_glpkpi.glp_get_status}\n",
        " 13351528    4.685    0.000    4.685    0.000 {_glpkpi.glp_set_obj_coef}\n",
        "    10333    0.007    0.000    0.007    0.000 {_glpkpi.glp_set_obj_dir}\n",
        "     5166   17.565    0.003   17.565    0.003 {_glpkpi.glp_simplex}\n",
        "    23243    0.013    0.000    0.013    0.000 {built-in method __new__ of type object at 0x10c4c8328}\n",
        "    41332    0.037    0.000    0.037    0.000 {getattr}\n",
        "    33577    0.036    0.000    0.036    0.000 {hasattr}\n",
        "15496/12914    0.009    0.000    0.024    0.000 {hash}\n",
        "        1    0.000    0.000    0.000    0.000 {id}\n",
        "   131731    0.075    0.000    0.075    0.000 {isinstance}\n",
        "    36152    0.006    0.000    0.006    0.000 {len}\n",
        "     5164    0.025    0.000    0.044    0.000 {map}\n",
        "    10332    0.011    0.000    0.011    0.000 {math.frexp}\n",
        "     5167    0.012    0.000    0.012    0.000 {math.ldexp}\n",
        "    18078    0.017    0.000    0.017    0.000 {max}\n",
        "        1    0.000    0.000    0.000    0.000 {method '__reduce_ex__' of 'object' objects}\n",
        "    20656    0.008    0.000    0.008    0.000 {method 'append' of 'list' objects}\n",
        "        1    0.000    0.000    0.000    0.000 {method 'disable' of '_lsprof.Profiler' objects}\n",
        "    12910    0.003    0.000    0.003    0.000 {method 'extend' of 'list' objects}\n",
        "        2    0.000    0.000    0.000    0.000 {method 'get' of 'dict' objects}\n",
        "        1    0.000    0.000    0.000    0.000 {method 'get' of 'dictproxy' objects}\n",
        "     5164    0.004    0.000    0.004    0.000 {method 'insert' of 'list' objects}\n",
        "    36149    0.011    0.000    0.011    0.000 {method 'items' of 'dict' objects}\n",
        "    25820    0.006    0.000    0.006    0.000 {method 'iteritems' of 'dict' objects}\n",
        "     5164    0.001    0.000    0.001    0.000 {method 'pop' of 'dict' objects}\n",
        "    10328    0.014    0.000    0.048    0.000 {method 'setdefault' of 'dict' objects}\n",
        "     5164    0.018    0.000    0.022    0.000 {method 'sort' of 'list' objects}\n",
        "        1    0.000    0.000    0.000    0.000 {method 'update' of 'dict' objects}\n",
        "    10332    0.012    0.000    0.012    0.000 {round}\n",
        "     5166    0.003    0.000    0.003    0.000 {time.time}\n",
        "\n",
        "\n"
       ]
      }
     ],
     "prompt_number": 9
    },
    {
     "cell_type": "code",
     "collapsed": false,
     "input": [
      "# Reference speed\n",
      "ref_model = sbmodel_iJO.copy()\n",
      "def super_fast_fva():\n",
      "    import optlang\n",
      "    fva_sol_sbmodel2 = dict()\n",
      "    for rxn in ref_model.reactions:\n",
      "        fva_sol_sbmodel2[rxn.id] = dict()\n",
      "    t = time.time()\n",
      "    for rxn in ref_model.reactions:\n",
      "        ref_model.solver.objective = optlang.Objective(\n",
      "            1. * ref_model.solver.variables[rxn.id], direction='min')\n",
      "        status = ref_model.solver.optimize()\n",
      "        \n",
      "        if status is 'optimal':\n",
      "            fva_sol_sbmodel2[rxn.id]['minimum'] = ref_model.solver.objective.value\n",
      "        else:\n",
      "            fva_sol_sbmodel2[rxn.id]['minimum'] = None\n",
      "            # lb = ref_model.solver.objective.value\n",
      "            # if abs(lb) < 10**-6:\n",
      "            #     lb = 0.\n",
      "            # ref_model.solver.variables[rxn.id].lb = lb\n",
      "    for rxn in ref_model.reactions:\n",
      "        ref_model.solver.objective = optlang.Objective(\n",
      "            1. * ref_model.solver.variables[rxn.id], direction='max')\n",
      "        status = ref_model.solver.optimize()\n",
      "        if status is 'optimal':\n",
      "            fva_sol_sbmodel2[rxn.id]['maximum'] = ref_model.solver.objective.value\n",
      "            # ub = ref_model.solver.objective.value\n",
      "            # if abs(ub) < 10**-6:\n",
      "            #     ub = 0.\n",
      "            # ref_model.solver.variables[rxn.id].ub = ub\n",
      "        else:\n",
      "            fva_sol_sbmodel2[rxn.id]['maximum'] = ref_model.solver.objective.value\n",
      "    elapsed = time.time() - t\n",
      "    print 'optlang based FVA time elapsed: ', elapsed"
     ],
     "language": "python",
     "metadata": {},
     "outputs": [],
     "prompt_number": 15
    },
    {
     "cell_type": "code",
     "collapsed": false,
     "input": [
      "cProfile.run('super_fast_fva()')"
     ],
     "language": "python",
     "metadata": {},
     "outputs": [
      {
       "output_type": "stream",
       "stream": "stdout",
       "text": [
        "optlang based FVA time elapsed:  25.2052190304\n",
        "         14408167 function calls (14375104 primitive calls) in 25.209 seconds\n",
        "\n",
        "   Ordered by: standard name\n",
        "\n",
        "   ncalls  tottime  percall  cumtime  percall filename:lineno(function)\n",
        "        1    0.126    0.126   25.208   25.208 <ipython-input-15-83d6ecba05cc>:3(super_fast_fva)\n",
        "        1    0.001    0.001   25.209   25.209 <string>:1(<module>)\n",
        "     2927    0.005    0.000    0.005    0.000 assumptions.py:136(getit)\n",
        "44082/43392    0.051    0.000    0.063    0.000 basic.py:106(__hash__)\n",
        "      349    0.000    0.000    0.000    0.000 basic.py:115(_hashable_content)\n",
        "     5166    0.011    0.000    0.011    0.000 basic.py:1768(__init__)\n",
        "41330/20665    0.047    0.000    0.059    0.000 basic.py:1772(_preorder_traversal)\n",
        "    20664    0.023    0.000    0.082    0.000 basic.py:1812(next)\n",
        "     5166    0.002    0.000    0.002    0.000 basic.py:1815(__iter__)\n",
        "        2    0.000    0.000    0.000    0.000 basic.py:340(__eq__)\n",
        "     5166    0.063    0.000    0.175    0.000 basic.py:456(atoms)\n",
        "    23246    0.011    0.000    0.011    0.000 basic.py:656(args)\n",
        "    18768    0.038    0.000    0.050    0.000 basic.py:81(__new__)\n",
        "13259/10332    0.113    0.000    0.752    0.000 cache.py:78(wrapper)\n",
        "     2927    0.002    0.000    0.002    0.000 compatibility.py:129(__init__)\n",
        "    10332    0.020    0.000    0.805    0.000 decorators.py:105(binary_op_wrapper)\n",
        "18768/10332    0.044    0.000    1.292    0.000 decorators.py:67(__sympifyit_wrapper)\n",
        "    10332    0.028    0.000    0.781    0.000 expr.py:162(__rmul__)\n",
        "     2927    0.002    0.000    0.002    0.000 expr.py:1645(as_base_exp)\n",
        "     5166    0.019    0.000    0.884    0.000 glpk_interface.py:196(__init__)\n",
        "     5166    0.007    0.000    0.010    0.000 glpk_interface.py:203(value)\n",
        "    30996    0.056    0.000    0.086    0.000 glpk_interface.py:207(__setattr__)\n",
        "     5166    0.002    0.000    0.002    0.000 glpk_interface.py:438(objective)\n",
        "     5166    3.997    0.001    8.049    0.002 glpk_interface.py:442(objective)\n",
        "     5166    0.037    0.000   15.579    0.003 glpk_interface.py:483(optimize)\n",
        "     5166    0.010    0.000    0.028    0.000 glpk_interface.py:73(index)\n",
        "     5166    0.039    0.000    0.865    0.000 interface.py:297(__init__)\n",
        "     5166    0.011    0.000    0.756    0.000 interface.py:316(_canonicalize)\n",
        "    10332    0.004    0.000    0.004    0.000 interface.py:321(expression)\n",
        "     5166    0.002    0.000    0.002    0.000 interface.py:333(direction)\n",
        "     5166    0.032    0.000    0.211    0.000 interface.py:451(objective)\n",
        "        4    0.000    0.000    0.000    0.000 iostream.py:189(write)\n",
        "        4    0.000    0.000    0.000    0.000 iostream.py:90(_is_master_process)\n",
        "        4    0.000    0.000    0.000    0.000 iostream.py:99(_check_mp_mode)\n",
        "    10332    0.011    0.000    0.032    0.000 libintmath.py:83(python_bitcount)\n",
        "    23934    0.095    0.000    0.095    0.000 libmpf.py:153(_normalize)\n",
        "     5509    0.003    0.000    0.003    0.000 libmpf.py:208(_normalize1)\n",
        "    13259    0.044    0.000    0.153    0.000 libmpf.py:291(from_man_exp)\n",
        "     2927    0.003    0.000    0.014    0.000 libmpf.py:330(from_int)\n",
        "    10332    0.040    0.000    0.189    0.000 libmpf.py:410(from_float)\n",
        "     5166    0.010    0.000    0.019    0.000 libmpf.py:429(to_float)\n",
        "     7407    0.009    0.000    0.009    0.000 libmpf.py:511(mpf_eq)\n",
        "    10332    0.033    0.000    0.049    0.000 libmpf.py:64(dps_to_prec)\n",
        "     5509    0.016    0.000    0.019    0.000 libmpf.py:858(python_mpf_mul)\n",
        "     2927    0.004    0.000    0.016    0.000 mul.py:28(_mulsort)\n",
        "     5854    0.042    0.000    0.127    0.000 mul.py:368(_gather)\n",
        "     2927    0.121    0.000    0.430    0.000 mul.py:93(flatten)\n",
        "     2927    0.007    0.000    0.089    0.000 numbers.py:1183(__mul__)\n",
        "     8781    0.009    0.000    0.024    0.000 numbers.py:1364(__hash__)\n",
        "     2927    0.004    0.000    0.019    0.000 numbers.py:1515(_as_mpf_val)\n",
        "     2927    0.004    0.000    0.006    0.000 numbers.py:1522(__new__)\n",
        "     5854    0.017    0.000    0.124    0.000 numbers.py:1612(__mul__)\n",
        "     8781    0.012    0.000    0.035    0.000 numbers.py:1676(__hash__)\n",
        "     2927    0.001    0.000    0.001    0.000 numbers.py:1873(__nonzero__)\n",
        "    10675    0.014    0.000    0.032    0.000 numbers.py:27(mpf_norm)\n",
        "     2927    0.005    0.000    0.025    0.000 numbers.py:271(_as_mpf_op)\n",
        "     5166    0.015    0.000    0.059    0.000 numbers.py:275(__float__)\n",
        "    22385    0.030    0.000    0.079    0.000 numbers.py:380(__hash__)\n",
        "     2927    0.002    0.000    0.002    0.000 numbers.py:400(as_coeff_Mul)\n",
        "    10332    0.091    0.000    0.384    0.000 numbers.py:568(__new__)\n",
        "     5509    0.011    0.000    0.037    0.000 numbers.py:644(_new)\n",
        "    10677    0.006    0.000    0.006    0.000 numbers.py:664(_hashable_content)\n",
        "     5166    0.007    0.000    0.025    0.000 numbers.py:679(_as_mpf_val)\n",
        "     2582    0.003    0.000    0.004    0.000 numbers.py:686(_as_mpf_op)\n",
        "     2927    0.002    0.000    0.002    0.000 numbers.py:719(__nonzero__)\n",
        "     5509    0.021    0.000    0.108    0.000 numbers.py:739(__mul__)\n",
        "     7407    0.034    0.000    0.065    0.000 numbers.py:819(__eq__)\n",
        "    13604    0.024    0.000    0.088    0.000 numbers.py:903(__hash__)\n",
        "     2927    0.029    0.000    0.492    0.000 operations.py:25(__new__)\n",
        "     2927    0.009    0.000    0.016    0.000 operations.py:46(_from_args)\n",
        "    20664    0.010    0.000    0.010    0.000 solver_based_model.py:262(solver)\n",
        "    13261    0.011    0.000    0.020    0.000 sympify.py:302(_sympify)\n",
        "    23593    0.055    0.000    0.439    0.000 sympify.py:50(sympify)\n",
        "        4    0.000    0.000    0.000    0.000 utf_8.py:15(decode)\n",
        "    10332    0.021    0.000    0.021    0.000 {_bisect.bisect}\n",
        "        4    0.000    0.000    0.000    0.000 {_codecs.utf_8_decode}\n",
        "     5166    0.049    0.000    0.049    0.000 {_glpkpi._glp_lpx_get_class}\n",
        "     5166    0.017    0.000    0.017    0.000 {_glpkpi.glp_find_col}\n",
        "     5166    0.006    0.000    0.006    0.000 {_glpkpi.glp_get_num_cols}\n",
        "     5166    0.004    0.000    0.004    0.000 {_glpkpi.glp_get_obj_val}\n",
        "     5166    0.010    0.000    0.010    0.000 {_glpkpi.glp_get_status}\n",
        " 13348944    3.717    0.000    3.717    0.000 {_glpkpi.glp_set_obj_coef}\n",
        "     5166    0.003    0.000    0.003    0.000 {_glpkpi.glp_set_obj_dir}\n",
        "     5166   15.483    0.003   15.483    0.003 {_glpkpi.glp_simplex}\n",
        "    18768    0.012    0.000    0.012    0.000 {built-in method __new__ of type object at 0x100318328}\n",
        "    30996    0.030    0.000    0.030    0.000 {getattr}\n",
        "    29100    0.030    0.000    0.030    0.000 {hasattr}\n",
        "11022/10677    0.005    0.000    0.006    0.000 {hash}\n",
        "   151543    0.068    0.000    0.068    0.000 {isinstance}\n",
        "    20489    0.003    0.000    0.003    0.000 {len}\n",
        "     2927    0.007    0.000    0.015    0.000 {map}\n",
        "    10332    0.008    0.000    0.008    0.000 {math.frexp}\n",
        "     5166    0.010    0.000    0.010    0.000 {math.ldexp}\n",
        "    15841    0.011    0.000    0.011    0.000 {max}\n",
        "     5166    0.006    0.000    0.008    0.000 {method 'add' of 'set' objects}\n",
        "    11708    0.004    0.000    0.004    0.000 {method 'append' of 'list' objects}\n",
        "        4    0.000    0.000    0.000    0.000 {method 'decode' of 'str' objects}\n",
        "        1    0.000    0.000    0.000    0.000 {method 'disable' of '_lsprof.Profiler' objects}\n",
        "     8436    0.002    0.000    0.002    0.000 {method 'extend' of 'list' objects}\n",
        "     2927    0.002    0.000    0.002    0.000 {method 'insert' of 'list' objects}\n",
        "    20489    0.006    0.000    0.006    0.000 {method 'items' of 'dict' objects}\n",
        "    14635    0.003    0.000    0.003    0.000 {method 'iteritems' of 'dict' objects}\n",
        "     2927    0.001    0.000    0.001    0.000 {method 'pop' of 'dict' objects}\n",
        "     5854    0.007    0.000    0.025    0.000 {method 'setdefault' of 'dict' objects}\n",
        "     2927    0.009    0.000    0.011    0.000 {method 'sort' of 'list' objects}\n",
        "        4    0.000    0.000    0.000    0.000 {method 'write' of '_io.StringIO' objects}\n",
        "        4    0.000    0.000    0.000    0.000 {posix.getpid}\n",
        "    10332    0.008    0.000    0.008    0.000 {round}\n",
        "        6    0.000    0.000    0.000    0.000 {time.time}\n",
        "\n",
        "\n"
       ]
      }
     ],
     "prompt_number": 17
    },
    {
     "cell_type": "code",
     "collapsed": false,
     "input": [
      "t1 = time.time()\n",
      "tmp = framed_fva(framed_model_iJO)\n",
      "t2 = time.time()\n",
      "print \"Execution time: %s\" % (t2-t1)"
     ],
     "language": "python",
     "metadata": {},
     "outputs": [
      {
       "output_type": "stream",
       "stream": "stdout",
       "text": [
        "Execution time: 93.4904651642\n"
       ]
      }
     ],
     "prompt_number": 17
    },
    {
     "cell_type": "code",
     "collapsed": false,
     "input": [
      "sbmodel_iJO.solver.configuration.presolve"
     ],
     "language": "python",
     "metadata": {},
     "outputs": [
      {
       "metadata": {},
       "output_type": "pyout",
       "prompt_number": 35,
       "text": [
        "False"
       ]
      }
     ],
     "prompt_number": 35
    },
    {
     "cell_type": "code",
     "collapsed": false,
     "input": [
      "timing = min(Timer(partial(cameo_fva, sbmodel_iJO)).repeat(repeat=fva_repeat, number=fva_number))\n",
      "benchmarks.insert(dict(\n",
      "                       methods='fva',\n",
      "                       framework='cameo',\n",
      "                       model='E. coli Core',\n",
      "                       repeat=fva_repeat,\n",
      "                       number=fva_number,\n",
      "                       timing=timing\n",
      "                       )\n",
      "                  )\n",
      "print timing"
     ],
     "language": "python",
     "metadata": {},
     "outputs": [
      {
       "output_type": "stream",
       "stream": "stdout",
       "text": [
        "0.790654182434\n"
       ]
      }
     ],
     "prompt_number": 17
    },
    {
     "cell_type": "code",
     "collapsed": false,
     "input": [
      "dataset.freeze(benchmarks.all(), format='csv', filename='benchmarks.csv')"
     ],
     "language": "python",
     "metadata": {},
     "outputs": [],
     "prompt_number": 41
    }
   ],
   "metadata": {}
  }
 ]
}