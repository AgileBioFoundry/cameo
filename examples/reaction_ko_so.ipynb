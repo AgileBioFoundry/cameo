{
 "metadata": {
  "name": "",
  "signature": "sha256:0b5e782f1613f924ccbf41b92a91bb6e6d2d35988116c86e9c9c7e80b68963bd"
 },
 "nbformat": 3,
 "nbformat_minor": 0,
 "worksheets": [
  {
   "cells": [
    {
     "cell_type": "code",
     "collapsed": false,
     "input": [
      "%load_ext autoreload\n",
      "%autoreload 2"
     ],
     "language": "python",
     "metadata": {},
     "outputs": [],
     "prompt_number": 1
    },
    {
     "cell_type": "code",
     "collapsed": false,
     "input": [
      "from time import time\n",
      "from random import Random\n",
      "from cameo.strain_design.heuristics import ReactionKnockoutOptimization\n",
      "from cameo import load_model\n",
      "from cameo.solver_based_model import to_solver_based_model\n",
      "from cameo.strain_design.heuristics.objective_functions import bpcy\n",
      "from optlang import cplex_interface\n",
      "from cameo.flux_analysis.simulation import fba\n",
      "import inspyred"
     ],
     "language": "python",
     "metadata": {},
     "outputs": [
      {
       "output_type": "stream",
       "stream": "stderr",
       "text": [
        "/Users/joao/.virtualenvs/cameo-env/lib/python2.7/site-packages/pandas/io/excel.py:626 \u001b[1;31mUserWarning\u001b[0m: Installed openpyxl is not supported at this time. Use >=1.6.1 and <2.0.0.\n"
       ]
      }
     ],
     "prompt_number": 2
    },
    {
     "cell_type": "code",
     "collapsed": false,
     "input": [
      "model = load_model(\"../tests/data/iJO1366.xml\")\n",
      "model.solver = \"cplex\"\n",
      "of = bpcy(\"Ec_biomass_iJO1366_core_53p95M\", \"EX_succ_LPAREN_e_RPAREN_\", \"EX_glc_LPAREN_e_RPAREN_\")"
     ],
     "language": "python",
     "metadata": {},
     "outputs": [],
     "prompt_number": 3
    },
    {
     "cell_type": "code",
     "collapsed": false,
     "input": [
      "ko = ReactionKnockoutOptimization(model=model, objective_function=of, \n",
      "                                  simulation_method=fba, heuristic_method=inspyred.ec.GA)"
     ],
     "language": "python",
     "metadata": {},
     "outputs": [
      {
       "output_type": "stream",
       "stream": "stderr",
       "text": [
        "Markowitz threshold set to 0.1\n"
       ]
      },
      {
       "output_type": "stream",
       "stream": "stderr",
       "text": [
        "Markowitz threshold set to 0.1\n"
       ]
      },
      {
       "output_type": "stream",
       "stream": "stderr",
       "text": [
        "Markowitz threshold set to 0.1\n"
       ]
      },
      {
       "output_type": "stream",
       "stream": "stderr",
       "text": [
        "Markowitz threshold set to 0.1\n"
       ]
      },
      {
       "output_type": "stream",
       "stream": "stderr",
       "text": [
        "Markowitz threshold set to 0.1\n"
       ]
      },
      {
       "output_type": "stream",
       "stream": "stderr",
       "text": [
        "Markowitz threshold set to 0.1\n"
       ]
      },
      {
       "output_type": "stream",
       "stream": "stderr",
       "text": [
        "Markowitz threshold set to 0.1\n"
       ]
      },
      {
       "output_type": "stream",
       "stream": "stderr",
       "text": [
        "Markowitz threshold set to 0.1\n"
       ]
      },
      {
       "output_type": "stream",
       "stream": "stderr",
       "text": [
        "Markowitz threshold set to 0.1\n"
       ]
      },
      {
       "output_type": "stream",
       "stream": "stderr",
       "text": [
        "Markowitz threshold set to 0.1\n"
       ]
      },
      {
       "output_type": "stream",
       "stream": "stderr",
       "text": [
        "Markowitz threshold set to 0.1\n"
       ]
      },
      {
       "output_type": "stream",
       "stream": "stderr",
       "text": [
        "Markowitz threshold set to 0.1\n"
       ]
      },
      {
       "output_type": "stream",
       "stream": "stderr",
       "text": [
        "Markowitz threshold set to 0.1\n"
       ]
      },
      {
       "output_type": "stream",
       "stream": "stderr",
       "text": [
        "Markowitz threshold set to 0.1\n"
       ]
      }
     ],
     "prompt_number": 4
    },
    {
     "cell_type": "code",
     "collapsed": false,
     "input": [
      "ko.run(max_evaluations=30000, n=1, mutation_rate=0.15)"
     ],
     "language": "python",
     "metadata": {},
     "outputs": [
      {
       "html": [
        "<progress id='progress-bar-56a2cd74-9135-4acb-a0f4-2c61560d2623' value='0' max='100' style='width:50%;'></progress>"
       ],
       "metadata": {},
       "output_type": "display_data",
       "text": [
        "<IPython.core.display.HTML at 0x102668250>"
       ]
      },
      {
       "javascript": [
        "jQuery('#progress-bar-56a2cd74-9135-4acb-a0f4-2c61560d2623').val('0')"
       ],
       "metadata": {},
       "output_type": "display_data",
       "text": [
        "<IPython.core.display.Javascript at 0x108087dd0>"
       ]
      },
      {
       "output_type": "stream",
       "stream": "stdout",
       "text": [
        "found config for http://localhost:5006/\n",
        "{}\n",
        "loading it!\n",
        "if you don't wish to load this config, please pass load_from_config=False\n"
       ]
      },
      {
       "html": [
        "<p>Connecting notebook to document \"d59e4859-fe0a-11e3-a8eb-d0e1408cfa06\" at server http://localhost:5006/</p>"
       ],
       "metadata": {},
       "output_type": "display_data"
      },
      {
       "html": [
        "<script src=\"http://localhost:5006//bokeh/embed.js\" bokeh_plottype=\"serverconn\"\n",
        "        bokeh_docid=\"7d6d11dd-4544-45f6-8e21-d9f2cd68441f\" bokeh_ws_conn_string=\"ws://localhost:5006/bokeh/sub\"\n",
        "        bokeh_docapikey=\"4bd61fb3-a2d4-490e-b563-b3d98f00e913\" bokeh_root_url=\"http://localhost:5006/\"\n",
        "        bokeh_modelid=\"977261c9-45f2-4441-b269-c5bffa17a57c\" bokeh_modeltype=\"Plot\" async=\"true\"></script>\n",
        "        "
       ],
       "metadata": {},
       "output_type": "display_data"
      },
      {
       "javascript": [
        "jQuery('#progress-bar-56a2cd74-9135-4acb-a0f4-2c61560d2623').val('0')"
       ],
       "metadata": {},
       "output_type": "display_data",
       "text": [
        "<IPython.core.display.Javascript at 0x102668250>"
       ]
      },
      {
       "javascript": [
        "jQuery('#progress-bar-56a2cd74-9135-4acb-a0f4-2c61560d2623').val('1')"
       ],
       "metadata": {},
       "output_type": "display_data",
       "text": [
        "<IPython.core.display.Javascript at 0x10808bd10>"
       ]
      },
      {
       "javascript": [
        "jQuery('#progress-bar-56a2cd74-9135-4acb-a0f4-2c61560d2623').val('1')"
       ],
       "metadata": {},
       "output_type": "display_data",
       "text": [
        "<IPython.core.display.Javascript at 0x108087a10>"
       ]
      },
      {
       "javascript": [
        "jQuery('#progress-bar-56a2cd74-9135-4acb-a0f4-2c61560d2623').val('1')"
       ],
       "metadata": {},
       "output_type": "display_data",
       "text": [
        "<IPython.core.display.Javascript at 0x107f94810>"
       ]
      },
      {
       "javascript": [
        "jQuery('#progress-bar-56a2cd74-9135-4acb-a0f4-2c61560d2623').val('2')"
       ],
       "metadata": {},
       "output_type": "display_data",
       "text": [
        "<IPython.core.display.Javascript at 0x108588ed0>"
       ]
      },
      {
       "javascript": [
        "jQuery('#progress-bar-56a2cd74-9135-4acb-a0f4-2c61560d2623').val('2')"
       ],
       "metadata": {},
       "output_type": "display_data",
       "text": [
        "<IPython.core.display.Javascript at 0x1085a6fd0>"
       ]
      },
      {
       "javascript": [
        "jQuery('#progress-bar-56a2cd74-9135-4acb-a0f4-2c61560d2623').val('2')"
       ],
       "metadata": {},
       "output_type": "display_data",
       "text": [
        "<IPython.core.display.Javascript at 0x1084ed4d0>"
       ]
      },
      {
       "javascript": [
        "jQuery('#progress-bar-56a2cd74-9135-4acb-a0f4-2c61560d2623').val('3')"
       ],
       "metadata": {},
       "output_type": "display_data",
       "text": [
        "<IPython.core.display.Javascript at 0x10808bfd0>"
       ]
      },
      {
       "javascript": [
        "jQuery('#progress-bar-56a2cd74-9135-4acb-a0f4-2c61560d2623').val('3')"
       ],
       "metadata": {},
       "output_type": "display_data",
       "text": [
        "<IPython.core.display.Javascript at 0x107f94b10>"
       ]
      },
      {
       "javascript": [
        "jQuery('#progress-bar-56a2cd74-9135-4acb-a0f4-2c61560d2623').val('3')"
       ],
       "metadata": {},
       "output_type": "display_data",
       "text": [
        "<IPython.core.display.Javascript at 0x1085a6810>"
       ]
      },
      {
       "javascript": [
        "jQuery('#progress-bar-56a2cd74-9135-4acb-a0f4-2c61560d2623').val('4')"
       ],
       "metadata": {},
       "output_type": "display_data",
       "text": [
        "<IPython.core.display.Javascript at 0x107f94110>"
       ]
      },
      {
       "javascript": [
        "jQuery('#progress-bar-56a2cd74-9135-4acb-a0f4-2c61560d2623').val('4')"
       ],
       "metadata": {},
       "output_type": "display_data",
       "text": [
        "<IPython.core.display.Javascript at 0x10808bd90>"
       ]
      },
      {
       "javascript": [
        "jQuery('#progress-bar-56a2cd74-9135-4acb-a0f4-2c61560d2623').val('4')"
       ],
       "metadata": {},
       "output_type": "display_data",
       "text": [
        "<IPython.core.display.Javascript at 0x107f94b10>"
       ]
      },
      {
       "javascript": [
        "jQuery('#progress-bar-56a2cd74-9135-4acb-a0f4-2c61560d2623').val('5')"
       ],
       "metadata": {},
       "output_type": "display_data",
       "text": [
        "<IPython.core.display.Javascript at 0x107f94450>"
       ]
      },
      {
       "javascript": [
        "jQuery('#progress-bar-56a2cd74-9135-4acb-a0f4-2c61560d2623').val('5')"
       ],
       "metadata": {},
       "output_type": "display_data",
       "text": [
        "<IPython.core.display.Javascript at 0x108588c10>"
       ]
      },
      {
       "javascript": [
        "jQuery('#progress-bar-56a2cd74-9135-4acb-a0f4-2c61560d2623').val('5')"
       ],
       "metadata": {},
       "output_type": "display_data",
       "text": [
        "<IPython.core.display.Javascript at 0x108585e50>"
       ]
      },
      {
       "javascript": [
        "jQuery('#progress-bar-56a2cd74-9135-4acb-a0f4-2c61560d2623').val('6')"
       ],
       "metadata": {},
       "output_type": "display_data",
       "text": [
        "<IPython.core.display.Javascript at 0x107f94bd0>"
       ]
      },
      {
       "javascript": [
        "jQuery('#progress-bar-56a2cd74-9135-4acb-a0f4-2c61560d2623').val('6')"
       ],
       "metadata": {},
       "output_type": "display_data",
       "text": [
        "<IPython.core.display.Javascript at 0x1085855d0>"
       ]
      },
      {
       "javascript": [
        "jQuery('#progress-bar-56a2cd74-9135-4acb-a0f4-2c61560d2623').val('6')"
       ],
       "metadata": {},
       "output_type": "display_data",
       "text": [
        "<IPython.core.display.Javascript at 0x1085a6710>"
       ]
      },
      {
       "javascript": [
        "jQuery('#progress-bar-56a2cd74-9135-4acb-a0f4-2c61560d2623').val('7')"
       ],
       "metadata": {},
       "output_type": "display_data",
       "text": [
        "<IPython.core.display.Javascript at 0x1085a6850>"
       ]
      },
      {
       "javascript": [
        "jQuery('#progress-bar-56a2cd74-9135-4acb-a0f4-2c61560d2623').val('7')"
       ],
       "metadata": {},
       "output_type": "display_data",
       "text": [
        "<IPython.core.display.Javascript at 0x1084f57d0>"
       ]
      },
      {
       "javascript": [
        "jQuery('#progress-bar-56a2cd74-9135-4acb-a0f4-2c61560d2623').val('7')"
       ],
       "metadata": {},
       "output_type": "display_data",
       "text": [
        "<IPython.core.display.Javascript at 0x108585790>"
       ]
      },
      {
       "javascript": [
        "jQuery('#progress-bar-56a2cd74-9135-4acb-a0f4-2c61560d2623').val('8')"
       ],
       "metadata": {},
       "output_type": "display_data",
       "text": [
        "<IPython.core.display.Javascript at 0x1085a6810>"
       ]
      },
      {
       "javascript": [
        "jQuery('#progress-bar-56a2cd74-9135-4acb-a0f4-2c61560d2623').val('8')"
       ],
       "metadata": {},
       "output_type": "display_data",
       "text": [
        "<IPython.core.display.Javascript at 0x1085a6450>"
       ]
      },
      {
       "javascript": [
        "jQuery('#progress-bar-56a2cd74-9135-4acb-a0f4-2c61560d2623').val('8')"
       ],
       "metadata": {},
       "output_type": "display_data",
       "text": [
        "<IPython.core.display.Javascript at 0x108588050>"
       ]
      },
      {
       "javascript": [
        "jQuery('#progress-bar-56a2cd74-9135-4acb-a0f4-2c61560d2623').val('9')"
       ],
       "metadata": {},
       "output_type": "display_data",
       "text": [
        "<IPython.core.display.Javascript at 0x10808bd10>"
       ]
      },
      {
       "javascript": [
        "jQuery('#progress-bar-56a2cd74-9135-4acb-a0f4-2c61560d2623').val('9')"
       ],
       "metadata": {},
       "output_type": "display_data",
       "text": [
        "<IPython.core.display.Javascript at 0x1085a62d0>"
       ]
      },
      {
       "javascript": [
        "jQuery('#progress-bar-56a2cd74-9135-4acb-a0f4-2c61560d2623').val('9')"
       ],
       "metadata": {},
       "output_type": "display_data",
       "text": [
        "<IPython.core.display.Javascript at 0x10808bfd0>"
       ]
      },
      {
       "javascript": [
        "jQuery('#progress-bar-56a2cd74-9135-4acb-a0f4-2c61560d2623').val('10')"
       ],
       "metadata": {},
       "output_type": "display_data",
       "text": [
        "<IPython.core.display.Javascript at 0x106fbb550>"
       ]
      },
      {
       "javascript": [
        "jQuery('#progress-bar-56a2cd74-9135-4acb-a0f4-2c61560d2623').val('10')"
       ],
       "metadata": {},
       "output_type": "display_data",
       "text": [
        "<IPython.core.display.Javascript at 0x1085a6150>"
       ]
      },
      {
       "javascript": [
        "jQuery('#progress-bar-56a2cd74-9135-4acb-a0f4-2c61560d2623').val('10')"
       ],
       "metadata": {},
       "output_type": "display_data",
       "text": [
        "<IPython.core.display.Javascript at 0x108588b10>"
       ]
      },
      {
       "javascript": [
        "jQuery('#progress-bar-56a2cd74-9135-4acb-a0f4-2c61560d2623').val('11')"
       ],
       "metadata": {},
       "output_type": "display_data",
       "text": [
        "<IPython.core.display.Javascript at 0x1085a6590>"
       ]
      },
      {
       "javascript": [
        "jQuery('#progress-bar-56a2cd74-9135-4acb-a0f4-2c61560d2623').val('11')"
       ],
       "metadata": {},
       "output_type": "display_data",
       "text": [
        "<IPython.core.display.Javascript at 0x1084ed4d0>"
       ]
      },
      {
       "javascript": [
        "jQuery('#progress-bar-56a2cd74-9135-4acb-a0f4-2c61560d2623').val('11')"
       ],
       "metadata": {},
       "output_type": "display_data",
       "text": [
        "<IPython.core.display.Javascript at 0x1084ed110>"
       ]
      },
      {
       "javascript": [
        "jQuery('#progress-bar-56a2cd74-9135-4acb-a0f4-2c61560d2623').val('12')"
       ],
       "metadata": {},
       "output_type": "display_data",
       "text": [
        "<IPython.core.display.Javascript at 0x1080876d0>"
       ]
      },
      {
       "javascript": [
        "jQuery('#progress-bar-56a2cd74-9135-4acb-a0f4-2c61560d2623').val('12')"
       ],
       "metadata": {},
       "output_type": "display_data",
       "text": [
        "<IPython.core.display.Javascript at 0x1085a6d90>"
       ]
      },
      {
       "javascript": [
        "jQuery('#progress-bar-56a2cd74-9135-4acb-a0f4-2c61560d2623').val('12')"
       ],
       "metadata": {},
       "output_type": "display_data",
       "text": [
        "<IPython.core.display.Javascript at 0x1085a6790>"
       ]
      },
      {
       "javascript": [
        "jQuery('#progress-bar-56a2cd74-9135-4acb-a0f4-2c61560d2623').val('13')"
       ],
       "metadata": {},
       "output_type": "display_data",
       "text": [
        "<IPython.core.display.Javascript at 0x108588110>"
       ]
      },
      {
       "javascript": [
        "jQuery('#progress-bar-56a2cd74-9135-4acb-a0f4-2c61560d2623').val('13')"
       ],
       "metadata": {},
       "output_type": "display_data",
       "text": [
        "<IPython.core.display.Javascript at 0x108588e90>"
       ]
      },
      {
       "javascript": [
        "jQuery('#progress-bar-56a2cd74-9135-4acb-a0f4-2c61560d2623').val('13')"
       ],
       "metadata": {},
       "output_type": "display_data",
       "text": [
        "<IPython.core.display.Javascript at 0x108585910>"
       ]
      },
      {
       "javascript": [
        "jQuery('#progress-bar-56a2cd74-9135-4acb-a0f4-2c61560d2623').val('14')"
       ],
       "metadata": {},
       "output_type": "display_data",
       "text": [
        "<IPython.core.display.Javascript at 0x108585110>"
       ]
      },
      {
       "javascript": [
        "jQuery('#progress-bar-56a2cd74-9135-4acb-a0f4-2c61560d2623').val('14')"
       ],
       "metadata": {},
       "output_type": "display_data",
       "text": [
        "<IPython.core.display.Javascript at 0x1085a6590>"
       ]
      },
      {
       "javascript": [
        "jQuery('#progress-bar-56a2cd74-9135-4acb-a0f4-2c61560d2623').val('14')"
       ],
       "metadata": {},
       "output_type": "display_data",
       "text": [
        "<IPython.core.display.Javascript at 0x1085a6a50>"
       ]
      },
      {
       "javascript": [
        "jQuery('#progress-bar-56a2cd74-9135-4acb-a0f4-2c61560d2623').val('15')"
       ],
       "metadata": {},
       "output_type": "display_data",
       "text": [
        "<IPython.core.display.Javascript at 0x1084f5e50>"
       ]
      },
      {
       "javascript": [
        "jQuery('#progress-bar-56a2cd74-9135-4acb-a0f4-2c61560d2623').val('15')"
       ],
       "metadata": {},
       "output_type": "display_data",
       "text": [
        "<IPython.core.display.Javascript at 0x107f94810>"
       ]
      },
      {
       "javascript": [
        "jQuery('#progress-bar-56a2cd74-9135-4acb-a0f4-2c61560d2623').val('15')"
       ],
       "metadata": {},
       "output_type": "display_data",
       "text": [
        "<IPython.core.display.Javascript at 0x108585a10>"
       ]
      },
      {
       "javascript": [
        "jQuery('#progress-bar-56a2cd74-9135-4acb-a0f4-2c61560d2623').val('16')"
       ],
       "metadata": {},
       "output_type": "display_data",
       "text": [
        "<IPython.core.display.Javascript at 0x1085885d0>"
       ]
      },
      {
       "javascript": [
        "jQuery('#progress-bar-56a2cd74-9135-4acb-a0f4-2c61560d2623').val('16')"
       ],
       "metadata": {},
       "output_type": "display_data",
       "text": [
        "<IPython.core.display.Javascript at 0x1085856d0>"
       ]
      },
      {
       "javascript": [
        "jQuery('#progress-bar-56a2cd74-9135-4acb-a0f4-2c61560d2623').val('16')"
       ],
       "metadata": {},
       "output_type": "display_data",
       "text": [
        "<IPython.core.display.Javascript at 0x107f94a10>"
       ]
      },
      {
       "javascript": [
        "jQuery('#progress-bar-56a2cd74-9135-4acb-a0f4-2c61560d2623').val('17')"
       ],
       "metadata": {},
       "output_type": "display_data",
       "text": [
        "<IPython.core.display.Javascript at 0x10808b410>"
       ]
      },
      {
       "javascript": [
        "jQuery('#progress-bar-56a2cd74-9135-4acb-a0f4-2c61560d2623').val('17')"
       ],
       "metadata": {},
       "output_type": "display_data",
       "text": [
        "<IPython.core.display.Javascript at 0x1084e7d10>"
       ]
      },
      {
       "javascript": [
        "jQuery('#progress-bar-56a2cd74-9135-4acb-a0f4-2c61560d2623').val('17')"
       ],
       "metadata": {},
       "output_type": "display_data",
       "text": [
        "<IPython.core.display.Javascript at 0x106fbb5d0>"
       ]
      },
      {
       "javascript": [
        "jQuery('#progress-bar-56a2cd74-9135-4acb-a0f4-2c61560d2623').val('18')"
       ],
       "metadata": {},
       "output_type": "display_data",
       "text": [
        "<IPython.core.display.Javascript at 0x107f94fd0>"
       ]
      },
      {
       "javascript": [
        "jQuery('#progress-bar-56a2cd74-9135-4acb-a0f4-2c61560d2623').val('18')"
       ],
       "metadata": {},
       "output_type": "display_data",
       "text": [
        "<IPython.core.display.Javascript at 0x10808bf10>"
       ]
      },
      {
       "javascript": [
        "jQuery('#progress-bar-56a2cd74-9135-4acb-a0f4-2c61560d2623').val('18')"
       ],
       "metadata": {},
       "output_type": "display_data",
       "text": [
        "<IPython.core.display.Javascript at 0x1085a6890>"
       ]
      },
      {
       "javascript": [
        "jQuery('#progress-bar-56a2cd74-9135-4acb-a0f4-2c61560d2623').val('19')"
       ],
       "metadata": {},
       "output_type": "display_data",
       "text": [
        "<IPython.core.display.Javascript at 0x1085a6c50>"
       ]
      },
      {
       "javascript": [
        "jQuery('#progress-bar-56a2cd74-9135-4acb-a0f4-2c61560d2623').val('19')"
       ],
       "metadata": {},
       "output_type": "display_data",
       "text": [
        "<IPython.core.display.Javascript at 0x1084f5450>"
       ]
      },
      {
       "javascript": [
        "jQuery('#progress-bar-56a2cd74-9135-4acb-a0f4-2c61560d2623').val('19')"
       ],
       "metadata": {},
       "output_type": "display_data",
       "text": [
        "<IPython.core.display.Javascript at 0x10808b1d0>"
       ]
      },
      {
       "javascript": [
        "jQuery('#progress-bar-56a2cd74-9135-4acb-a0f4-2c61560d2623').val('20')"
       ],
       "metadata": {},
       "output_type": "display_data",
       "text": [
        "<IPython.core.display.Javascript at 0x1084f5c10>"
       ]
      },
      {
       "javascript": [
        "jQuery('#progress-bar-56a2cd74-9135-4acb-a0f4-2c61560d2623').val('20')"
       ],
       "metadata": {},
       "output_type": "display_data",
       "text": [
        "<IPython.core.display.Javascript at 0x108585c10>"
       ]
      },
      {
       "javascript": [
        "jQuery('#progress-bar-56a2cd74-9135-4acb-a0f4-2c61560d2623').val('20')"
       ],
       "metadata": {},
       "output_type": "display_data",
       "text": [
        "<IPython.core.display.Javascript at 0x107f94610>"
       ]
      },
      {
       "javascript": [
        "jQuery('#progress-bar-56a2cd74-9135-4acb-a0f4-2c61560d2623').val('21')"
       ],
       "metadata": {},
       "output_type": "display_data",
       "text": [
        "<IPython.core.display.Javascript at 0x10808bc10>"
       ]
      },
      {
       "javascript": [
        "jQuery('#progress-bar-56a2cd74-9135-4acb-a0f4-2c61560d2623').val('21')"
       ],
       "metadata": {},
       "output_type": "display_data",
       "text": [
        "<IPython.core.display.Javascript at 0x108585190>"
       ]
      },
      {
       "javascript": [
        "jQuery('#progress-bar-56a2cd74-9135-4acb-a0f4-2c61560d2623').val('21')"
       ],
       "metadata": {},
       "output_type": "display_data",
       "text": [
        "<IPython.core.display.Javascript at 0x1085a6610>"
       ]
      },
      {
       "javascript": [
        "jQuery('#progress-bar-56a2cd74-9135-4acb-a0f4-2c61560d2623').val('22')"
       ],
       "metadata": {},
       "output_type": "display_data",
       "text": [
        "<IPython.core.display.Javascript at 0x1085850d0>"
       ]
      },
      {
       "javascript": [
        "jQuery('#progress-bar-56a2cd74-9135-4acb-a0f4-2c61560d2623').val('22')"
       ],
       "metadata": {},
       "output_type": "display_data",
       "text": [
        "<IPython.core.display.Javascript at 0x106fbb550>"
       ]
      },
      {
       "javascript": [
        "jQuery('#progress-bar-56a2cd74-9135-4acb-a0f4-2c61560d2623').val('22')"
       ],
       "metadata": {},
       "output_type": "display_data",
       "text": [
        "<IPython.core.display.Javascript at 0x108588510>"
       ]
      },
      {
       "javascript": [
        "jQuery('#progress-bar-56a2cd74-9135-4acb-a0f4-2c61560d2623').val('23')"
       ],
       "metadata": {},
       "output_type": "display_data",
       "text": [
        "<IPython.core.display.Javascript at 0x108585d90>"
       ]
      },
      {
       "javascript": [
        "jQuery('#progress-bar-56a2cd74-9135-4acb-a0f4-2c61560d2623').val('23')"
       ],
       "metadata": {},
       "output_type": "display_data",
       "text": [
        "<IPython.core.display.Javascript at 0x108585210>"
       ]
      },
      {
       "javascript": [
        "jQuery('#progress-bar-56a2cd74-9135-4acb-a0f4-2c61560d2623').val('23')"
       ],
       "metadata": {},
       "output_type": "display_data",
       "text": [
        "<IPython.core.display.Javascript at 0x108087d90>"
       ]
      },
      {
       "javascript": [
        "jQuery('#progress-bar-56a2cd74-9135-4acb-a0f4-2c61560d2623').val('24')"
       ],
       "metadata": {},
       "output_type": "display_data",
       "text": [
        "<IPython.core.display.Javascript at 0x108588390>"
       ]
      },
      {
       "javascript": [
        "jQuery('#progress-bar-56a2cd74-9135-4acb-a0f4-2c61560d2623').val('24')"
       ],
       "metadata": {},
       "output_type": "display_data",
       "text": [
        "<IPython.core.display.Javascript at 0x1085a6650>"
       ]
      },
      {
       "javascript": [
        "jQuery('#progress-bar-56a2cd74-9135-4acb-a0f4-2c61560d2623').val('24')"
       ],
       "metadata": {},
       "output_type": "display_data",
       "text": [
        "<IPython.core.display.Javascript at 0x108585d10>"
       ]
      },
      {
       "javascript": [
        "jQuery('#progress-bar-56a2cd74-9135-4acb-a0f4-2c61560d2623').val('25')"
       ],
       "metadata": {},
       "output_type": "display_data",
       "text": [
        "<IPython.core.display.Javascript at 0x1084e7710>"
       ]
      },
      {
       "javascript": [
        "jQuery('#progress-bar-56a2cd74-9135-4acb-a0f4-2c61560d2623').val('25')"
       ],
       "metadata": {},
       "output_type": "display_data",
       "text": [
        "<IPython.core.display.Javascript at 0x1085857d0>"
       ]
      },
      {
       "javascript": [
        "jQuery('#progress-bar-56a2cd74-9135-4acb-a0f4-2c61560d2623').val('25')"
       ],
       "metadata": {},
       "output_type": "display_data",
       "text": [
        "<IPython.core.display.Javascript at 0x1084f57d0>"
       ]
      },
      {
       "javascript": [
        "jQuery('#progress-bar-56a2cd74-9135-4acb-a0f4-2c61560d2623').val('26')"
       ],
       "metadata": {},
       "output_type": "display_data",
       "text": [
        "<IPython.core.display.Javascript at 0x108585950>"
       ]
      },
      {
       "javascript": [
        "jQuery('#progress-bar-56a2cd74-9135-4acb-a0f4-2c61560d2623').val('26')"
       ],
       "metadata": {},
       "output_type": "display_data",
       "text": [
        "<IPython.core.display.Javascript at 0x1085a6450>"
       ]
      },
      {
       "javascript": [
        "jQuery('#progress-bar-56a2cd74-9135-4acb-a0f4-2c61560d2623').val('26')"
       ],
       "metadata": {},
       "output_type": "display_data",
       "text": [
        "<IPython.core.display.Javascript at 0x106fbb5d0>"
       ]
      },
      {
       "javascript": [
        "jQuery('#progress-bar-56a2cd74-9135-4acb-a0f4-2c61560d2623').val('27')"
       ],
       "metadata": {},
       "output_type": "display_data",
       "text": [
        "<IPython.core.display.Javascript at 0x1085856d0>"
       ]
      },
      {
       "javascript": [
        "jQuery('#progress-bar-56a2cd74-9135-4acb-a0f4-2c61560d2623').val('27')"
       ],
       "metadata": {},
       "output_type": "display_data",
       "text": [
        "<IPython.core.display.Javascript at 0x106fbb550>"
       ]
      },
      {
       "javascript": [
        "jQuery('#progress-bar-56a2cd74-9135-4acb-a0f4-2c61560d2623').val('27')"
       ],
       "metadata": {},
       "output_type": "display_data",
       "text": [
        "<IPython.core.display.Javascript at 0x108585750>"
       ]
      },
      {
       "javascript": [
        "jQuery('#progress-bar-56a2cd74-9135-4acb-a0f4-2c61560d2623').val('28')"
       ],
       "metadata": {},
       "output_type": "display_data",
       "text": [
        "<IPython.core.display.Javascript at 0x108087d90>"
       ]
      },
      {
       "javascript": [
        "jQuery('#progress-bar-56a2cd74-9135-4acb-a0f4-2c61560d2623').val('28')"
       ],
       "metadata": {},
       "output_type": "display_data",
       "text": [
        "<IPython.core.display.Javascript at 0x1084e7710>"
       ]
      },
      {
       "javascript": [
        "jQuery('#progress-bar-56a2cd74-9135-4acb-a0f4-2c61560d2623').val('28')"
       ],
       "metadata": {},
       "output_type": "display_data",
       "text": [
        "<IPython.core.display.Javascript at 0x108087790>"
       ]
      },
      {
       "javascript": [
        "jQuery('#progress-bar-56a2cd74-9135-4acb-a0f4-2c61560d2623').val('28')"
       ],
       "metadata": {},
       "output_type": "display_data",
       "text": [
        "<IPython.core.display.Javascript at 0x10808b410>"
       ]
      },
      {
       "javascript": [
        "jQuery('#progress-bar-56a2cd74-9135-4acb-a0f4-2c61560d2623').val('29')"
       ],
       "metadata": {},
       "output_type": "display_data",
       "text": [
        "<IPython.core.display.Javascript at 0x1085a60d0>"
       ]
      },
      {
       "javascript": [
        "jQuery('#progress-bar-56a2cd74-9135-4acb-a0f4-2c61560d2623').val('29')"
       ],
       "metadata": {},
       "output_type": "display_data",
       "text": [
        "<IPython.core.display.Javascript at 0x108585f90>"
       ]
      },
      {
       "javascript": [
        "jQuery('#progress-bar-56a2cd74-9135-4acb-a0f4-2c61560d2623').val('30')"
       ],
       "metadata": {},
       "output_type": "display_data",
       "text": [
        "<IPython.core.display.Javascript at 0x1085a6310>"
       ]
      },
      {
       "javascript": [
        "jQuery('#progress-bar-56a2cd74-9135-4acb-a0f4-2c61560d2623').val('30')"
       ],
       "metadata": {},
       "output_type": "display_data",
       "text": [
        "<IPython.core.display.Javascript at 0x1084e7790>"
       ]
      },
      {
       "javascript": [
        "jQuery('#progress-bar-56a2cd74-9135-4acb-a0f4-2c61560d2623').val('30')"
       ],
       "metadata": {},
       "output_type": "display_data",
       "text": [
        "<IPython.core.display.Javascript at 0x1085a6090>"
       ]
      },
      {
       "javascript": [
        "jQuery('#progress-bar-56a2cd74-9135-4acb-a0f4-2c61560d2623').val('31')"
       ],
       "metadata": {},
       "output_type": "display_data",
       "text": [
        "<IPython.core.display.Javascript at 0x1085a6810>"
       ]
      },
      {
       "javascript": [
        "jQuery('#progress-bar-56a2cd74-9135-4acb-a0f4-2c61560d2623').val('31')"
       ],
       "metadata": {},
       "output_type": "display_data",
       "text": [
        "<IPython.core.display.Javascript at 0x108087790>"
       ]
      },
      {
       "javascript": [
        "jQuery('#progress-bar-56a2cd74-9135-4acb-a0f4-2c61560d2623').val('31')"
       ],
       "metadata": {},
       "output_type": "display_data",
       "text": [
        "<IPython.core.display.Javascript at 0x1085a6b50>"
       ]
      },
      {
       "javascript": [
        "jQuery('#progress-bar-56a2cd74-9135-4acb-a0f4-2c61560d2623').val('32')"
       ],
       "metadata": {},
       "output_type": "display_data",
       "text": [
        "<IPython.core.display.Javascript at 0x107f94190>"
       ]
      },
      {
       "javascript": [
        "jQuery('#progress-bar-56a2cd74-9135-4acb-a0f4-2c61560d2623').val('32')"
       ],
       "metadata": {},
       "output_type": "display_data",
       "text": [
        "<IPython.core.display.Javascript at 0x1085a6810>"
       ]
      },
      {
       "javascript": [
        "jQuery('#progress-bar-56a2cd74-9135-4acb-a0f4-2c61560d2623').val('32')"
       ],
       "metadata": {},
       "output_type": "display_data",
       "text": [
        "<IPython.core.display.Javascript at 0x108585890>"
       ]
      },
      {
       "javascript": [
        "jQuery('#progress-bar-56a2cd74-9135-4acb-a0f4-2c61560d2623').val('33')"
       ],
       "metadata": {},
       "output_type": "display_data",
       "text": [
        "<IPython.core.display.Javascript at 0x106fbb550>"
       ]
      },
      {
       "javascript": [
        "jQuery('#progress-bar-56a2cd74-9135-4acb-a0f4-2c61560d2623').val('33')"
       ],
       "metadata": {},
       "output_type": "display_data",
       "text": [
        "<IPython.core.display.Javascript at 0x1084f57d0>"
       ]
      },
      {
       "javascript": [
        "jQuery('#progress-bar-56a2cd74-9135-4acb-a0f4-2c61560d2623').val('33')"
       ],
       "metadata": {},
       "output_type": "display_data",
       "text": [
        "<IPython.core.display.Javascript at 0x1085a6590>"
       ]
      },
      {
       "javascript": [
        "jQuery('#progress-bar-56a2cd74-9135-4acb-a0f4-2c61560d2623').val('34')"
       ],
       "metadata": {},
       "output_type": "display_data",
       "text": [
        "<IPython.core.display.Javascript at 0x107f94190>"
       ]
      },
      {
       "javascript": [
        "jQuery('#progress-bar-56a2cd74-9135-4acb-a0f4-2c61560d2623').val('34')"
       ],
       "metadata": {},
       "output_type": "display_data",
       "text": [
        "<IPython.core.display.Javascript at 0x1085a6090>"
       ]
      },
      {
       "javascript": [
        "jQuery('#progress-bar-56a2cd74-9135-4acb-a0f4-2c61560d2623').val('34')"
       ],
       "metadata": {},
       "output_type": "display_data",
       "text": [
        "<IPython.core.display.Javascript at 0x108588390>"
       ]
      },
      {
       "javascript": [
        "jQuery('#progress-bar-56a2cd74-9135-4acb-a0f4-2c61560d2623').val('35')"
       ],
       "metadata": {},
       "output_type": "display_data",
       "text": [
        "<IPython.core.display.Javascript at 0x108588050>"
       ]
      },
      {
       "javascript": [
        "jQuery('#progress-bar-56a2cd74-9135-4acb-a0f4-2c61560d2623').val('35')"
       ],
       "metadata": {},
       "output_type": "display_data",
       "text": [
        "<IPython.core.display.Javascript at 0x108588e50>"
       ]
      },
      {
       "javascript": [
        "jQuery('#progress-bar-56a2cd74-9135-4acb-a0f4-2c61560d2623').val('35')"
       ],
       "metadata": {},
       "output_type": "display_data",
       "text": [
        "<IPython.core.display.Javascript at 0x1085a66d0>"
       ]
      },
      {
       "javascript": [
        "jQuery('#progress-bar-56a2cd74-9135-4acb-a0f4-2c61560d2623').val('36')"
       ],
       "metadata": {},
       "output_type": "display_data",
       "text": [
        "<IPython.core.display.Javascript at 0x108588c10>"
       ]
      },
      {
       "javascript": [
        "jQuery('#progress-bar-56a2cd74-9135-4acb-a0f4-2c61560d2623').val('36')"
       ],
       "metadata": {},
       "output_type": "display_data",
       "text": [
        "<IPython.core.display.Javascript at 0x1085859d0>"
       ]
      },
      {
       "javascript": [
        "jQuery('#progress-bar-56a2cd74-9135-4acb-a0f4-2c61560d2623').val('36')"
       ],
       "metadata": {},
       "output_type": "display_data",
       "text": [
        "<IPython.core.display.Javascript at 0x108588b10>"
       ]
      },
      {
       "javascript": [
        "jQuery('#progress-bar-56a2cd74-9135-4acb-a0f4-2c61560d2623').val('37')"
       ],
       "metadata": {},
       "output_type": "display_data",
       "text": [
        "<IPython.core.display.Javascript at 0x1084e7790>"
       ]
      },
      {
       "javascript": [
        "jQuery('#progress-bar-56a2cd74-9135-4acb-a0f4-2c61560d2623').val('37')"
       ],
       "metadata": {},
       "output_type": "display_data",
       "text": [
        "<IPython.core.display.Javascript at 0x108588e50>"
       ]
      },
      {
       "javascript": [
        "jQuery('#progress-bar-56a2cd74-9135-4acb-a0f4-2c61560d2623').val('37')"
       ],
       "metadata": {},
       "output_type": "display_data",
       "text": [
        "<IPython.core.display.Javascript at 0x1085a6310>"
       ]
      },
      {
       "javascript": [
        "jQuery('#progress-bar-56a2cd74-9135-4acb-a0f4-2c61560d2623').val('38')"
       ],
       "metadata": {},
       "output_type": "display_data",
       "text": [
        "<IPython.core.display.Javascript at 0x108588890>"
       ]
      },
      {
       "javascript": [
        "jQuery('#progress-bar-56a2cd74-9135-4acb-a0f4-2c61560d2623').val('38')"
       ],
       "metadata": {},
       "output_type": "display_data",
       "text": [
        "<IPython.core.display.Javascript at 0x1084e7710>"
       ]
      },
      {
       "javascript": [
        "jQuery('#progress-bar-56a2cd74-9135-4acb-a0f4-2c61560d2623').val('38')"
       ],
       "metadata": {},
       "output_type": "display_data",
       "text": [
        "<IPython.core.display.Javascript at 0x108588610>"
       ]
      },
      {
       "javascript": [
        "jQuery('#progress-bar-56a2cd74-9135-4acb-a0f4-2c61560d2623').val('39')"
       ],
       "metadata": {},
       "output_type": "display_data",
       "text": [
        "<IPython.core.display.Javascript at 0x1084e7790>"
       ]
      },
      {
       "javascript": [
        "jQuery('#progress-bar-56a2cd74-9135-4acb-a0f4-2c61560d2623').val('39')"
       ],
       "metadata": {},
       "output_type": "display_data",
       "text": [
        "<IPython.core.display.Javascript at 0x1085a65d0>"
       ]
      },
      {
       "javascript": [
        "jQuery('#progress-bar-56a2cd74-9135-4acb-a0f4-2c61560d2623').val('39')"
       ],
       "metadata": {},
       "output_type": "display_data",
       "text": [
        "<IPython.core.display.Javascript at 0x108585e90>"
       ]
      },
      {
       "javascript": [
        "jQuery('#progress-bar-56a2cd74-9135-4acb-a0f4-2c61560d2623').val('40')"
       ],
       "metadata": {},
       "output_type": "display_data",
       "text": [
        "<IPython.core.display.Javascript at 0x108588f10>"
       ]
      },
      {
       "javascript": [
        "jQuery('#progress-bar-56a2cd74-9135-4acb-a0f4-2c61560d2623').val('40')"
       ],
       "metadata": {},
       "output_type": "display_data",
       "text": [
        "<IPython.core.display.Javascript at 0x108585750>"
       ]
      },
      {
       "javascript": [
        "jQuery('#progress-bar-56a2cd74-9135-4acb-a0f4-2c61560d2623').val('40')"
       ],
       "metadata": {},
       "output_type": "display_data",
       "text": [
        "<IPython.core.display.Javascript at 0x108588f10>"
       ]
      },
      {
       "javascript": [
        "jQuery('#progress-bar-56a2cd74-9135-4acb-a0f4-2c61560d2623').val('41')"
       ],
       "metadata": {},
       "output_type": "display_data",
       "text": [
        "<IPython.core.display.Javascript at 0x10808ba50>"
       ]
      },
      {
       "javascript": [
        "jQuery('#progress-bar-56a2cd74-9135-4acb-a0f4-2c61560d2623').val('41')"
       ],
       "metadata": {},
       "output_type": "display_data",
       "text": [
        "<IPython.core.display.Javascript at 0x107f94310>"
       ]
      },
      {
       "javascript": [
        "jQuery('#progress-bar-56a2cd74-9135-4acb-a0f4-2c61560d2623').val('41')"
       ],
       "metadata": {},
       "output_type": "display_data",
       "text": [
        "<IPython.core.display.Javascript at 0x1085a6190>"
       ]
      },
      {
       "javascript": [
        "jQuery('#progress-bar-56a2cd74-9135-4acb-a0f4-2c61560d2623').val('42')"
       ],
       "metadata": {},
       "output_type": "display_data",
       "text": [
        "<IPython.core.display.Javascript at 0x1084e7790>"
       ]
      },
      {
       "javascript": [
        "jQuery('#progress-bar-56a2cd74-9135-4acb-a0f4-2c61560d2623').val('42')"
       ],
       "metadata": {},
       "output_type": "display_data",
       "text": [
        "<IPython.core.display.Javascript at 0x108585d90>"
       ]
      },
      {
       "javascript": [
        "jQuery('#progress-bar-56a2cd74-9135-4acb-a0f4-2c61560d2623').val('42')"
       ],
       "metadata": {},
       "output_type": "display_data",
       "text": [
        "<IPython.core.display.Javascript at 0x107f94950>"
       ]
      },
      {
       "javascript": [
        "jQuery('#progress-bar-56a2cd74-9135-4acb-a0f4-2c61560d2623').val('43')"
       ],
       "metadata": {},
       "output_type": "display_data",
       "text": [
        "<IPython.core.display.Javascript at 0x10808ba50>"
       ]
      },
      {
       "javascript": [
        "jQuery('#progress-bar-56a2cd74-9135-4acb-a0f4-2c61560d2623').val('43')"
       ],
       "metadata": {},
       "output_type": "display_data",
       "text": [
        "<IPython.core.display.Javascript at 0x1084f5e50>"
       ]
      },
      {
       "javascript": [
        "jQuery('#progress-bar-56a2cd74-9135-4acb-a0f4-2c61560d2623').val('43')"
       ],
       "metadata": {},
       "output_type": "display_data",
       "text": [
        "<IPython.core.display.Javascript at 0x108585750>"
       ]
      },
      {
       "javascript": [
        "jQuery('#progress-bar-56a2cd74-9135-4acb-a0f4-2c61560d2623').val('44')"
       ],
       "metadata": {},
       "output_type": "display_data",
       "text": [
        "<IPython.core.display.Javascript at 0x107f94950>"
       ]
      },
      {
       "javascript": [
        "jQuery('#progress-bar-56a2cd74-9135-4acb-a0f4-2c61560d2623').val('44')"
       ],
       "metadata": {},
       "output_type": "display_data",
       "text": [
        "<IPython.core.display.Javascript at 0x107f94450>"
       ]
      },
      {
       "javascript": [
        "jQuery('#progress-bar-56a2cd74-9135-4acb-a0f4-2c61560d2623').val('44')"
       ],
       "metadata": {},
       "output_type": "display_data",
       "text": [
        "<IPython.core.display.Javascript at 0x108588b50>"
       ]
      },
      {
       "javascript": [
        "jQuery('#progress-bar-56a2cd74-9135-4acb-a0f4-2c61560d2623').val('45')"
       ],
       "metadata": {},
       "output_type": "display_data",
       "text": [
        "<IPython.core.display.Javascript at 0x10808be90>"
       ]
      },
      {
       "javascript": [
        "jQuery('#progress-bar-56a2cd74-9135-4acb-a0f4-2c61560d2623').val('45')"
       ],
       "metadata": {},
       "output_type": "display_data",
       "text": [
        "<IPython.core.display.Javascript at 0x107f94190>"
       ]
      },
      {
       "javascript": [
        "jQuery('#progress-bar-56a2cd74-9135-4acb-a0f4-2c61560d2623').val('45')"
       ],
       "metadata": {},
       "output_type": "display_data",
       "text": [
        "<IPython.core.display.Javascript at 0x1085a6490>"
       ]
      },
      {
       "javascript": [
        "jQuery('#progress-bar-56a2cd74-9135-4acb-a0f4-2c61560d2623').val('46')"
       ],
       "metadata": {},
       "output_type": "display_data",
       "text": [
        "<IPython.core.display.Javascript at 0x106fbb550>"
       ]
      },
      {
       "javascript": [
        "jQuery('#progress-bar-56a2cd74-9135-4acb-a0f4-2c61560d2623').val('46')"
       ],
       "metadata": {},
       "output_type": "display_data",
       "text": [
        "<IPython.core.display.Javascript at 0x1085a65d0>"
       ]
      },
      {
       "javascript": [
        "jQuery('#progress-bar-56a2cd74-9135-4acb-a0f4-2c61560d2623').val('46')"
       ],
       "metadata": {},
       "output_type": "display_data",
       "text": [
        "<IPython.core.display.Javascript at 0x1084f59d0>"
       ]
      },
      {
       "javascript": [
        "jQuery('#progress-bar-56a2cd74-9135-4acb-a0f4-2c61560d2623').val('47')"
       ],
       "metadata": {},
       "output_type": "display_data",
       "text": [
        "<IPython.core.display.Javascript at 0x1085a6c90>"
       ]
      },
      {
       "javascript": [
        "jQuery('#progress-bar-56a2cd74-9135-4acb-a0f4-2c61560d2623').val('47')"
       ],
       "metadata": {},
       "output_type": "display_data",
       "text": [
        "<IPython.core.display.Javascript at 0x1084f5e50>"
       ]
      },
      {
       "javascript": [
        "jQuery('#progress-bar-56a2cd74-9135-4acb-a0f4-2c61560d2623').val('47')"
       ],
       "metadata": {},
       "output_type": "display_data",
       "text": [
        "<IPython.core.display.Javascript at 0x1085a6590>"
       ]
      },
      {
       "javascript": [
        "jQuery('#progress-bar-56a2cd74-9135-4acb-a0f4-2c61560d2623').val('48')"
       ],
       "metadata": {},
       "output_type": "display_data",
       "text": [
        "<IPython.core.display.Javascript at 0x107f94bd0>"
       ]
      },
      {
       "javascript": [
        "jQuery('#progress-bar-56a2cd74-9135-4acb-a0f4-2c61560d2623').val('48')"
       ],
       "metadata": {},
       "output_type": "display_data",
       "text": [
        "<IPython.core.display.Javascript at 0x1085a62d0>"
       ]
      },
      {
       "javascript": [
        "jQuery('#progress-bar-56a2cd74-9135-4acb-a0f4-2c61560d2623').val('48')"
       ],
       "metadata": {},
       "output_type": "display_data",
       "text": [
        "<IPython.core.display.Javascript at 0x1084e7710>"
       ]
      },
      {
       "javascript": [
        "jQuery('#progress-bar-56a2cd74-9135-4acb-a0f4-2c61560d2623').val('49')"
       ],
       "metadata": {},
       "output_type": "display_data",
       "text": [
        "<IPython.core.display.Javascript at 0x1085a6e50>"
       ]
      },
      {
       "javascript": [
        "jQuery('#progress-bar-56a2cd74-9135-4acb-a0f4-2c61560d2623').val('49')"
       ],
       "metadata": {},
       "output_type": "display_data",
       "text": [
        "<IPython.core.display.Javascript at 0x108087f10>"
       ]
      },
      {
       "javascript": [
        "jQuery('#progress-bar-56a2cd74-9135-4acb-a0f4-2c61560d2623').val('49')"
       ],
       "metadata": {},
       "output_type": "display_data",
       "text": [
        "<IPython.core.display.Javascript at 0x1085a60d0>"
       ]
      },
      {
       "javascript": [
        "jQuery('#progress-bar-56a2cd74-9135-4acb-a0f4-2c61560d2623').val('50')"
       ],
       "metadata": {},
       "output_type": "display_data",
       "text": [
        "<IPython.core.display.Javascript at 0x1084e7790>"
       ]
      },
      {
       "javascript": [
        "jQuery('#progress-bar-56a2cd74-9135-4acb-a0f4-2c61560d2623').val('50')"
       ],
       "metadata": {},
       "output_type": "display_data",
       "text": [
        "<IPython.core.display.Javascript at 0x1085a6710>"
       ]
      },
      {
       "javascript": [
        "jQuery('#progress-bar-56a2cd74-9135-4acb-a0f4-2c61560d2623').val('50')"
       ],
       "metadata": {},
       "output_type": "display_data",
       "text": [
        "<IPython.core.display.Javascript at 0x1084e7710>"
       ]
      },
      {
       "javascript": [
        "jQuery('#progress-bar-56a2cd74-9135-4acb-a0f4-2c61560d2623').val('51')"
       ],
       "metadata": {},
       "output_type": "display_data",
       "text": [
        "<IPython.core.display.Javascript at 0x1085a6890>"
       ]
      },
      {
       "javascript": [
        "jQuery('#progress-bar-56a2cd74-9135-4acb-a0f4-2c61560d2623').val('51')"
       ],
       "metadata": {},
       "output_type": "display_data",
       "text": [
        "<IPython.core.display.Javascript at 0x107f94990>"
       ]
      },
      {
       "javascript": [
        "jQuery('#progress-bar-56a2cd74-9135-4acb-a0f4-2c61560d2623').val('51')"
       ],
       "metadata": {},
       "output_type": "display_data",
       "text": [
        "<IPython.core.display.Javascript at 0x1085a62d0>"
       ]
      },
      {
       "javascript": [
        "jQuery('#progress-bar-56a2cd74-9135-4acb-a0f4-2c61560d2623').val('52')"
       ],
       "metadata": {},
       "output_type": "display_data",
       "text": [
        "<IPython.core.display.Javascript at 0x1085a6590>"
       ]
      },
      {
       "javascript": [
        "jQuery('#progress-bar-56a2cd74-9135-4acb-a0f4-2c61560d2623').val('52')"
       ],
       "metadata": {},
       "output_type": "display_data",
       "text": [
        "<IPython.core.display.Javascript at 0x1084e7710>"
       ]
      },
      {
       "javascript": [
        "jQuery('#progress-bar-56a2cd74-9135-4acb-a0f4-2c61560d2623').val('52')"
       ],
       "metadata": {},
       "output_type": "display_data",
       "text": [
        "<IPython.core.display.Javascript at 0x1085a6310>"
       ]
      },
      {
       "javascript": [
        "jQuery('#progress-bar-56a2cd74-9135-4acb-a0f4-2c61560d2623').val('53')"
       ],
       "metadata": {},
       "output_type": "display_data",
       "text": [
        "<IPython.core.display.Javascript at 0x1085a6690>"
       ]
      },
      {
       "javascript": [
        "jQuery('#progress-bar-56a2cd74-9135-4acb-a0f4-2c61560d2623').val('53')"
       ],
       "metadata": {},
       "output_type": "display_data",
       "text": [
        "<IPython.core.display.Javascript at 0x1085a6190>"
       ]
      },
      {
       "javascript": [
        "jQuery('#progress-bar-56a2cd74-9135-4acb-a0f4-2c61560d2623').val('53')"
       ],
       "metadata": {},
       "output_type": "display_data",
       "text": [
        "<IPython.core.display.Javascript at 0x1085a6390>"
       ]
      },
      {
       "javascript": [
        "jQuery('#progress-bar-56a2cd74-9135-4acb-a0f4-2c61560d2623').val('54')"
       ],
       "metadata": {},
       "output_type": "display_data",
       "text": [
        "<IPython.core.display.Javascript at 0x1084f57d0>"
       ]
      },
      {
       "javascript": [
        "jQuery('#progress-bar-56a2cd74-9135-4acb-a0f4-2c61560d2623').val('54')"
       ],
       "metadata": {},
       "output_type": "display_data",
       "text": [
        "<IPython.core.display.Javascript at 0x1085a6890>"
       ]
      },
      {
       "javascript": [
        "jQuery('#progress-bar-56a2cd74-9135-4acb-a0f4-2c61560d2623').val('54')"
       ],
       "metadata": {},
       "output_type": "display_data",
       "text": [
        "<IPython.core.display.Javascript at 0x1084e74d0>"
       ]
      },
      {
       "javascript": [
        "jQuery('#progress-bar-56a2cd74-9135-4acb-a0f4-2c61560d2623').val('55')"
       ],
       "metadata": {},
       "output_type": "display_data",
       "text": [
        "<IPython.core.display.Javascript at 0x107f94210>"
       ]
      },
      {
       "javascript": [
        "jQuery('#progress-bar-56a2cd74-9135-4acb-a0f4-2c61560d2623').val('55')"
       ],
       "metadata": {},
       "output_type": "display_data",
       "text": [
        "<IPython.core.display.Javascript at 0x107f94750>"
       ]
      },
      {
       "javascript": [
        "jQuery('#progress-bar-56a2cd74-9135-4acb-a0f4-2c61560d2623').val('55')"
       ],
       "metadata": {},
       "output_type": "display_data",
       "text": [
        "<IPython.core.display.Javascript at 0x10808b890>"
       ]
      },
      {
       "javascript": [
        "jQuery('#progress-bar-56a2cd74-9135-4acb-a0f4-2c61560d2623').val('56')"
       ],
       "metadata": {},
       "output_type": "display_data",
       "text": [
        "<IPython.core.display.Javascript at 0x1084e7790>"
       ]
      },
      {
       "javascript": [
        "jQuery('#progress-bar-56a2cd74-9135-4acb-a0f4-2c61560d2623').val('56')"
       ],
       "metadata": {},
       "output_type": "display_data",
       "text": [
        "<IPython.core.display.Javascript at 0x1085a6e90>"
       ]
      },
      {
       "javascript": [
        "jQuery('#progress-bar-56a2cd74-9135-4acb-a0f4-2c61560d2623').val('56')"
       ],
       "metadata": {},
       "output_type": "display_data",
       "text": [
        "<IPython.core.display.Javascript at 0x107f94990>"
       ]
      },
      {
       "javascript": [
        "jQuery('#progress-bar-56a2cd74-9135-4acb-a0f4-2c61560d2623').val('56')"
       ],
       "metadata": {},
       "output_type": "display_data",
       "text": [
        "<IPython.core.display.Javascript at 0x1085a6210>"
       ]
      },
      {
       "javascript": [
        "jQuery('#progress-bar-56a2cd74-9135-4acb-a0f4-2c61560d2623').val('57')"
       ],
       "metadata": {},
       "output_type": "display_data",
       "text": [
        "<IPython.core.display.Javascript at 0x107f94ed0>"
       ]
      },
      {
       "javascript": [
        "jQuery('#progress-bar-56a2cd74-9135-4acb-a0f4-2c61560d2623').val('57')"
       ],
       "metadata": {},
       "output_type": "display_data",
       "text": [
        "<IPython.core.display.Javascript at 0x1085a6450>"
       ]
      },
      {
       "javascript": [
        "jQuery('#progress-bar-56a2cd74-9135-4acb-a0f4-2c61560d2623').val('57')"
       ],
       "metadata": {},
       "output_type": "display_data",
       "text": [
        "<IPython.core.display.Javascript at 0x107f94990>"
       ]
      },
      {
       "javascript": [
        "jQuery('#progress-bar-56a2cd74-9135-4acb-a0f4-2c61560d2623').val('58')"
       ],
       "metadata": {},
       "output_type": "display_data",
       "text": [
        "<IPython.core.display.Javascript at 0x10808be10>"
       ]
      },
      {
       "javascript": [
        "jQuery('#progress-bar-56a2cd74-9135-4acb-a0f4-2c61560d2623').val('58')"
       ],
       "metadata": {},
       "output_type": "display_data",
       "text": [
        "<IPython.core.display.Javascript at 0x108585e90>"
       ]
      },
      {
       "javascript": [
        "jQuery('#progress-bar-56a2cd74-9135-4acb-a0f4-2c61560d2623').val('59')"
       ],
       "metadata": {},
       "output_type": "display_data",
       "text": [
        "<IPython.core.display.Javascript at 0x1085a6bd0>"
       ]
      },
      {
       "javascript": [
        "jQuery('#progress-bar-56a2cd74-9135-4acb-a0f4-2c61560d2623').val('59')"
       ],
       "metadata": {},
       "output_type": "display_data",
       "text": [
        "<IPython.core.display.Javascript at 0x108585550>"
       ]
      },
      {
       "javascript": [
        "jQuery('#progress-bar-56a2cd74-9135-4acb-a0f4-2c61560d2623').val('59')"
       ],
       "metadata": {},
       "output_type": "display_data",
       "text": [
        "<IPython.core.display.Javascript at 0x1085a6c90>"
       ]
      },
      {
       "javascript": [
        "jQuery('#progress-bar-56a2cd74-9135-4acb-a0f4-2c61560d2623').val('60')"
       ],
       "metadata": {},
       "output_type": "display_data",
       "text": [
        "<IPython.core.display.Javascript at 0x108585ed0>"
       ]
      },
      {
       "javascript": [
        "jQuery('#progress-bar-56a2cd74-9135-4acb-a0f4-2c61560d2623').val('60')"
       ],
       "metadata": {},
       "output_type": "display_data",
       "text": [
        "<IPython.core.display.Javascript at 0x10808be10>"
       ]
      },
      {
       "javascript": [
        "jQuery('#progress-bar-56a2cd74-9135-4acb-a0f4-2c61560d2623').val('60')"
       ],
       "metadata": {},
       "output_type": "display_data",
       "text": [
        "<IPython.core.display.Javascript at 0x1084e7790>"
       ]
      },
      {
       "javascript": [
        "jQuery('#progress-bar-56a2cd74-9135-4acb-a0f4-2c61560d2623').val('61')"
       ],
       "metadata": {},
       "output_type": "display_data",
       "text": [
        "<IPython.core.display.Javascript at 0x108585690>"
       ]
      },
      {
       "javascript": [
        "jQuery('#progress-bar-56a2cd74-9135-4acb-a0f4-2c61560d2623').val('61')"
       ],
       "metadata": {},
       "output_type": "display_data",
       "text": [
        "<IPython.core.display.Javascript at 0x107f94110>"
       ]
      },
      {
       "javascript": [
        "jQuery('#progress-bar-56a2cd74-9135-4acb-a0f4-2c61560d2623').val('61')"
       ],
       "metadata": {},
       "output_type": "display_data",
       "text": [
        "<IPython.core.display.Javascript at 0x10808b690>"
       ]
      },
      {
       "javascript": [
        "jQuery('#progress-bar-56a2cd74-9135-4acb-a0f4-2c61560d2623').val('62')"
       ],
       "metadata": {},
       "output_type": "display_data",
       "text": [
        "<IPython.core.display.Javascript at 0x1085859d0>"
       ]
      },
      {
       "javascript": [
        "jQuery('#progress-bar-56a2cd74-9135-4acb-a0f4-2c61560d2623').val('62')"
       ],
       "metadata": {},
       "output_type": "display_data",
       "text": [
        "<IPython.core.display.Javascript at 0x1085a6450>"
       ]
      },
      {
       "javascript": [
        "jQuery('#progress-bar-56a2cd74-9135-4acb-a0f4-2c61560d2623').val('62')"
       ],
       "metadata": {},
       "output_type": "display_data",
       "text": [
        "<IPython.core.display.Javascript at 0x108585d90>"
       ]
      },
      {
       "javascript": [
        "jQuery('#progress-bar-56a2cd74-9135-4acb-a0f4-2c61560d2623').val('63')"
       ],
       "metadata": {},
       "output_type": "display_data",
       "text": [
        "<IPython.core.display.Javascript at 0x1084f57d0>"
       ]
      },
      {
       "javascript": [
        "jQuery('#progress-bar-56a2cd74-9135-4acb-a0f4-2c61560d2623').val('63')"
       ],
       "metadata": {},
       "output_type": "display_data",
       "text": [
        "<IPython.core.display.Javascript at 0x1085857d0>"
       ]
      },
      {
       "javascript": [
        "jQuery('#progress-bar-56a2cd74-9135-4acb-a0f4-2c61560d2623').val('63')"
       ],
       "metadata": {},
       "output_type": "display_data",
       "text": [
        "<IPython.core.display.Javascript at 0x1085a6990>"
       ]
      },
      {
       "javascript": [
        "jQuery('#progress-bar-56a2cd74-9135-4acb-a0f4-2c61560d2623').val('64')"
       ],
       "metadata": {},
       "output_type": "display_data",
       "text": [
        "<IPython.core.display.Javascript at 0x107f94750>"
       ]
      },
      {
       "javascript": [
        "jQuery('#progress-bar-56a2cd74-9135-4acb-a0f4-2c61560d2623').val('64')"
       ],
       "metadata": {},
       "output_type": "display_data",
       "text": [
        "<IPython.core.display.Javascript at 0x1085a6710>"
       ]
      },
      {
       "javascript": [
        "jQuery('#progress-bar-56a2cd74-9135-4acb-a0f4-2c61560d2623').val('64')"
       ],
       "metadata": {},
       "output_type": "display_data",
       "text": [
        "<IPython.core.display.Javascript at 0x107f94890>"
       ]
      },
      {
       "javascript": [
        "jQuery('#progress-bar-56a2cd74-9135-4acb-a0f4-2c61560d2623').val('65')"
       ],
       "metadata": {},
       "output_type": "display_data",
       "text": [
        "<IPython.core.display.Javascript at 0x1085a6590>"
       ]
      },
      {
       "javascript": [
        "jQuery('#progress-bar-56a2cd74-9135-4acb-a0f4-2c61560d2623').val('65')"
       ],
       "metadata": {},
       "output_type": "display_data",
       "text": [
        "<IPython.core.display.Javascript at 0x1084f59d0>"
       ]
      },
      {
       "javascript": [
        "jQuery('#progress-bar-56a2cd74-9135-4acb-a0f4-2c61560d2623').val('65')"
       ],
       "metadata": {},
       "output_type": "display_data",
       "text": [
        "<IPython.core.display.Javascript at 0x108585750>"
       ]
      },
      {
       "javascript": [
        "jQuery('#progress-bar-56a2cd74-9135-4acb-a0f4-2c61560d2623').val('66')"
       ],
       "metadata": {},
       "output_type": "display_data",
       "text": [
        "<IPython.core.display.Javascript at 0x1085885d0>"
       ]
      },
      {
       "javascript": [
        "jQuery('#progress-bar-56a2cd74-9135-4acb-a0f4-2c61560d2623').val('66')"
       ],
       "metadata": {},
       "output_type": "display_data",
       "text": [
        "<IPython.core.display.Javascript at 0x108585e90>"
       ]
      },
      {
       "javascript": [
        "jQuery('#progress-bar-56a2cd74-9135-4acb-a0f4-2c61560d2623').val('66')"
       ],
       "metadata": {},
       "output_type": "display_data",
       "text": [
        "<IPython.core.display.Javascript at 0x108588190>"
       ]
      },
      {
       "javascript": [
        "jQuery('#progress-bar-56a2cd74-9135-4acb-a0f4-2c61560d2623').val('67')"
       ],
       "metadata": {},
       "output_type": "display_data",
       "text": [
        "<IPython.core.display.Javascript at 0x107f94290>"
       ]
      },
      {
       "javascript": [
        "jQuery('#progress-bar-56a2cd74-9135-4acb-a0f4-2c61560d2623').val('67')"
       ],
       "metadata": {},
       "output_type": "display_data",
       "text": [
        "<IPython.core.display.Javascript at 0x108588190>"
       ]
      },
      {
       "javascript": [
        "jQuery('#progress-bar-56a2cd74-9135-4acb-a0f4-2c61560d2623').val('67')"
       ],
       "metadata": {},
       "output_type": "display_data",
       "text": [
        "<IPython.core.display.Javascript at 0x1085a6390>"
       ]
      },
      {
       "javascript": [
        "jQuery('#progress-bar-56a2cd74-9135-4acb-a0f4-2c61560d2623').val('68')"
       ],
       "metadata": {},
       "output_type": "display_data",
       "text": [
        "<IPython.core.display.Javascript at 0x107f94b10>"
       ]
      },
      {
       "javascript": [
        "jQuery('#progress-bar-56a2cd74-9135-4acb-a0f4-2c61560d2623').val('68')"
       ],
       "metadata": {},
       "output_type": "display_data",
       "text": [
        "<IPython.core.display.Javascript at 0x1085a6490>"
       ]
      },
      {
       "javascript": [
        "jQuery('#progress-bar-56a2cd74-9135-4acb-a0f4-2c61560d2623').val('68')"
       ],
       "metadata": {},
       "output_type": "display_data",
       "text": [
        "<IPython.core.display.Javascript at 0x107f94610>"
       ]
      },
      {
       "javascript": [
        "jQuery('#progress-bar-56a2cd74-9135-4acb-a0f4-2c61560d2623').val('69')"
       ],
       "metadata": {},
       "output_type": "display_data",
       "text": [
        "<IPython.core.display.Javascript at 0x1085a6590>"
       ]
      },
      {
       "javascript": [
        "jQuery('#progress-bar-56a2cd74-9135-4acb-a0f4-2c61560d2623').val('69')"
       ],
       "metadata": {},
       "output_type": "display_data",
       "text": [
        "<IPython.core.display.Javascript at 0x107f94950>"
       ]
      },
      {
       "javascript": [
        "jQuery('#progress-bar-56a2cd74-9135-4acb-a0f4-2c61560d2623').val('69')"
       ],
       "metadata": {},
       "output_type": "display_data",
       "text": [
        "<IPython.core.display.Javascript at 0x1085a63d0>"
       ]
      },
      {
       "javascript": [
        "jQuery('#progress-bar-56a2cd74-9135-4acb-a0f4-2c61560d2623').val('70')"
       ],
       "metadata": {},
       "output_type": "display_data",
       "text": [
        "<IPython.core.display.Javascript at 0x107f94bd0>"
       ]
      },
      {
       "javascript": [
        "jQuery('#progress-bar-56a2cd74-9135-4acb-a0f4-2c61560d2623').val('70')"
       ],
       "metadata": {},
       "output_type": "display_data",
       "text": [
        "<IPython.core.display.Javascript at 0x108585d10>"
       ]
      },
      {
       "javascript": [
        "jQuery('#progress-bar-56a2cd74-9135-4acb-a0f4-2c61560d2623').val('70')"
       ],
       "metadata": {},
       "output_type": "display_data",
       "text": [
        "<IPython.core.display.Javascript at 0x108585f90>"
       ]
      },
      {
       "javascript": [
        "jQuery('#progress-bar-56a2cd74-9135-4acb-a0f4-2c61560d2623').val('71')"
       ],
       "metadata": {},
       "output_type": "display_data",
       "text": [
        "<IPython.core.display.Javascript at 0x108585050>"
       ]
      },
      {
       "javascript": [
        "jQuery('#progress-bar-56a2cd74-9135-4acb-a0f4-2c61560d2623').val('71')"
       ],
       "metadata": {},
       "output_type": "display_data",
       "text": [
        "<IPython.core.display.Javascript at 0x107f94c50>"
       ]
      },
      {
       "javascript": [
        "jQuery('#progress-bar-56a2cd74-9135-4acb-a0f4-2c61560d2623').val('71')"
       ],
       "metadata": {},
       "output_type": "display_data",
       "text": [
        "<IPython.core.display.Javascript at 0x1085a6710>"
       ]
      },
      {
       "javascript": [
        "jQuery('#progress-bar-56a2cd74-9135-4acb-a0f4-2c61560d2623').val('72')"
       ],
       "metadata": {},
       "output_type": "display_data",
       "text": [
        "<IPython.core.display.Javascript at 0x107f94950>"
       ]
      },
      {
       "javascript": [
        "jQuery('#progress-bar-56a2cd74-9135-4acb-a0f4-2c61560d2623').val('72')"
       ],
       "metadata": {},
       "output_type": "display_data",
       "text": [
        "<IPython.core.display.Javascript at 0x1084f59d0>"
       ]
      },
      {
       "javascript": [
        "jQuery('#progress-bar-56a2cd74-9135-4acb-a0f4-2c61560d2623').val('72')"
       ],
       "metadata": {},
       "output_type": "display_data",
       "text": [
        "<IPython.core.display.Javascript at 0x106fbb5d0>"
       ]
      },
      {
       "javascript": [
        "jQuery('#progress-bar-56a2cd74-9135-4acb-a0f4-2c61560d2623').val('73')"
       ],
       "metadata": {},
       "output_type": "display_data",
       "text": [
        "<IPython.core.display.Javascript at 0x1085a6710>"
       ]
      },
      {
       "javascript": [
        "jQuery('#progress-bar-56a2cd74-9135-4acb-a0f4-2c61560d2623').val('73')"
       ],
       "metadata": {},
       "output_type": "display_data",
       "text": [
        "<IPython.core.display.Javascript at 0x107f94610>"
       ]
      },
      {
       "javascript": [
        "jQuery('#progress-bar-56a2cd74-9135-4acb-a0f4-2c61560d2623').val('73')"
       ],
       "metadata": {},
       "output_type": "display_data",
       "text": [
        "<IPython.core.display.Javascript at 0x1085a6890>"
       ]
      },
      {
       "javascript": [
        "jQuery('#progress-bar-56a2cd74-9135-4acb-a0f4-2c61560d2623').val('74')"
       ],
       "metadata": {},
       "output_type": "display_data",
       "text": [
        "<IPython.core.display.Javascript at 0x107f94fd0>"
       ]
      },
      {
       "javascript": [
        "jQuery('#progress-bar-56a2cd74-9135-4acb-a0f4-2c61560d2623').val('74')"
       ],
       "metadata": {},
       "output_type": "display_data",
       "text": [
        "<IPython.core.display.Javascript at 0x1085a6490>"
       ]
      },
      {
       "javascript": [
        "jQuery('#progress-bar-56a2cd74-9135-4acb-a0f4-2c61560d2623').val('74')"
       ],
       "metadata": {},
       "output_type": "display_data",
       "text": [
        "<IPython.core.display.Javascript at 0x108588ad0>"
       ]
      },
      {
       "javascript": [
        "jQuery('#progress-bar-56a2cd74-9135-4acb-a0f4-2c61560d2623').val('75')"
       ],
       "metadata": {},
       "output_type": "display_data",
       "text": [
        "<IPython.core.display.Javascript at 0x1085a6990>"
       ]
      },
      {
       "javascript": [
        "jQuery('#progress-bar-56a2cd74-9135-4acb-a0f4-2c61560d2623').val('75')"
       ],
       "metadata": {},
       "output_type": "display_data",
       "text": [
        "<IPython.core.display.Javascript at 0x1080870d0>"
       ]
      },
      {
       "javascript": [
        "jQuery('#progress-bar-56a2cd74-9135-4acb-a0f4-2c61560d2623').val('75')"
       ],
       "metadata": {},
       "output_type": "display_data",
       "text": [
        "<IPython.core.display.Javascript at 0x1085a6f50>"
       ]
      },
      {
       "javascript": [
        "jQuery('#progress-bar-56a2cd74-9135-4acb-a0f4-2c61560d2623').val('76')"
       ],
       "metadata": {},
       "output_type": "display_data",
       "text": [
        "<IPython.core.display.Javascript at 0x107f94610>"
       ]
      },
      {
       "javascript": [
        "jQuery('#progress-bar-56a2cd74-9135-4acb-a0f4-2c61560d2623').val('76')"
       ],
       "metadata": {},
       "output_type": "display_data",
       "text": [
        "<IPython.core.display.Javascript at 0x1085a68d0>"
       ]
      },
      {
       "javascript": [
        "jQuery('#progress-bar-56a2cd74-9135-4acb-a0f4-2c61560d2623').val('76')"
       ],
       "metadata": {},
       "output_type": "display_data",
       "text": [
        "<IPython.core.display.Javascript at 0x1084f57d0>"
       ]
      },
      {
       "javascript": [
        "jQuery('#progress-bar-56a2cd74-9135-4acb-a0f4-2c61560d2623').val('77')"
       ],
       "metadata": {},
       "output_type": "display_data",
       "text": [
        "<IPython.core.display.Javascript at 0x10808b3d0>"
       ]
      },
      {
       "javascript": [
        "jQuery('#progress-bar-56a2cd74-9135-4acb-a0f4-2c61560d2623').val('77')"
       ],
       "metadata": {},
       "output_type": "display_data",
       "text": [
        "<IPython.core.display.Javascript at 0x1084f5e50>"
       ]
      },
      {
       "javascript": [
        "jQuery('#progress-bar-56a2cd74-9135-4acb-a0f4-2c61560d2623').val('77')"
       ],
       "metadata": {},
       "output_type": "display_data",
       "text": [
        "<IPython.core.display.Javascript at 0x107f94fd0>"
       ]
      },
      {
       "javascript": [
        "jQuery('#progress-bar-56a2cd74-9135-4acb-a0f4-2c61560d2623').val('78')"
       ],
       "metadata": {},
       "output_type": "display_data",
       "text": [
        "<IPython.core.display.Javascript at 0x108585890>"
       ]
      },
      {
       "javascript": [
        "jQuery('#progress-bar-56a2cd74-9135-4acb-a0f4-2c61560d2623').val('78')"
       ],
       "metadata": {},
       "output_type": "display_data",
       "text": [
        "<IPython.core.display.Javascript at 0x1085a6490>"
       ]
      },
      {
       "javascript": [
        "jQuery('#progress-bar-56a2cd74-9135-4acb-a0f4-2c61560d2623').val('78')"
       ],
       "metadata": {},
       "output_type": "display_data",
       "text": [
        "<IPython.core.display.Javascript at 0x108585190>"
       ]
      },
      {
       "javascript": [
        "jQuery('#progress-bar-56a2cd74-9135-4acb-a0f4-2c61560d2623').val('79')"
       ],
       "metadata": {},
       "output_type": "display_data",
       "text": [
        "<IPython.core.display.Javascript at 0x1084f5e50>"
       ]
      },
      {
       "javascript": [
        "jQuery('#progress-bar-56a2cd74-9135-4acb-a0f4-2c61560d2623').val('79')"
       ],
       "metadata": {},
       "output_type": "display_data",
       "text": [
        "<IPython.core.display.Javascript at 0x108585390>"
       ]
      },
      {
       "javascript": [
        "jQuery('#progress-bar-56a2cd74-9135-4acb-a0f4-2c61560d2623').val('79')"
       ],
       "metadata": {},
       "output_type": "display_data",
       "text": [
        "<IPython.core.display.Javascript at 0x107f94450>"
       ]
      },
      {
       "javascript": [
        "jQuery('#progress-bar-56a2cd74-9135-4acb-a0f4-2c61560d2623').val('80')"
       ],
       "metadata": {},
       "output_type": "display_data",
       "text": [
        "<IPython.core.display.Javascript at 0x108087050>"
       ]
      },
      {
       "javascript": [
        "jQuery('#progress-bar-56a2cd74-9135-4acb-a0f4-2c61560d2623').val('80')"
       ],
       "metadata": {},
       "output_type": "display_data",
       "text": [
        "<IPython.core.display.Javascript at 0x1085858d0>"
       ]
      },
      {
       "javascript": [
        "jQuery('#progress-bar-56a2cd74-9135-4acb-a0f4-2c61560d2623').val('80')"
       ],
       "metadata": {},
       "output_type": "display_data",
       "text": [
        "<IPython.core.display.Javascript at 0x107f94310>"
       ]
      },
      {
       "javascript": [
        "jQuery('#progress-bar-56a2cd74-9135-4acb-a0f4-2c61560d2623').val('81')"
       ],
       "metadata": {},
       "output_type": "display_data",
       "text": [
        "<IPython.core.display.Javascript at 0x108585950>"
       ]
      },
      {
       "javascript": [
        "jQuery('#progress-bar-56a2cd74-9135-4acb-a0f4-2c61560d2623').val('81')"
       ],
       "metadata": {},
       "output_type": "display_data",
       "text": [
        "<IPython.core.display.Javascript at 0x107f94bd0>"
       ]
      },
      {
       "javascript": [
        "jQuery('#progress-bar-56a2cd74-9135-4acb-a0f4-2c61560d2623').val('81')"
       ],
       "metadata": {},
       "output_type": "display_data",
       "text": [
        "<IPython.core.display.Javascript at 0x1085a6850>"
       ]
      },
      {
       "javascript": [
        "jQuery('#progress-bar-56a2cd74-9135-4acb-a0f4-2c61560d2623').val('82')"
       ],
       "metadata": {},
       "output_type": "display_data",
       "text": [
        "<IPython.core.display.Javascript at 0x10808b790>"
       ]
      },
      {
       "javascript": [
        "jQuery('#progress-bar-56a2cd74-9135-4acb-a0f4-2c61560d2623').val('82')"
       ],
       "metadata": {},
       "output_type": "display_data",
       "text": [
        "<IPython.core.display.Javascript at 0x1085855d0>"
       ]
      },
      {
       "javascript": [
        "jQuery('#progress-bar-56a2cd74-9135-4acb-a0f4-2c61560d2623').val('82')"
       ],
       "metadata": {},
       "output_type": "display_data",
       "text": [
        "<IPython.core.display.Javascript at 0x107f94a10>"
       ]
      },
      {
       "javascript": [
        "jQuery('#progress-bar-56a2cd74-9135-4acb-a0f4-2c61560d2623').val('83')"
       ],
       "metadata": {},
       "output_type": "display_data",
       "text": [
        "<IPython.core.display.Javascript at 0x1085a6850>"
       ]
      },
      {
       "javascript": [
        "jQuery('#progress-bar-56a2cd74-9135-4acb-a0f4-2c61560d2623').val('83')"
       ],
       "metadata": {},
       "output_type": "display_data",
       "text": [
        "<IPython.core.display.Javascript at 0x1084e74d0>"
       ]
      },
      {
       "javascript": [
        "jQuery('#progress-bar-56a2cd74-9135-4acb-a0f4-2c61560d2623').val('83')"
       ],
       "metadata": {},
       "output_type": "display_data",
       "text": [
        "<IPython.core.display.Javascript at 0x10808bb90>"
       ]
      },
      {
       "javascript": [
        "jQuery('#progress-bar-56a2cd74-9135-4acb-a0f4-2c61560d2623').val('84')"
       ],
       "metadata": {},
       "output_type": "display_data",
       "text": [
        "<IPython.core.display.Javascript at 0x107f94fd0>"
       ]
      },
      {
       "javascript": [
        "jQuery('#progress-bar-56a2cd74-9135-4acb-a0f4-2c61560d2623').val('84')"
       ],
       "metadata": {},
       "output_type": "display_data",
       "text": [
        "<IPython.core.display.Javascript at 0x10808b710>"
       ]
      },
      {
       "javascript": [
        "jQuery('#progress-bar-56a2cd74-9135-4acb-a0f4-2c61560d2623').val('84')"
       ],
       "metadata": {},
       "output_type": "display_data",
       "text": [
        "<IPython.core.display.Javascript at 0x1084e7790>"
       ]
      },
      {
       "javascript": [
        "jQuery('#progress-bar-56a2cd74-9135-4acb-a0f4-2c61560d2623').val('85')"
       ],
       "metadata": {},
       "output_type": "display_data",
       "text": [
        "<IPython.core.display.Javascript at 0x108585750>"
       ]
      },
      {
       "javascript": [
        "jQuery('#progress-bar-56a2cd74-9135-4acb-a0f4-2c61560d2623').val('85')"
       ],
       "metadata": {},
       "output_type": "display_data",
       "text": [
        "<IPython.core.display.Javascript at 0x108087810>"
       ]
      },
      {
       "javascript": [
        "jQuery('#progress-bar-56a2cd74-9135-4acb-a0f4-2c61560d2623').val('85')"
       ],
       "metadata": {},
       "output_type": "display_data",
       "text": [
        "<IPython.core.display.Javascript at 0x108585750>"
       ]
      },
      {
       "javascript": [
        "jQuery('#progress-bar-56a2cd74-9135-4acb-a0f4-2c61560d2623').val('86')"
       ],
       "metadata": {},
       "output_type": "display_data",
       "text": [
        "<IPython.core.display.Javascript at 0x108585390>"
       ]
      },
      {
       "javascript": [
        "jQuery('#progress-bar-56a2cd74-9135-4acb-a0f4-2c61560d2623').val('86')"
       ],
       "metadata": {},
       "output_type": "display_data",
       "text": [
        "<IPython.core.display.Javascript at 0x10808bd90>"
       ]
      },
      {
       "javascript": [
        "jQuery('#progress-bar-56a2cd74-9135-4acb-a0f4-2c61560d2623').val('86')"
       ],
       "metadata": {},
       "output_type": "display_data",
       "text": [
        "<IPython.core.display.Javascript at 0x1085857d0>"
       ]
      },
      {
       "javascript": [
        "jQuery('#progress-bar-56a2cd74-9135-4acb-a0f4-2c61560d2623').val('87')"
       ],
       "metadata": {},
       "output_type": "display_data",
       "text": [
        "<IPython.core.display.Javascript at 0x1084e74d0>"
       ]
      },
      {
       "javascript": [
        "jQuery('#progress-bar-56a2cd74-9135-4acb-a0f4-2c61560d2623').val('87')"
       ],
       "metadata": {},
       "output_type": "display_data",
       "text": [
        "<IPython.core.display.Javascript at 0x106fbb550>"
       ]
      },
      {
       "javascript": [
        "jQuery('#progress-bar-56a2cd74-9135-4acb-a0f4-2c61560d2623').val('87')"
       ],
       "metadata": {},
       "output_type": "display_data",
       "text": [
        "<IPython.core.display.Javascript at 0x108585190>"
       ]
      },
      {
       "javascript": [
        "jQuery('#progress-bar-56a2cd74-9135-4acb-a0f4-2c61560d2623').val('88')"
       ],
       "metadata": {},
       "output_type": "display_data",
       "text": [
        "<IPython.core.display.Javascript at 0x108585e10>"
       ]
      },
      {
       "javascript": [
        "jQuery('#progress-bar-56a2cd74-9135-4acb-a0f4-2c61560d2623').val('88')"
       ],
       "metadata": {},
       "output_type": "display_data",
       "text": [
        "<IPython.core.display.Javascript at 0x1085856d0>"
       ]
      },
      {
       "javascript": [
        "jQuery('#progress-bar-56a2cd74-9135-4acb-a0f4-2c61560d2623').val('88')"
       ],
       "metadata": {},
       "output_type": "display_data",
       "text": [
        "<IPython.core.display.Javascript at 0x107f94450>"
       ]
      },
      {
       "javascript": [
        "jQuery('#progress-bar-56a2cd74-9135-4acb-a0f4-2c61560d2623').val('89')"
       ],
       "metadata": {},
       "output_type": "display_data",
       "text": [
        "<IPython.core.display.Javascript at 0x108585190>"
       ]
      },
      {
       "javascript": [
        "jQuery('#progress-bar-56a2cd74-9135-4acb-a0f4-2c61560d2623').val('89')"
       ],
       "metadata": {},
       "output_type": "display_data",
       "text": [
        "<IPython.core.display.Javascript at 0x107f94a10>"
       ]
      },
      {
       "javascript": [
        "jQuery('#progress-bar-56a2cd74-9135-4acb-a0f4-2c61560d2623').val('89')"
       ],
       "metadata": {},
       "output_type": "display_data",
       "text": [
        "<IPython.core.display.Javascript at 0x1085a6f90>"
       ]
      },
      {
       "javascript": [
        "jQuery('#progress-bar-56a2cd74-9135-4acb-a0f4-2c61560d2623').val('90')"
       ],
       "metadata": {},
       "output_type": "display_data",
       "text": [
        "<IPython.core.display.Javascript at 0x108585850>"
       ]
      },
      {
       "javascript": [
        "jQuery('#progress-bar-56a2cd74-9135-4acb-a0f4-2c61560d2623').val('90')"
       ],
       "metadata": {},
       "output_type": "display_data",
       "text": [
        "<IPython.core.display.Javascript at 0x108585050>"
       ]
      },
      {
       "javascript": [
        "jQuery('#progress-bar-56a2cd74-9135-4acb-a0f4-2c61560d2623').val('90')"
       ],
       "metadata": {},
       "output_type": "display_data",
       "text": [
        "<IPython.core.display.Javascript at 0x108585d90>"
       ]
      },
      {
       "javascript": [
        "jQuery('#progress-bar-56a2cd74-9135-4acb-a0f4-2c61560d2623').val('91')"
       ],
       "metadata": {},
       "output_type": "display_data",
       "text": [
        "<IPython.core.display.Javascript at 0x1085858d0>"
       ]
      },
      {
       "javascript": [
        "jQuery('#progress-bar-56a2cd74-9135-4acb-a0f4-2c61560d2623').val('91')"
       ],
       "metadata": {},
       "output_type": "display_data",
       "text": [
        "<IPython.core.display.Javascript at 0x107f94450>"
       ]
      },
      {
       "javascript": [
        "jQuery('#progress-bar-56a2cd74-9135-4acb-a0f4-2c61560d2623').val('91')"
       ],
       "metadata": {},
       "output_type": "display_data",
       "text": [
        "<IPython.core.display.Javascript at 0x107f94fd0>"
       ]
      },
      {
       "javascript": [
        "jQuery('#progress-bar-56a2cd74-9135-4acb-a0f4-2c61560d2623').val('92')"
       ],
       "metadata": {},
       "output_type": "display_data",
       "text": [
        "<IPython.core.display.Javascript at 0x107f94a10>"
       ]
      },
      {
       "javascript": [
        "jQuery('#progress-bar-56a2cd74-9135-4acb-a0f4-2c61560d2623').val('92')"
       ],
       "metadata": {},
       "output_type": "display_data",
       "text": [
        "<IPython.core.display.Javascript at 0x1085859d0>"
       ]
      },
      {
       "javascript": [
        "jQuery('#progress-bar-56a2cd74-9135-4acb-a0f4-2c61560d2623').val('92')"
       ],
       "metadata": {},
       "output_type": "display_data",
       "text": [
        "<IPython.core.display.Javascript at 0x108585850>"
       ]
      },
      {
       "javascript": [
        "jQuery('#progress-bar-56a2cd74-9135-4acb-a0f4-2c61560d2623').val('93')"
       ],
       "metadata": {},
       "output_type": "display_data",
       "text": [
        "<IPython.core.display.Javascript at 0x108585790>"
       ]
      },
      {
       "javascript": [
        "jQuery('#progress-bar-56a2cd74-9135-4acb-a0f4-2c61560d2623').val('93')"
       ],
       "metadata": {},
       "output_type": "display_data",
       "text": [
        "<IPython.core.display.Javascript at 0x1084f5e50>"
       ]
      },
      {
       "javascript": [
        "jQuery('#progress-bar-56a2cd74-9135-4acb-a0f4-2c61560d2623').val('93')"
       ],
       "metadata": {},
       "output_type": "display_data",
       "text": [
        "<IPython.core.display.Javascript at 0x1085856d0>"
       ]
      },
      {
       "javascript": [
        "jQuery('#progress-bar-56a2cd74-9135-4acb-a0f4-2c61560d2623').val('94')"
       ],
       "metadata": {},
       "output_type": "display_data",
       "text": [
        "<IPython.core.display.Javascript at 0x107f94550>"
       ]
      },
      {
       "javascript": [
        "jQuery('#progress-bar-56a2cd74-9135-4acb-a0f4-2c61560d2623').val('94')"
       ],
       "metadata": {},
       "output_type": "display_data",
       "text": [
        "<IPython.core.display.Javascript at 0x108585390>"
       ]
      },
      {
       "javascript": [
        "jQuery('#progress-bar-56a2cd74-9135-4acb-a0f4-2c61560d2623').val('94')"
       ],
       "metadata": {},
       "output_type": "display_data",
       "text": [
        "<IPython.core.display.Javascript at 0x107f94190>"
       ]
      },
      {
       "javascript": [
        "jQuery('#progress-bar-56a2cd74-9135-4acb-a0f4-2c61560d2623').val('95')"
       ],
       "metadata": {},
       "output_type": "display_data",
       "text": [
        "<IPython.core.display.Javascript at 0x108585a10>"
       ]
      },
      {
       "javascript": [
        "jQuery('#progress-bar-56a2cd74-9135-4acb-a0f4-2c61560d2623').val('95')"
       ],
       "metadata": {},
       "output_type": "display_data",
       "text": [
        "<IPython.core.display.Javascript at 0x1084f5e50>"
       ]
      },
      {
       "javascript": [
        "jQuery('#progress-bar-56a2cd74-9135-4acb-a0f4-2c61560d2623').val('95')"
       ],
       "metadata": {},
       "output_type": "display_data",
       "text": [
        "<IPython.core.display.Javascript at 0x1085a6510>"
       ]
      },
      {
       "javascript": [
        "jQuery('#progress-bar-56a2cd74-9135-4acb-a0f4-2c61560d2623').val('96')"
       ],
       "metadata": {},
       "output_type": "display_data",
       "text": [
        "<IPython.core.display.Javascript at 0x108588250>"
       ]
      },
      {
       "javascript": [
        "jQuery('#progress-bar-56a2cd74-9135-4acb-a0f4-2c61560d2623').val('96')"
       ],
       "metadata": {},
       "output_type": "display_data",
       "text": [
        "<IPython.core.display.Javascript at 0x1085a6390>"
       ]
      },
      {
       "javascript": [
        "jQuery('#progress-bar-56a2cd74-9135-4acb-a0f4-2c61560d2623').val('96')"
       ],
       "metadata": {},
       "output_type": "display_data",
       "text": [
        "<IPython.core.display.Javascript at 0x1085a6ad0>"
       ]
      },
      {
       "javascript": [
        "jQuery('#progress-bar-56a2cd74-9135-4acb-a0f4-2c61560d2623').val('97')"
       ],
       "metadata": {},
       "output_type": "display_data",
       "text": [
        "<IPython.core.display.Javascript at 0x1085a6410>"
       ]
      },
      {
       "javascript": [
        "jQuery('#progress-bar-56a2cd74-9135-4acb-a0f4-2c61560d2623').val('97')"
       ],
       "metadata": {},
       "output_type": "display_data",
       "text": [
        "<IPython.core.display.Javascript at 0x108588410>"
       ]
      },
      {
       "javascript": [
        "jQuery('#progress-bar-56a2cd74-9135-4acb-a0f4-2c61560d2623').val('97')"
       ],
       "metadata": {},
       "output_type": "display_data",
       "text": [
        "<IPython.core.display.Javascript at 0x108585d90>"
       ]
      },
      {
       "javascript": [
        "jQuery('#progress-bar-56a2cd74-9135-4acb-a0f4-2c61560d2623').val('98')"
       ],
       "metadata": {},
       "output_type": "display_data",
       "text": [
        "<IPython.core.display.Javascript at 0x1085a6c50>"
       ]
      },
      {
       "javascript": [
        "jQuery('#progress-bar-56a2cd74-9135-4acb-a0f4-2c61560d2623').val('98')"
       ],
       "metadata": {},
       "output_type": "display_data",
       "text": [
        "<IPython.core.display.Javascript at 0x108585890>"
       ]
      },
      {
       "javascript": [
        "jQuery('#progress-bar-56a2cd74-9135-4acb-a0f4-2c61560d2623').val('98')"
       ],
       "metadata": {},
       "output_type": "display_data",
       "text": [
        "<IPython.core.display.Javascript at 0x1085a6450>"
       ]
      },
      {
       "javascript": [
        "jQuery('#progress-bar-56a2cd74-9135-4acb-a0f4-2c61560d2623').val('99')"
       ],
       "metadata": {},
       "output_type": "display_data",
       "text": [
        "<IPython.core.display.Javascript at 0x1085a6cd0>"
       ]
      },
      {
       "javascript": [
        "jQuery('#progress-bar-56a2cd74-9135-4acb-a0f4-2c61560d2623').val('99')"
       ],
       "metadata": {},
       "output_type": "display_data",
       "text": [
        "<IPython.core.display.Javascript at 0x1080875d0>"
       ]
      },
      {
       "javascript": [
        "jQuery('#progress-bar-56a2cd74-9135-4acb-a0f4-2c61560d2623').val('99')"
       ],
       "metadata": {},
       "output_type": "display_data",
       "text": [
        "<IPython.core.display.Javascript at 0x1085856d0>"
       ]
      },
      {
       "javascript": [
        "jQuery('#progress-bar-56a2cd74-9135-4acb-a0f4-2c61560d2623').val('100')"
       ],
       "metadata": {},
       "output_type": "display_data",
       "text": [
        "<IPython.core.display.Javascript at 0x1084e7710>"
       ]
      },
      {
       "output_type": "stream",
       "stream": "stderr",
       "text": [
        "CPLEX Error  1217: No solution exists.\n"
       ]
      },
      {
       "ename": "CplexSolverError",
       "evalue": "CPLEX Error  1217: No solution exists.\n",
       "output_type": "pyerr",
       "traceback": [
        "\u001b[0;31m---------------------------------------------------------------------------\u001b[0m\n\u001b[0;31mCplexSolverError\u001b[0m                          Traceback (most recent call last)",
        "\u001b[0;32m<ipython-input-5-44fd2303f30f>\u001b[0m in \u001b[0;36m<module>\u001b[0;34m()\u001b[0m\n\u001b[0;32m----> 1\u001b[0;31m \u001b[0mko\u001b[0m\u001b[0;34m.\u001b[0m\u001b[0mrun\u001b[0m\u001b[0;34m(\u001b[0m\u001b[0mmax_evaluations\u001b[0m\u001b[0;34m=\u001b[0m\u001b[0;36m30000\u001b[0m\u001b[0;34m,\u001b[0m \u001b[0mn\u001b[0m\u001b[0;34m=\u001b[0m\u001b[0;36m1\u001b[0m\u001b[0;34m,\u001b[0m \u001b[0mmutation_rate\u001b[0m\u001b[0;34m=\u001b[0m\u001b[0;36m0.15\u001b[0m\u001b[0;34m)\u001b[0m\u001b[0;34m\u001b[0m\u001b[0m\n\u001b[0m",
        "\u001b[0;32m/Users/joao/Documents/repos/cameo/cameo/strain_design/heuristics/__init__.pyc\u001b[0m in \u001b[0;36mrun\u001b[0;34m(self, **kwargs)\u001b[0m\n\u001b[1;32m    274\u001b[0m         return KnockoutOptimizationResult(self.model, self.heuristic_method, self.simulation_method,\n\u001b[1;32m    275\u001b[0m                                           \u001b[0mself\u001b[0m\u001b[0;34m.\u001b[0m\u001b[0mheuristic_method\u001b[0m\u001b[0;34m.\u001b[0m\u001b[0marchive\u001b[0m\u001b[0;34m,\u001b[0m \u001b[0mself\u001b[0m\u001b[0;34m.\u001b[0m\u001b[0mobjective_function\u001b[0m\u001b[0;34m,\u001b[0m\u001b[0;34m\u001b[0m\u001b[0m\n\u001b[0;32m--> 276\u001b[0;31m                                           self.ko_type, self._decoder)\n\u001b[0m\u001b[1;32m    277\u001b[0m \u001b[0;34m\u001b[0m\u001b[0m\n\u001b[1;32m    278\u001b[0m \u001b[0;34m\u001b[0m\u001b[0m\n",
        "\u001b[0;32m/Users/joao/Documents/repos/cameo/cameo/strain_design/heuristics/__init__.pyc\u001b[0m in \u001b[0;36m__init__\u001b[0;34m(self, model, heuristic_method, simulation_method, solutions, objective_function, ko_type, decoder, *args, **kwargs)\u001b[0m\n\u001b[1;32m    322\u001b[0m         \u001b[0mself\u001b[0m\u001b[0;34m.\u001b[0m\u001b[0mko_type\u001b[0m \u001b[0;34m=\u001b[0m \u001b[0mko_type\u001b[0m\u001b[0;34m\u001b[0m\u001b[0m\n\u001b[1;32m    323\u001b[0m         \u001b[0mself\u001b[0m\u001b[0;34m.\u001b[0m\u001b[0mdecoder\u001b[0m \u001b[0;34m=\u001b[0m \u001b[0mdecoder\u001b[0m\u001b[0;34m\u001b[0m\u001b[0m\n\u001b[0;32m--> 324\u001b[0;31m         \u001b[0mself\u001b[0m\u001b[0;34m.\u001b[0m\u001b[0msolutions\u001b[0m \u001b[0;34m=\u001b[0m \u001b[0;34m[\u001b[0m\u001b[0mself\u001b[0m\u001b[0;34m.\u001b[0m\u001b[0m_build_solution\u001b[0m\u001b[0;34m(\u001b[0m\u001b[0ms\u001b[0m\u001b[0;34m,\u001b[0m \u001b[0mmodel\u001b[0m\u001b[0;34m,\u001b[0m \u001b[0msimulation_method\u001b[0m\u001b[0;34m,\u001b[0m \u001b[0mdecoder\u001b[0m\u001b[0;34m)\u001b[0m \u001b[0;32mfor\u001b[0m \u001b[0ms\u001b[0m \u001b[0;32min\u001b[0m \u001b[0msolutions\u001b[0m\u001b[0;34m]\u001b[0m\u001b[0;34m\u001b[0m\u001b[0m\n\u001b[0m\u001b[1;32m    325\u001b[0m \u001b[0;34m\u001b[0m\u001b[0m\n\u001b[1;32m    326\u001b[0m     \u001b[0;32mdef\u001b[0m \u001b[0m_build_solution\u001b[0m\u001b[0;34m(\u001b[0m\u001b[0mself\u001b[0m\u001b[0;34m,\u001b[0m \u001b[0msolution\u001b[0m\u001b[0;34m,\u001b[0m \u001b[0mmodel\u001b[0m\u001b[0;34m,\u001b[0m \u001b[0msimulation_method\u001b[0m\u001b[0;34m,\u001b[0m \u001b[0mdecoder\u001b[0m\u001b[0;34m)\u001b[0m\u001b[0;34m:\u001b[0m\u001b[0;34m\u001b[0m\u001b[0m\n",
        "\u001b[0;32m/Users/joao/Documents/repos/cameo/cameo/strain_design/heuristics/__init__.pyc\u001b[0m in \u001b[0;36m_build_solution\u001b[0;34m(self, solution, model, simulation_method, decoder)\u001b[0m\n\u001b[1;32m    329\u001b[0m             \u001b[0mmodel\u001b[0m\u001b[0;34m,\u001b[0m\u001b[0;34m\u001b[0m\u001b[0m\n\u001b[1;32m    330\u001b[0m             \u001b[0msimulation_method\u001b[0m\u001b[0;34m,\u001b[0m\u001b[0;34m\u001b[0m\u001b[0m\n\u001b[0;32m--> 331\u001b[0;31m             \u001b[0mdecoder\u001b[0m\u001b[0;34m\u001b[0m\u001b[0m\n\u001b[0m\u001b[1;32m    332\u001b[0m         )\n\u001b[1;32m    333\u001b[0m \u001b[0;34m\u001b[0m\u001b[0m\n",
        "\u001b[0;32m/Users/joao/Documents/repos/cameo/cameo/strain_design/heuristics/__init__.pyc\u001b[0m in \u001b[0;36m__init__\u001b[0;34m(self, solution, model, simulation_method, decoder, *args, **kwargs)\u001b[0m\n\u001b[1;32m    284\u001b[0m             \u001b[0mself\u001b[0m\u001b[0;34m.\u001b[0m\u001b[0mknockout_list\u001b[0m \u001b[0;34m=\u001b[0m \u001b[0mdecoded_solution\u001b[0m\u001b[0;34m[\u001b[0m\u001b[0;36m1\u001b[0m\u001b[0;34m]\u001b[0m\u001b[0;34m\u001b[0m\u001b[0m\n\u001b[1;32m    285\u001b[0m             \u001b[0mresult\u001b[0m \u001b[0;34m=\u001b[0m \u001b[0mself\u001b[0m\u001b[0;34m.\u001b[0m\u001b[0m_simulate\u001b[0m\u001b[0;34m(\u001b[0m\u001b[0mdecoded_solution\u001b[0m\u001b[0;34m[\u001b[0m\u001b[0;36m0\u001b[0m\u001b[0;34m]\u001b[0m\u001b[0;34m,\u001b[0m \u001b[0msimulation_method\u001b[0m\u001b[0;34m,\u001b[0m \u001b[0mmodel\u001b[0m\u001b[0;34m)\u001b[0m\u001b[0;34m\u001b[0m\u001b[0m\n\u001b[0;32m--> 286\u001b[0;31m             \u001b[0mself\u001b[0m\u001b[0;34m.\u001b[0m\u001b[0mbiomass\u001b[0m \u001b[0;34m=\u001b[0m \u001b[0mresult\u001b[0m\u001b[0;34m.\u001b[0m\u001b[0mf\u001b[0m\u001b[0;34m\u001b[0m\u001b[0m\n\u001b[0m\u001b[1;32m    287\u001b[0m             \u001b[0mself\u001b[0m\u001b[0;34m.\u001b[0m\u001b[0mfitness\u001b[0m \u001b[0;34m=\u001b[0m \u001b[0msolution\u001b[0m\u001b[0;34m.\u001b[0m\u001b[0mfitness\u001b[0m\u001b[0;34m\u001b[0m\u001b[0m\n\u001b[1;32m    288\u001b[0m \u001b[0;34m\u001b[0m\u001b[0m\n",
        "\u001b[0;32m/Users/joao/Documents/repos/cameo/cameo/solver_based_model.pyc\u001b[0m in \u001b[0;36mf\u001b[0;34m(self)\u001b[0m\n\u001b[1;32m     83\u001b[0m         \u001b[0mself\u001b[0m\u001b[0;34m.\u001b[0m\u001b[0m_check_freshness\u001b[0m\u001b[0;34m(\u001b[0m\u001b[0;34m)\u001b[0m\u001b[0;34m\u001b[0m\u001b[0m\n\u001b[1;32m     84\u001b[0m         \u001b[0;32mif\u001b[0m \u001b[0mself\u001b[0m\u001b[0;34m.\u001b[0m\u001b[0m_f\u001b[0m \u001b[0;32mis\u001b[0m \u001b[0mNone\u001b[0m\u001b[0;34m:\u001b[0m\u001b[0;34m\u001b[0m\u001b[0m\n\u001b[0;32m---> 85\u001b[0;31m             \u001b[0;32mreturn\u001b[0m \u001b[0mself\u001b[0m\u001b[0;34m.\u001b[0m\u001b[0mmodel\u001b[0m\u001b[0;34m.\u001b[0m\u001b[0msolver\u001b[0m\u001b[0;34m.\u001b[0m\u001b[0mobjective\u001b[0m\u001b[0;34m.\u001b[0m\u001b[0mvalue\u001b[0m\u001b[0;34m\u001b[0m\u001b[0m\n\u001b[0m\u001b[1;32m     86\u001b[0m         \u001b[0;32melse\u001b[0m\u001b[0;34m:\u001b[0m\u001b[0;34m\u001b[0m\u001b[0m\n\u001b[1;32m     87\u001b[0m             \u001b[0;32mreturn\u001b[0m \u001b[0mself\u001b[0m\u001b[0;34m.\u001b[0m\u001b[0m_f\u001b[0m\u001b[0;34m\u001b[0m\u001b[0m\n",
        "\u001b[0;32m/Users/joao/Documents/repos/optlang/optlang/cplex_interface.py\u001b[0m in \u001b[0;36mvalue\u001b[0;34m(self)\u001b[0m\n\u001b[1;32m    182\u001b[0m     \u001b[0;34m@\u001b[0m\u001b[0mproperty\u001b[0m\u001b[0;34m\u001b[0m\u001b[0m\n\u001b[1;32m    183\u001b[0m     \u001b[0;32mdef\u001b[0m \u001b[0mvalue\u001b[0m\u001b[0;34m(\u001b[0m\u001b[0mself\u001b[0m\u001b[0;34m)\u001b[0m\u001b[0;34m:\u001b[0m\u001b[0;34m\u001b[0m\u001b[0m\n\u001b[0;32m--> 184\u001b[0;31m         \u001b[0;32mreturn\u001b[0m \u001b[0mself\u001b[0m\u001b[0;34m.\u001b[0m\u001b[0mproblem\u001b[0m\u001b[0;34m.\u001b[0m\u001b[0mproblem\u001b[0m\u001b[0;34m.\u001b[0m\u001b[0msolution\u001b[0m\u001b[0;34m.\u001b[0m\u001b[0mget_objective_value\u001b[0m\u001b[0;34m(\u001b[0m\u001b[0;34m)\u001b[0m\u001b[0;34m\u001b[0m\u001b[0m\n\u001b[0m\u001b[1;32m    185\u001b[0m \u001b[0;34m\u001b[0m\u001b[0m\n\u001b[1;32m    186\u001b[0m     \u001b[0;32mdef\u001b[0m \u001b[0m__setattr__\u001b[0m\u001b[0;34m(\u001b[0m\u001b[0mself\u001b[0m\u001b[0;34m,\u001b[0m \u001b[0mname\u001b[0m\u001b[0;34m,\u001b[0m \u001b[0mvalue\u001b[0m\u001b[0;34m)\u001b[0m\u001b[0;34m:\u001b[0m\u001b[0;34m\u001b[0m\u001b[0m\n",
        "\u001b[0;32m/Users/joao/.virtualenvs/cameo-env/lib/python2.7/site-packages/cplex/_internal/_subinterfaces.pyc\u001b[0m in \u001b[0;36mget_objective_value\u001b[0;34m(self)\u001b[0m\n\u001b[1;32m   7228\u001b[0m \u001b[0;34m\u001b[0m\u001b[0m\n\u001b[1;32m   7229\u001b[0m         \"\"\"\n\u001b[0;32m-> 7230\u001b[0;31m         \u001b[0;32mreturn\u001b[0m \u001b[0mCPX_PROC\u001b[0m\u001b[0;34m.\u001b[0m\u001b[0mgetobjval\u001b[0m\u001b[0;34m(\u001b[0m\u001b[0mself\u001b[0m\u001b[0;34m.\u001b[0m\u001b[0m_env\u001b[0m\u001b[0;34m.\u001b[0m\u001b[0m_e\u001b[0m\u001b[0;34m,\u001b[0m \u001b[0mself\u001b[0m\u001b[0;34m.\u001b[0m\u001b[0m_cplex\u001b[0m\u001b[0;34m.\u001b[0m\u001b[0m_lp\u001b[0m\u001b[0;34m)\u001b[0m\u001b[0;34m\u001b[0m\u001b[0m\n\u001b[0m\u001b[1;32m   7231\u001b[0m \u001b[0;34m\u001b[0m\u001b[0m\n\u001b[1;32m   7232\u001b[0m     \u001b[0;32mdef\u001b[0m \u001b[0mget_values\u001b[0m\u001b[0;34m(\u001b[0m\u001b[0mself\u001b[0m\u001b[0;34m,\u001b[0m \u001b[0;34m*\u001b[0m\u001b[0margs\u001b[0m\u001b[0;34m)\u001b[0m\u001b[0;34m:\u001b[0m\u001b[0;34m\u001b[0m\u001b[0m\n",
        "\u001b[0;32m/Users/joao/.virtualenvs/cameo-env/lib/python2.7/site-packages/cplex/_internal/_procedural.pyc\u001b[0m in \u001b[0;36mgetobjval\u001b[0;34m(env, lp)\u001b[0m\n\u001b[1;32m   1389\u001b[0m     \u001b[0mobjval\u001b[0m \u001b[0;34m=\u001b[0m \u001b[0mCR\u001b[0m\u001b[0;34m.\u001b[0m\u001b[0mdoublePtr\u001b[0m\u001b[0;34m(\u001b[0m\u001b[0;34m)\u001b[0m\u001b[0;34m\u001b[0m\u001b[0m\n\u001b[1;32m   1390\u001b[0m     \u001b[0mstatus\u001b[0m \u001b[0;34m=\u001b[0m \u001b[0mCR\u001b[0m\u001b[0;34m.\u001b[0m\u001b[0mCPXXgetobjval\u001b[0m\u001b[0;34m(\u001b[0m\u001b[0menv\u001b[0m\u001b[0;34m,\u001b[0m \u001b[0mlp\u001b[0m\u001b[0;34m,\u001b[0m \u001b[0mobjval\u001b[0m\u001b[0;34m)\u001b[0m\u001b[0;34m\u001b[0m\u001b[0m\n\u001b[0;32m-> 1391\u001b[0;31m     \u001b[0mcheck_status\u001b[0m\u001b[0;34m(\u001b[0m\u001b[0menv\u001b[0m\u001b[0;34m,\u001b[0m \u001b[0mstatus\u001b[0m\u001b[0;34m)\u001b[0m\u001b[0;34m\u001b[0m\u001b[0m\n\u001b[0m\u001b[1;32m   1392\u001b[0m     \u001b[0;32mreturn\u001b[0m \u001b[0mobjval\u001b[0m\u001b[0;34m.\u001b[0m\u001b[0mvalue\u001b[0m\u001b[0;34m(\u001b[0m\u001b[0;34m)\u001b[0m\u001b[0;34m\u001b[0m\u001b[0m\n\u001b[1;32m   1393\u001b[0m \u001b[0;34m\u001b[0m\u001b[0m\n",
        "\u001b[0;32m/Users/joao/.virtualenvs/cameo-env/lib/python2.7/site-packages/cplex/_internal/_procedural.pyc\u001b[0m in \u001b[0;36m__call__\u001b[0;34m(self, env, status, from_cb)\u001b[0m\n\u001b[1;32m    115\u001b[0m                 \u001b[0;32melse\u001b[0m\u001b[0;34m:\u001b[0m\u001b[0;34m\u001b[0m\u001b[0m\n\u001b[1;32m    116\u001b[0m                     \u001b[0merror_string\u001b[0m \u001b[0;34m=\u001b[0m \u001b[0mgeterrorstring\u001b[0m\u001b[0;34m(\u001b[0m\u001b[0menv\u001b[0m\u001b[0;34m,\u001b[0m \u001b[0mstatus\u001b[0m\u001b[0;34m)\u001b[0m\u001b[0;34m\u001b[0m\u001b[0m\n\u001b[0;32m--> 117\u001b[0;31m             \u001b[0;32mraise\u001b[0m \u001b[0mCplexSolverError\u001b[0m\u001b[0;34m(\u001b[0m\u001b[0merror_string\u001b[0m\u001b[0;34m,\u001b[0m \u001b[0menv\u001b[0m\u001b[0;34m,\u001b[0m \u001b[0mstatus\u001b[0m\u001b[0;34m)\u001b[0m\u001b[0;34m\u001b[0m\u001b[0m\n\u001b[0m\u001b[1;32m    118\u001b[0m \u001b[0;34m\u001b[0m\u001b[0m\n\u001b[1;32m    119\u001b[0m \u001b[0mcheck_status\u001b[0m \u001b[0;34m=\u001b[0m \u001b[0mStatusChecker\u001b[0m\u001b[0;34m(\u001b[0m\u001b[0;34m)\u001b[0m\u001b[0;34m\u001b[0m\u001b[0m\n",
        "\u001b[0;31mCplexSolverError\u001b[0m: CPLEX Error  1217: No solution exists.\n"
       ]
      }
     ],
     "prompt_number": 5
    },
    {
     "cell_type": "code",
     "collapsed": false,
     "input": [
      "model.solver.problem.solution.get_status()"
     ],
     "language": "python",
     "metadata": {},
     "outputs": [
      {
       "metadata": {},
       "output_type": "pyout",
       "prompt_number": 12,
       "text": [
        "0"
       ]
      }
     ],
     "prompt_number": 12
    },
    {
     "cell_type": "code",
     "collapsed": false,
     "input": [
      "s.biomass"
     ],
     "language": "python",
     "metadata": {},
     "outputs": [
      {
       "metadata": {},
       "output_type": "pyout",
       "prompt_number": 10,
       "text": [
        "0.9027050738651825"
       ]
      }
     ],
     "prompt_number": 10
    },
    {
     "cell_type": "code",
     "collapsed": false,
     "input": [
      "for v in model.solver.variables.values():\n",
      "    print v.primal"
     ],
     "language": "python",
     "metadata": {},
     "outputs": [
      {
       "output_type": "stream",
       "stream": "stderr",
       "text": [
        "CPLEX Error  1217: No solution exists.\n"
       ]
      },
      {
       "ename": "CplexSolverError",
       "evalue": "CPLEX Error  1217: No solution exists.\n",
       "output_type": "pyerr",
       "traceback": [
        "\u001b[0;31m---------------------------------------------------------------------------\u001b[0m\n\u001b[0;31mCplexSolverError\u001b[0m                          Traceback (most recent call last)",
        "\u001b[0;32m<ipython-input-13-829a87850ec3>\u001b[0m in \u001b[0;36m<module>\u001b[0;34m()\u001b[0m\n\u001b[1;32m      1\u001b[0m \u001b[0;32mfor\u001b[0m \u001b[0mv\u001b[0m \u001b[0;32min\u001b[0m \u001b[0mmodel\u001b[0m\u001b[0;34m.\u001b[0m\u001b[0msolver\u001b[0m\u001b[0;34m.\u001b[0m\u001b[0mvariables\u001b[0m\u001b[0;34m.\u001b[0m\u001b[0mvalues\u001b[0m\u001b[0;34m(\u001b[0m\u001b[0;34m)\u001b[0m\u001b[0;34m:\u001b[0m\u001b[0;34m\u001b[0m\u001b[0m\n\u001b[0;32m----> 2\u001b[0;31m     \u001b[0;32mprint\u001b[0m \u001b[0mv\u001b[0m\u001b[0;34m.\u001b[0m\u001b[0mprimal\u001b[0m\u001b[0;34m\u001b[0m\u001b[0m\n\u001b[0m",
        "\u001b[0;32m/Users/joao/Documents/repos/optlang/optlang/cplex_interface.py\u001b[0m in \u001b[0;36mprimal\u001b[0;34m(self)\u001b[0m\n\u001b[1;32m    138\u001b[0m     \u001b[0;34m@\u001b[0m\u001b[0mproperty\u001b[0m\u001b[0;34m\u001b[0m\u001b[0m\n\u001b[1;32m    139\u001b[0m     \u001b[0;32mdef\u001b[0m \u001b[0mprimal\u001b[0m\u001b[0;34m(\u001b[0m\u001b[0mself\u001b[0m\u001b[0;34m)\u001b[0m\u001b[0;34m:\u001b[0m\u001b[0;34m\u001b[0m\u001b[0m\n\u001b[0;32m--> 140\u001b[0;31m         \u001b[0;32mreturn\u001b[0m \u001b[0mself\u001b[0m\u001b[0;34m.\u001b[0m\u001b[0mproblem\u001b[0m\u001b[0;34m.\u001b[0m\u001b[0mproblem\u001b[0m\u001b[0;34m.\u001b[0m\u001b[0msolution\u001b[0m\u001b[0;34m.\u001b[0m\u001b[0mget_values\u001b[0m\u001b[0;34m(\u001b[0m\u001b[0mself\u001b[0m\u001b[0;34m.\u001b[0m\u001b[0mname\u001b[0m\u001b[0;34m)\u001b[0m\u001b[0;34m\u001b[0m\u001b[0m\n\u001b[0m\u001b[1;32m    141\u001b[0m \u001b[0;34m\u001b[0m\u001b[0m\n\u001b[1;32m    142\u001b[0m \u001b[0;34m\u001b[0m\u001b[0m\n",
        "\u001b[0;32m/Users/joao/.virtualenvs/cameo-env/lib/python2.7/site-packages/cplex/_internal/_subinterfaces.pyc\u001b[0m in \u001b[0;36mget_values\u001b[0;34m(self, *args)\u001b[0m\n\u001b[1;32m   7267\u001b[0m             \u001b[0;32mreturn\u001b[0m \u001b[0mCPX_PROC\u001b[0m\u001b[0;34m.\u001b[0m\u001b[0mgetx\u001b[0m\u001b[0;34m(\u001b[0m\u001b[0mself\u001b[0m\u001b[0;34m.\u001b[0m\u001b[0m_env\u001b[0m\u001b[0;34m.\u001b[0m\u001b[0m_e\u001b[0m\u001b[0;34m,\u001b[0m \u001b[0mself\u001b[0m\u001b[0;34m.\u001b[0m\u001b[0m_cplex\u001b[0m\u001b[0;34m.\u001b[0m\u001b[0m_lp\u001b[0m\u001b[0;34m,\u001b[0m \u001b[0ma\u001b[0m\u001b[0;34m,\u001b[0m \u001b[0mb\u001b[0m\u001b[0;34m)\u001b[0m\u001b[0;34m\u001b[0m\u001b[0m\n\u001b[1;32m   7268\u001b[0m         return apply_freeform_two_args(\"solution.get_values\", getx,\n\u001b[0;32m-> 7269\u001b[0;31m                                        self._cplex.variables.get_indices, args)\n\u001b[0m\u001b[1;32m   7270\u001b[0m \u001b[0;34m\u001b[0m\u001b[0m\n\u001b[1;32m   7271\u001b[0m     \u001b[0;32mdef\u001b[0m \u001b[0mget_reduced_costs\u001b[0m\u001b[0;34m(\u001b[0m\u001b[0mself\u001b[0m\u001b[0;34m,\u001b[0m \u001b[0;34m*\u001b[0m\u001b[0margs\u001b[0m\u001b[0;34m)\u001b[0m\u001b[0;34m:\u001b[0m\u001b[0;34m\u001b[0m\u001b[0m\n",
        "\u001b[0;32m/Users/joao/.virtualenvs/cameo-env/lib/python2.7/site-packages/cplex/_internal/_aux_functions.pyc\u001b[0m in \u001b[0;36mapply_freeform_two_args\u001b[0;34m(caller, fn, convert, args)\u001b[0m\n\u001b[1;32m     62\u001b[0m             \u001b[0;32mreturn\u001b[0m \u001b[0mretval\u001b[0m\u001b[0;34m\u001b[0m\u001b[0m\n\u001b[1;32m     63\u001b[0m         \u001b[0;32mif\u001b[0m \u001b[0misinstance\u001b[0m\u001b[0;34m(\u001b[0m\u001b[0mcon\u001b[0m\u001b[0;34m(\u001b[0m\u001b[0margs\u001b[0m\u001b[0;34m[\u001b[0m\u001b[0;36m0\u001b[0m\u001b[0;34m]\u001b[0m\u001b[0;34m)\u001b[0m\u001b[0;34m,\u001b[0m \u001b[0mtype\u001b[0m\u001b[0;34m(\u001b[0m\u001b[0;36m0\u001b[0m\u001b[0;34m)\u001b[0m\u001b[0;34m)\u001b[0m\u001b[0;34m:\u001b[0m\u001b[0;34m\u001b[0m\u001b[0m\n\u001b[0;32m---> 64\u001b[0;31m             \u001b[0;32mreturn\u001b[0m \u001b[0mfn\u001b[0m\u001b[0;34m(\u001b[0m\u001b[0mcon\u001b[0m\u001b[0;34m(\u001b[0m\u001b[0margs\u001b[0m\u001b[0;34m[\u001b[0m\u001b[0;36m0\u001b[0m\u001b[0;34m]\u001b[0m\u001b[0;34m)\u001b[0m\u001b[0;34m,\u001b[0m \u001b[0mcon\u001b[0m\u001b[0;34m(\u001b[0m\u001b[0margs\u001b[0m\u001b[0;34m[\u001b[0m\u001b[0;36m0\u001b[0m\u001b[0;34m]\u001b[0m\u001b[0;34m)\u001b[0m\u001b[0;34m)\u001b[0m\u001b[0;34m[\u001b[0m\u001b[0;36m0\u001b[0m\u001b[0;34m]\u001b[0m\u001b[0;34m\u001b[0m\u001b[0m\n\u001b[0m\u001b[1;32m     65\u001b[0m         \u001b[0;32melse\u001b[0m\u001b[0;34m:\u001b[0m\u001b[0;34m\u001b[0m\u001b[0m\n\u001b[1;32m     66\u001b[0m             \u001b[0;32mraise\u001b[0m \u001b[0mCplexError\u001b[0m\u001b[0;34m(\u001b[0m\u001b[0;34m\"apply_freeform_two_args: Wrong argument type to \"\u001b[0m \u001b[0;34m+\u001b[0m \u001b[0mcaller\u001b[0m\u001b[0;34m)\u001b[0m\u001b[0;34m\u001b[0m\u001b[0m\n",
        "\u001b[0;32m/Users/joao/.virtualenvs/cameo-env/lib/python2.7/site-packages/cplex/_internal/_subinterfaces.pyc\u001b[0m in \u001b[0;36mgetx\u001b[0;34m(a, b)\u001b[0m\n\u001b[1;32m   7265\u001b[0m         \"\"\"\n\u001b[1;32m   7266\u001b[0m         \u001b[0;32mdef\u001b[0m \u001b[0mgetx\u001b[0m\u001b[0;34m(\u001b[0m\u001b[0ma\u001b[0m\u001b[0;34m,\u001b[0m \u001b[0mb\u001b[0m \u001b[0;34m=\u001b[0m \u001b[0mself\u001b[0m\u001b[0;34m.\u001b[0m\u001b[0m_cplex\u001b[0m\u001b[0;34m.\u001b[0m\u001b[0mvariables\u001b[0m\u001b[0;34m.\u001b[0m\u001b[0mget_num\u001b[0m\u001b[0;34m(\u001b[0m\u001b[0;34m)\u001b[0m \u001b[0;34m-\u001b[0m \u001b[0;36m1\u001b[0m\u001b[0;34m)\u001b[0m\u001b[0;34m:\u001b[0m\u001b[0;34m\u001b[0m\u001b[0m\n\u001b[0;32m-> 7267\u001b[0;31m             \u001b[0;32mreturn\u001b[0m \u001b[0mCPX_PROC\u001b[0m\u001b[0;34m.\u001b[0m\u001b[0mgetx\u001b[0m\u001b[0;34m(\u001b[0m\u001b[0mself\u001b[0m\u001b[0;34m.\u001b[0m\u001b[0m_env\u001b[0m\u001b[0;34m.\u001b[0m\u001b[0m_e\u001b[0m\u001b[0;34m,\u001b[0m \u001b[0mself\u001b[0m\u001b[0;34m.\u001b[0m\u001b[0m_cplex\u001b[0m\u001b[0;34m.\u001b[0m\u001b[0m_lp\u001b[0m\u001b[0;34m,\u001b[0m \u001b[0ma\u001b[0m\u001b[0;34m,\u001b[0m \u001b[0mb\u001b[0m\u001b[0;34m)\u001b[0m\u001b[0;34m\u001b[0m\u001b[0m\n\u001b[0m\u001b[1;32m   7268\u001b[0m         return apply_freeform_two_args(\"solution.get_values\", getx,\n\u001b[1;32m   7269\u001b[0m                                        self._cplex.variables.get_indices, args)\n",
        "\u001b[0;32m/Users/joao/.virtualenvs/cameo-env/lib/python2.7/site-packages/cplex/_internal/_procedural.pyc\u001b[0m in \u001b[0;36mgetx\u001b[0;34m(env, lp, begin, end)\u001b[0m\n\u001b[1;32m   1396\u001b[0m     \u001b[0mx\u001b[0m    \u001b[0;34m=\u001b[0m \u001b[0mCR\u001b[0m\u001b[0;34m.\u001b[0m\u001b[0mdoubleArray\u001b[0m\u001b[0;34m(\u001b[0m\u001b[0mxlen\u001b[0m\u001b[0;34m)\u001b[0m\u001b[0;34m\u001b[0m\u001b[0m\n\u001b[1;32m   1397\u001b[0m     \u001b[0mstatus\u001b[0m \u001b[0;34m=\u001b[0m \u001b[0mCR\u001b[0m\u001b[0;34m.\u001b[0m\u001b[0mCPXXgetx\u001b[0m\u001b[0;34m(\u001b[0m\u001b[0menv\u001b[0m\u001b[0;34m,\u001b[0m \u001b[0mlp\u001b[0m\u001b[0;34m,\u001b[0m \u001b[0mx\u001b[0m\u001b[0;34m,\u001b[0m \u001b[0mbegin\u001b[0m\u001b[0;34m,\u001b[0m \u001b[0mend\u001b[0m\u001b[0;34m)\u001b[0m\u001b[0;34m\u001b[0m\u001b[0m\n\u001b[0;32m-> 1398\u001b[0;31m     \u001b[0mcheck_status\u001b[0m\u001b[0;34m(\u001b[0m\u001b[0menv\u001b[0m\u001b[0;34m,\u001b[0m \u001b[0mstatus\u001b[0m\u001b[0;34m)\u001b[0m\u001b[0;34m\u001b[0m\u001b[0m\n\u001b[0m\u001b[1;32m   1399\u001b[0m     \u001b[0;32mreturn\u001b[0m \u001b[0mLAU\u001b[0m\u001b[0;34m.\u001b[0m\u001b[0mdouble_array_to_list\u001b[0m\u001b[0;34m(\u001b[0m\u001b[0mx\u001b[0m\u001b[0;34m,\u001b[0m \u001b[0mxlen\u001b[0m\u001b[0;34m)\u001b[0m\u001b[0;34m\u001b[0m\u001b[0m\n\u001b[1;32m   1400\u001b[0m \u001b[0;34m\u001b[0m\u001b[0m\n",
        "\u001b[0;32m/Users/joao/.virtualenvs/cameo-env/lib/python2.7/site-packages/cplex/_internal/_procedural.pyc\u001b[0m in \u001b[0;36m__call__\u001b[0;34m(self, env, status, from_cb)\u001b[0m\n\u001b[1;32m    115\u001b[0m                 \u001b[0;32melse\u001b[0m\u001b[0;34m:\u001b[0m\u001b[0;34m\u001b[0m\u001b[0m\n\u001b[1;32m    116\u001b[0m                     \u001b[0merror_string\u001b[0m \u001b[0;34m=\u001b[0m \u001b[0mgeterrorstring\u001b[0m\u001b[0;34m(\u001b[0m\u001b[0menv\u001b[0m\u001b[0;34m,\u001b[0m \u001b[0mstatus\u001b[0m\u001b[0;34m)\u001b[0m\u001b[0;34m\u001b[0m\u001b[0m\n\u001b[0;32m--> 117\u001b[0;31m             \u001b[0;32mraise\u001b[0m \u001b[0mCplexSolverError\u001b[0m\u001b[0;34m(\u001b[0m\u001b[0merror_string\u001b[0m\u001b[0;34m,\u001b[0m \u001b[0menv\u001b[0m\u001b[0;34m,\u001b[0m \u001b[0mstatus\u001b[0m\u001b[0;34m)\u001b[0m\u001b[0;34m\u001b[0m\u001b[0m\n\u001b[0m\u001b[1;32m    118\u001b[0m \u001b[0;34m\u001b[0m\u001b[0m\n\u001b[1;32m    119\u001b[0m \u001b[0mcheck_status\u001b[0m \u001b[0;34m=\u001b[0m \u001b[0mStatusChecker\u001b[0m\u001b[0;34m(\u001b[0m\u001b[0;34m)\u001b[0m\u001b[0;34m\u001b[0m\u001b[0m\n",
        "\u001b[0;31mCplexSolverError\u001b[0m: CPLEX Error  1217: No solution exists.\n"
       ]
      }
     ],
     "prompt_number": 13
    },
    {
     "cell_type": "code",
     "collapsed": false,
     "input": [
      "import pickle\n",
      "pickle.dump(model, open('weird.pcl', 'w'))"
     ],
     "language": "python",
     "metadata": {},
     "outputs": [],
     "prompt_number": 16
    },
    {
     "cell_type": "code",
     "collapsed": false,
     "input": [],
     "language": "python",
     "metadata": {},
     "outputs": []
    }
   ],
   "metadata": {}
  }
 ]
}